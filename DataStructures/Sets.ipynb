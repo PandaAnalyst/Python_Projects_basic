{
 "cells": [
  {
   "metadata": {},
   "cell_type": "markdown",
   "source": "# Sets",
   "id": "d20969d75eba174d"
  },
  {
   "cell_type": "code",
   "id": "initial_id",
   "metadata": {
    "collapsed": true,
    "ExecuteTime": {
     "end_time": "2025-05-12T21:21:05.106950Z",
     "start_time": "2025-05-12T21:21:05.099187Z"
    }
   },
   "source": [
    "s = {-100, 1000, 'a', 1000, 5, 1000,0, -3, True, '3erw'}\n",
    "s"
   ],
   "outputs": [
    {
     "data": {
      "text/plain": [
       "{-100, -3, 0, 1000, '3erw', 5, True, 'a'}"
      ]
     },
     "execution_count": 2,
     "metadata": {},
     "output_type": "execute_result"
    }
   ],
   "execution_count": 2
  },
  {
   "metadata": {
    "ExecuteTime": {
     "end_time": "2025-05-12T21:21:43.852818Z",
     "start_time": "2025-05-12T21:21:43.843977Z"
    }
   },
   "cell_type": "code",
   "source": [
    "s = set()\n",
    "type(s)"
   ],
   "id": "677409b319fb5689",
   "outputs": [
    {
     "data": {
      "text/plain": [
       "set"
      ]
     },
     "execution_count": 3,
     "metadata": {},
     "output_type": "execute_result"
    }
   ],
   "execution_count": 3
  },
  {
   "metadata": {},
   "cell_type": "markdown",
   "source": "---",
   "id": "ff37cb7c83ef56f1"
  },
  {
   "metadata": {
    "ExecuteTime": {
     "end_time": "2025-05-12T21:30:22.061545Z",
     "start_time": "2025-05-12T21:30:22.053407Z"
    }
   },
   "cell_type": "code",
   "source": [
    "a = [1, 2,3,1,1, 5, 3, 5, 6, 7, 8, 1 , 'ab']\n",
    "s = set(a)\n",
    "1 in a"
   ],
   "id": "ea9ecc574a315cda",
   "outputs": [
    {
     "data": {
      "text/plain": [
       "True"
      ]
     },
     "execution_count": 7,
     "metadata": {},
     "output_type": "execute_result"
    }
   ],
   "execution_count": 7
  },
  {
   "metadata": {
    "ExecuteTime": {
     "end_time": "2025-05-12T21:31:24.470316Z",
     "start_time": "2025-05-12T21:31:24.459564Z"
    }
   },
   "cell_type": "code",
   "source": [
    "new_a = list(set(a))\n",
    "a, new_a"
   ],
   "id": "c987ab2c0d81443b",
   "outputs": [
    {
     "data": {
      "text/plain": [
       "([1, 2, 3, 1, 1, 5, 3, 5, 6, 7, 8, 1, 'ab'], [1, 2, 3, 5, 6, 7, 8, 'ab'])"
      ]
     },
     "execution_count": 8,
     "metadata": {},
     "output_type": "execute_result"
    }
   ],
   "execution_count": 8
  },
  {
   "metadata": {},
   "cell_type": "markdown",
   "source": "---",
   "id": "78761df2ccbfc9ef"
  },
  {
   "metadata": {
    "ExecuteTime": {
     "end_time": "2025-05-12T21:32:58.142113Z",
     "start_time": "2025-05-12T21:32:58.132347Z"
    }
   },
   "cell_type": "code",
   "source": "s",
   "id": "af3c7a0c6485ba08",
   "outputs": [
    {
     "data": {
      "text/plain": [
       "{1, 2, 3, 5, 6, 7, 8, 'ab'}"
      ]
     },
     "execution_count": 9,
     "metadata": {},
     "output_type": "execute_result"
    }
   ],
   "execution_count": 9
  },
  {
   "metadata": {
    "ExecuteTime": {
     "end_time": "2025-05-12T21:33:19.100409Z",
     "start_time": "2025-05-12T21:33:19.092578Z"
    }
   },
   "cell_type": "code",
   "source": [
    "s.add(11)\n",
    "s"
   ],
   "id": "da4cd871ee844426",
   "outputs": [
    {
     "data": {
      "text/plain": [
       "{1, 11, 2, 3, 5, 6, 7, 8, 'ab'}"
      ]
     },
     "execution_count": 10,
     "metadata": {},
     "output_type": "execute_result"
    }
   ],
   "execution_count": 10
  },
  {
   "metadata": {
    "ExecuteTime": {
     "end_time": "2025-05-12T21:33:57.950965Z",
     "start_time": "2025-05-12T21:33:57.942004Z"
    }
   },
   "cell_type": "code",
   "source": [
    "s.discard(\"ab\")\n",
    "s"
   ],
   "id": "c1bcfab244c39b2f",
   "outputs": [
    {
     "data": {
      "text/plain": [
       "{1, 2, 3, 5, 6, 7, 8, 11}"
      ]
     },
     "execution_count": 13,
     "metadata": {},
     "output_type": "execute_result"
    }
   ],
   "execution_count": 13
  },
  {
   "metadata": {
    "ExecuteTime": {
     "end_time": "2025-05-12T21:35:59.632313Z",
     "start_time": "2025-05-12T21:35:59.625262Z"
    }
   },
   "cell_type": "code",
   "source": [
    "s1 = {1, 2, 3, 4, 5}\n",
    "s2 = {1, 2, 3, 0, 9}\n",
    "s3 = {1, 2, 3}\n",
    "s4 = {100, 200}"
   ],
   "id": "b2513920952aa277",
   "outputs": [],
   "execution_count": 14
  },
  {
   "metadata": {
    "ExecuteTime": {
     "end_time": "2025-05-12T21:36:18.060920Z",
     "start_time": "2025-05-12T21:36:18.053179Z"
    }
   },
   "cell_type": "code",
   "source": "s1.intersection(s2)",
   "id": "a6793915b2d3b109",
   "outputs": [
    {
     "data": {
      "text/plain": [
       "{1, 2, 3}"
      ]
     },
     "execution_count": 15,
     "metadata": {},
     "output_type": "execute_result"
    }
   ],
   "execution_count": 15
  },
  {
   "metadata": {
    "ExecuteTime": {
     "end_time": "2025-05-12T21:36:46.729336Z",
     "start_time": "2025-05-12T21:36:46.719883Z"
    }
   },
   "cell_type": "code",
   "source": "s1.intersection(s4)",
   "id": "f7879ab8d2a8af79",
   "outputs": [
    {
     "data": {
      "text/plain": [
       "set()"
      ]
     },
     "execution_count": 17,
     "metadata": {},
     "output_type": "execute_result"
    }
   ],
   "execution_count": 17
  },
  {
   "metadata": {
    "ExecuteTime": {
     "end_time": "2025-05-12T21:37:28.920094Z",
     "start_time": "2025-05-12T21:37:28.911272Z"
    }
   },
   "cell_type": "code",
   "source": "s1.isdisjoint(s2)",
   "id": "27fa5702c854835a",
   "outputs": [
    {
     "data": {
      "text/plain": [
       "False"
      ]
     },
     "execution_count": 20,
     "metadata": {},
     "output_type": "execute_result"
    }
   ],
   "execution_count": 20
  },
  {
   "metadata": {
    "ExecuteTime": {
     "end_time": "2025-05-12T21:37:55.301577Z",
     "start_time": "2025-05-12T21:37:55.293379Z"
    }
   },
   "cell_type": "code",
   "source": "s1.isdisjoint(s4)",
   "id": "c5ce8d403654d0d2",
   "outputs": [
    {
     "data": {
      "text/plain": [
       "True"
      ]
     },
     "execution_count": 21,
     "metadata": {},
     "output_type": "execute_result"
    }
   ],
   "execution_count": 21
  },
  {
   "metadata": {
    "ExecuteTime": {
     "end_time": "2025-05-12T21:38:45.053165Z",
     "start_time": "2025-05-12T21:38:45.046051Z"
    }
   },
   "cell_type": "code",
   "source": "s1.issuperset(s3)",
   "id": "47b248aa4688d8da",
   "outputs": [
    {
     "data": {
      "text/plain": [
       "True"
      ]
     },
     "execution_count": 22,
     "metadata": {},
     "output_type": "execute_result"
    }
   ],
   "execution_count": 22
  },
  {
   "metadata": {
    "ExecuteTime": {
     "end_time": "2025-05-12T21:38:58.905828Z",
     "start_time": "2025-05-12T21:38:58.896110Z"
    }
   },
   "cell_type": "code",
   "source": "s3.issuperset(s1)",
   "id": "15c013aab6dc94a9",
   "outputs": [
    {
     "data": {
      "text/plain": [
       "False"
      ]
     },
     "execution_count": 23,
     "metadata": {},
     "output_type": "execute_result"
    }
   ],
   "execution_count": 23
  },
  {
   "metadata": {
    "ExecuteTime": {
     "end_time": "2025-05-12T21:39:26.901523Z",
     "start_time": "2025-05-12T21:39:26.895718Z"
    }
   },
   "cell_type": "code",
   "source": "s3.issuperset(s1)",
   "id": "f9c007bafb75e7c",
   "outputs": [
    {
     "data": {
      "text/plain": [
       "False"
      ]
     },
     "execution_count": 27,
     "metadata": {},
     "output_type": "execute_result"
    }
   ],
   "execution_count": 27
  },
  {
   "metadata": {
    "ExecuteTime": {
     "end_time": "2025-05-12T21:39:47.187133Z",
     "start_time": "2025-05-12T21:39:47.180355Z"
    }
   },
   "cell_type": "code",
   "source": "s1.union(s2)",
   "id": "19ad811c9886cd6c",
   "outputs": [
    {
     "data": {
      "text/plain": [
       "{0, 1, 2, 3, 4, 5, 9}"
      ]
     },
     "execution_count": 28,
     "metadata": {},
     "output_type": "execute_result"
    }
   ],
   "execution_count": 28
  }
 ],
 "metadata": {
  "kernelspec": {
   "display_name": "Python 3",
   "language": "python",
   "name": "python3"
  },
  "language_info": {
   "codemirror_mode": {
    "name": "ipython",
    "version": 2
   },
   "file_extension": ".py",
   "mimetype": "text/x-python",
   "name": "python",
   "nbconvert_exporter": "python",
   "pygments_lexer": "ipython2",
   "version": "2.7.6"
  }
 },
 "nbformat": 4,
 "nbformat_minor": 5
}

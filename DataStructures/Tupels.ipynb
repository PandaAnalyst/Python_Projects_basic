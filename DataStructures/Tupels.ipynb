{
 "cells": [
  {
   "metadata": {},
   "cell_type": "markdown",
   "source": "# Tupels",
   "id": "74bd28df6d51b854"
  },
  {
   "metadata": {},
   "cell_type": "markdown",
   "source": "## Create tupels (mutable)",
   "id": "22952432adb41d1a"
  },
  {
   "metadata": {
    "ExecuteTime": {
     "end_time": "2025-05-12T20:38:55.350844Z",
     "start_time": "2025-05-12T20:38:55.343689Z"
    }
   },
   "cell_type": "code",
   "source": [
    "a = (3,4)\n",
    "a"
   ],
   "id": "343267f5c752bd6b",
   "outputs": [
    {
     "data": {
      "text/plain": [
       "(3, 4)"
      ]
     },
     "execution_count": 17,
     "metadata": {},
     "output_type": "execute_result"
    }
   ],
   "execution_count": 17
  },
  {
   "metadata": {
    "ExecuteTime": {
     "end_time": "2025-05-12T20:38:55.386228Z",
     "start_time": "2025-05-12T20:38:55.379048Z"
    }
   },
   "cell_type": "code",
   "source": [
    "a = tuple()\n",
    "a"
   ],
   "id": "5c44fecfe9f9af1c",
   "outputs": [
    {
     "data": {
      "text/plain": [
       "()"
      ]
     },
     "execution_count": 18,
     "metadata": {},
     "output_type": "execute_result"
    }
   ],
   "execution_count": 18
  },
  {
   "metadata": {
    "ExecuteTime": {
     "end_time": "2025-05-12T20:38:55.437974Z",
     "start_time": "2025-05-12T20:38:55.427950Z"
    }
   },
   "cell_type": "code",
   "source": [
    "a = tuple(\"qweasdzxc\")\n",
    "a"
   ],
   "id": "9439233ba8cab5de",
   "outputs": [
    {
     "data": {
      "text/plain": [
       "('q', 'w', 'e', 'a', 's', 'd', 'z', 'x', 'c')"
      ]
     },
     "execution_count": 19,
     "metadata": {},
     "output_type": "execute_result"
    }
   ],
   "execution_count": 19
  },
  {
   "metadata": {
    "ExecuteTime": {
     "end_time": "2025-05-12T20:38:55.474814Z",
     "start_time": "2025-05-12T20:38:55.468760Z"
    }
   },
   "cell_type": "code",
   "source": [
    "a = []\n",
    "a.extend(\"dcexswzqa\")\n",
    "a"
   ],
   "id": "8e8fc7d1a3a0a1ab",
   "outputs": [
    {
     "data": {
      "text/plain": [
       "['d', 'c', 'e', 'x', 's', 'w', 'z', 'q', 'a']"
      ]
     },
     "execution_count": 20,
     "metadata": {},
     "output_type": "execute_result"
    }
   ],
   "execution_count": 20
  },
  {
   "metadata": {
    "ExecuteTime": {
     "end_time": "2025-05-12T20:39:30.268779Z",
     "start_time": "2025-05-12T20:39:30.259183Z"
    }
   },
   "cell_type": "code",
   "source": [
    "b = tuple(a)\n",
    "a, b"
   ],
   "id": "b07f23ebd908b83b",
   "outputs": [
    {
     "data": {
      "text/plain": [
       "(['d', 'c', 'e', 'x', 's', 'w', 'z', 'q', 'a'],\n",
       " ('d', 'c', 'e', 'x', 's', 'w', 'z', 'q', 'a'))"
      ]
     },
     "execution_count": 25,
     "metadata": {},
     "output_type": "execute_result"
    }
   ],
   "execution_count": 25
  },
  {
   "metadata": {
    "ExecuteTime": {
     "end_time": "2025-05-12T20:39:37.629691Z",
     "start_time": "2025-05-12T20:39:37.621396Z"
    }
   },
   "cell_type": "code",
   "source": "a.__sizeof__(),b.__sizeof__()",
   "id": "c867a65aa35ea477",
   "outputs": [
    {
     "data": {
      "text/plain": [
       "(120, 96)"
      ]
     },
     "execution_count": 26,
     "metadata": {},
     "output_type": "execute_result"
    }
   ],
   "execution_count": 26
  },
  {
   "metadata": {
    "ExecuteTime": {
     "end_time": "2025-05-12T20:38:55.640424Z",
     "start_time": "2025-05-12T20:38:55.631586Z"
    }
   },
   "cell_type": "code",
   "source": [
    "b = [2,]\n",
    "b.extend(a)\n",
    "b"
   ],
   "id": "38cfc23744ee1c16",
   "outputs": [
    {
     "data": {
      "text/plain": [
       "[2, 'd', 'c', 'e', 'x', 's', 'w', 'z', 'q', 'a']"
      ]
     },
     "execution_count": 23,
     "metadata": {},
     "output_type": "execute_result"
    }
   ],
   "execution_count": 23
  },
  {
   "metadata": {
    "ExecuteTime": {
     "end_time": "2025-05-12T20:38:55.744433Z",
     "start_time": "2025-05-12T20:38:55.734838Z"
    }
   },
   "cell_type": "code",
   "source": "a.__sizeof__(),b.__sizeof__()",
   "id": "f20d666eca14ea97",
   "outputs": [
    {
     "data": {
      "text/plain": [
       "(120, 136)"
      ]
     },
     "execution_count": 24,
     "metadata": {},
     "output_type": "execute_result"
    }
   ],
   "execution_count": 24
  },
  {
   "metadata": {
    "ExecuteTime": {
     "end_time": "2025-05-12T20:40:14.030016Z",
     "start_time": "2025-05-12T20:40:14.001254Z"
    }
   },
   "cell_type": "code",
   "source": "b[2] = 3",
   "id": "63526edbdba0bc7f",
   "outputs": [
    {
     "ename": "TypeError",
     "evalue": "'tuple' object does not support item assignment",
     "output_type": "error",
     "traceback": [
      "\u001B[31m---------------------------------------------------------------------------\u001B[39m",
      "\u001B[31mTypeError\u001B[39m                                 Traceback (most recent call last)",
      "\u001B[36mCell\u001B[39m\u001B[36m \u001B[39m\u001B[32mIn[27]\u001B[39m\u001B[32m, line 1\u001B[39m\n\u001B[32m----> \u001B[39m\u001B[32m1\u001B[39m \u001B[43mb\u001B[49m\u001B[43m[\u001B[49m\u001B[32;43m2\u001B[39;49m\u001B[43m]\u001B[49m = \u001B[32m3\u001B[39m\n",
      "\u001B[31mTypeError\u001B[39m: 'tuple' object does not support item assignment"
     ]
    }
   ],
   "execution_count": 27
  },
  {
   "metadata": {
    "ExecuteTime": {
     "end_time": "2025-05-12T20:41:50.825147Z",
     "start_time": "2025-05-12T20:41:50.817730Z"
    }
   },
   "cell_type": "code",
   "source": "b[2]",
   "id": "c84a9540c693ac5d",
   "outputs": [
    {
     "data": {
      "text/plain": [
       "'e'"
      ]
     },
     "execution_count": 28,
     "metadata": {},
     "output_type": "execute_result"
    }
   ],
   "execution_count": 28
  },
  {
   "metadata": {
    "ExecuteTime": {
     "end_time": "2025-05-12T20:42:27.256488Z",
     "start_time": "2025-05-12T20:42:27.248578Z"
    }
   },
   "cell_type": "code",
   "source": [
    "c = a, b\n",
    "c"
   ],
   "id": "be8685e0055bc023",
   "outputs": [
    {
     "data": {
      "text/plain": [
       "(['d', 'c', 'e', 'x', 's', 'w', 'z', 'q', 'a'],\n",
       " ('d', 'c', 'e', 'x', 's', 'w', 'z', 'q', 'a'))"
      ]
     },
     "execution_count": 30,
     "metadata": {},
     "output_type": "execute_result"
    }
   ],
   "execution_count": 30
  },
  {
   "metadata": {
    "ExecuteTime": {
     "end_time": "2025-05-12T20:44:29.442392Z",
     "start_time": "2025-05-12T20:44:29.433917Z"
    }
   },
   "cell_type": "code",
   "source": [
    "a = (1, 'sad', [2])\n",
    "a"
   ],
   "id": "b899418e0e3d7b86",
   "outputs": [
    {
     "data": {
      "text/plain": [
       "(1, 'sad', [2])"
      ]
     },
     "execution_count": 32,
     "metadata": {},
     "output_type": "execute_result"
    }
   ],
   "execution_count": 32
  },
  {
   "metadata": {
    "ExecuteTime": {
     "end_time": "2025-05-12T20:45:32.076348Z",
     "start_time": "2025-05-12T20:45:32.068270Z"
    }
   },
   "cell_type": "code",
   "source": [
    "a[2].append(2)\n",
    "a"
   ],
   "id": "598d29705a1d3c94",
   "outputs": [
    {
     "data": {
      "text/plain": [
       "(1, 'sad', [2, 2, 2, 2, 2, 2])"
      ]
     },
     "execution_count": 38,
     "metadata": {},
     "output_type": "execute_result"
    }
   ],
   "execution_count": 38
  },
  {
   "metadata": {
    "ExecuteTime": {
     "end_time": "2025-05-12T20:47:51.456102Z",
     "start_time": "2025-05-12T20:47:51.449525Z"
    }
   },
   "cell_type": "code",
   "source": "a.count(1)",
   "id": "273e4c3f78e3fb99",
   "outputs": [
    {
     "data": {
      "text/plain": [
       "1"
      ]
     },
     "execution_count": 39,
     "metadata": {},
     "output_type": "execute_result"
    }
   ],
   "execution_count": 39
  },
  {
   "metadata": {
    "ExecuteTime": {
     "end_time": "2025-05-12T20:48:07.668609Z",
     "start_time": "2025-05-12T20:48:07.659974Z"
    }
   },
   "cell_type": "code",
   "source": "a.index('sad')",
   "id": "7dccb67384dcbe59",
   "outputs": [
    {
     "data": {
      "text/plain": [
       "1"
      ]
     },
     "execution_count": 40,
     "metadata": {},
     "output_type": "execute_result"
    }
   ],
   "execution_count": 40
  },
  {
   "metadata": {
    "ExecuteTime": {
     "end_time": "2025-05-12T20:49:34.434728Z",
     "start_time": "2025-05-12T20:49:34.428328Z"
    }
   },
   "cell_type": "code",
   "source": [
    "tup = (1, 'qwe', True)\n",
    "bum, st, flag = tup\n"
   ],
   "id": "6418828d41b5ec30",
   "outputs": [],
   "execution_count": 42
  },
  {
   "metadata": {
    "ExecuteTime": {
     "end_time": "2025-05-12T20:49:36.251602Z",
     "start_time": "2025-05-12T20:49:36.245154Z"
    }
   },
   "cell_type": "code",
   "source": "bum, st, flag",
   "id": "4fb7f98151eb5ca7",
   "outputs": [
    {
     "data": {
      "text/plain": [
       "(1, 'qwe', True)"
      ]
     },
     "execution_count": 43,
     "metadata": {},
     "output_type": "execute_result"
    }
   ],
   "execution_count": 43
  },
  {
   "metadata": {},
   "cell_type": "code",
   "outputs": [],
   "execution_count": null,
   "source": "",
   "id": "9b4956d3d9e39330"
  }
 ],
 "metadata": {
  "kernelspec": {
   "display_name": "Python 3",
   "language": "python",
   "name": "python3"
  },
  "language_info": {
   "codemirror_mode": {
    "name": "ipython",
    "version": 2
   },
   "file_extension": ".py",
   "mimetype": "text/x-python",
   "name": "python",
   "nbconvert_exporter": "python",
   "pygments_lexer": "ipython2",
   "version": "2.7.6"
  }
 },
 "nbformat": 4,
 "nbformat_minor": 5
}

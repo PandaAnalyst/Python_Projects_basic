{
 "cells": [
  {
   "cell_type": "code",
   "id": "initial_id",
   "metadata": {
    "collapsed": true,
    "ExecuteTime": {
     "end_time": "2025-05-13T14:22:46.161351Z",
     "start_time": "2025-05-13T14:22:46.152331Z"
    }
   },
   "source": [
    "d = {}\n",
    "type(d)"
   ],
   "outputs": [
    {
     "data": {
      "text/plain": [
       "dict"
      ]
     },
     "execution_count": 2,
     "metadata": {},
     "output_type": "execute_result"
    }
   ],
   "execution_count": 2
  },
  {
   "metadata": {
    "ExecuteTime": {
     "end_time": "2025-05-13T14:24:47.024966Z",
     "start_time": "2025-05-13T14:24:47.018325Z"
    }
   },
   "cell_type": "code",
   "source": [
    "d = {\n",
    "    'a': 1,\n",
    "    \"b\": [1, 2, 3],\n",
    "    'c': 'asd'\n",
    "}"
   ],
   "id": "e26cac32443465a",
   "outputs": [],
   "execution_count": 4
  },
  {
   "metadata": {},
   "cell_type": "code",
   "outputs": [],
   "execution_count": null,
   "source": "",
   "id": "fc76aee497df2779"
  },
  {
   "metadata": {
    "ExecuteTime": {
     "end_time": "2025-05-13T14:24:49.076442Z",
     "start_time": "2025-05-13T14:24:49.069379Z"
    }
   },
   "cell_type": "code",
   "source": "d",
   "id": "94a351baa4e49632",
   "outputs": [
    {
     "data": {
      "text/plain": [
       "{'a': 1, 'b': [1, 2, 3], 'c': 'asd'}"
      ]
     },
     "execution_count": 5,
     "metadata": {},
     "output_type": "execute_result"
    }
   ],
   "execution_count": 5
  },
  {
   "metadata": {
    "ExecuteTime": {
     "end_time": "2025-05-13T14:25:06.603992Z",
     "start_time": "2025-05-13T14:25:06.596048Z"
    }
   },
   "cell_type": "code",
   "source": "d['b']",
   "id": "2fc28b20b8a9bf8e",
   "outputs": [
    {
     "data": {
      "text/plain": [
       "[1, 2, 3]"
      ]
     },
     "execution_count": 6,
     "metadata": {},
     "output_type": "execute_result"
    }
   ],
   "execution_count": 6
  },
  {
   "metadata": {
    "ExecuteTime": {
     "end_time": "2025-05-13T14:40:58.952402Z",
     "start_time": "2025-05-13T14:40:58.943882Z"
    }
   },
   "cell_type": "code",
   "source": [
    "d = dict([(1,\"a\"),(3,3), (\"d\",2)])\n",
    "d"
   ],
   "id": "dcc088e40d6b4da2",
   "outputs": [
    {
     "data": {
      "text/plain": [
       "{1: 'a', 3: 3, 'd': 2}"
      ]
     },
     "execution_count": 9,
     "metadata": {},
     "output_type": "execute_result"
    }
   ],
   "execution_count": 9
  },
  {
   "metadata": {
    "ExecuteTime": {
     "end_time": "2025-05-13T14:41:51.374601Z",
     "start_time": "2025-05-13T14:41:51.365309Z"
    }
   },
   "cell_type": "code",
   "source": [
    "d['32'] = 32\n",
    "d"
   ],
   "id": "53002b7fa4cb097d",
   "outputs": [
    {
     "data": {
      "text/plain": [
       "{1: 'a', 3: 3, 'd': 2, '32': 32}"
      ]
     },
     "execution_count": 12,
     "metadata": {},
     "output_type": "execute_result"
    }
   ],
   "execution_count": 12
  },
  {
   "metadata": {
    "ExecuteTime": {
     "end_time": "2025-05-13T14:42:30.229810Z",
     "start_time": "2025-05-13T14:42:30.220557Z"
    }
   },
   "cell_type": "code",
   "source": [
    "d[1] = '-a'\n",
    "d"
   ],
   "id": "d39bbc05e5eb68cc",
   "outputs": [
    {
     "data": {
      "text/plain": [
       "{1: '-a', 3: 3, 'd': 2, '32': 32}"
      ]
     },
     "execution_count": 14,
     "metadata": {},
     "output_type": "execute_result"
    }
   ],
   "execution_count": 14
  },
  {
   "metadata": {},
   "cell_type": "markdown",
   "source": "---",
   "id": "c6d761480975e67f"
  },
  {
   "metadata": {
    "ExecuteTime": {
     "end_time": "2025-05-13T19:22:28.900178Z",
     "start_time": "2025-05-13T19:22:28.882590Z"
    }
   },
   "cell_type": "code",
   "source": [
    "a = (1, 2 ,3)\n",
    "d[a] = \"my tuple\"\n",
    "d"
   ],
   "id": "df8908ed1e3d7e7f",
   "outputs": [
    {
     "data": {
      "text/plain": [
       "{1: '-a', 3: 3, 'd': 2, '32': 32, (1, 2, 3): 'my tuple'}"
      ]
     },
     "execution_count": 15,
     "metadata": {},
     "output_type": "execute_result"
    }
   ],
   "execution_count": 15
  },
  {
   "metadata": {
    "ExecuteTime": {
     "end_time": "2025-05-13T19:23:41.866334Z",
     "start_time": "2025-05-13T19:23:41.822314Z"
    }
   },
   "cell_type": "code",
   "source": [
    "b = (1, 2, 3,[1,2])\n",
    "d[b] = (2,3,4)\n",
    "d"
   ],
   "id": "7db1a4e8aa33feb8",
   "outputs": [
    {
     "ename": "TypeError",
     "evalue": "unhashable type: 'list'",
     "output_type": "error",
     "traceback": [
      "\u001B[31m---------------------------------------------------------------------------\u001B[39m",
      "\u001B[31mTypeError\u001B[39m                                 Traceback (most recent call last)",
      "\u001B[36mCell\u001B[39m\u001B[36m \u001B[39m\u001B[32mIn[16]\u001B[39m\u001B[32m, line 2\u001B[39m\n\u001B[32m      1\u001B[39m b = (\u001B[32m1\u001B[39m, \u001B[32m2\u001B[39m, \u001B[32m3\u001B[39m,[\u001B[32m1\u001B[39m,\u001B[32m2\u001B[39m])\n\u001B[32m----> \u001B[39m\u001B[32m2\u001B[39m \u001B[43md\u001B[49m\u001B[43m[\u001B[49m\u001B[43mb\u001B[49m\u001B[43m]\u001B[49m = (\u001B[32m2\u001B[39m,\u001B[32m3\u001B[39m,\u001B[32m4\u001B[39m)\n\u001B[32m      3\u001B[39m d\n",
      "\u001B[31mTypeError\u001B[39m: unhashable type: 'list'"
     ]
    }
   ],
   "execution_count": 16
  },
  {
   "metadata": {
    "ExecuteTime": {
     "end_time": "2025-05-15T10:08:02.785034Z",
     "start_time": "2025-05-15T10:08:02.763365Z"
    }
   },
   "cell_type": "code",
   "source": "d",
   "id": "8fe023f762f6e49e",
   "outputs": [
    {
     "data": {
      "text/plain": [
       "{1: '-a', 3: 3, 'd': 2, '32': 32, (1, 2, 3): 'my tuple'}"
      ]
     },
     "execution_count": 17,
     "metadata": {},
     "output_type": "execute_result"
    }
   ],
   "execution_count": 17
  },
  {
   "metadata": {
    "ExecuteTime": {
     "end_time": "2025-05-15T10:08:20.580655Z",
     "start_time": "2025-05-15T10:08:20.565413Z"
    }
   },
   "cell_type": "code",
   "source": [
    "d.clear()\n",
    "d"
   ],
   "id": "b91d34c9ee4b0b04",
   "outputs": [
    {
     "data": {
      "text/plain": [
       "{}"
      ]
     },
     "execution_count": 19,
     "metadata": {},
     "output_type": "execute_result"
    }
   ],
   "execution_count": 19
  },
  {
   "metadata": {
    "ExecuteTime": {
     "end_time": "2025-05-15T10:09:22.525134Z",
     "start_time": "2025-05-15T10:09:22.505398Z"
    }
   },
   "cell_type": "code",
   "source": [
    "d = dict([(1,\"a\"),(3,3), (\"d\",2)])\n",
    "d"
   ],
   "id": "72886fb1a0cca580",
   "outputs": [
    {
     "data": {
      "text/plain": [
       "{1: 'a', 3: 3, 'd': 2}"
      ]
     },
     "execution_count": 20,
     "metadata": {},
     "output_type": "execute_result"
    }
   ],
   "execution_count": 20
  },
  {
   "metadata": {
    "ExecuteTime": {
     "end_time": "2025-05-15T10:18:13.686127Z",
     "start_time": "2025-05-15T10:18:13.677306Z"
    }
   },
   "cell_type": "code",
   "source": "d[1]",
   "id": "e02345750dfe88e1",
   "outputs": [
    {
     "data": {
      "text/plain": [
       "'a'"
      ]
     },
     "execution_count": 21,
     "metadata": {},
     "output_type": "execute_result"
    }
   ],
   "execution_count": 21
  },
  {
   "metadata": {
    "ExecuteTime": {
     "end_time": "2025-05-15T10:20:16.091311Z",
     "start_time": "2025-05-15T10:20:16.083894Z"
    }
   },
   "cell_type": "code",
   "source": "d['ds'] = 3",
   "id": "593795800bafc966",
   "outputs": [],
   "execution_count": 22
  },
  {
   "metadata": {
    "ExecuteTime": {
     "end_time": "2025-05-15T10:20:35.812460Z",
     "start_time": "2025-05-15T10:20:35.803211Z"
    }
   },
   "cell_type": "code",
   "source": "d['ds']",
   "id": "848999c94a122aca",
   "outputs": [
    {
     "data": {
      "text/plain": [
       "3"
      ]
     },
     "execution_count": 23,
     "metadata": {},
     "output_type": "execute_result"
    }
   ],
   "execution_count": 23
  },
  {
   "metadata": {
    "ExecuteTime": {
     "end_time": "2025-05-15T10:20:54.187477Z",
     "start_time": "2025-05-15T10:20:54.178384Z"
    }
   },
   "cell_type": "code",
   "source": [
    "s = 'ds'\n",
    "d[s]"
   ],
   "id": "b0165a30f471b668",
   "outputs": [
    {
     "data": {
      "text/plain": [
       "3"
      ]
     },
     "execution_count": 24,
     "metadata": {},
     "output_type": "execute_result"
    }
   ],
   "execution_count": 24
  },
  {
   "metadata": {
    "ExecuteTime": {
     "end_time": "2025-05-15T10:30:30.455546Z",
     "start_time": "2025-05-15T10:30:30.395601Z"
    }
   },
   "cell_type": "code",
   "source": "d[100]",
   "id": "7b8f4531776a9683",
   "outputs": [
    {
     "ename": "KeyError",
     "evalue": "100",
     "output_type": "error",
     "traceback": [
      "\u001B[31m---------------------------------------------------------------------------\u001B[39m",
      "\u001B[31mKeyError\u001B[39m                                  Traceback (most recent call last)",
      "\u001B[36mCell\u001B[39m\u001B[36m \u001B[39m\u001B[32mIn[25]\u001B[39m\u001B[32m, line 1\u001B[39m\n\u001B[32m----> \u001B[39m\u001B[32m1\u001B[39m \u001B[43md\u001B[49m\u001B[43m[\u001B[49m\u001B[32;43m100\u001B[39;49m\u001B[43m]\u001B[49m\n",
      "\u001B[31mKeyError\u001B[39m: 100"
     ]
    }
   ],
   "execution_count": 25
  },
  {
   "metadata": {
    "ExecuteTime": {
     "end_time": "2025-05-15T10:31:08.492079Z",
     "start_time": "2025-05-15T10:31:08.486939Z"
    }
   },
   "cell_type": "code",
   "source": "d.get(100)",
   "id": "cea438639f16612d",
   "outputs": [],
   "execution_count": 27
  },
  {
   "metadata": {
    "ExecuteTime": {
     "end_time": "2025-05-15T10:31:29.233020Z",
     "start_time": "2025-05-15T10:31:29.225679Z"
    }
   },
   "cell_type": "code",
   "source": "d.get('ds')",
   "id": "30f64f4185197f5",
   "outputs": [
    {
     "data": {
      "text/plain": [
       "3"
      ]
     },
     "execution_count": 28,
     "metadata": {},
     "output_type": "execute_result"
    }
   ],
   "execution_count": 28
  },
  {
   "metadata": {
    "ExecuteTime": {
     "end_time": "2025-05-15T10:31:55.069135Z",
     "start_time": "2025-05-15T10:31:55.055074Z"
    }
   },
   "cell_type": "code",
   "source": "d.get(10000, 0)",
   "id": "ba7c5f00e78e1430",
   "outputs": [
    {
     "data": {
      "text/plain": [
       "0"
      ]
     },
     "execution_count": 29,
     "metadata": {},
     "output_type": "execute_result"
    }
   ],
   "execution_count": 29
  },
  {
   "metadata": {
    "ExecuteTime": {
     "end_time": "2025-05-15T10:33:04.384526Z",
     "start_time": "2025-05-15T10:33:04.376664Z"
    }
   },
   "cell_type": "code",
   "source": "d.get('d')",
   "id": "68abe2a30379088",
   "outputs": [
    {
     "data": {
      "text/plain": [
       "2"
      ]
     },
     "execution_count": 30,
     "metadata": {},
     "output_type": "execute_result"
    }
   ],
   "execution_count": 30
  },
  {
   "metadata": {
    "ExecuteTime": {
     "end_time": "2025-05-15T10:33:19.535624Z",
     "start_time": "2025-05-15T10:33:19.529228Z"
    }
   },
   "cell_type": "code",
   "source": "d.items()",
   "id": "ba5e0f64f926767f",
   "outputs": [
    {
     "data": {
      "text/plain": [
       "dict_items([(1, 'a'), (3, 3), ('d', 2), ('ds', 3)])"
      ]
     },
     "execution_count": 31,
     "metadata": {},
     "output_type": "execute_result"
    }
   ],
   "execution_count": 31
  },
  {
   "metadata": {
    "ExecuteTime": {
     "end_time": "2025-05-15T10:33:39.639267Z",
     "start_time": "2025-05-15T10:33:39.635126Z"
    }
   },
   "cell_type": "code",
   "source": "list(d.items())",
   "id": "4930bc07dd794f86",
   "outputs": [
    {
     "data": {
      "text/plain": [
       "[(1, 'a'), (3, 3), ('d', 2), ('ds', 3)]"
      ]
     },
     "execution_count": 33,
     "metadata": {},
     "output_type": "execute_result"
    }
   ],
   "execution_count": 33
  },
  {
   "metadata": {
    "ExecuteTime": {
     "end_time": "2025-05-15T10:33:45.578691Z",
     "start_time": "2025-05-15T10:33:45.574818Z"
    }
   },
   "cell_type": "code",
   "source": "d.keys()",
   "id": "c7723375f0c90074",
   "outputs": [
    {
     "data": {
      "text/plain": [
       "dict_keys([1, 3, 'd', 'ds'])"
      ]
     },
     "execution_count": 34,
     "metadata": {},
     "output_type": "execute_result"
    }
   ],
   "execution_count": 34
  },
  {
   "metadata": {
    "ExecuteTime": {
     "end_time": "2025-05-15T10:34:12.650577Z",
     "start_time": "2025-05-15T10:34:12.643080Z"
    }
   },
   "cell_type": "code",
   "source": "list(d.values())",
   "id": "9b0bcd90d6316806",
   "outputs": [
    {
     "data": {
      "text/plain": [
       "['a', 3, 2, 3]"
      ]
     },
     "execution_count": 36,
     "metadata": {},
     "output_type": "execute_result"
    }
   ],
   "execution_count": 36
  },
  {
   "metadata": {},
   "cell_type": "code",
   "outputs": [],
   "execution_count": null,
   "source": "a = {100: 'abcde', 1: 'bbb'}",
   "id": "5dac49ed40a10583"
  },
  {
   "metadata": {
    "ExecuteTime": {
     "end_time": "2025-05-15T10:41:57.339918Z",
     "start_time": "2025-05-15T10:41:57.334961Z"
    }
   },
   "cell_type": "code",
   "source": "d1 = {2: 'b', 1: 'a', (1, 2, 3): 'c'}",
   "id": "8d6b5ae6762f8d99",
   "outputs": [],
   "execution_count": 54
  },
  {
   "metadata": {
    "ExecuteTime": {
     "end_time": "2025-05-15T10:41:59.215409Z",
     "start_time": "2025-05-15T10:41:59.208327Z"
    }
   },
   "cell_type": "code",
   "source": "d.update(d1)",
   "id": "965c248c59f488d3",
   "outputs": [],
   "execution_count": 55
  },
  {
   "metadata": {
    "ExecuteTime": {
     "end_time": "2025-05-15T10:36:55.487731Z",
     "start_time": "2025-05-15T10:36:55.483236Z"
    }
   },
   "cell_type": "code",
   "source": "d",
   "id": "ff455083bb912096",
   "outputs": [
    {
     "data": {
      "text/plain": [
       "{1: 'a', 3: 3, 'd': 2, 'ds': 3, 2: 'b', (1, 2, 3): 'c'}"
      ]
     },
     "execution_count": 40,
     "metadata": {},
     "output_type": "execute_result"
    }
   ],
   "execution_count": 40
  },
  {
   "metadata": {
    "ExecuteTime": {
     "end_time": "2025-05-15T10:38:04.034869Z",
     "start_time": "2025-05-15T10:38:04.028344Z"
    }
   },
   "cell_type": "code",
   "source": "{**d, **d1}",
   "id": "1661cefc9ff2d166",
   "outputs": [
    {
     "data": {
      "text/plain": [
       "{1: 'a', 3: 3, 'd': 2, 'ds': 3, 2: 'b', (1, 2, 3): 'c'}"
      ]
     },
     "execution_count": 41,
     "metadata": {},
     "output_type": "execute_result"
    }
   ],
   "execution_count": 41
  },
  {
   "metadata": {
    "ExecuteTime": {
     "end_time": "2025-05-15T10:38:48.721613Z",
     "start_time": "2025-05-15T10:38:48.714200Z"
    }
   },
   "cell_type": "code",
   "source": [
    "import sys\n",
    "sys.version_info.minor"
   ],
   "id": "4f0d0fab73fe51d9",
   "outputs": [
    {
     "data": {
      "text/plain": [
       "13"
      ]
     },
     "execution_count": 43,
     "metadata": {},
     "output_type": "execute_result"
    }
   ],
   "execution_count": 43
  },
  {
   "metadata": {
    "ExecuteTime": {
     "end_time": "2025-05-15T10:39:42.317523Z",
     "start_time": "2025-05-15T10:39:42.309454Z"
    }
   },
   "cell_type": "code",
   "source": "d | d1",
   "id": "24f02f6c6e6af440",
   "outputs": [
    {
     "data": {
      "text/plain": [
       "{1: 'a', 3: 3, 'd': 2, 'ds': 3, 2: 'b', (1, 2, 3): 'c'}"
      ]
     },
     "execution_count": 45,
     "metadata": {},
     "output_type": "execute_result"
    }
   ],
   "execution_count": 45
  },
  {
   "metadata": {
    "ExecuteTime": {
     "end_time": "2025-05-15T10:40:12.773388Z",
     "start_time": "2025-05-15T10:40:12.765788Z"
    }
   },
   "cell_type": "code",
   "source": "d.pop(2)",
   "id": "64d6dcfab596f2fc",
   "outputs": [
    {
     "data": {
      "text/plain": [
       "'b'"
      ]
     },
     "execution_count": 46,
     "metadata": {},
     "output_type": "execute_result"
    }
   ],
   "execution_count": 46
  },
  {
   "metadata": {
    "ExecuteTime": {
     "end_time": "2025-05-15T10:40:21.624006Z",
     "start_time": "2025-05-15T10:40:21.617146Z"
    }
   },
   "cell_type": "code",
   "source": "d",
   "id": "d210e2c379f5b7a5",
   "outputs": [
    {
     "data": {
      "text/plain": [
       "{1: 'a', 3: 3, 'd': 2, 'ds': 3, (1, 2, 3): 'c'}"
      ]
     },
     "execution_count": 47,
     "metadata": {},
     "output_type": "execute_result"
    }
   ],
   "execution_count": 47
  },
  {
   "metadata": {
    "ExecuteTime": {
     "end_time": "2025-05-15T10:42:05.001521Z",
     "start_time": "2025-05-15T10:42:04.996045Z"
    }
   },
   "cell_type": "code",
   "source": [
    "d['ce'] = 999\n",
    "d"
   ],
   "id": "566f11d45903d50",
   "outputs": [
    {
     "data": {
      "text/plain": [
       "{1: 'a', 3: 3, 'd': 2, 'ds': 3, 2: 'b', (1, 2, 3): 'c', 'ce': 999}"
      ]
     },
     "execution_count": 56,
     "metadata": {},
     "output_type": "execute_result"
    }
   ],
   "execution_count": 56
  },
  {
   "metadata": {
    "ExecuteTime": {
     "end_time": "2025-05-15T10:41:42.781158Z",
     "start_time": "2025-05-15T10:41:42.773387Z"
    }
   },
   "cell_type": "code",
   "source": [
    "d.popitem()\n",
    "d"
   ],
   "id": "9b77939f286b2f34",
   "outputs": [
    {
     "data": {
      "text/plain": [
       "{1: 'a', 3: 3, 'd': 2, 'ds': 3}"
      ]
     },
     "execution_count": 52,
     "metadata": {},
     "output_type": "execute_result"
    }
   ],
   "execution_count": 52
  },
  {
   "metadata": {
    "ExecuteTime": {
     "end_time": "2025-05-15T10:43:04.781850Z",
     "start_time": "2025-05-15T10:43:04.775111Z"
    }
   },
   "cell_type": "code",
   "source": [
    "del d[1]\n",
    "d"
   ],
   "id": "4e9fde884367919b",
   "outputs": [
    {
     "data": {
      "text/plain": [
       "{3: 3, 'd': 2, 'ds': 3, 2: 'b', (1, 2, 3): 'c', 'ce': 999}"
      ]
     },
     "execution_count": 57,
     "metadata": {},
     "output_type": "execute_result"
    }
   ],
   "execution_count": 57
  },
  {
   "metadata": {
    "ExecuteTime": {
     "end_time": "2025-05-15T10:53:44.633046Z",
     "start_time": "2025-05-15T10:53:44.621522Z"
    }
   },
   "cell_type": "code",
   "source": [
    "f = True\n",
    "int(f)"
   ],
   "id": "b75f19fe2a2d8fcd",
   "outputs": [
    {
     "data": {
      "text/plain": [
       "1"
      ]
     },
     "execution_count": 1,
     "metadata": {},
     "output_type": "execute_result"
    }
   ],
   "execution_count": 1
  }
 ],
 "metadata": {
  "kernelspec": {
   "display_name": "Python 3",
   "language": "python",
   "name": "python3"
  },
  "language_info": {
   "codemirror_mode": {
    "name": "ipython",
    "version": 2
   },
   "file_extension": ".py",
   "mimetype": "text/x-python",
   "name": "python",
   "nbconvert_exporter": "python",
   "pygments_lexer": "ipython2",
   "version": "2.7.6"
  }
 },
 "nbformat": 4,
 "nbformat_minor": 5
}

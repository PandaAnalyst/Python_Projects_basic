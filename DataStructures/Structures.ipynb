{
 "cells": [
  {
   "metadata": {},
   "cell_type": "markdown",
   "source": "# Lists",
   "id": "9aa6eece452e88f9"
  },
  {
   "metadata": {},
   "cell_type": "markdown",
   "source": "### Create list",
   "id": "3664d6045f7b4d65"
  },
  {
   "metadata": {
    "ExecuteTime": {
     "end_time": "2025-05-11T17:03:20.730327Z",
     "start_time": "2025-05-11T17:03:20.719924Z"
    }
   },
   "cell_type": "code",
   "source": [
    "from jsonschema.validators import extend\n",
    "\n",
    "a = [2,3,5 ,'e', True, 'sdfs', 2.3j]\n",
    "a"
   ],
   "id": "ab8356e5fef33ed4",
   "outputs": [
    {
     "data": {
      "text/plain": [
       "[2, 3, 5, 'e', True, 'sdfs', 2.3j]"
      ]
     },
     "execution_count": 9,
     "metadata": {},
     "output_type": "execute_result"
    }
   ],
   "execution_count": 9
  },
  {
   "metadata": {},
   "cell_type": "markdown",
   "source": "### Adding",
   "id": "ca9856b7a9b9f47d"
  },
  {
   "metadata": {
    "ExecuteTime": {
     "end_time": "2025-05-11T17:04:17.161774Z",
     "start_time": "2025-05-11T17:04:17.143667Z"
    }
   },
   "cell_type": "code",
   "source": [
    "a = []\n",
    "a\n",
    "a.append(1)\n",
    "a\n",
    "a.append(2)\n",
    "a"
   ],
   "id": "97354f28d0e38faf",
   "outputs": [
    {
     "data": {
      "text/plain": [
       "[1, 2]"
      ]
     },
     "execution_count": 10,
     "metadata": {},
     "output_type": "execute_result"
    }
   ],
   "execution_count": 10
  },
  {
   "metadata": {},
   "cell_type": "markdown",
   "source": "### Remove all",
   "id": "3541b94eb191ce2e"
  },
  {
   "metadata": {
    "ExecuteTime": {
     "end_time": "2025-05-11T17:05:36.481751Z",
     "start_time": "2025-05-11T17:05:36.472791Z"
    }
   },
   "cell_type": "code",
   "source": [
    "a.clear()\n",
    "a"
   ],
   "id": "bd44962e6e95b905",
   "outputs": [
    {
     "data": {
      "text/plain": [
       "[]"
      ]
     },
     "execution_count": 14,
     "metadata": {},
     "output_type": "execute_result"
    }
   ],
   "execution_count": 14
  },
  {
   "metadata": {},
   "cell_type": "code",
   "outputs": [],
   "execution_count": null,
   "source": "a = []",
   "id": "de3409d9ffa86752"
  },
  {
   "metadata": {},
   "cell_type": "markdown",
   "source": "### Copy",
   "id": "729bfda08462a4ad"
  },
  {
   "metadata": {
    "ExecuteTime": {
     "end_time": "2025-05-11T17:58:22.155258Z",
     "start_time": "2025-05-11T17:58:22.145867Z"
    }
   },
   "cell_type": "code",
   "source": [
    "arr = [1,2,3,4]\n",
    "old_arr = arr\n",
    "arr[0] = -100\n",
    "arr, old_arr"
   ],
   "id": "7ed356473eb73a1b",
   "outputs": [
    {
     "data": {
      "text/plain": [
       "([-100, 2, 3, 4], [-100, 2, 3, 4])"
      ]
     },
     "execution_count": 21,
     "metadata": {},
     "output_type": "execute_result"
    }
   ],
   "execution_count": 21
  },
  {
   "metadata": {
    "ExecuteTime": {
     "end_time": "2025-05-11T17:58:29.903952Z",
     "start_time": "2025-05-11T17:58:29.894921Z"
    }
   },
   "cell_type": "code",
   "source": [
    "old_arr2 = arr.copy()\n",
    "arr[0] = 100000\n",
    "arr, old_arr, old_arr2"
   ],
   "id": "8aad399f49e410e7",
   "outputs": [
    {
     "data": {
      "text/plain": [
       "([100000, 2, 3, 4], [100000, 2, 3, 4], [-100, 2, 3, 4])"
      ]
     },
     "execution_count": 22,
     "metadata": {},
     "output_type": "execute_result"
    }
   ],
   "execution_count": 22
  },
  {
   "metadata": {},
   "cell_type": "markdown",
   "source": "### Count elements",
   "id": "708b5d5c6cea0398"
  },
  {
   "metadata": {
    "ExecuteTime": {
     "end_time": "2025-05-11T18:02:22.834809Z",
     "start_time": "2025-05-11T18:02:22.825175Z"
    }
   },
   "cell_type": "code",
   "source": [
    "a = [1,2,3, 1, 1, 1, 'sdf', 2, 2, 4, 4, 'sdf']\n",
    "a.count(1)"
   ],
   "id": "56d6241bba678719",
   "outputs": [
    {
     "data": {
      "text/plain": [
       "4"
      ]
     },
     "execution_count": 27,
     "metadata": {},
     "output_type": "execute_result"
    }
   ],
   "execution_count": 27
  },
  {
   "metadata": {
    "ExecuteTime": {
     "end_time": "2025-05-11T18:01:48.979560Z",
     "start_time": "2025-05-11T18:01:48.970876Z"
    }
   },
   "cell_type": "code",
   "source": "a.count('sdf')",
   "id": "8dd415e7b496ccbe",
   "outputs": [
    {
     "data": {
      "text/plain": [
       "2"
      ]
     },
     "execution_count": 25,
     "metadata": {},
     "output_type": "execute_result"
    }
   ],
   "execution_count": 25
  },
  {
   "metadata": {},
   "cell_type": "markdown",
   "source": "### Adding element with extend (добавляет все элементы)",
   "id": "190c26930d72658b"
  },
  {
   "metadata": {
    "ExecuteTime": {
     "end_time": "2025-05-11T18:10:44.803710Z",
     "start_time": "2025-05-11T18:10:44.794325Z"
    }
   },
   "cell_type": "code",
   "source": [
    "a = [1, 2, 3, 4]\n",
    "b = [5, 6, 7, 8]\n",
    "a.extend(b)\n",
    "a"
   ],
   "id": "f4c9926c484d3c13",
   "outputs": [
    {
     "data": {
      "text/plain": [
       "[1, 2, 3, 4, 5, 6, 7, 8]"
      ]
     },
     "execution_count": 36,
     "metadata": {},
     "output_type": "execute_result"
    }
   ],
   "execution_count": 36
  },
  {
   "metadata": {
    "ExecuteTime": {
     "end_time": "2025-05-11T18:10:44.836076Z",
     "start_time": "2025-05-11T18:10:44.830676Z"
    }
   },
   "cell_type": "code",
   "source": [
    "a.append(b)\n",
    "a"
   ],
   "id": "ee740cfb23c9d4e",
   "outputs": [
    {
     "data": {
      "text/plain": [
       "[1, 2, 3, 4, 5, 6, 7, 8, [5, 6, 7, 8]]"
      ]
     },
     "execution_count": 37,
     "metadata": {},
     "output_type": "execute_result"
    }
   ],
   "execution_count": 37
  },
  {
   "metadata": {},
   "cell_type": "markdown",
   "source": "### Finding",
   "id": "f7d3cf678d05ff2d"
  },
  {
   "metadata": {
    "ExecuteTime": {
     "end_time": "2025-05-11T18:31:36.277758Z",
     "start_time": "2025-05-11T18:31:36.270985Z"
    }
   },
   "cell_type": "code",
   "source": [
    "users = [1, 2,3, 4, 5, 6]\n",
    "dates = ['2022-01-15', \"2022-01-16\", \"2022-01-17\", \"2022-01-18\", \"2022-01-19\"]\n",
    "\n",
    "dates[users.index(5)]"
   ],
   "id": "7d59a7e8dec91831",
   "outputs": [
    {
     "data": {
      "text/plain": [
       "'2022-01-19'"
      ]
     },
     "execution_count": 39,
     "metadata": {},
     "output_type": "execute_result"
    }
   ],
   "execution_count": 39
  },
  {
   "metadata": {},
   "cell_type": "markdown",
   "source": "### Insert in place",
   "id": "6d917c8c281c01f1"
  },
  {
   "metadata": {
    "ExecuteTime": {
     "end_time": "2025-05-11T18:33:49.237793Z",
     "start_time": "2025-05-11T18:33:49.229866Z"
    }
   },
   "cell_type": "code",
   "source": [
    "a.insert(13,\"dsfs\")\n",
    "a"
   ],
   "id": "2fc6d88a046f2d0f",
   "outputs": [
    {
     "data": {
      "text/plain": [
       "[999, 1, 2, 3, 999, 4, 5, 6, 7, 43, 8, 94321, [5, 6, 7, 8], 'dsfs']"
      ]
     },
     "execution_count": 44,
     "metadata": {},
     "output_type": "execute_result"
    }
   ],
   "execution_count": 44
  },
  {
   "metadata": {
    "ExecuteTime": {
     "end_time": "2025-05-11T18:36:40.124674Z",
     "start_time": "2025-05-11T18:36:40.117462Z"
    }
   },
   "cell_type": "code",
   "source": [
    "b = a.pop(0)\n",
    "print(b)\n",
    "print(a)"
   ],
   "id": "362c5dd49ae188d9",
   "outputs": [
    {
     "name": "stdout",
     "output_type": "stream",
     "text": [
      "[5, 6, 7, 8]\n",
      "['dsfs']\n"
     ]
    }
   ],
   "execution_count": 57
  },
  {
   "metadata": {
    "ExecuteTime": {
     "end_time": "2025-05-11T18:37:49.562783Z",
     "start_time": "2025-05-11T18:37:49.554011Z"
    }
   },
   "cell_type": "code",
   "source": [
    "a.append([3, 5, 6, 7000])\n",
    "a"
   ],
   "id": "b15b6ad89cffa23e",
   "outputs": [
    {
     "data": {
      "text/plain": [
       "['dsfs', [3, 5, 6, 7000]]"
      ]
     },
     "execution_count": 58,
     "metadata": {},
     "output_type": "execute_result"
    }
   ],
   "execution_count": 58
  },
  {
   "metadata": {
    "ExecuteTime": {
     "end_time": "2025-05-11T18:38:51.796750Z",
     "start_time": "2025-05-11T18:38:51.790128Z"
    }
   },
   "cell_type": "code",
   "source": "a.extend([3, 5, 6, 7])\n",
   "id": "be02537f6332b06b",
   "outputs": [],
   "execution_count": 62
  },
  {
   "metadata": {
    "ExecuteTime": {
     "end_time": "2025-05-11T18:39:45.627632Z",
     "start_time": "2025-05-11T18:39:45.608541Z"
    }
   },
   "cell_type": "code",
   "source": [
    "a.remove(3)\n",
    "a"
   ],
   "id": "87b36bb883a24923",
   "outputs": [
    {
     "ename": "ValueError",
     "evalue": "list.remove(x): x not in list",
     "output_type": "error",
     "traceback": [
      "\u001B[31m---------------------------------------------------------------------------\u001B[39m",
      "\u001B[31mValueError\u001B[39m                                Traceback (most recent call last)",
      "\u001B[36mCell\u001B[39m\u001B[36m \u001B[39m\u001B[32mIn[66]\u001B[39m\u001B[32m, line 1\u001B[39m\n\u001B[32m----> \u001B[39m\u001B[32m1\u001B[39m \u001B[43ma\u001B[49m\u001B[43m.\u001B[49m\u001B[43mremove\u001B[49m\u001B[43m(\u001B[49m\u001B[32;43m3\u001B[39;49m\u001B[43m)\u001B[49m\n\u001B[32m      2\u001B[39m a\n",
      "\u001B[31mValueError\u001B[39m: list.remove(x): x not in list"
     ]
    }
   ],
   "execution_count": 66
  },
  {
   "metadata": {
    "ExecuteTime": {
     "end_time": "2025-05-11T18:41:44.022299Z",
     "start_time": "2025-05-11T18:41:44.015014Z"
    }
   },
   "cell_type": "code",
   "source": "a",
   "id": "61b806d72802cb00",
   "outputs": [
    {
     "data": {
      "text/plain": [
       "[7, 6, 5]"
      ]
     },
     "execution_count": 74,
     "metadata": {},
     "output_type": "execute_result"
    }
   ],
   "execution_count": 74
  },
  {
   "metadata": {
    "ExecuteTime": {
     "end_time": "2025-05-11T18:41:35.568350Z",
     "start_time": "2025-05-11T18:41:35.559752Z"
    }
   },
   "cell_type": "code",
   "source": [
    "a.reverse()\n",
    "a"
   ],
   "id": "72ffaac045923b4",
   "outputs": [
    {
     "data": {
      "text/plain": [
       "[7, 6, 5]"
      ]
     },
     "execution_count": 73,
     "metadata": {},
     "output_type": "execute_result"
    }
   ],
   "execution_count": 73
  },
  {
   "metadata": {
    "ExecuteTime": {
     "end_time": "2025-05-11T18:41:46.784703Z",
     "start_time": "2025-05-11T18:41:46.776288Z"
    }
   },
   "cell_type": "code",
   "source": [
    "a.sort()\n",
    "a"
   ],
   "id": "f80478e152be3ecc",
   "outputs": [
    {
     "data": {
      "text/plain": [
       "[5, 6, 7]"
      ]
     },
     "execution_count": 75,
     "metadata": {},
     "output_type": "execute_result"
    }
   ],
   "execution_count": 75
  },
  {
   "metadata": {
    "ExecuteTime": {
     "end_time": "2025-05-11T18:43:43.221291Z",
     "start_time": "2025-05-11T18:43:43.212013Z"
    }
   },
   "cell_type": "code",
   "source": "3 in a",
   "id": "1c5fd85df4983a14",
   "outputs": [
    {
     "data": {
      "text/plain": [
       "True"
      ]
     },
     "execution_count": 78,
     "metadata": {},
     "output_type": "execute_result"
    }
   ],
   "execution_count": 78
  },
  {
   "metadata": {
    "ExecuteTime": {
     "end_time": "2025-05-11T18:44:21.107676Z",
     "start_time": "2025-05-11T18:44:21.098224Z"
    }
   },
   "cell_type": "code",
   "source": [
    "hungred = 100\n",
    "hungred in a"
   ],
   "id": "303407ad65df502",
   "outputs": [
    {
     "data": {
      "text/plain": [
       "False"
      ]
     },
     "execution_count": 80,
     "metadata": {},
     "output_type": "execute_result"
    }
   ],
   "execution_count": 80
  },
  {
   "metadata": {
    "ExecuteTime": {
     "end_time": "2025-05-11T18:46:22.115910Z",
     "start_time": "2025-05-11T18:46:22.108148Z"
    }
   },
   "cell_type": "code",
   "source": [
    "a.append([3, 5, 7, 79])\n",
    "cd = [3, 5, 7, 79, 4]\n",
    "cd in a"
   ],
   "id": "3dbcbc4e229ba577",
   "outputs": [
    {
     "data": {
      "text/plain": [
       "False"
      ]
     },
     "execution_count": 82,
     "metadata": {},
     "output_type": "execute_result"
    }
   ],
   "execution_count": 82
  },
  {
   "metadata": {
    "ExecuteTime": {
     "end_time": "2025-05-11T18:46:58.023190Z",
     "start_time": "2025-05-11T18:46:58.016196Z"
    }
   },
   "cell_type": "code",
   "source": "a.pop(len(a)-1)",
   "id": "233ae7298235d8a5",
   "outputs": [
    {
     "data": {
      "text/plain": [
       "[3, 5, 7, 79]"
      ]
     },
     "execution_count": 84,
     "metadata": {},
     "output_type": "execute_result"
    }
   ],
   "execution_count": 84
  },
  {
   "metadata": {
    "ExecuteTime": {
     "end_time": "2025-05-11T18:47:47.522512Z",
     "start_time": "2025-05-11T18:47:47.517127Z"
    }
   },
   "cell_type": "code",
   "source": [
    "b = a.copy()\n",
    "c = a.copy()\n",
    "b.append(cd)\n",
    "c.extend(cd)"
   ],
   "id": "e32cb85e92ff2d6c",
   "outputs": [],
   "execution_count": 86
  },
  {
   "metadata": {
    "ExecuteTime": {
     "end_time": "2025-05-11T18:48:19.523895Z",
     "start_time": "2025-05-11T18:48:19.515106Z"
    }
   },
   "cell_type": "code",
   "source": "a, b, c",
   "id": "6143be08b1d89ee5",
   "outputs": [
    {
     "data": {
      "text/plain": [
       "([5, 6, 7, 3], [5, 6, 7, 3, [3, 5, 7, 79, 4]], [5, 6, 7, 3, 3, 5, 7, 79, 4])"
      ]
     },
     "execution_count": 90,
     "metadata": {},
     "output_type": "execute_result"
    }
   ],
   "execution_count": 90
  },
  {
   "metadata": {},
   "cell_type": "markdown",
   "source": "### Индксация и срезы",
   "id": "16d1bad77a939255"
  },
  {
   "metadata": {
    "ExecuteTime": {
     "end_time": "2025-05-11T18:50:16.854680Z",
     "start_time": "2025-05-11T18:50:16.844825Z"
    }
   },
   "cell_type": "code",
   "source": "b[4][2]",
   "id": "2eecc73d137a9790",
   "outputs": [
    {
     "data": {
      "text/plain": [
       "7"
      ]
     },
     "execution_count": 92,
     "metadata": {},
     "output_type": "execute_result"
    }
   ],
   "execution_count": 92
  },
  {
   "metadata": {
    "ExecuteTime": {
     "end_time": "2025-05-11T18:50:58.502150Z",
     "start_time": "2025-05-11T18:50:58.494032Z"
    }
   },
   "cell_type": "code",
   "source": "c[3:7]",
   "id": "b3cf22975c1e9f93",
   "outputs": [
    {
     "data": {
      "text/plain": [
       "[3, 3, 5, 7]"
      ]
     },
     "execution_count": 93,
     "metadata": {},
     "output_type": "execute_result"
    }
   ],
   "execution_count": 93
  },
  {
   "metadata": {
    "ExecuteTime": {
     "end_time": "2025-05-11T18:52:44.382739Z",
     "start_time": "2025-05-11T18:52:44.373499Z"
    }
   },
   "cell_type": "code",
   "source": [
    "a[1:2]\n",
    "c[4:]"
   ],
   "id": "775cbf855c86681d",
   "outputs": [
    {
     "data": {
      "text/plain": [
       "[3, 5, 7, 79, 4]"
      ]
     },
     "execution_count": 99,
     "metadata": {},
     "output_type": "execute_result"
    }
   ],
   "execution_count": 99
  },
  {
   "metadata": {
    "ExecuteTime": {
     "end_time": "2025-05-11T18:53:01.405569Z",
     "start_time": "2025-05-11T18:53:01.395670Z"
    }
   },
   "cell_type": "code",
   "source": "b[-1]",
   "id": "3bc028fcd9237ce2",
   "outputs": [
    {
     "data": {
      "text/plain": [
       "[3, 5, 7, 79, 4]"
      ]
     },
     "execution_count": 100,
     "metadata": {},
     "output_type": "execute_result"
    }
   ],
   "execution_count": 100
  },
  {
   "metadata": {
    "ExecuteTime": {
     "end_time": "2025-05-11T18:55:23.059293Z",
     "start_time": "2025-05-11T18:55:23.050459Z"
    }
   },
   "cell_type": "code",
   "source": "c[-8:-1]",
   "id": "6c9660a82aac9768",
   "outputs": [
    {
     "data": {
      "text/plain": [
       "[6, 7, 3, 3, 5, 7, 79]"
      ]
     },
     "execution_count": 106,
     "metadata": {},
     "output_type": "execute_result"
    }
   ],
   "execution_count": 106
  },
  {
   "metadata": {},
   "cell_type": "markdown",
   "source": "#### arr[начало:конец:шаг]",
   "id": "88432ca28a94c42f"
  },
  {
   "metadata": {
    "ExecuteTime": {
     "end_time": "2025-05-11T18:57:21.554526Z",
     "start_time": "2025-05-11T18:57:21.547363Z"
    }
   },
   "cell_type": "code",
   "source": "c",
   "id": "776dbf96de1d5537",
   "outputs": [
    {
     "data": {
      "text/plain": [
       "[5, 6, 7, 3, 3, 5, 7, 79, 4]"
      ]
     },
     "execution_count": 109,
     "metadata": {},
     "output_type": "execute_result"
    }
   ],
   "execution_count": 109
  },
  {
   "metadata": {
    "ExecuteTime": {
     "end_time": "2025-05-11T18:57:44.851991Z",
     "start_time": "2025-05-11T18:57:44.838822Z"
    }
   },
   "cell_type": "code",
   "source": "c[1::2]",
   "id": "f744351638aaa1bb",
   "outputs": [
    {
     "data": {
      "text/plain": [
       "[6, 3, 5, 79]"
      ]
     },
     "execution_count": 111,
     "metadata": {},
     "output_type": "execute_result"
    }
   ],
   "execution_count": 111
  },
  {
   "metadata": {},
   "cell_type": "markdown",
   "source": "### Revers list",
   "id": "233b1aa874b94245"
  },
  {
   "metadata": {
    "ExecuteTime": {
     "end_time": "2025-05-11T18:59:00.866926Z",
     "start_time": "2025-05-11T18:59:00.861516Z"
    }
   },
   "cell_type": "code",
   "source": "c.reverse()",
   "id": "e34a45946dcc555e",
   "outputs": [],
   "execution_count": 112
  },
  {
   "metadata": {
    "ExecuteTime": {
     "end_time": "2025-05-11T18:59:10.088070Z",
     "start_time": "2025-05-11T18:59:10.079741Z"
    }
   },
   "cell_type": "code",
   "source": "c",
   "id": "d385bfc41afdca8b",
   "outputs": [
    {
     "data": {
      "text/plain": [
       "[4, 79, 7, 5, 3, 3, 7, 6, 5]"
      ]
     },
     "execution_count": 113,
     "metadata": {},
     "output_type": "execute_result"
    }
   ],
   "execution_count": 113
  },
  {
   "metadata": {},
   "cell_type": "markdown",
   "source": "#### Обратный порядок",
   "id": "efde574b7a924c4c"
  },
  {
   "metadata": {
    "ExecuteTime": {
     "end_time": "2025-05-11T18:59:23.428559Z",
     "start_time": "2025-05-11T18:59:23.420018Z"
    }
   },
   "cell_type": "code",
   "source": "c[::-1]",
   "id": "123dc6baf17652e1",
   "outputs": [
    {
     "data": {
      "text/plain": [
       "[5, 6, 7, 3, 3, 5, 7, 79, 4]"
      ]
     },
     "execution_count": 114,
     "metadata": {},
     "output_type": "execute_result"
    }
   ],
   "execution_count": 114
  },
  {
   "metadata": {},
   "cell_type": "markdown",
   "source": "### Sorting",
   "id": "edf4dcc4a38606bd"
  },
  {
   "metadata": {
    "ExecuteTime": {
     "end_time": "2025-05-11T19:02:00.257123Z",
     "start_time": "2025-05-11T19:02:00.251493Z"
    }
   },
   "cell_type": "code",
   "source": "d = ['aa', 'b', 'c', 'ad', 'ae', 'af']",
   "id": "64b326da40de5a73",
   "outputs": [],
   "execution_count": 120
  },
  {
   "metadata": {
    "ExecuteTime": {
     "end_time": "2025-05-11T19:02:03.937569Z",
     "start_time": "2025-05-11T19:02:03.929526Z"
    }
   },
   "cell_type": "code",
   "source": "d",
   "id": "1bcea54fec8a4bc3",
   "outputs": [
    {
     "data": {
      "text/plain": [
       "['aa', 'b', 'c', 'ad', 'ae', 'af']"
      ]
     },
     "execution_count": 121,
     "metadata": {},
     "output_type": "execute_result"
    }
   ],
   "execution_count": 121
  },
  {
   "metadata": {
    "ExecuteTime": {
     "end_time": "2025-05-11T19:02:10.826252Z",
     "start_time": "2025-05-11T19:02:10.820638Z"
    }
   },
   "cell_type": "code",
   "source": "d.append('bb')",
   "id": "827050b964b0e470",
   "outputs": [],
   "execution_count": 122
  },
  {
   "metadata": {
    "ExecuteTime": {
     "end_time": "2025-05-11T19:02:15.153117Z",
     "start_time": "2025-05-11T19:02:15.144673Z"
    }
   },
   "cell_type": "code",
   "source": [
    "d.sort()\n",
    "d"
   ],
   "id": "f624e7daa4defdc4",
   "outputs": [
    {
     "data": {
      "text/plain": [
       "['aa', 'ad', 'ae', 'af', 'b', 'bb', 'c']"
      ]
     },
     "execution_count": 123,
     "metadata": {},
     "output_type": "execute_result"
    }
   ],
   "execution_count": 123
  }
 ],
 "metadata": {
  "kernelspec": {
   "display_name": "Python 3",
   "language": "python",
   "name": "python3"
  },
  "language_info": {
   "codemirror_mode": {
    "name": "ipython",
    "version": 2
   },
   "file_extension": ".py",
   "mimetype": "text/x-python",
   "name": "python",
   "nbconvert_exporter": "python",
   "pygments_lexer": "ipython2",
   "version": "2.7.6"
  }
 },
 "nbformat": 4,
 "nbformat_minor": 5
}

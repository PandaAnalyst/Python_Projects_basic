{
 "cells": [
  {
   "cell_type": "code",
   "id": "initial_id",
   "metadata": {
    "collapsed": true,
    "ExecuteTime": {
     "end_time": "2025-05-15T14:16:36.850753Z",
     "start_time": "2025-05-15T14:16:36.815236Z"
    }
   },
   "source": [
    "a = 6/2\n",
    "type(a)"
   ],
   "outputs": [
    {
     "data": {
      "text/plain": [
       "float"
      ]
     },
     "execution_count": 2,
     "metadata": {},
     "output_type": "execute_result"
    }
   ],
   "execution_count": 2
  },
  {
   "metadata": {},
   "cell_type": "markdown",
   "source": [
    "Напишите код: выведите на экран ваше полное имя,\n",
    "номер телефона и адрес. Для каждого элемента наз-\n",
    "начьте собственную переменную\n"
   ],
   "id": "52a9d8b56e0bc136"
  },
  {
   "metadata": {
    "ExecuteTime": {
     "end_time": "2025-05-15T14:20:18.091625Z",
     "start_time": "2025-05-15T14:20:18.082780Z"
    }
   },
   "cell_type": "code",
   "source": [
    "name =  'Aliaksandr'\n",
    "number = \"+375555555555\"\n",
    "age = 32\n",
    "res_str = f\"\"\"Hello! {name}!\n",
    "            You are {age} years old.\n",
    "            Your number is {number}.\"\"\"\n",
    "print(res_str)"
   ],
   "id": "559ff38e95d22585",
   "outputs": [
    {
     "name": "stdout",
     "output_type": "stream",
     "text": [
      "Hello! Aliaksandr!\n",
      "            You are 32 years old.\n",
      "            Your number is +375555555555.\n"
     ]
    }
   ],
   "execution_count": 4
  },
  {
   "metadata": {},
   "cell_type": "markdown",
   "source": [
    "Изучите выражение:\n",
    "\n",
    "11 * 2 ** 2 – 13 / 4 + 7.\n",
    "\n",
    "Напишите код: разбейте это выражение на операции\n",
    "и выполните их в правильном порядке. На экран выведите\n",
    "ответ — значение выражения."
   ],
   "id": "390e233a17c6a5e0"
  },
  {
   "metadata": {
    "ExecuteTime": {
     "end_time": "2025-05-15T14:49:35.390933Z",
     "start_time": "2025-05-15T14:49:35.376192Z"
    }
   },
   "cell_type": "code",
   "source": "(11 * (2 ** 2)) - (13 / 4) + 7 # My answer",
   "id": "75f104588662faca",
   "outputs": [
    {
     "data": {
      "text/plain": [
       "47.75"
      ]
     },
     "execution_count": 28,
     "metadata": {},
     "output_type": "execute_result"
    }
   ],
   "execution_count": 28
  },
  {
   "metadata": {
    "ExecuteTime": {
     "end_time": "2025-05-15T14:50:41.744091Z",
     "start_time": "2025-05-15T14:50:41.735503Z"
    }
   },
   "cell_type": "code",
   "source": [
    "res_value = 2 # My answer\n",
    "res_value **= 2\n",
    "res_value *= 11\n",
    "value = -13/4\n",
    "value += 7\n",
    "res_value += value\n",
    "print(res_value, value)"
   ],
   "id": "92916607c58229bc",
   "outputs": [
    {
     "name": "stdout",
     "output_type": "stream",
     "text": [
      "47.75 3.75\n"
     ]
    }
   ],
   "execution_count": 29
  },
  {
   "metadata": {
    "ExecuteTime": {
     "end_time": "2025-05-15T14:51:06.799677Z",
     "start_time": "2025-05-15T14:51:06.794651Z"
    }
   },
   "cell_type": "code",
   "source": [
    "value = 2\n",
    "value = value**2\n",
    "value = 11*value\n",
    "value2 = 13\n",
    "value2 = value2/4\n",
    "value = value - value2 + 7\n",
    "print(value)"
   ],
   "id": "5999204020a144e9",
   "outputs": [
    {
     "name": "stdout",
     "output_type": "stream",
     "text": [
      "47.75\n"
     ]
    }
   ],
   "execution_count": 31
  }
 ],
 "metadata": {
  "kernelspec": {
   "display_name": "Python 3",
   "language": "python",
   "name": "python3"
  },
  "language_info": {
   "codemirror_mode": {
    "name": "ipython",
    "version": 2
   },
   "file_extension": ".py",
   "mimetype": "text/x-python",
   "name": "python",
   "nbconvert_exporter": "python",
   "pygments_lexer": "ipython2",
   "version": "2.7.6"
  }
 },
 "nbformat": 4,
 "nbformat_minor": 5
}

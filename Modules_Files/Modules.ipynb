{
 "cells": [
  {
   "cell_type": "code",
   "execution_count": 1,
   "id": "initial_id",
   "metadata": {
    "ExecuteTime": {
     "end_time": "2025-05-19T16:16:39.534071Z",
     "start_time": "2025-05-19T16:16:39.525562Z"
    },
    "collapsed": true
   },
   "outputs": [],
   "source": [
    "import os\n",
    "\n",
    "from PIL.ImagePalette import random"
   ]
  },
  {
   "cell_type": "code",
   "execution_count": 2,
   "id": "963acdc789d84844",
   "metadata": {
    "ExecuteTime": {
     "end_time": "2025-05-19T16:17:01.635143Z",
     "start_time": "2025-05-19T16:17:01.625884Z"
    }
   },
   "outputs": [
    {
     "data": {
      "text/plain": [
       "'D:\\\\PythonProject\\\\Modules_Files'"
      ]
     },
     "execution_count": 2,
     "metadata": {},
     "output_type": "execute_result"
    }
   ],
   "source": [
    "os.getcwd()"
   ]
  },
  {
   "cell_type": "code",
   "execution_count": 3,
   "id": "8f8caf5ef800582b",
   "metadata": {
    "ExecuteTime": {
     "end_time": "2025-05-19T16:18:09.142326Z",
     "start_time": "2025-05-19T16:18:09.132725Z"
    }
   },
   "outputs": [
    {
     "data": {
      "text/plain": [
       "'D:\\\\PythonProject\\\\Modules_Files\\\\..'"
      ]
     },
     "execution_count": 3,
     "metadata": {},
     "output_type": "execute_result"
    }
   ],
   "source": [
    "os.path.join(os.getcwd(), '..')"
   ]
  },
  {
   "cell_type": "code",
   "execution_count": 5,
   "id": "623eae52ff4f11d9",
   "metadata": {
    "ExecuteTime": {
     "end_time": "2025-05-19T17:09:57.648237Z",
     "start_time": "2025-05-19T17:09:57.642193Z"
    }
   },
   "outputs": [],
   "source": [
    "from os import getcwd"
   ]
  },
  {
   "cell_type": "code",
   "execution_count": 6,
   "id": "1c56acd91a19ba13",
   "metadata": {
    "ExecuteTime": {
     "end_time": "2025-05-19T17:10:35.263163Z",
     "start_time": "2025-05-19T17:10:35.256488Z"
    }
   },
   "outputs": [
    {
     "data": {
      "text/plain": [
       "'D:\\\\PythonProject\\\\Modules_Files'"
      ]
     },
     "execution_count": 6,
     "metadata": {},
     "output_type": "execute_result"
    }
   ],
   "source": [
    "getcwd()"
   ]
  },
  {
   "cell_type": "code",
   "execution_count": 1,
   "id": "ff627ecb99c43fbd",
   "metadata": {
    "ExecuteTime": {
     "end_time": "2025-05-19T17:12:00.633179Z",
     "start_time": "2025-05-19T17:12:00.627555Z"
    }
   },
   "outputs": [],
   "source": [
    "from math import sin, cos"
   ]
  },
  {
   "cell_type": "code",
   "execution_count": 2,
   "id": "255173d6809baf73",
   "metadata": {
    "ExecuteTime": {
     "end_time": "2025-05-19T17:12:20.133498Z",
     "start_time": "2025-05-19T17:12:20.128058Z"
    }
   },
   "outputs": [
    {
     "data": {
      "text/plain": [
       "(0.8414709848078965, 0.5403023058681398)"
      ]
     },
     "execution_count": 2,
     "metadata": {},
     "output_type": "execute_result"
    }
   ],
   "source": [
    "sin(1), cos(1)"
   ]
  },
  {
   "cell_type": "code",
   "execution_count": 11,
   "id": "f45ab269afeef93a",
   "metadata": {
    "ExecuteTime": {
     "end_time": "2025-05-19T17:13:15.007944Z",
     "start_time": "2025-05-19T17:13:14.618536Z"
    }
   },
   "outputs": [],
   "source": [
    "from requests import *"
   ]
  },
  {
   "cell_type": "code",
   "execution_count": 10,
   "id": "ba1f8acd5bfe713c",
   "metadata": {
    "ExecuteTime": {
     "end_time": "2025-05-19T17:15:04.701902Z",
     "start_time": "2025-05-19T17:15:04.695902Z"
    }
   },
   "outputs": [],
   "source": [
    "import os, sys"
   ]
  },
  {
   "cell_type": "code",
   "execution_count": null,
   "id": "4bc90f0b7374a192",
   "metadata": {},
   "outputs": [],
   "source": []
  },
  {
   "cell_type": "code",
   "execution_count": 15,
   "id": "bdd9e8e00e76aa62",
   "metadata": {
    "ExecuteTime": {
     "end_time": "2025-05-19T17:18:18.139391Z",
     "start_time": "2025-05-19T17:18:13.653470Z"
    }
   },
   "outputs": [],
   "source": [
    "import pandas as pd"
   ]
  },
  {
   "cell_type": "code",
   "execution_count": 16,
   "id": "17ab0c7e4aee5e46",
   "metadata": {
    "ExecuteTime": {
     "end_time": "2025-05-19T17:18:51.514235Z",
     "start_time": "2025-05-19T17:18:51.496564Z"
    }
   },
   "outputs": [
    {
     "data": {
      "text/html": [
       "<div>\n",
       "<style scoped>\n",
       "    .dataframe tbody tr th:only-of-type {\n",
       "        vertical-align: middle;\n",
       "    }\n",
       "\n",
       "    .dataframe tbody tr th {\n",
       "        vertical-align: top;\n",
       "    }\n",
       "\n",
       "    .dataframe thead th {\n",
       "        text-align: right;\n",
       "    }\n",
       "</style>\n",
       "<table border=\"1\" class=\"dataframe\">\n",
       "  <thead>\n",
       "    <tr style=\"text-align: right;\">\n",
       "      <th></th>\n",
       "      <th>0</th>\n",
       "    </tr>\n",
       "  </thead>\n",
       "  <tbody>\n",
       "    <tr>\n",
       "      <th>0</th>\n",
       "      <td>1</td>\n",
       "    </tr>\n",
       "    <tr>\n",
       "      <th>1</th>\n",
       "      <td>2</td>\n",
       "    </tr>\n",
       "    <tr>\n",
       "      <th>2</th>\n",
       "      <td>3</td>\n",
       "    </tr>\n",
       "  </tbody>\n",
       "</table>\n",
       "</div>"
      ],
      "text/plain": [
       "   0\n",
       "0  1\n",
       "1  2\n",
       "2  3"
      ]
     },
     "execution_count": 16,
     "metadata": {},
     "output_type": "execute_result"
    }
   ],
   "source": [
    "pd.DataFrame([1,2,3])"
   ]
  },
  {
   "cell_type": "markdown",
   "id": "573c3c94",
   "metadata": {},
   "source": []
  },
  {
   "cell_type": "code",
   "execution_count": null,
   "id": "8fad4a2a0ac7c7b3",
   "metadata": {},
   "outputs": [],
   "source": [
    "pip install matplotlib"
   ]
  },
  {
   "cell_type": "code",
   "execution_count": 20,
   "id": "99e6701b1f8ec8b4",
   "metadata": {
    "ExecuteTime": {
     "end_time": "2025-05-19T17:34:22.278493Z",
     "start_time": "2025-05-19T17:34:19.818005Z"
    }
   },
   "outputs": [],
   "source": [
    "import matplotlib.pyplot as plt"
   ]
  },
  {
   "cell_type": "code",
   "execution_count": 30,
   "id": "a10012e23f364df9",
   "metadata": {
    "ExecuteTime": {
     "end_time": "2025-05-19T18:04:20.099582Z",
     "start_time": "2025-05-19T18:04:20.093363Z"
    }
   },
   "outputs": [
    {
     "data": {
      "text/plain": [
       "[3, 7, 1, 8]"
      ]
     },
     "execution_count": 30,
     "metadata": {},
     "output_type": "execute_result"
    }
   ],
   "source": [
    "import random\n",
    "random.sample(range(1,11),4)"
   ]
  },
  {
   "cell_type": "code",
   "execution_count": 32,
   "id": "cb56f2eee89ef17f",
   "metadata": {
    "ExecuteTime": {
     "end_time": "2025-05-19T18:05:12.696886Z",
     "start_time": "2025-05-19T18:05:12.605514Z"
    }
   },
   "outputs": [
    {
     "data": {
      "text/plain": [
       "[<matplotlib.lines.Line2D at 0x23168c70b90>]"
      ]
     },
     "execution_count": 32,
     "metadata": {},
     "output_type": "execute_result"
    },
    {
     "data": {
      "image/png": "[encoded data removed]",
      "text/plain": [
       "<Figure size 640x480 with 1 Axes>"
      ]
     },
     "metadata": {},
     "output_type": "display_data"
    }
   ],
   "source": [
    "plt.plot(random.sample(range(1,11),9), random.sample(range(1,11),9))"
   ]
  },
  {
   "cell_type": "code",
   "execution_count": 33,
   "id": "a5425cfb73bf83c",
   "metadata": {
    "ExecuteTime": {
     "end_time": "2025-05-19T18:12:16.531931Z",
     "start_time": "2025-05-19T18:12:16.526538Z"
    }
   },
   "outputs": [
    {
     "data": {
      "text/plain": [
       "['D:\\\\PythonProject\\\\Modules_Files',\n",
       " 'C:\\\\Program Files\\\\JetBrains\\\\DataSpell 2025.1\\\\plugins\\\\python-ce\\\\helpers\\\\pydev',\n",
       " 'C:\\\\Program Files\\\\JetBrains\\\\DataSpell 2025.1\\\\plugins\\\\python-ce\\\\helpers\\\\jupyter_debug',\n",
       " 'C:\\\\Users\\\\Panda\\\\AppData\\\\Roaming\\\\JetBrains\\\\DataSpell2025.1\\\\projects\\\\workspace\\\\.venv\\\\Scripts\\\\python313.zip',\n",
       " 'C:\\\\Users\\\\Panda\\\\AppData\\\\Local\\\\Programs\\\\Python\\\\Python313\\\\DLLs',\n",
       " 'C:\\\\Users\\\\Panda\\\\AppData\\\\Local\\\\Programs\\\\Python\\\\Python313\\\\Lib',\n",
       " 'C:\\\\Users\\\\Panda\\\\AppData\\\\Local\\\\Programs\\\\Python\\\\Python313',\n",
       " 'C:\\\\Users\\\\Panda\\\\AppData\\\\Roaming\\\\JetBrains\\\\DataSpell2025.1\\\\projects\\\\workspace\\\\.venv',\n",
       " '',\n",
       " 'C:\\\\Users\\\\Panda\\\\AppData\\\\Roaming\\\\JetBrains\\\\DataSpell2025.1\\\\projects\\\\workspace\\\\.venv\\\\Lib\\\\site-packages',\n",
       " 'C:\\\\Users\\\\Panda\\\\AppData\\\\Roaming\\\\JetBrains\\\\DataSpell2025.1\\\\projects\\\\workspace\\\\.venv\\\\Lib\\\\site-packages\\\\win32',\n",
       " 'C:\\\\Users\\\\Panda\\\\AppData\\\\Roaming\\\\JetBrains\\\\DataSpell2025.1\\\\projects\\\\workspace\\\\.venv\\\\Lib\\\\site-packages\\\\win32\\\\lib',\n",
       " 'C:\\\\Users\\\\Panda\\\\AppData\\\\Roaming\\\\JetBrains\\\\DataSpell2025.1\\\\projects\\\\workspace\\\\.venv\\\\Lib\\\\site-packages\\\\Pythonwin',\n",
       " 'C:\\\\Users\\\\Panda\\\\AppData\\\\Roaming\\\\JetBrains\\\\DataSpell2025.1\\\\projects\\\\workspace\\\\.venv\\\\Lib\\\\site-packages\\\\setuptools\\\\_vendor']"
      ]
     },
     "execution_count": 33,
     "metadata": {},
     "output_type": "execute_result"
    }
   ],
   "source": [
    "import sys\n",
    "sys.path"
   ]
  },
  {
   "cell_type": "code",
   "execution_count": 4,
   "id": "28b070c3fd13b391",
   "metadata": {
    "ExecuteTime": {
     "end_time": "2025-05-19T19:06:53.196399Z",
     "start_time": "2025-05-19T19:06:53.152430Z"
    }
   },
   "outputs": [
    {
     "name": "stdout",
     "output_type": "stream",
     "text": [
      "Modul FOO\n"
     ]
    }
   ],
   "source": [
    "from modul import foo\n",
    "foo()"
   ]
  },
  {
   "cell_type": "code",
   "execution_count": 37,
   "id": "bff4ea118ff593bf",
   "metadata": {
    "ExecuteTime": {
     "end_time": "2025-05-19T18:26:19.379061Z",
     "start_time": "2025-05-19T18:26:19.360833Z"
    }
   },
   "outputs": [
    {
     "data": {
      "text/plain": [
       "'D:\\\\PythonProject\\\\Modules_Files'"
      ]
     },
     "execution_count": 37,
     "metadata": {},
     "output_type": "execute_result"
    }
   ],
   "source": [
    "os.getcwd()"
   ]
  },
  {
   "cell_type": "code",
   "execution_count": 8,
   "id": "9db70b9d9e81ec34",
   "metadata": {
    "ExecuteTime": {
     "end_time": "2025-05-19T18:51:30.462299Z",
     "start_time": "2025-05-19T18:51:30.433938Z"
    }
   },
   "outputs": [
    {
     "ename": "ImportError",
     "evalue": "attempted relative import with no known parent package",
     "output_type": "error",
     "traceback": [
      "\u001b[31m---------------------------------------------------------------------------\u001b[39m",
      "\u001b[31mImportError\u001b[39m                               Traceback (most recent call last)",
      "\u001b[36mCell\u001b[39m\u001b[36m \u001b[39m\u001b[32mIn[8]\u001b[39m\u001b[32m, line 1\u001b[39m\n\u001b[32m----> \u001b[39m\u001b[32m1\u001b[39m \u001b[38;5;28;01mfrom\u001b[39;00m\u001b[38;5;250m \u001b[39m\u001b[34;01m.\u001b[39;00m\u001b[34;01m.\u001b[39;00m\u001b[34;01mmod2\u001b[39;00m\u001b[38;5;250m \u001b[39m\u001b[38;5;28;01mimport\u001b[39;00m foo2\n\u001b[32m      2\u001b[39m foo2()\n",
      "\u001b[31mImportError\u001b[39m: attempted relative import with no known parent package"
     ]
    }
   ],
   "source": [
    "from ..mod2 import foo2\n",
    "foo2()"
   ]
  },
  {
   "cell_type": "code",
   "execution_count": 49,
   "id": "cb946e49dc32f7ba",
   "metadata": {
    "ExecuteTime": {
     "end_time": "2025-05-19T19:04:35.220945Z",
     "start_time": "2025-05-19T19:04:35.171766Z"
    }
   },
   "outputs": [
    {
     "ename": "TypeError",
     "evalue": "_path_normpath() missing required argument 'path' (pos 1)",
     "output_type": "error",
     "traceback": [
      "\u001b[31m---------------------------------------------------------------------------\u001b[39m",
      "\u001b[31mTypeError\u001b[39m                                 Traceback (most recent call last)",
      "\u001b[36mCell\u001b[39m\u001b[36m \u001b[39m\u001b[32mIn[49]\u001b[39m\u001b[32m, line 1\u001b[39m\n\u001b[32m----> \u001b[39m\u001b[32m1\u001b[39m \u001b[43mos\u001b[49m\u001b[43m.\u001b[49m\u001b[43mpath\u001b[49m\u001b[43m.\u001b[49m\u001b[43mnormpath\u001b[49m\u001b[43m(\u001b[49m\u001b[43m)\u001b[49m\n",
      "\u001b[31mTypeError\u001b[39m: _path_normpath() missing required argument 'path' (pos 1)"
     ]
    }
   ],
   "source": [
    "os.path.normpath()"
   ]
  },
  {
   "cell_type": "code",
   "execution_count": 11,
   "id": "a858607384ca8dfe",
   "metadata": {
    "ExecuteTime": {
     "end_time": "2025-05-19T19:06:38.642486Z",
     "start_time": "2025-05-19T19:06:38.627880Z"
    }
   },
   "outputs": [
    {
     "data": {
      "text/plain": [
       "['data.txt',\n",
       " 'er.txt',\n",
       " 'Files.ipynb',\n",
       " 'modul.py',\n",
       " 'Modules.ipynb',\n",
       " 'qew.txt',\n",
       " 'Resolve.ipynb',\n",
       " 'te.txt',\n",
       " 'text.txt',\n",
       " 'w.txt',\n",
       " '__init__.py',\n",
       " '__pycache__']"
      ]
     },
     "execution_count": 11,
     "metadata": {},
     "output_type": "execute_result"
    }
   ],
   "source": [
    "os.listdir()"
   ]
  },
  {
   "cell_type": "markdown",
   "id": "430b4b34516305e6",
   "metadata": {},
   "source": [
    "---"
   ]
  },
  {
   "cell_type": "code",
   "execution_count": 52,
   "id": "a8ff85f75767c829",
   "metadata": {
    "ExecuteTime": {
     "end_time": "2025-05-19T19:10:59.830518Z",
     "start_time": "2025-05-19T19:10:59.756105Z"
    }
   },
   "outputs": [],
   "source": [
    "from math import sin, cos, pi, exp, log2, copysign\n",
    "from statistics import mean"
   ]
  },
  {
   "cell_type": "code",
   "execution_count": 13,
   "id": "5753c1fccb3d1b17",
   "metadata": {
    "ExecuteTime": {
     "end_time": "2025-05-19T19:13:32.740141Z",
     "start_time": "2025-05-19T19:13:32.728815Z"
    }
   },
   "outputs": [
    {
     "data": {
      "text/plain": [
       "['data.txt', 'er.txt', 'qew.txt', 'te.txt', 'text.txt', 'w.txt']"
      ]
     },
     "execution_count": 13,
     "metadata": {},
     "output_type": "execute_result"
    }
   ],
   "source": [
    "from glob import glob\n",
    "glob(\"*.txt\")"
   ]
  },
  {
   "cell_type": "code",
   "execution_count": 82,
   "id": "96a5b33a4f158c06",
   "metadata": {
    "ExecuteTime": {
     "end_time": "2025-05-19T19:17:08.355984Z",
     "start_time": "2025-05-19T19:17:08.350049Z"
    }
   },
   "outputs": [
    {
     "data": {
      "text/plain": [
       "1747682228.3520927"
      ]
     },
     "execution_count": 82,
     "metadata": {},
     "output_type": "execute_result"
    }
   ],
   "source": [
    "from time import time, sleep\n",
    "time()\n"
   ]
  },
  {
   "cell_type": "code",
   "execution_count": 84,
   "id": "2f189ff650c162e4",
   "metadata": {
    "ExecuteTime": {
     "end_time": "2025-05-19T19:19:53.551242Z",
     "start_time": "2025-05-19T19:19:51.539663Z"
    }
   },
   "outputs": [
    {
     "name": "stdout",
     "output_type": "stream",
     "text": [
      "2.001201868057251\n"
     ]
    }
   ],
   "source": [
    "def timer():\n",
    "    sleep(2)\n",
    "start = time()\n",
    "timer()\n",
    "print(time()-start)\n"
   ]
  },
  {
   "cell_type": "code",
   "execution_count": 85,
   "id": "574f940d2bdd63e3",
   "metadata": {
    "ExecuteTime": {
     "end_time": "2025-05-19T19:21:04.449924Z",
     "start_time": "2025-05-19T19:21:04.441591Z"
    }
   },
   "outputs": [],
   "source": [
    "from datetime import datetime"
   ]
  },
  {
   "cell_type": "code",
   "execution_count": 87,
   "id": "d181a9d10b3eb086",
   "metadata": {
    "ExecuteTime": {
     "end_time": "2025-05-19T19:21:37.458292Z",
     "start_time": "2025-05-19T19:21:37.448884Z"
    }
   },
   "outputs": [
    {
     "data": {
      "text/plain": [
       "datetime.datetime(2025, 5, 19, 22, 21, 37, 452799)"
      ]
     },
     "execution_count": 87,
     "metadata": {},
     "output_type": "execute_result"
    }
   ],
   "source": [
    "datetime.now()"
   ]
  }
 ],
 "metadata": {
  "kernelspec": {
   "display_name": "Python 3",
   "language": "python",
   "name": "python3"
  },
  "language_info": {
   "codemirror_mode": {
    "name": "ipython",
    "version": 3
   },
   "file_extension": ".py",
   "mimetype": "text/x-python",
   "name": "python",
   "nbconvert_exporter": "python",
   "pygments_lexer": "ipython3",
   "version": "3.13.3"
  }
 },
 "nbformat": 4,
 "nbformat_minor": 5
}

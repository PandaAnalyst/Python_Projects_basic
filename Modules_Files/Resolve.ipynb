{
 "cells": [
  {
   "cell_type": "code",
   "execution_count": 2,
   "id": "62e5139fc4d85918",
   "metadata": {
    "ExecuteTime": {
     "end_time": "2025-05-19T20:25:14.264148Z",
     "start_time": "2025-05-19T20:25:14.258076Z"
    }
   },
   "outputs": [
    {
     "data": {
      "text/plain": [
       "False"
      ]
     },
     "execution_count": 2,
     "metadata": {},
     "output_type": "execute_result"
    }
   ],
   "source": [
    "A=20\n",
    "B=A-15\n",
    "V=A*B-44\n",
    "V==50"
   ]
  },
  {
   "cell_type": "code",
   "execution_count": 3,
   "id": "initial_id",
   "metadata": {
    "ExecuteTime": {
     "end_time": "2025-05-19T20:26:14.805726Z",
     "start_time": "2025-05-19T20:26:14.797855Z"
    },
    "collapsed": true
   },
   "outputs": [
    {
     "data": {
      "text/plain": [
       "1220"
      ]
     },
     "execution_count": 3,
     "metadata": {},
     "output_type": "execute_result"
    }
   ],
   "source": [
    "h = 74*8 - 34\n",
    "j = 52*2\n",
    "k = 2*h + j\n",
    "k"
   ]
  },
  {
   "cell_type": "markdown",
   "id": "871cf4cf89dcb2c7",
   "metadata": {},
   "source": [
    "Модуль time в Python позволяет работать со временем.\n",
    "Вам потребуется функция asctime. Она считывает\n",
    "текущее время компьютера и возвращает его в удобном\n",
    "виде. Напишите программу: используйте эту функцию  \n",
    "для отображения на экране текущей даты и времени."
   ]
  },
  {
   "cell_type": "code",
   "execution_count": 5,
   "id": "6bd89c313ae2f665",
   "metadata": {
    "ExecuteTime": {
     "end_time": "2025-05-19T20:41:59.534823Z",
     "start_time": "2025-05-19T20:41:59.527879Z"
    }
   },
   "outputs": [
    {
     "name": "stdout",
     "output_type": "stream",
     "text": [
      "Current time: Mon May 19 23:41:59 2025\n"
     ]
    }
   ],
   "source": [
    "import time\n",
    "print(F\"Current date and time: {time.asctime()}\")"
   ]
  },
  {
   "cell_type": "markdown",
   "id": "9827d73cd11a3b5",
   "metadata": {},
   "source": [
    "Напишите программу, которая будет находить самое\n",
    "длинное слово в файле.\n",
    "\n",
    "В качестве результата программа должна выводить  \n",
    "на экран длину самого длинного слова и все слова\n",
    "такой длины.\n",
    "\n",
    "Важно: принимайте за значимые буквы любые символы,\n",
    "включая цифры и знаки препинания, но не пробелы."
   ]
  },
  {
   "cell_type": "code",
   "execution_count": 24,
   "id": "3cf45826f20c8d59",
   "metadata": {
    "ExecuteTime": {
     "end_time": "2025-05-19T21:06:17.548372Z",
     "start_time": "2025-05-19T21:06:17.539801Z"
    }
   },
   "outputs": [
    {
     "name": "stdout",
     "output_type": "stream",
     "text": [
      "['qwe', 'qwe', 'asd', 's', 're', 'wqe', 'asdassad', 'ssdadsadsadsads']\n",
      "['ssdadsadsadsads']\n"
     ]
    }
   ],
   "source": [
    "with open(\"text.txt\",\"r\") as f:\n",
    "    words = f.read().split(\" \")\n",
    "    word_max = max(words, key=len)\n",
    "    print(words)\n",
    "    max_len = len(word_max)\n",
    "    max_words = []\n",
    "    for  word in words:\n",
    "        if len(word) == max_len:\n",
    "            max_words.append(word)\n",
    "    print(max_words)"
   ]
  },
  {
   "cell_type": "code",
   "execution_count": 20,
   "id": "21927e10e2f290ea",
   "metadata": {
    "ExecuteTime": {
     "end_time": "2025-05-19T21:04:43.818432Z",
     "start_time": "2025-05-19T21:04:43.812935Z"
    }
   },
   "outputs": [],
   "source": [
    "f.close()"
   ]
  },
  {
   "cell_type": "markdown",
   "id": "85a557e5dfa17ecb",
   "metadata": {},
   "source": [
    "Напишите программу, которая будет считывать содер-\n",
    "жимое файла, добавлять к считанным строкам поряд-\n",
    "ковый номер и сохранять их в таком виде в новом файле.\n",
    "\n",
    "Имя исходного файла и имя целевого файла необходимо\n",
    "запросить у пользователя.\n",
    "\n",
    "Каждая строка в созданном файле должна начинаться  \n",
    "с ее номера, двоеточия и пробела, после чего должен\n",
    "идти текст строки из исходного файла.\n",
    "\n",
    "Важно: чтобы разбить содержимое файла на строки,\n",
    "используйте функцию readlines()."
   ]
  },
  {
   "cell_type": "code",
   "execution_count": 9,
   "id": "3e99455c3c77e8a5",
   "metadata": {
    "ExecuteTime": {
     "end_time": "2025-05-20T13:35:56.422958Z",
     "start_time": "2025-05-20T13:35:49.722372Z"
    }
   },
   "outputs": [
    {
     "name": "stdout",
     "output_type": "stream",
     "text": [
      "['qwe\\n', 'asd\\n', 'zxc\\n', 'asd\\n', 'qweqweqw q qwe\\n', 'ewqwqe']\n"
     ]
    }
   ],
   "source": [
    "read_file_name = input(\"Enter file name\")\n",
    "rows = []\n",
    "with open(f\"{read_file_name}.txt\", 'r') as f:\n",
    "    rows = f.readlines()\n",
    "print(rows)\n",
    "\n",
    "new_file_name = input(\"Enter new file name\")\n",
    "with open(f\"{new_file_name}.txt\", 'w') as nf:\n",
    "    for i, row in enumerate(rows):\n",
    "        nf.write(f\"{i+1}: {row}\")"
   ]
  },
  {
   "cell_type": "markdown",
   "id": "b495e4dd3a1415f1",
   "metadata": {},
   "source": [
    "Напишите программу: выведите на экран объединенное\n",
    "содержимое нескольких файлов, имена которых\n",
    "передаются ей в качестве аргументов. При этом файлы\n",
    "должны объединяться в том порядке, в котором указаны\n",
    "в аргументах.\n",
    "В процессе работы программа должна выдавать сообщения о том, какие файлы открыть не удается, и переходить к следующим файлам.\n",
    "Если программа была запущена без аргументов, на экран должно быть выведено сообщение об ошибке.\n",
    "Важно: для того, чтобы код корректно обрабатывал ошибку, используйте конструкцию try-except"
   ]
  },
  {
   "cell_type": "code",
   "execution_count": 39,
   "id": "d1e708d52a5659d8",
   "metadata": {
    "ExecuteTime": {
     "end_time": "2025-05-20T14:58:21.355383Z",
     "start_time": "2025-05-20T14:58:21.344338Z"
    }
   },
   "outputs": [],
   "source": [
    "def take_count_file():\n",
    "    input_count = input(\"Enter count files:\")\n",
    "    if input_count.isnumeric():\n",
    "        return int(input_count)\n",
    "    else:\n",
    "        raise Exception(\"Не возможно считать количество файлов\")\n",
    "\n",
    "def print_content(list_names: []):\n",
    "    rows = ''\n",
    "    for file_name in list_names:\n",
    "        try:\n",
    "            with open(f\"{file_name}.txt\", 'r') as f:\n",
    "                rows+= f\"\\n----------------{file_name}.txt----------------\\n\"\n",
    "                rows += f.read()\n",
    "        except FileNotFoundError:\n",
    "            print(f\"Невозможно считать файл {file_name}.txt!\")\n",
    "\n",
    "    print(rows)\n",
    "\n",
    "def take_name_files(n:int):\n",
    "    if n<1:\n",
    "        raise Exception('Указано 0 файлов!')\n",
    "    i = 1\n",
    "    list_names =[]\n",
    "    while i<=n:\n",
    "        list_names.append(input(\"Enter names files:\"))\n",
    "        i+=1\n",
    "    return list_names\n"
   ]
  },
  {
   "cell_type": "code",
   "execution_count": 38,
   "id": "2b047096b493400c",
   "metadata": {
    "ExecuteTime": {
     "end_time": "2025-05-20T14:52:59.775504Z",
     "start_time": "2025-05-20T14:52:45.205164Z"
    }
   },
   "outputs": [
    {
     "name": "stdout",
     "output_type": "stream",
     "text": [
      "Невозможно считать файл!\n",
      "\n",
      "----------------te.txt----------------\n",
      "qwe\n",
      "asd\n",
      "zxc\n",
      "asd\n",
      "qweqweqw q qwe\n",
      "ewqwqe\n",
      "----------------w.txt----------------\n",
      "1: qwe\n",
      "2: asd\n",
      "3: zxc\n",
      "4: asd\n",
      "5: qweqweqw q qwe\n",
      "6: ewqwqe\n"
     ]
    }
   ],
   "source": [
    "print_content(take_name_files(take_count_file()))"
   ]
  },
  {
   "cell_type": "markdown",
   "id": "eec61c6ec3d37251",
   "metadata": {},
   "source": [
    "В языке Python для создания комментариев в коде используется символ #. Комментарий начинается с этого символа и продолжается до конца строки. Напишите программу, которая будет удалять все комментарии из исходного файла с кодом на языке Python. Важно: пусть программа просматривает каждую строку с помощью функции readlines(). Программа должна удалить все содержимое, после символа # и до конца строки с помощью функции split(). Для того, чтобы код корректно обрабатывал ошибку, используйте конструкцию try-except. Сохраните новое содержимое в созданном файле. Имена файла источника и файла назначения должны быть запрошены у пользователя. Удостоверьтесь, что программа корректно обрабатывает ошибки при работе с обоими файлами."
   ]
  },
  {
   "cell_type": "code",
   "execution_count": 44,
   "id": "ba32d91a5259340c",
   "metadata": {
    "ExecuteTime": {
     "end_time": "2025-05-20T17:54:06.323748Z",
     "start_time": "2025-05-20T17:54:06.314267Z"
    }
   },
   "outputs": [],
   "source": [
    "def remove_comments():\n",
    "    read_file_name = input(\"Enter file name\")\n",
    "    rows =[]\n",
    "    try:\n",
    "        with open(f'{read_file_name}.txt', 'r') as f:\n",
    "            rows = f.readlines()\n",
    "    except FileNotFoundError:\n",
    "        print(f\"File {read_file_name} Not Found\")\n",
    "\n",
    "    read_new_file_name = input(\"Enter new file name\")\n",
    "    with open(f\"{read_new_file_name}.txt\", 'w+') as wf:\n",
    "        try:\n",
    "            for row in rows:\n",
    "                wf.write(f\"{row.split(\"#\",1)[0]}\")\n",
    "        except error:\n",
    "            print(\"Something error\")\n",
    "\n",
    "    print(rows)"
   ]
  },
  {
   "cell_type": "code",
   "execution_count": 45,
   "id": "fdd8f8a39e8ab8f3",
   "metadata": {
    "ExecuteTime": {
     "end_time": "2025-05-20T17:54:19.280774Z",
     "start_time": "2025-05-20T17:54:09.196786Z"
    }
   },
   "outputs": [
    {
     "name": "stdout",
     "output_type": "stream",
     "text": [
      "['1: qwe\\n', '2: asd\\n', '3: zxc #nfsgldfngjdnfgldfngjskdf\\n', '4: asd\\n', '5: qweqweqw q qwe\\n', '6: ewqwqe#nsdfhnbsdflgdhf']\n"
     ]
    }
   ],
   "source": [
    "remove_comments()"
   ]
  }
 ],
 "metadata": {
  "kernelspec": {
   "display_name": "Python 3",
   "language": "python",
   "name": "python3"
  },
  "language_info": {
   "codemirror_mode": {
    "name": "ipython",
    "version": 3
   },
   "file_extension": ".py",
   "mimetype": "text/x-python",
   "name": "python",
   "nbconvert_exporter": "python",
   "pygments_lexer": "ipython3",
   "version": "3.13.3"
  }
 },
 "nbformat": 4,
 "nbformat_minor": 5
}

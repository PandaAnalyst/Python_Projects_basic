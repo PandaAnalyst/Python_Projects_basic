{
 "cells": [
  {
   "metadata": {
    "ExecuteTime": {
     "end_time": "2025-05-19T19:36:05.127040Z",
     "start_time": "2025-05-19T19:36:05.114025Z"
    }
   },
   "cell_type": "code",
   "source": [
    "f=open(\"data.txt\", \"+r\")\n",
    "f"
   ],
   "id": "5cf561d5bb21f2eb",
   "outputs": [
    {
     "data": {
      "text/plain": [
       "<_io.TextIOWrapper name='data.txt' mode='+r' encoding='cp1251'>"
      ]
     },
     "execution_count": 19,
     "metadata": {},
     "output_type": "execute_result"
    }
   ],
   "execution_count": 19
  },
  {
   "cell_type": "code",
   "id": "initial_id",
   "metadata": {
    "collapsed": true,
    "ExecuteTime": {
     "end_time": "2025-05-19T19:36:07.032886Z",
     "start_time": "2025-05-19T19:36:07.025830Z"
    }
   },
   "source": [
    "s = f.read()\n",
    "s"
   ],
   "outputs": [],
   "execution_count": 20
  },
  {
   "metadata": {
    "ExecuteTime": {
     "end_time": "2025-05-19T19:44:29.357578Z",
     "start_time": "2025-05-19T19:44:29.348005Z"
    }
   },
   "cell_type": "code",
   "source": [
    "f=open(\"data.txt\", \"+r\", encoding=\"utf-8\")\n",
    "s = f.read()\n",
    "s"
   ],
   "id": "f3782177d7d8e626",
   "outputs": [
    {
     "data": {
      "text/plain": [
       "'Adding Text1Adding Text1Adding Text2Adding Text2'"
      ]
     },
     "execution_count": 34,
     "metadata": {},
     "output_type": "execute_result"
    }
   ],
   "execution_count": 34
  },
  {
   "metadata": {
    "ExecuteTime": {
     "end_time": "2025-05-19T19:36:49.353607Z",
     "start_time": "2025-05-19T19:36:49.345104Z"
    }
   },
   "cell_type": "code",
   "source": [
    "f=open(\"data.txt\", \"w\")\n",
    "f.write(\"Adding Text\")\n",
    "f.close()\n"
   ],
   "id": "f0f21dbcd9f6c9a6",
   "outputs": [],
   "execution_count": 22
  },
  {
   "metadata": {
    "ExecuteTime": {
     "end_time": "2025-05-19T19:43:50.117224Z",
     "start_time": "2025-05-19T19:43:50.106519Z"
    }
   },
   "cell_type": "code",
   "source": [
    "f=open(\"data.txt\", \"a\")\n",
    "f.write(\"Adding Text2\")\n",
    "f.close()\n"
   ],
   "id": "65168ea30bc4bcda",
   "outputs": [],
   "execution_count": 30
  },
  {
   "metadata": {
    "ExecuteTime": {
     "end_time": "2025-05-19T19:49:55.309434Z",
     "start_time": "2025-05-19T19:49:55.297363Z"
    }
   },
   "cell_type": "code",
   "source": [
    "with (open(\"data.txt\", \"+r\", encoding=\"cp1251\")) as f:\n",
    "    s = f.read()\n",
    "s"
   ],
   "id": "45656933e2a02e7b",
   "outputs": [
    {
     "data": {
      "text/plain": [
       "'Adding Text1Adding Text1Adding Text2Adding Text2'"
      ]
     },
     "execution_count": 39,
     "metadata": {},
     "output_type": "execute_result"
    }
   ],
   "execution_count": 39
  },
  {
   "metadata": {},
   "cell_type": "code",
   "outputs": [],
   "execution_count": null,
   "source": "",
   "id": "62d58edbe8052759"
  }
 ],
 "metadata": {
  "kernelspec": {
   "display_name": "Python 3",
   "language": "python",
   "name": "python3"
  },
  "language_info": {
   "codemirror_mode": {
    "name": "ipython",
    "version": 2
   },
   "file_extension": ".py",
   "mimetype": "text/x-python",
   "name": "python",
   "nbconvert_exporter": "python",
   "pygments_lexer": "ipython2",
   "version": "2.7.6"
  }
 },
 "nbformat": 4,
 "nbformat_minor": 5
}

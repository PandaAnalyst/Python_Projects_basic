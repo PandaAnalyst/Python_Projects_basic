{
 "cells": [
  {
   "cell_type": "code",
   "execution_count": null,
   "id": "initial_id",
   "metadata": {
    "collapsed": true
   },
   "outputs": [],
   "source": [
    "from unittest.mock import PropertyMock\n",
    "\n",
    "if {condition0}:\n",
    "    pass"
   ]
  },
  {
   "cell_type": "code",
   "execution_count": 2,
   "id": "a2a38323adf4c40f",
   "metadata": {
    "ExecuteTime": {
     "end_time": "2025-05-17T08:59:34.230423Z",
     "start_time": "2025-05-17T08:59:34.225030Z"
    }
   },
   "outputs": [
    {
     "name": "stdout",
     "output_type": "stream",
     "text": [
      "Переменная а равняется 10\n"
     ]
    }
   ],
   "source": [
    "a = 10\n",
    "if a > 5:\n",
    "    print(F\"Переменная а равняется {a}\")\n",
    "if a > 15 :\n",
    "    print(F\"Сюда не зайдёт\")"
   ]
  },
  {
   "cell_type": "code",
   "execution_count": 4,
   "id": "22cc1d7230e67717",
   "metadata": {
    "ExecuteTime": {
     "end_time": "2025-05-17T09:02:17.252053Z",
     "start_time": "2025-05-17T09:02:17.245149Z"
    }
   },
   "outputs": [
    {
     "name": "stdout",
     "output_type": "stream",
     "text": [
      "Не большое число\n"
     ]
    }
   ],
   "source": [
    "a = 4\n",
    "if a > 5:\n",
    "    print(\"Большое число\")\n",
    "else:\n",
    "    print(\"Не большое число\")"
   ]
  },
  {
   "cell_type": "code",
   "execution_count": 10,
   "id": "98b3e18c838bf90b",
   "metadata": {
    "ExecuteTime": {
     "end_time": "2025-05-17T09:31:18.905662Z",
     "start_time": "2025-05-17T09:31:18.900070Z"
    }
   },
   "outputs": [
    {
     "name": "stdout",
     "output_type": "stream",
     "text": [
      "Huge number\n"
     ]
    }
   ],
   "source": [
    "a = 22\n",
    "if a < 5:\n",
    "    print(\"Small number\")\n",
    "elif a < 10:\n",
    "    print(\"Medium number\")\n",
    "elif a < 20:\n",
    "    print('Big number')\n",
    "else:\n",
    "    print(\"Huge number\")"
   ]
  },
  {
   "cell_type": "code",
   "execution_count": null,
   "id": "927a86a8e28826bc",
   "metadata": {
    "ExecuteTime": {
     "end_time": "2025-05-17T09:43:25.350490Z",
     "start_time": "2025-05-17T09:43:25.340316Z"
    }
   },
   "outputs": [],
   "source": [
    "def number_estimate(a):\n",
    "    if a < 5:\n",
    "        return('small number')\n",
    "    elif a < 10:\n",
    "        return('medium number')\n",
    "    elif a < 20:\n",
    "        return(\"big number\")\n",
    "    else:\n",
    "        return(\"Huge number\")"
   ]
  },
  {
   "cell_type": "code",
   "execution_count": 12,
   "id": "f113e56520f1ca35",
   "metadata": {
    "ExecuteTime": {
     "end_time": "2025-05-17T09:44:16.303682Z",
     "start_time": "2025-05-17T09:44:16.296590Z"
    }
   },
   "outputs": [
    {
     "name": "stdout",
     "output_type": "stream",
     "text": [
      "small number\n",
      "medium number\n",
      "big number\n",
      "Huge number\n"
     ]
    }
   ],
   "source": [
    "number_estimate(4)\n",
    "number_estimate(5)\n",
    "number_estimate(12)\n",
    "number_estimate(21)"
   ]
  },
  {
   "cell_type": "code",
   "execution_count": 14,
   "id": "caa80d8d021783ff",
   "metadata": {
    "ExecuteTime": {
     "end_time": "2025-05-17T10:25:31.647176Z",
     "start_time": "2025-05-17T10:25:31.636872Z"
    }
   },
   "outputs": [
    {
     "name": "stdout",
     "output_type": "stream",
     "text": [
      "all right\n"
     ]
    }
   ],
   "source": [
    "a = 10\n",
    "b = 9\n",
    "c = 50\n",
    "if a > 11 and b > 10 or c > 23:\n",
    "    print (\"all right\")\n",
    "else:\n",
    "    print(\"Bad\")"
   ]
  },
  {
   "cell_type": "code",
   "execution_count": 11,
   "id": "a09ac343",
   "metadata": {},
   "outputs": [
    {
     "data": {
      "text/plain": [
       "False"
      ]
     },
     "execution_count": 11,
     "metadata": {},
     "output_type": "execute_result"
    }
   ],
   "source": [
    "True and False"
   ]
  },
  {
   "cell_type": "code",
   "execution_count": null,
   "id": "7cbde7cfdea0a409",
   "metadata": {
    "ExecuteTime": {
     "end_time": "2025-05-17T10:31:14.543141Z",
     "start_time": "2025-05-17T10:31:14.528320Z"
    }
   },
   "outputs": [
    {
     "name": "stdout",
     "output_type": "stream",
     "text": [
      "all right\n"
     ]
    }
   ],
   "source": [
    "a = 3\n",
    "b = 1 # 1.5\n",
    "c = 100\n",
    "if a > 9 or b > (10 and c > 23):\n",
    "    print (\"all right\")\n",
    "else:\n",
    "    print(\"Bad\")"
   ]
  },
  {
   "cell_type": "code",
   "execution_count": 32,
   "id": "ca6e82bc5c28e58e",
   "metadata": {
    "ExecuteTime": {
     "end_time": "2025-05-17T10:33:03.264728Z",
     "start_time": "2025-05-17T10:33:03.252691Z"
    }
   },
   "outputs": [
    {
     "name": "stdout",
     "output_type": "stream",
     "text": [
      "Bad\n"
     ]
    }
   ],
   "source": [
    "b = 0.5\n",
    "c = 24\n",
    "if  b > ( c > 23):\n",
    "    print (\"all right\")\n",
    "else:\n",
    "    print(\"Bad\")"
   ]
  },
  {
   "cell_type": "code",
   "execution_count": 40,
   "id": "84ccb42247bb6884",
   "metadata": {
    "ExecuteTime": {
     "end_time": "2025-05-17T10:42:23.126778Z",
     "start_time": "2025-05-17T10:42:23.119628Z"
    }
   },
   "outputs": [
    {
     "name": "stdout",
     "output_type": "stream",
     "text": [
      "all right\n"
     ]
    }
   ],
   "source": [
    "a = 3\n",
    "b = 100\n",
    "c = 1\n",
    "d = 10\n",
    "if (a > 9 or b > 10 and c > 23) or d > 1:\n",
    "    print (\"all right\")\n",
    "else:\n",
    "    print(\"Bad\")"
   ]
  },
  {
   "cell_type": "markdown",
   "id": "a0b0124c333d3565",
   "metadata": {},
   "source": [
    "### Тернарный оператор"
   ]
  },
  {
   "cell_type": "code",
   "execution_count": 41,
   "id": "b34b5a33b8eda8e1",
   "metadata": {
    "ExecuteTime": {
     "end_time": "2025-05-17T10:45:15.521989Z",
     "start_time": "2025-05-17T10:45:15.512217Z"
    }
   },
   "outputs": [],
   "source": [
    "def pow (a, n):\n",
    "    return a**n if n else a"
   ]
  },
  {
   "cell_type": "code",
   "execution_count": 48,
   "id": "63c818facf009ffc",
   "metadata": {
    "ExecuteTime": {
     "end_time": "2025-05-17T10:56:15.529929Z",
     "start_time": "2025-05-17T10:56:15.521882Z"
    }
   },
   "outputs": [
    {
     "data": {
      "text/plain": [
       "3"
      ]
     },
     "execution_count": 48,
     "metadata": {},
     "output_type": "execute_result"
    }
   ],
   "source": [
    "pow(3,None)"
   ]
  },
  {
   "cell_type": "code",
   "execution_count": null,
   "id": "64cdb150c5c775b7",
   "metadata": {
    "ExecuteTime": {
     "end_time": "2025-05-17T10:56:07.737936Z",
     "start_time": "2025-05-17T10:56:07.732898Z"
    }
   },
   "outputs": [],
   "source": [
    "def pow(a, n):\n",
    "    if n:# cast to bool\n",
    "        return a**n\n",
    "    else:\n",
    "        return a"
   ]
  },
  {
   "cell_type": "code",
   "execution_count": 51,
   "id": "6a8a354f4e713d3a",
   "metadata": {
    "ExecuteTime": {
     "end_time": "2025-05-17T10:57:21.056343Z",
     "start_time": "2025-05-17T10:57:21.044759Z"
    }
   },
   "outputs": [
    {
     "data": {
      "text/plain": [
       "False"
      ]
     },
     "execution_count": 51,
     "metadata": {},
     "output_type": "execute_result"
    }
   ],
   "source": [
    "a = None\n",
    "bool(a)"
   ]
  },
  {
   "cell_type": "code",
   "execution_count": 106,
   "id": "1547ef9f45f8c6c5",
   "metadata": {
    "ExecuteTime": {
     "end_time": "2025-05-17T13:22:18.899763Z",
     "start_time": "2025-05-17T13:22:18.891336Z"
    }
   },
   "outputs": [
    {
     "data": {
      "text/plain": [
       "False"
      ]
     },
     "execution_count": 106,
     "metadata": {},
     "output_type": "execute_result"
    }
   ],
   "source": [
    "bool(0)"
   ]
  },
  {
   "cell_type": "code",
   "execution_count": 49,
   "id": "7c6e9b797df8d043",
   "metadata": {
    "ExecuteTime": {
     "end_time": "2025-05-17T10:56:36.312807Z",
     "start_time": "2025-05-17T10:56:36.305566Z"
    }
   },
   "outputs": [
    {
     "data": {
      "text/plain": [
       "True"
      ]
     },
     "execution_count": 49,
     "metadata": {},
     "output_type": "execute_result"
    }
   ],
   "source": [
    "bool(\"abc\")"
   ]
  },
  {
   "cell_type": "code",
   "execution_count": 54,
   "id": "23458a4c57a4652a",
   "metadata": {
    "ExecuteTime": {
     "end_time": "2025-05-17T10:59:26.038335Z",
     "start_time": "2025-05-17T10:59:26.028853Z"
    }
   },
   "outputs": [
    {
     "name": "stdout",
     "output_type": "stream",
     "text": [
      "Not empty\n"
     ]
    }
   ],
   "source": [
    "s = \"abc\"\n",
    "if s:\n",
    "    print(\"Not empty\")"
   ]
  },
  {
   "cell_type": "code",
   "execution_count": 56,
   "id": "36d97b0941c608e1",
   "metadata": {
    "ExecuteTime": {
     "end_time": "2025-05-17T11:00:05.890714Z",
     "start_time": "2025-05-17T11:00:05.882123Z"
    }
   },
   "outputs": [
    {
     "name": "stdout",
     "output_type": "stream",
     "text": [
      "Empty\n"
     ]
    }
   ],
   "source": [
    "s2 = ''\n",
    "if not s2:\n",
    "    print(\"Empty\")"
   ]
  },
  {
   "cell_type": "code",
   "execution_count": 67,
   "id": "b65caea9891bbfaa",
   "metadata": {
    "ExecuteTime": {
     "end_time": "2025-05-17T11:07:36.945041Z",
     "start_time": "2025-05-17T11:07:36.936563Z"
    }
   },
   "outputs": [],
   "source": [
    "def pow2(a, n):\n",
    "    is_null = False\n",
    "    if n == 0 or n is None:\n",
    "       is_null = True\n",
    "    if is_null:\n",
    "        return a\n",
    "    else:\n",
    "        return a**n"
   ]
  },
  {
   "cell_type": "code",
   "execution_count": 68,
   "id": "4647cf2239989798",
   "metadata": {
    "ExecuteTime": {
     "end_time": "2025-05-17T11:07:39.419793Z",
     "start_time": "2025-05-17T11:07:39.413715Z"
    }
   },
   "outputs": [
    {
     "data": {
      "text/plain": [
       "9"
      ]
     },
     "execution_count": 68,
     "metadata": {},
     "output_type": "execute_result"
    }
   ],
   "source": [
    "pow2(3,2)"
   ]
  },
  {
   "cell_type": "code",
   "execution_count": 70,
   "id": "c9c9b0d3f23c0b6a",
   "metadata": {
    "ExecuteTime": {
     "end_time": "2025-05-17T11:08:17.386166Z",
     "start_time": "2025-05-17T11:08:17.381004Z"
    }
   },
   "outputs": [
    {
     "data": {
      "text/plain": [
       "2"
      ]
     },
     "execution_count": 70,
     "metadata": {},
     "output_type": "execute_result"
    }
   ],
   "source": [
    "pow2(3, None)\n",
    "pow2(2, 0)"
   ]
  },
  {
   "cell_type": "markdown",
   "id": "66ebc6a10c4c972c",
   "metadata": {},
   "source": [
    "---"
   ]
  },
  {
   "cell_type": "code",
   "execution_count": 71,
   "id": "c1e57cf28932a662",
   "metadata": {
    "ExecuteTime": {
     "end_time": "2025-05-17T11:15:17.850011Z",
     "start_time": "2025-05-17T11:15:17.841687Z"
    }
   },
   "outputs": [],
   "source": [
    "def check_shop_is_opened(shop):\n",
    "    if shop:\n",
    "        return True\n",
    "\n",
    "def check_is_unit_in_shop(unit, shop):\n",
    "    if shop and unit:\n",
    "        return True\n",
    "\n",
    "def check_customer_can_afford_unit(unit, customer):\n",
    "    if unit and customer:\n",
    "        return True"
   ]
  },
  {
   "cell_type": "code",
   "execution_count": 80,
   "id": "72413f635f2f34d3",
   "metadata": {
    "ExecuteTime": {
     "end_time": "2025-05-17T11:27:51.126072Z",
     "start_time": "2025-05-17T11:27:51.083067Z"
    }
   },
   "outputs": [
    {
     "ename": "Exception",
     "evalue": "No goods",
     "output_type": "error",
     "traceback": [
      "\u001b[31m---------------------------------------------------------------------------\u001b[39m",
      "\u001b[31mException\u001b[39m                                 Traceback (most recent call last)",
      "\u001b[36mCell\u001b[39m\u001b[36m \u001b[39m\u001b[32mIn[80]\u001b[39m\u001b[32m, line 17\u001b[39m\n\u001b[32m     14\u001b[39m     \u001b[38;5;28;01melse\u001b[39;00m:\n\u001b[32m     15\u001b[39m         \u001b[38;5;28;01mraise\u001b[39;00m \u001b[38;5;167;01mException\u001b[39;00m(\u001b[33m\"\u001b[39m\u001b[33mShop closed\u001b[39m\u001b[33m\"\u001b[39m)\n\u001b[32m---> \u001b[39m\u001b[32m17\u001b[39m \u001b[43mmake_purchase\u001b[49m\u001b[43m(\u001b[49m\u001b[43m)\u001b[49m\n",
      "\u001b[36mCell\u001b[39m\u001b[36m \u001b[39m\u001b[32mIn[80]\u001b[39m\u001b[32m, line 13\u001b[39m, in \u001b[36mmake_purchase\u001b[39m\u001b[34m()\u001b[39m\n\u001b[32m     11\u001b[39m             \u001b[38;5;28;01mraise\u001b[39;00m \u001b[38;5;167;01mException\u001b[39;00m(\u001b[33m\"\u001b[39m\u001b[33mNo money\u001b[39m\u001b[33m\"\u001b[39m)\n\u001b[32m     12\u001b[39m     \u001b[38;5;28;01melse\u001b[39;00m:\n\u001b[32m---> \u001b[39m\u001b[32m13\u001b[39m         \u001b[38;5;28;01mraise\u001b[39;00m \u001b[38;5;167;01mException\u001b[39;00m(\u001b[33m\"\u001b[39m\u001b[33mNo goods\u001b[39m\u001b[33m\"\u001b[39m)\n\u001b[32m     14\u001b[39m \u001b[38;5;28;01melse\u001b[39;00m:\n\u001b[32m     15\u001b[39m     \u001b[38;5;28;01mraise\u001b[39;00m \u001b[38;5;167;01mException\u001b[39;00m(\u001b[33m\"\u001b[39m\u001b[33mShop closed\u001b[39m\u001b[33m\"\u001b[39m)\n",
      "\u001b[31mException\u001b[39m: No goods"
     ]
    }
   ],
   "source": [
    "shop = 'Shop'\n",
    "unit =  \"\"\n",
    "customer = \"Customer1\"\n",
    "\n",
    "def make_purchase():\n",
    "    if check_shop_is_opened(shop):\n",
    "        if check_is_unit_in_shop(unit, shop):\n",
    "            if check_customer_can_afford_unit(unit, customer):\n",
    "                return \"Thanks for purchase!\"\n",
    "            else:\n",
    "                raise Exception(\"No money\")\n",
    "        else:\n",
    "            raise Exception(\"No goods\")\n",
    "    else:\n",
    "        raise Exception(\"Shop closed\")\n",
    "\n",
    "make_purchase()"
   ]
  },
  {
   "cell_type": "code",
   "execution_count": 82,
   "id": "21e98605386d75d2",
   "metadata": {
    "ExecuteTime": {
     "end_time": "2025-05-17T11:29:07.297855Z",
     "start_time": "2025-05-17T11:29:07.277375Z"
    }
   },
   "outputs": [
    {
     "data": {
      "text/plain": [
       "'Thanks for purchase!'"
      ]
     },
     "execution_count": 82,
     "metadata": {},
     "output_type": "execute_result"
    }
   ],
   "source": [
    "shop = 'Shop'\n",
    "unit =  \"21\"\n",
    "customer = \"Customer1\"\n",
    "\n",
    "def make_purchase2():\n",
    "    if not check_shop_is_opened(shop):\n",
    "        raise Exception(\"Shop closed\")\n",
    "    if not check_is_unit_in_shop(unit, shop):\n",
    "        raise Exception(\"No goods\")\n",
    "    if not check_customer_can_afford_unit(unit, customer):\n",
    "        raise Exception(\"No money\")\n",
    "    return \"Thanks for purchase!\"\n",
    "\n",
    "make_purchase2()"
   ]
  },
  {
   "cell_type": "code",
   "execution_count": null,
   "id": "927fce9f5a98d0f3",
   "metadata": {},
   "outputs": [],
   "source": [
    "def pow3(a, n):\n",
    "    if n:\n",
    "        return a**n\n",
    "    else:\n",
    "        return a"
   ]
  },
  {
   "cell_type": "code",
   "execution_count": 84,
   "id": "bb968a070a556306",
   "metadata": {
    "ExecuteTime": {
     "end_time": "2025-05-17T11:32:44.125328Z",
     "start_time": "2025-05-17T11:32:44.115656Z"
    }
   },
   "outputs": [],
   "source": [
    "def pow4(a, n):\n",
    "    if n:\n",
    "        return a**n\n",
    "    return a"
   ]
  },
  {
   "cell_type": "code",
   "execution_count": 86,
   "id": "d69a86ac49c9f04",
   "metadata": {
    "ExecuteTime": {
     "end_time": "2025-05-17T11:32:58.932201Z",
     "start_time": "2025-05-17T11:32:58.923069Z"
    }
   },
   "outputs": [
    {
     "data": {
      "text/plain": [
       "2"
      ]
     },
     "execution_count": 86,
     "metadata": {},
     "output_type": "execute_result"
    }
   ],
   "source": [
    "pow4(2, 0)"
   ]
  },
  {
   "cell_type": "code",
   "execution_count": 91,
   "id": "76fef598e2710940",
   "metadata": {
    "ExecuteTime": {
     "end_time": "2025-05-17T12:32:15.214502Z",
     "start_time": "2025-05-17T12:32:15.204140Z"
    }
   },
   "outputs": [
    {
     "name": "stdout",
     "output_type": "stream",
     "text": [
      "Error\n"
     ]
    }
   ],
   "source": [
    "class Competition:\n",
    "    is_active = True\n",
    "    remining = 10\n",
    "\n",
    "    @property\n",
    "    def is_actual(self):\n",
    "        if self.is_active and self.remining > 0:\n",
    "            return True\n",
    "        return False\n",
    "\n",
    "class Person:\n",
    "    age= 15\n",
    "    level =5\n",
    "\n",
    "    @property\n",
    "    def mathes_conditions(self):\n",
    "        if self.age > 15 and self.level > 3:\n",
    "            return True\n",
    "        return False\n",
    "\n",
    "comp = Competition()\n",
    "per = Person()\n",
    "\n",
    "if comp.is_actual and per.mathes_conditions:\n",
    "    ...\n",
    "else:\n",
    "    print(\"Error\")\n"
   ]
  },
  {
   "cell_type": "markdown",
   "id": "87c7385359e3bb97",
   "metadata": {},
   "source": [
    "---"
   ]
  },
  {
   "cell_type": "code",
   "execution_count": null,
   "id": "ef75218896c3ca85",
   "metadata": {
    "ExecuteTime": {
     "end_time": "2025-05-17T13:13:40.713033Z",
     "start_time": "2025-05-17T13:13:40.704251Z"
    }
   },
   "outputs": [
    {
     "name": "stdout",
     "output_type": "stream",
     "text": [
      "Create user\n"
     ]
    }
   ],
   "source": [
    "def login(username, email, password):\n",
    "    print(\"Login\")\n",
    "def create_user(username, email, password, company_id):\n",
    "    print(\"Create user\")\n",
    "user = 0\n",
    "\n",
    "username = 'qwe'\n",
    "email = 'pm@r.we'\n",
    "password = \"*******\"\n",
    "company_id = 2\n",
    "\n",
    "if not user:\n",
    "    create_user(\n",
    "        username=username,\n",
    "        email=email,\n",
    "        password=password,\n",
    "        company_id=company_id\n",
    "    )\n",
    "else:\n",
    "    login(\n",
    "        username,\n",
    "        email,\n",
    "        password,\n",
    "    )"
   ]
  },
  {
   "cell_type": "code",
   "execution_count": 101,
   "id": "6fd8b71e05142a81",
   "metadata": {
    "ExecuteTime": {
     "end_time": "2025-05-17T13:13:43.273626Z",
     "start_time": "2025-05-17T13:13:43.265665Z"
    }
   },
   "outputs": [
    {
     "name": "stdout",
     "output_type": "stream",
     "text": [
      "Create user\n"
     ]
    }
   ],
   "source": [
    "if not user:\n",
    "    auth_func = create_user\n",
    "    extra_args = {\n",
    "        \"company_id\": company_id\n",
    "    }\n",
    "else:\n",
    "    auth_func = login\n",
    "    extra_args = {}\n",
    "\n",
    "auth_func (\n",
    "    username = username,\n",
    "    email=email,\n",
    "    password=password,\n",
    "    **extra_args\n",
    "    )"
   ]
  },
  {
   "cell_type": "markdown",
   "id": "d0e077d83b7817ba",
   "metadata": {},
   "source": [
    "---"
   ]
  },
  {
   "cell_type": "code",
   "execution_count": 103,
   "id": "db6e08ef3c8ffd99",
   "metadata": {
    "ExecuteTime": {
     "end_time": "2025-05-17T13:17:56.215831Z",
     "start_time": "2025-05-17T13:17:56.209021Z"
    }
   },
   "outputs": [],
   "source": [
    "def pow(a,n=None):\n",
    "    if n : # if n is not None:\n",
    "        return a**n\n",
    "    return a"
   ]
  },
  {
   "cell_type": "code",
   "execution_count": 20,
   "id": "bcd4e47c",
   "metadata": {},
   "outputs": [
    {
     "name": "stdout",
     "output_type": "stream",
     "text": [
      "Список пустой!\n"
     ]
    }
   ],
   "source": [
    "lst = []\n",
    "if lst: #len(lst) > 0:\n",
    "    print(\"Список не пустой!\")\n",
    "print(\"Список пустой!\")"
   ]
  },
  {
   "cell_type": "code",
   "execution_count": 111,
   "id": "476ec57ebd9753e4",
   "metadata": {
    "ExecuteTime": {
     "end_time": "2025-05-17T13:29:13.853249Z",
     "start_time": "2025-05-17T13:29:13.845344Z"
    }
   },
   "outputs": [
    {
     "data": {
      "text/plain": [
       "True"
      ]
     },
     "execution_count": 111,
     "metadata": {},
     "output_type": "execute_result"
    }
   ],
   "source": [
    "bool(0) is not None"
   ]
  },
  {
   "cell_type": "code",
   "execution_count": 112,
   "id": "8f278d93a6037a09",
   "metadata": {
    "ExecuteTime": {
     "end_time": "2025-05-17T13:30:56.955571Z",
     "start_time": "2025-05-17T13:30:56.948146Z"
    }
   },
   "outputs": [],
   "source": [
    "def pow5(a, n):\n",
    "    if bool(n) is not False:\n",
    "        return a**n\n",
    "    return a"
   ]
  },
  {
   "cell_type": "code",
   "execution_count": 113,
   "id": "43fa0f8f3a0e8d2e",
   "metadata": {
    "ExecuteTime": {
     "end_time": "2025-05-17T13:31:05.804916Z",
     "start_time": "2025-05-17T13:31:05.797142Z"
    }
   },
   "outputs": [
    {
     "data": {
      "text/plain": [
       "256"
      ]
     },
     "execution_count": 113,
     "metadata": {},
     "output_type": "execute_result"
    }
   ],
   "source": [
    "pow5(4,4)"
   ]
  },
  {
   "cell_type": "code",
   "execution_count": 117,
   "id": "81f4836146d2634a",
   "metadata": {
    "ExecuteTime": {
     "end_time": "2025-05-17T13:33:30.096692Z",
     "start_time": "2025-05-17T13:33:30.092572Z"
    }
   },
   "outputs": [],
   "source": [
    "a = []\n",
    "if len(a) > 0:\n",
    "    print (\"List not empty\")"
   ]
  },
  {
   "cell_type": "code",
   "execution_count": 118,
   "id": "18b437516586c716",
   "metadata": {
    "ExecuteTime": {
     "end_time": "2025-05-17T13:33:32.027245Z",
     "start_time": "2025-05-17T13:33:32.019865Z"
    }
   },
   "outputs": [
    {
     "name": "stdout",
     "output_type": "stream",
     "text": [
      "List empty\n"
     ]
    }
   ],
   "source": [
    "if a:\n",
    "    print(\"List not empty\")\n",
    "else:\n",
    "    print(\"List empty\")"
   ]
  }
 ],
 "metadata": {
  "kernelspec": {
   "display_name": "Python 3",
   "language": "python",
   "name": "python3"
  },
  "language_info": {
   "codemirror_mode": {
    "name": "ipython",
    "version": 3
   },
   "file_extension": ".py",
   "mimetype": "text/x-python",
   "name": "python",
   "nbconvert_exporter": "python",
   "pygments_lexer": "ipython3",
   "version": "3.13.3"
  }
 },
 "nbformat": 4,
 "nbformat_minor": 5
}

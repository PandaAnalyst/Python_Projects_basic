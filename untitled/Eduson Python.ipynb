{
 "nbformat": 4,
 "nbformat_minor": 0,
 "metadata": {
  "colab": {
   "provenance": []
  },
  "kernelspec": {
   "name": "python3",
   "display_name": "Python 3"
  },
  "language_info": {
   "name": "python"
  }
 },
 "cells": [
  {
   "cell_type": "code",
   "source": [
    "from time import struct_time\n",
    "\n",
    "from IPython.terminal.pt_inputhooks import set_qt_api\n",
    "\n",
    "a = 1"
   ],
   "metadata": {
    "id": "kkPsilIwdNMA",
    "ExecuteTime": {
     "end_time": "2025-05-11T13:33:34.321429Z",
     "start_time": "2025-05-11T13:33:34.317133Z"
    }
   },
   "outputs": [],
   "execution_count": 3
  },
  {
   "cell_type": "code",
   "source": [
    "a"
   ],
   "metadata": {
    "collapsed": true,
    "colab": {
     "base_uri": "https://localhost:8080/"
    },
    "id": "wir1z0T5dQEX",
    "outputId": "eb820c41-983a-4d2d-df54-a3540f63bb6f",
    "ExecuteTime": {
     "end_time": "2025-05-11T13:33:34.349999Z",
     "start_time": "2025-05-11T13:33:34.339508Z"
    }
   },
   "outputs": [
    {
     "data": {
      "text/plain": [
       "1"
      ]
     },
     "execution_count": 4,
     "metadata": {},
     "output_type": "execute_result"
    }
   ],
   "execution_count": 4
  },
  {
   "cell_type": "code",
   "source": [
    "b = 100_00_00\n",
    "b"
   ],
   "metadata": {
    "colab": {
     "base_uri": "https://localhost:8080/"
    },
    "id": "F2vOlA7MkfD8",
    "outputId": "0b72e487-df90-4bb3-b292-257416c144a4",
    "ExecuteTime": {
     "end_time": "2025-05-11T13:33:34.450039Z",
     "start_time": "2025-05-11T13:33:34.440028Z"
    }
   },
   "outputs": [
    {
     "data": {
      "text/plain": [
       "1000000"
      ]
     },
     "execution_count": 5,
     "metadata": {},
     "output_type": "execute_result"
    }
   ],
   "execution_count": 5
  },
  {
   "cell_type": "code",
   "source": [
    "type(b)"
   ],
   "metadata": {
    "colab": {
     "base_uri": "https://localhost:8080/"
    },
    "id": "45QG-CmikvjM",
    "outputId": "b4ab01b1-f462-4345-e8a0-13dcda884ab1",
    "ExecuteTime": {
     "end_time": "2025-05-11T13:33:34.537503Z",
     "start_time": "2025-05-11T13:33:34.532929Z"
    }
   },
   "outputs": [
    {
     "data": {
      "text/plain": [
       "int"
      ]
     },
     "execution_count": 6,
     "metadata": {},
     "output_type": "execute_result"
    }
   ],
   "execution_count": 6
  },
  {
   "cell_type": "code",
   "source": [
    "c=100\n",
    "c"
   ],
   "metadata": {
    "colab": {
     "base_uri": "https://localhost:8080/"
    },
    "id": "938DZdbgk-tW",
    "outputId": "aea6d9d2-1789-4d1f-c469-813128591d06",
    "ExecuteTime": {
     "end_time": "2025-05-11T13:33:34.622975Z",
     "start_time": "2025-05-11T13:33:34.615878Z"
    }
   },
   "outputs": [
    {
     "data": {
      "text/plain": [
       "100"
      ]
     },
     "execution_count": 7,
     "metadata": {},
     "output_type": "execute_result"
    }
   ],
   "execution_count": 7
  },
  {
   "cell_type": "code",
   "source": [
    "c - 43\n",
    "c"
   ],
   "metadata": {
    "colab": {
     "base_uri": "https://localhost:8080/"
    },
    "id": "97vi5uN0lHTX",
    "outputId": "7a0c9eac-d0ee-4ba3-8764-efb6afb2fe75",
    "ExecuteTime": {
     "end_time": "2025-05-11T13:33:34.712985Z",
     "start_time": "2025-05-11T13:33:34.704393Z"
    }
   },
   "outputs": [
    {
     "data": {
      "text/plain": [
       "100"
      ]
     },
     "execution_count": 8,
     "metadata": {},
     "output_type": "execute_result"
    }
   ],
   "execution_count": 8
  },
  {
   "cell_type": "code",
   "source": [
    "c ** 2"
   ],
   "metadata": {
    "colab": {
     "base_uri": "https://localhost:8080/"
    },
    "id": "wksvxGRQ8SEj",
    "outputId": "67d42a8b-1d82-48ce-91e1-90b55ca4863b",
    "ExecuteTime": {
     "end_time": "2025-05-11T13:33:34.790319Z",
     "start_time": "2025-05-11T13:33:34.784592Z"
    }
   },
   "outputs": [
    {
     "data": {
      "text/plain": [
       "10000"
      ]
     },
     "execution_count": 9,
     "metadata": {},
     "output_type": "execute_result"
    }
   ],
   "execution_count": 9
  },
  {
   "cell_type": "code",
   "source": [
    "c / 7"
   ],
   "metadata": {
    "colab": {
     "base_uri": "https://localhost:8080/"
    },
    "id": "XHIQGAsA8bvq",
    "outputId": "7436aae8-a072-42ec-9998-2fe12c58dd4b",
    "ExecuteTime": {
     "end_time": "2025-05-11T13:33:34.842145Z",
     "start_time": "2025-05-11T13:33:34.830072Z"
    }
   },
   "outputs": [
    {
     "data": {
      "text/plain": [
       "14.285714285714286"
      ]
     },
     "execution_count": 10,
     "metadata": {},
     "output_type": "execute_result"
    }
   ],
   "execution_count": 10
  },
  {
   "cell_type": "code",
   "source": [
    "c // 7"
   ],
   "metadata": {
    "colab": {
     "base_uri": "https://localhost:8080/"
    },
    "id": "YZwDL-F48lkw",
    "outputId": "2d5944f4-6945-4504-aeb0-cab50da74514",
    "ExecuteTime": {
     "end_time": "2025-05-11T13:33:34.889318Z",
     "start_time": "2025-05-11T13:33:34.884827Z"
    }
   },
   "outputs": [
    {
     "data": {
      "text/plain": [
       "14"
      ]
     },
     "execution_count": 11,
     "metadata": {},
     "output_type": "execute_result"
    }
   ],
   "execution_count": 11
  },
  {
   "cell_type": "code",
   "source": [
    "c % 7"
   ],
   "metadata": {
    "colab": {
     "base_uri": "https://localhost:8080/"
    },
    "id": "ZP3KDZwG8oRT",
    "outputId": "e9a81e19-194a-4dff-a4cf-2c5b14140ab9",
    "ExecuteTime": {
     "end_time": "2025-05-11T13:33:34.940566Z",
     "start_time": "2025-05-11T13:33:34.936178Z"
    }
   },
   "outputs": [
    {
     "data": {
      "text/plain": [
       "2"
      ]
     },
     "execution_count": 12,
     "metadata": {},
     "output_type": "execute_result"
    }
   ],
   "execution_count": 12
  },
  {
   "cell_type": "code",
   "source": [
    "7 * (c // 7) + (c % 7)"
   ],
   "metadata": {
    "colab": {
     "base_uri": "https://localhost:8080/"
    },
    "id": "QioNPVWB9Jns",
    "outputId": "67438b8e-1110-4e41-d672-e00cb2a40099",
    "ExecuteTime": {
     "end_time": "2025-05-11T13:33:34.991651Z",
     "start_time": "2025-05-11T13:33:34.986518Z"
    }
   },
   "outputs": [
    {
     "data": {
      "text/plain": [
       "100"
      ]
     },
     "execution_count": 13,
     "metadata": {},
     "output_type": "execute_result"
    }
   ],
   "execution_count": 13
  },
  {
   "cell_type": "code",
   "source": [],
   "metadata": {
    "id": "yDilUznxAyT_",
    "ExecuteTime": {
     "end_time": "2025-05-11T13:33:35.039243Z",
     "start_time": "2025-05-11T13:33:35.035849Z"
    }
   },
   "outputs": [],
   "execution_count": null
  },
  {
   "cell_type": "markdown",
   "source": [
    "\n",
    "\n",
    "---------------------------------------------------------------------------------------------------------------\n",
    "\n"
   ],
   "metadata": {
    "id": "-OBm5ycwBFOe"
   }
  },
  {
   "cell_type": "code",
   "source": [
    "e = 3.14\n",
    "type(e)"
   ],
   "metadata": {
    "colab": {
     "base_uri": "https://localhost:8080/"
    },
    "id": "keIp5YUTBJjP",
    "outputId": "9524d4a2-b5d1-4898-c9be-6ab85653dce0",
    "ExecuteTime": {
     "end_time": "2025-05-11T13:33:35.081274Z",
     "start_time": "2025-05-11T13:33:35.076956Z"
    }
   },
   "outputs": [
    {
     "data": {
      "text/plain": [
       "float"
      ]
     },
     "execution_count": 14,
     "metadata": {},
     "output_type": "execute_result"
    }
   ],
   "execution_count": 14
  },
  {
   "cell_type": "code",
   "source": [
    "round(e), round(4.5)"
   ],
   "metadata": {
    "colab": {
     "base_uri": "https://localhost:8080/"
    },
    "id": "2xMLWnSOBvAx",
    "outputId": "0f9c90c5-42d7-4b4d-9f81-e700ea8174bb",
    "ExecuteTime": {
     "end_time": "2025-05-11T13:33:35.154788Z",
     "start_time": "2025-05-11T13:33:35.146148Z"
    }
   },
   "outputs": [
    {
     "data": {
      "text/plain": [
       "(3, 4)"
      ]
     },
     "execution_count": 15,
     "metadata": {},
     "output_type": "execute_result"
    }
   ],
   "execution_count": 15
  },
  {
   "cell_type": "code",
   "source": [
    "from math import ceil, floor"
   ],
   "metadata": {
    "id": "FwdRiXDtZcNO",
    "ExecuteTime": {
     "end_time": "2025-05-11T13:33:35.207660Z",
     "start_time": "2025-05-11T13:33:35.203130Z"
    }
   },
   "outputs": [],
   "execution_count": 16
  },
  {
   "cell_type": "code",
   "source": [
    "ceil(3.1), floor(2.9)"
   ],
   "metadata": {
    "colab": {
     "base_uri": "https://localhost:8080/"
    },
    "id": "uKDjftT3ZtTG",
    "outputId": "08e0f3d4-9e80-4be9-e0f2-440c42ec9570",
    "ExecuteTime": {
     "end_time": "2025-05-11T13:33:35.255229Z",
     "start_time": "2025-05-11T13:33:35.246855Z"
    }
   },
   "outputs": [
    {
     "data": {
      "text/plain": [
       "(4, 2)"
      ]
     },
     "execution_count": 17,
     "metadata": {},
     "output_type": "execute_result"
    }
   ],
   "execution_count": 17
  },
  {
   "cell_type": "markdown",
   "source": [
    "\n",
    "\n",
    "------------------------------------------------------------------\n",
    "\n"
   ],
   "metadata": {
    "id": "-2U0iXi8aoeU"
   }
  },
  {
   "cell_type": "code",
   "source": [
    "7e-5"
   ],
   "metadata": {
    "colab": {
     "base_uri": "https://localhost:8080/"
    },
    "id": "YuhVtiTaasJO",
    "outputId": "9515879e-b060-4e6b-b291-faaac6913068",
    "ExecuteTime": {
     "end_time": "2025-05-11T13:33:35.313084Z",
     "start_time": "2025-05-11T13:33:35.297353Z"
    }
   },
   "outputs": [
    {
     "data": {
      "text/plain": [
       "7e-05"
      ]
     },
     "execution_count": 18,
     "metadata": {},
     "output_type": "execute_result"
    }
   ],
   "execution_count": 18
  },
  {
   "cell_type": "code",
   "source": [
    "10 ** (-5)"
   ],
   "metadata": {
    "colab": {
     "base_uri": "https://localhost:8080/"
    },
    "id": "0AdPpDO_avTO",
    "outputId": "1b46909e-3bec-4054-de48-541ecf27fdd1",
    "ExecuteTime": {
     "end_time": "2025-05-11T13:33:35.369358Z",
     "start_time": "2025-05-11T13:33:35.361898Z"
    }
   },
   "outputs": [
    {
     "data": {
      "text/plain": [
       "1e-05"
      ]
     },
     "execution_count": 19,
     "metadata": {},
     "output_type": "execute_result"
    }
   ],
   "execution_count": 19
  },
  {
   "cell_type": "code",
   "source": [
    "0.00001"
   ],
   "metadata": {
    "colab": {
     "base_uri": "https://localhost:8080/"
    },
    "id": "SCjASS2aaywA",
    "outputId": "09c19453-4d3c-4ee5-e9d5-228aeeec5934",
    "ExecuteTime": {
     "end_time": "2025-05-11T13:33:35.418523Z",
     "start_time": "2025-05-11T13:33:35.412041Z"
    }
   },
   "outputs": [
    {
     "data": {
      "text/plain": [
       "1e-05"
      ]
     },
     "execution_count": 20,
     "metadata": {},
     "output_type": "execute_result"
    }
   ],
   "execution_count": 20
  },
  {
   "cell_type": "code",
   "source": [
    "a1 = 1 + 1j\n",
    "type(a1)"
   ],
   "metadata": {
    "colab": {
     "base_uri": "https://localhost:8080/"
    },
    "id": "Jq2MmKK9bYQl",
    "outputId": "4cd10281-41e4-4d67-fe3a-88a3d4ace381",
    "ExecuteTime": {
     "end_time": "2025-05-11T13:33:35.463875Z",
     "start_time": "2025-05-11T13:33:35.451777Z"
    }
   },
   "outputs": [
    {
     "data": {
      "text/plain": [
       "complex"
      ]
     },
     "execution_count": 21,
     "metadata": {},
     "output_type": "execute_result"
    }
   ],
   "execution_count": 21
  },
  {
   "cell_type": "code",
   "source": [
    "a1.real, a1.imag"
   ],
   "metadata": {
    "colab": {
     "base_uri": "https://localhost:8080/"
    },
    "id": "_sedAVSiaW2U",
    "outputId": "560cd701-1178-4899-db59-01551de91f97",
    "ExecuteTime": {
     "end_time": "2025-05-11T13:33:35.523405Z",
     "start_time": "2025-05-11T13:33:35.516561Z"
    }
   },
   "outputs": [
    {
     "data": {
      "text/plain": [
       "(1.0, 1.0)"
      ]
     },
     "execution_count": 22,
     "metadata": {},
     "output_type": "execute_result"
    }
   ],
   "execution_count": 22
  },
  {
   "cell_type": "code",
   "source": [
    "a1, a1.conjugate()"
   ],
   "metadata": {
    "colab": {
     "base_uri": "https://localhost:8080/"
    },
    "id": "I3E2sTgCb6nQ",
    "outputId": "5eeafb6a-3b09-4810-dc72-4b0bc6703d11",
    "ExecuteTime": {
     "end_time": "2025-05-11T13:33:35.574846Z",
     "start_time": "2025-05-11T13:33:35.559003Z"
    }
   },
   "outputs": [
    {
     "data": {
      "text/plain": [
       "((1+1j), (1-1j))"
      ]
     },
     "execution_count": 23,
     "metadata": {},
     "output_type": "execute_result"
    }
   ],
   "execution_count": 23
  },
  {
   "cell_type": "code",
   "source": [
    "a = 1\n",
    "float(a)"
   ],
   "metadata": {
    "colab": {
     "base_uri": "https://localhost:8080/"
    },
    "id": "DXK02OQ-h1dd",
    "outputId": "9fdf02f3-a81f-462f-aa07-0d42979ce507",
    "ExecuteTime": {
     "end_time": "2025-05-11T13:33:35.628812Z",
     "start_time": "2025-05-11T13:33:35.622874Z"
    }
   },
   "outputs": [
    {
     "data": {
      "text/plain": [
       "1.0"
      ]
     },
     "execution_count": 24,
     "metadata": {},
     "output_type": "execute_result"
    }
   ],
   "execution_count": 24
  },
  {
   "cell_type": "code",
   "source": [
    "b = 3.1315\n",
    "int(b)"
   ],
   "metadata": {
    "colab": {
     "base_uri": "https://localhost:8080/"
    },
    "id": "MH1ld9HUh6q6",
    "outputId": "eda903a3-6c15-4107-968c-4e580b2efa89",
    "ExecuteTime": {
     "end_time": "2025-05-11T13:33:35.685840Z",
     "start_time": "2025-05-11T13:33:35.679847Z"
    }
   },
   "outputs": [
    {
     "data": {
      "text/plain": [
       "3"
      ]
     },
     "execution_count": 25,
     "metadata": {},
     "output_type": "execute_result"
    }
   ],
   "execution_count": 25
  },
  {
   "cell_type": "code",
   "source": [
    "complex(3)"
   ],
   "metadata": {
    "colab": {
     "base_uri": "https://localhost:8080/"
    },
    "id": "S1OT6u-ziAm0",
    "outputId": "b107ca6d-bb60-4a0c-85ea-314ecb7344b7",
    "ExecuteTime": {
     "end_time": "2025-05-11T13:33:35.772819Z",
     "start_time": "2025-05-11T13:33:35.741001Z"
    }
   },
   "outputs": [
    {
     "data": {
      "text/plain": [
       "(3+0j)"
      ]
     },
     "execution_count": 26,
     "metadata": {},
     "output_type": "execute_result"
    }
   ],
   "execution_count": 26
  },
  {
   "cell_type": "code",
   "source": [
    "a = 10\n",
    "type(a)"
   ],
   "metadata": {
    "colab": {
     "base_uri": "https://localhost:8080/"
    },
    "id": "Ii09FCtLiu-d",
    "outputId": "576ebab4-f551-4a41-8b61-c2c7e52a5271",
    "ExecuteTime": {
     "end_time": "2025-05-11T13:33:35.812774Z",
     "start_time": "2025-05-11T13:33:35.804640Z"
    }
   },
   "outputs": [
    {
     "data": {
      "text/plain": [
       "int"
      ]
     },
     "execution_count": 27,
     "metadata": {},
     "output_type": "execute_result"
    }
   ],
   "execution_count": 27
  },
  {
   "cell_type": "code",
   "source": [
    "a = float(a) + 5\n",
    "a, type(a)"
   ],
   "metadata": {
    "colab": {
     "base_uri": "https://localhost:8080/"
    },
    "id": "ZrpvstRzizYq",
    "outputId": "adc06567-980b-49c7-8614-7af9935fa47c",
    "ExecuteTime": {
     "end_time": "2025-05-11T13:33:35.869587Z",
     "start_time": "2025-05-11T13:33:35.847941Z"
    }
   },
   "outputs": [
    {
     "data": {
      "text/plain": [
       "(15.0, float)"
      ]
     },
     "execution_count": 28,
     "metadata": {},
     "output_type": "execute_result"
    }
   ],
   "execution_count": 28
  },
  {
   "cell_type": "code",
   "source": [
    "a = a+5\n",
    "a"
   ],
   "metadata": {
    "colab": {
     "base_uri": "https://localhost:8080/"
    },
    "id": "judenShxi8nq",
    "outputId": "06dc3fa4-b586-4022-cb59-d22dc0dbc316",
    "ExecuteTime": {
     "end_time": "2025-05-11T13:33:35.945539Z",
     "start_time": "2025-05-11T13:33:35.910865Z"
    }
   },
   "outputs": [
    {
     "data": {
      "text/plain": [
       "20.0"
      ]
     },
     "execution_count": 29,
     "metadata": {},
     "output_type": "execute_result"
    }
   ],
   "execution_count": 29
  },
  {
   "cell_type": "code",
   "source": [
    "a += 5\n",
    "a"
   ],
   "metadata": {
    "colab": {
     "base_uri": "https://localhost:8080/"
    },
    "id": "cPC69iurjC5p",
    "outputId": "f13c5918-0071-43b6-fa03-a507a25592b6",
    "ExecuteTime": {
     "end_time": "2025-05-11T13:33:36.006141Z",
     "start_time": "2025-05-11T13:33:35.984395Z"
    }
   },
   "outputs": [
    {
     "data": {
      "text/plain": [
       "25.0"
      ]
     },
     "execution_count": 30,
     "metadata": {},
     "output_type": "execute_result"
    }
   ],
   "execution_count": 30
  },
  {
   "cell_type": "code",
   "source": [
    "a /= 5\n",
    "a"
   ],
   "metadata": {
    "colab": {
     "base_uri": "https://localhost:8080/"
    },
    "id": "epmApXbTjOe-",
    "outputId": "f55cb313-692e-4ee8-a9b9-dbd368e2d506",
    "ExecuteTime": {
     "end_time": "2025-05-11T13:33:36.054562Z",
     "start_time": "2025-05-11T13:33:36.041442Z"
    }
   },
   "outputs": [
    {
     "data": {
      "text/plain": [
       "5.0"
      ]
     },
     "execution_count": 31,
     "metadata": {},
     "output_type": "execute_result"
    }
   ],
   "execution_count": 31
  },
  {
   "cell_type": "code",
   "source": [
    "#Comment\n",
    "a = 12\n"
   ],
   "metadata": {
    "colab": {
     "base_uri": "https://localhost:8080/"
    },
    "id": "sGI90_DKjXQ4",
    "outputId": "0e1d8b95-f4a5-434d-d3fd-754adbd5dd61",
    "ExecuteTime": {
     "end_time": "2025-05-11T13:33:36.114235Z",
     "start_time": "2025-05-11T13:33:36.111270Z"
    }
   },
   "outputs": [],
   "execution_count": 32
  },
  {
   "cell_type": "code",
   "source": [
    "b = a + \\\n",
    "b + 4\n",
    "b"
   ],
   "metadata": {
    "colab": {
     "base_uri": "https://localhost:8080/"
    },
    "id": "Z82-4E6umNkZ",
    "outputId": "e8c676d0-bd07-4a65-8572-31112873bb84",
    "ExecuteTime": {
     "end_time": "2025-05-11T13:33:36.213141Z",
     "start_time": "2025-05-11T13:33:36.146139Z"
    }
   },
   "outputs": [
    {
     "data": {
      "text/plain": [
       "19.1315"
      ]
     },
     "execution_count": 33,
     "metadata": {},
     "output_type": "execute_result"
    }
   ],
   "execution_count": 33
  },
  {
   "cell_type": "code",
   "source": [
    "(a +\n",
    " b)\n",
    "b"
   ],
   "metadata": {
    "id": "x41SsXUhmLrk",
    "ExecuteTime": {
     "end_time": "2025-05-11T13:33:36.271172Z",
     "start_time": "2025-05-11T13:33:36.242958Z"
    }
   },
   "outputs": [
    {
     "data": {
      "text/plain": [
       "19.1315"
      ]
     },
     "execution_count": 34,
     "metadata": {},
     "output_type": "execute_result"
    }
   ],
   "execution_count": 34
  },
  {
   "cell_type": "code",
   "source": [
    "a = input()"
   ],
   "metadata": {
    "colab": {
     "base_uri": "https://localhost:8080/"
    },
    "id": "O75xV4BGmkjF",
    "outputId": "89024999-9682-47a7-a451-13464d8f3476",
    "ExecuteTime": {
     "end_time": "2025-05-11T13:33:42.563506Z",
     "start_time": "2025-05-11T13:33:36.308488Z"
    }
   },
   "outputs": [],
   "execution_count": 35
  },
  {
   "cell_type": "code",
   "source": [
    "type(a)"
   ],
   "metadata": {
    "colab": {
     "base_uri": "https://localhost:8080/"
    },
    "id": "7rCvSQ-1mHV9",
    "outputId": "83da54e7-d26a-4c9b-fe31-374f67c0a531",
    "ExecuteTime": {
     "end_time": "2025-05-11T13:33:42.652983Z",
     "start_time": "2025-05-11T13:33:42.642189Z"
    }
   },
   "outputs": [
    {
     "data": {
      "text/plain": [
       "str"
      ]
     },
     "execution_count": 36,
     "metadata": {},
     "output_type": "execute_result"
    }
   ],
   "execution_count": 36
  },
  {
   "cell_type": "code",
   "source": [
    "print (a)"
   ],
   "metadata": {
    "colab": {
     "base_uri": "https://localhost:8080/"
    },
    "id": "At8J3ciGmtNa",
    "outputId": "219d41cc-21d3-419b-a80b-d71cbe9762c0",
    "ExecuteTime": {
     "end_time": "2025-05-11T13:33:42.721143Z",
     "start_time": "2025-05-11T13:33:42.695010Z"
    }
   },
   "outputs": [
    {
     "name": "stdout",
     "output_type": "stream",
     "text": [
      "5\n"
     ]
    }
   ],
   "execution_count": 37
  },
  {
   "cell_type": "markdown",
   "source": [
    "\n",
    "\n",
    "---\n",
    "\n",
    "\n",
    "\n",
    "---\n",
    "\n",
    "\n",
    "\n",
    "---\n",
    "\n"
   ],
   "metadata": {
    "id": "sG0-dnPpnQ5y"
   }
  },
  {
   "cell_type": "code",
   "source": [
    "b1 = True #1\n",
    "b2 = False #0"
   ],
   "metadata": {
    "id": "QA5HUHZlmyJs",
    "ExecuteTime": {
     "end_time": "2025-05-11T13:33:42.752355Z",
     "start_time": "2025-05-11T13:33:42.748397Z"
    }
   },
   "outputs": [],
   "execution_count": 38
  },
  {
   "cell_type": "code",
   "source": [
    "b1, b2"
   ],
   "metadata": {
    "colab": {
     "base_uri": "https://localhost:8080/"
    },
    "id": "aMmwUoX5olHP",
    "outputId": "e74dc3e7-cc30-49d4-e9c7-c4e90294c622",
    "ExecuteTime": {
     "end_time": "2025-05-11T13:33:42.793480Z",
     "start_time": "2025-05-11T13:33:42.775565Z"
    }
   },
   "outputs": [
    {
     "data": {
      "text/plain": [
       "(True, False)"
      ]
     },
     "execution_count": 39,
     "metadata": {},
     "output_type": "execute_result"
    }
   ],
   "execution_count": 39
  },
  {
   "metadata": {
    "jupyter": {
     "is_executing": true
    }
   },
   "cell_type": "code",
   "source": "int(b1)",
   "outputs": [],
   "execution_count": null
  },
  {
   "cell_type": "code",
   "source": [
    "not b1, not b2"
   ],
   "metadata": {
    "colab": {
     "base_uri": "https://localhost:8080/"
    },
    "id": "Lm-n71NsogjP",
    "outputId": "3ee1e323-f66c-4122-8d0b-961e8fe10c70",
    "ExecuteTime": {
     "end_time": "2025-05-11T13:33:42.824397Z",
     "start_time": "2025-05-11T13:33:42.816698Z"
    }
   },
   "outputs": [
    {
     "data": {
      "text/plain": [
       "(False, True)"
      ]
     },
     "execution_count": 40,
     "metadata": {},
     "output_type": "execute_result"
    }
   ],
   "execution_count": 40
  },
  {
   "cell_type": "code",
   "source": [
    "b1 & b2"
   ],
   "metadata": {
    "colab": {
     "base_uri": "https://localhost:8080/"
    },
    "id": "k5hKNXbK_gcV",
    "outputId": "e16edff8-b7b3-425b-bfa5-4709c015efab",
    "ExecuteTime": {
     "end_time": "2025-05-11T13:33:42.866097Z",
     "start_time": "2025-05-11T13:33:42.857869Z"
    }
   },
   "outputs": [
    {
     "data": {
      "text/plain": [
       "False"
      ]
     },
     "execution_count": 41,
     "metadata": {},
     "output_type": "execute_result"
    }
   ],
   "execution_count": 41
  },
  {
   "cell_type": "code",
   "source": [
    "b1 & b2 | b2"
   ],
   "metadata": {
    "colab": {
     "base_uri": "https://localhost:8080/"
    },
    "id": "q8WOPMa1_nFu",
    "outputId": "f9f4ac24-1d9f-4be4-8abd-c321d12d4e01",
    "ExecuteTime": {
     "end_time": "2025-05-11T13:33:42.917891Z",
     "start_time": "2025-05-11T13:33:42.907955Z"
    }
   },
   "outputs": [
    {
     "data": {
      "text/plain": [
       "False"
      ]
     },
     "execution_count": 42,
     "metadata": {},
     "output_type": "execute_result"
    }
   ],
   "execution_count": 42
  },
  {
   "cell_type": "code",
   "source": [],
   "metadata": {
    "id": "zamngBdz_xj_",
    "ExecuteTime": {
     "end_time": "2025-05-11T13:33:42.966400Z",
     "start_time": "2025-05-11T13:33:42.963753Z"
    }
   },
   "outputs": [],
   "execution_count": null
  },
  {
   "cell_type": "markdown",
   "source": [
    "`<, >, <=, >=, ==, !=, is`"
   ],
   "metadata": {
    "id": "XPbVA2_HAUZ9"
   }
  },
  {
   "cell_type": "code",
   "source": [
    "a = 10\n",
    "b = 15\n",
    "c = 3"
   ],
   "metadata": {
    "id": "6aESoG1KAXma",
    "ExecuteTime": {
     "end_time": "2025-05-11T13:33:42.988863Z",
     "start_time": "2025-05-11T13:33:42.985528Z"
    }
   },
   "outputs": [],
   "execution_count": 43
  },
  {
   "cell_type": "code",
   "source": [
    "a < b"
   ],
   "metadata": {
    "colab": {
     "base_uri": "https://localhost:8080/"
    },
    "id": "mreWTnxwAfTs",
    "outputId": "f7e34091-0cbf-4874-ab13-7fa70e4d08d3",
    "ExecuteTime": {
     "end_time": "2025-05-11T13:33:43.024091Z",
     "start_time": "2025-05-11T13:33:43.007399Z"
    }
   },
   "outputs": [
    {
     "data": {
      "text/plain": [
       "True"
      ]
     },
     "execution_count": 44,
     "metadata": {},
     "output_type": "execute_result"
    }
   ],
   "execution_count": 44
  },
  {
   "cell_type": "code",
   "source": [
    "a + 5 == b"
   ],
   "metadata": {
    "colab": {
     "base_uri": "https://localhost:8080/"
    },
    "id": "9TfJLF3xAi_c",
    "outputId": "63628a65-14d1-4bd3-bb1b-5b78ada422a8",
    "ExecuteTime": {
     "end_time": "2025-05-11T13:33:43.056167Z",
     "start_time": "2025-05-11T13:33:43.048871Z"
    }
   },
   "outputs": [
    {
     "data": {
      "text/plain": [
       "True"
      ]
     },
     "execution_count": 45,
     "metadata": {},
     "output_type": "execute_result"
    }
   ],
   "execution_count": 45
  },
  {
   "cell_type": "code",
   "source": [
    "a != b"
   ],
   "metadata": {
    "colab": {
     "base_uri": "https://localhost:8080/"
    },
    "id": "erBdX_NjAoWV",
    "outputId": "027e2106-a5f4-4b67-e4e3-597458ec5060",
    "ExecuteTime": {
     "end_time": "2025-05-11T13:33:43.099257Z",
     "start_time": "2025-05-11T13:33:43.092854Z"
    }
   },
   "outputs": [
    {
     "data": {
      "text/plain": [
       "True"
      ]
     },
     "execution_count": 46,
     "metadata": {},
     "output_type": "execute_result"
    }
   ],
   "execution_count": 46
  },
  {
   "cell_type": "code",
   "source": [
    "a == b"
   ],
   "metadata": {
    "colab": {
     "base_uri": "https://localhost:8080/"
    },
    "id": "HBS7foFQAqjm",
    "outputId": "bb30f92e-8c70-43fe-d7d6-877995829def",
    "ExecuteTime": {
     "end_time": "2025-05-11T13:33:43.150302Z",
     "start_time": "2025-05-11T13:33:43.143280Z"
    }
   },
   "outputs": [
    {
     "data": {
      "text/plain": [
       "False"
      ]
     },
     "execution_count": 47,
     "metadata": {},
     "output_type": "execute_result"
    }
   ],
   "execution_count": 47
  },
  {
   "cell_type": "code",
   "source": [
    "a == 10"
   ],
   "metadata": {
    "colab": {
     "base_uri": "https://localhost:8080/"
    },
    "id": "rA_s1jghAu-g",
    "outputId": "98237850-e1bf-4e0f-da95-1f0af37808b5",
    "ExecuteTime": {
     "end_time": "2025-05-11T13:33:43.200732Z",
     "start_time": "2025-05-11T13:33:43.191723Z"
    }
   },
   "outputs": [
    {
     "data": {
      "text/plain": [
       "True"
      ]
     },
     "execution_count": 48,
     "metadata": {},
     "output_type": "execute_result"
    }
   ],
   "execution_count": 48
  },
  {
   "cell_type": "code",
   "source": [
    "b = 10"
   ],
   "metadata": {
    "id": "f-FK8mvEA6vu",
    "ExecuteTime": {
     "end_time": "2025-05-11T13:33:43.244289Z",
     "start_time": "2025-05-11T13:33:43.231102Z"
    }
   },
   "outputs": [],
   "execution_count": 49
  },
  {
   "cell_type": "code",
   "source": [
    "a is b"
   ],
   "metadata": {
    "colab": {
     "base_uri": "https://localhost:8080/"
    },
    "id": "MBfL4UfSAxHZ",
    "outputId": "86d24505-3395-46aa-b209-c590b5dcb430",
    "ExecuteTime": {
     "end_time": "2025-05-11T13:33:43.288604Z",
     "start_time": "2025-05-11T13:33:43.271006Z"
    }
   },
   "outputs": [
    {
     "data": {
      "text/plain": [
       "True"
      ]
     },
     "execution_count": 50,
     "metadata": {},
     "output_type": "execute_result"
    }
   ],
   "execution_count": 50
  },
  {
   "cell_type": "code",
   "source": [
    "a = 10\n",
    "b = 10\n",
    "a == b, a is b"
   ],
   "metadata": {
    "colab": {
     "base_uri": "https://localhost:8080/"
    },
    "id": "SeoAsyzTAzoe",
    "outputId": "6c61a348-a4c1-4c7a-993c-33c1468bdead",
    "ExecuteTime": {
     "end_time": "2025-05-11T13:33:43.318762Z",
     "start_time": "2025-05-11T13:33:43.313393Z"
    }
   },
   "outputs": [
    {
     "data": {
      "text/plain": [
       "(True, True)"
      ]
     },
     "execution_count": 51,
     "metadata": {},
     "output_type": "execute_result"
    }
   ],
   "execution_count": 51
  },
  {
   "cell_type": "code",
   "source": [
    "a = 1000\n",
    "b = 1000\n",
    "a == b, a is b\n"
   ],
   "metadata": {
    "colab": {
     "base_uri": "https://localhost:8080/"
    },
    "id": "cCEMyFdpBM5s",
    "outputId": "7bea9091-83bc-45d1-f463-4cf93cd2d4db",
    "ExecuteTime": {
     "end_time": "2025-05-11T13:33:43.368104Z",
     "start_time": "2025-05-11T13:33:43.358854Z"
    }
   },
   "outputs": [
    {
     "data": {
      "text/plain": [
       "(True, False)"
      ]
     },
     "execution_count": 52,
     "metadata": {},
     "output_type": "execute_result"
    }
   ],
   "execution_count": 52
  },
  {
   "cell_type": "code",
   "source": [
    "a = 'qwe'\n",
    "b = \"ewq\"\n",
    "a, b"
   ],
   "metadata": {
    "colab": {
     "base_uri": "https://localhost:8080/"
    },
    "id": "m3kNQXhASWjo",
    "outputId": "d416d98f-2832-4fbe-c880-cdd9c82100c4",
    "ExecuteTime": {
     "end_time": "2025-05-11T13:33:43.400851Z",
     "start_time": "2025-05-11T13:33:43.396819Z"
    }
   },
   "outputs": [
    {
     "data": {
      "text/plain": [
       "('qwe', 'ewq')"
      ]
     },
     "execution_count": 53,
     "metadata": {},
     "output_type": "execute_result"
    }
   ],
   "execution_count": 53
  },
  {
   "cell_type": "code",
   "source": [
    "a + b"
   ],
   "metadata": {
    "colab": {
     "base_uri": "https://localhost:8080/",
     "height": 35
    },
    "id": "99Db2hRPSg_q",
    "outputId": "c068e159-b169-4821-e75a-535698ae6ac1",
    "ExecuteTime": {
     "end_time": "2025-05-11T13:33:43.446483Z",
     "start_time": "2025-05-11T13:33:43.440045Z"
    }
   },
   "outputs": [
    {
     "data": {
      "text/plain": [
       "'qweewq'"
      ]
     },
     "execution_count": 54,
     "metadata": {},
     "output_type": "execute_result"
    }
   ],
   "execution_count": 54
  },
  {
   "cell_type": "code",
   "source": [
    "a*5"
   ],
   "metadata": {
    "colab": {
     "base_uri": "https://localhost:8080/",
     "height": 35
    },
    "id": "qSFmpaRGSkRm",
    "outputId": "fb3b5ef7-affc-4e0a-be1d-9b2aa4b57cd7",
    "ExecuteTime": {
     "end_time": "2025-05-11T13:33:43.496230Z",
     "start_time": "2025-05-11T13:33:43.489586Z"
    }
   },
   "outputs": [
    {
     "data": {
      "text/plain": [
       "'qweqweqweqweqwe'"
      ]
     },
     "execution_count": 55,
     "metadata": {},
     "output_type": "execute_result"
    }
   ],
   "execution_count": 55
  },
  {
   "metadata": {},
   "cell_type": "markdown",
   "source": "---"
  },
  {
   "metadata": {},
   "cell_type": "markdown",
   "source": "# Srtings"
  },
  {
   "metadata": {
    "ExecuteTime": {
     "end_time": "2025-05-11T13:33:43.535979Z",
     "start_time": "2025-05-11T13:33:43.530347Z"
    }
   },
   "cell_type": "code",
   "source": [
    "string = 'My string'\n",
    "string"
   ],
   "outputs": [
    {
     "data": {
      "text/plain": [
       "'My string'"
      ]
     },
     "execution_count": 56,
     "metadata": {},
     "output_type": "execute_result"
    }
   ],
   "execution_count": 56
  },
  {
   "metadata": {
    "ExecuteTime": {
     "end_time": "2025-05-11T13:40:49.598576Z",
     "start_time": "2025-05-11T13:40:49.591867Z"
    }
   },
   "cell_type": "code",
   "source": [
    "st = \"He said: 'Hello!'\"\n",
    "print(st)\n",
    "st2 = 'He said: \"Hello!\"'\n",
    "print(st2)\n",
    "st3 =  \"He said: \\\"Hello!\\\"\"\n",
    "print(st3)"
   ],
   "outputs": [
    {
     "name": "stdout",
     "output_type": "stream",
     "text": [
      "He said: 'Hello!'\n",
      "He said: \"Hello!\"\n",
      "He said: \"Hello!\"\n"
     ]
    }
   ],
   "execution_count": 62
  },
  {
   "metadata": {
    "ExecuteTime": {
     "end_time": "2025-05-11T13:44:27.083481Z",
     "start_time": "2025-05-11T13:44:27.078073Z"
    }
   },
   "cell_type": "code",
   "source": [
    "st4 = '''\n",
    "asd\n",
    "\"asdas\"\n",
    "'''\n",
    "st5 = \"\"\"\n",
    "asdas 'asdasdwq'\n",
    "sa\n",
    "\"\"\"\n",
    "st6  =  \"\"\"\n",
    "hello \\\n",
    "bye\n",
    "\"\"\"\n",
    "print(st4, st5, st6)"
   ],
   "outputs": [
    {
     "name": "stdout",
     "output_type": "stream",
     "text": [
      "\n",
      "asd\n",
      "\"asdas\"\n",
      " \n",
      "asdas 'asdasdwq'\n",
      "sa\n",
      " \n",
      "hello bye\n",
      "\n"
     ]
    }
   ],
   "execution_count": 68
  },
  {
   "metadata": {
    "ExecuteTime": {
     "end_time": "2025-05-11T13:46:35.838534Z",
     "start_time": "2025-05-11T13:46:35.831899Z"
    }
   },
   "cell_type": "code",
   "source": "print(\"first str\\nsecond str\\n \\t third str\")",
   "outputs": [
    {
     "name": "stdout",
     "output_type": "stream",
     "text": [
      "first str\n",
      "second str\n",
      " \t third str\n"
     ]
    }
   ],
   "execution_count": 70
  },
  {
   "metadata": {
    "ExecuteTime": {
     "end_time": "2025-05-11T13:50:23.868397Z",
     "start_time": "2025-05-11T13:50:23.861136Z"
    }
   },
   "cell_type": "code",
   "source": [
    "print(\"Symbol - new string: \\\\n. Cool!\")\n",
    "# raw srtring\n",
    "print(r'Symbol - new string: \\n. Cool!')"
   ],
   "outputs": [
    {
     "name": "stdout",
     "output_type": "stream",
     "text": [
      "Symbol - new string: \\n. Cool!\n",
      "Symbol - new string: \\n. Cool!\n"
     ]
    }
   ],
   "execution_count": 71
  },
  {
   "metadata": {
    "ExecuteTime": {
     "end_time": "2025-05-11T13:52:52.140010Z",
     "start_time": "2025-05-11T13:52:52.132236Z"
    }
   },
   "cell_type": "code",
   "source": "print('this a any', 'words', sep=\"\\t\", end=' !')",
   "outputs": [
    {
     "name": "stdout",
     "output_type": "stream",
     "text": [
      "this a any\twords !"
     ]
    }
   ],
   "execution_count": 72
  },
  {
   "metadata": {
    "ExecuteTime": {
     "end_time": "2025-05-11T15:09:20.099874Z",
     "start_time": "2025-05-11T15:09:20.092757Z"
    }
   },
   "cell_type": "code",
   "source": [
    "greeting = '''\n",
    "Hello!\n",
    "You are welcome!\n",
    "'''\n",
    "print(greeting)"
   ],
   "outputs": [
    {
     "name": "stdout",
     "output_type": "stream",
     "text": [
      "\n",
      "Hello!\n",
      "You are welcome!\n",
      "\n"
     ]
    }
   ],
   "execution_count": 123
  },
  {
   "metadata": {
    "ExecuteTime": {
     "end_time": "2025-05-11T15:09:53.987731Z",
     "start_time": "2025-05-11T15:09:53.976267Z"
    }
   },
   "cell_type": "code",
   "source": [
    "greeting = '''\n",
    "Hello!\n",
    "You are\\n welcome!\n",
    "'''\n",
    "print(greeting)"
   ],
   "outputs": [
    {
     "name": "stdout",
     "output_type": "stream",
     "text": [
      "\n",
      "Hello!\n",
      "You are\n",
      " welcome!\n",
      "\n"
     ]
    }
   ],
   "execution_count": 126
  },
  {
   "metadata": {
    "ExecuteTime": {
     "end_time": "2025-05-11T14:00:19.836524Z",
     "start_time": "2025-05-11T14:00:19.830159Z"
    }
   },
   "cell_type": "code",
   "source": [
    "name = 'Panda'\n",
    "bundle = \"Premium\"\n",
    "count = 30"
   ],
   "outputs": [],
   "execution_count": 77
  },
  {
   "metadata": {
    "ExecuteTime": {
     "end_time": "2025-05-11T14:02:49.197478Z",
     "start_time": "2025-05-11T14:02:49.192510Z"
    }
   },
   "cell_type": "code",
   "source": [
    "print('''\n",
    "Hello, {1}!\n",
    "You are welcome! You're type is {0}!\n",
    "On {2} days.\n",
    "'''.format( bundle,name, count))"
   ],
   "outputs": [
    {
     "name": "stdout",
     "output_type": "stream",
     "text": [
      "\n",
      "Hello, Panda!\n",
      "You are welcome! You're type is Premium!\n",
      "On 30 days.\n",
      "\n"
     ]
    }
   ],
   "execution_count": 81
  },
  {
   "metadata": {},
   "cell_type": "markdown",
   "source": "F- strings"
  },
  {
   "metadata": {
    "ExecuteTime": {
     "end_time": "2025-05-11T14:04:26.690520Z",
     "start_time": "2025-05-11T14:04:26.684076Z"
    }
   },
   "cell_type": "code",
   "source": [
    "print(f'''\n",
    "Hello, {name}!\n",
    "You are welcome! You're type is {bundle}!\n",
    "On {count} days.\n",
    "''')"
   ],
   "outputs": [
    {
     "name": "stdout",
     "output_type": "stream",
     "text": [
      "\n",
      "Hello, Panda!\n",
      "You are welcome! You're type is Premium!\n",
      "On 30 days.\n",
      "\n"
     ]
    }
   ],
   "execution_count": 83
  },
  {
   "metadata": {
    "ExecuteTime": {
     "end_time": "2025-05-11T14:09:18.109643Z",
     "start_time": "2025-05-11T14:09:18.104013Z"
    }
   },
   "cell_type": "code",
   "source": "print(\"This is number float: {0:.2f}\".format(3.1514213))",
   "outputs": [
    {
     "name": "stdout",
     "output_type": "stream",
     "text": [
      "This is number float: 3.15\n"
     ]
    }
   ],
   "execution_count": 87
  },
  {
   "metadata": {
    "ExecuteTime": {
     "end_time": "2025-05-11T14:08:38.552467Z",
     "start_time": "2025-05-11T14:08:38.543860Z"
    }
   },
   "cell_type": "code",
   "source": [
    "a = \"  asdnj ajfdsal324 324 \"\n",
    "a, a.strip()"
   ],
   "outputs": [
    {
     "data": {
      "text/plain": [
       "('  asdnj ajfdsal324 324 ', 'asdnj ajfdsal324 324')"
      ]
     },
     "execution_count": 86,
     "metadata": {},
     "output_type": "execute_result"
    }
   ],
   "execution_count": 86
  },
  {
   "metadata": {
    "ExecuteTime": {
     "end_time": "2025-05-11T14:12:49.339933Z",
     "start_time": "2025-05-11T14:12:49.330442Z"
    }
   },
   "cell_type": "code",
   "source": [
    "a = \"   acb    x0\"\n",
    "a, a.strip(), a.strip('x0')"
   ],
   "outputs": [
    {
     "data": {
      "text/plain": [
       "('   acb    x0', 'acb    x0', '   acb    ')"
      ]
     },
     "execution_count": 88,
     "metadata": {},
     "output_type": "execute_result"
    }
   ],
   "execution_count": 88
  },
  {
   "metadata": {
    "ExecuteTime": {
     "end_time": "2025-05-11T14:14:56.875613Z",
     "start_time": "2025-05-11T14:14:56.867345Z"
    }
   },
   "cell_type": "code",
   "source": [
    "keywords = 'qwe, asd, zxc,cde'\n",
    "keywords.split(',')"
   ],
   "outputs": [
    {
     "data": {
      "text/plain": [
       "['qwe', ' asd', ' zxc', 'cde']"
      ]
     },
     "execution_count": 90,
     "metadata": {},
     "output_type": "execute_result"
    }
   ],
   "execution_count": 90
  },
  {
   "metadata": {
    "ExecuteTime": {
     "end_time": "2025-05-11T14:17:13.001985Z",
     "start_time": "2025-05-11T14:17:12.992626Z"
    }
   },
   "cell_type": "code",
   "source": [
    "chapter = '''\n",
    "first\n",
    "\n",
    "second\n",
    "\n",
    "third\n",
    "\n",
    "'''\n",
    "chapter.split('\\n')"
   ],
   "outputs": [
    {
     "data": {
      "text/plain": [
       "['', 'first', '', 'second', '', 'third', '', '']"
      ]
     },
     "execution_count": 92,
     "metadata": {},
     "output_type": "execute_result"
    }
   ],
   "execution_count": 92
  },
  {
   "metadata": {
    "ExecuteTime": {
     "end_time": "2025-05-11T14:17:26.938944Z",
     "start_time": "2025-05-11T14:17:26.929718Z"
    }
   },
   "cell_type": "code",
   "source": "chapter",
   "outputs": [
    {
     "data": {
      "text/plain": [
       "'\\nfirst\\n\\nsecond\\n\\nthird\\n\\n'"
      ]
     },
     "execution_count": 93,
     "metadata": {},
     "output_type": "execute_result"
    }
   ],
   "execution_count": 93
  },
  {
   "metadata": {
    "ExecuteTime": {
     "end_time": "2025-05-11T14:19:06.783370Z",
     "start_time": "2025-05-11T14:19:06.776976Z"
    }
   },
   "cell_type": "code",
   "source": [
    "arr = ['123', 'qwe', 'sad']\n",
    "print(\".\\n\".join(arr))"
   ],
   "outputs": [
    {
     "name": "stdout",
     "output_type": "stream",
     "text": [
      "123.\n",
      "qwe.\n",
      "sad\n"
     ]
    }
   ],
   "execution_count": 95
  },
  {
   "metadata": {
    "ExecuteTime": {
     "end_time": "2025-05-11T14:20:50.421568Z",
     "start_time": "2025-05-11T14:20:50.415368Z"
    }
   },
   "cell_type": "code",
   "source": "print('213' + '.\\n' + 'das' + '.\\n')",
   "outputs": [
    {
     "name": "stdout",
     "output_type": "stream",
     "text": [
      "213.\n",
      "das.\n",
      "\n"
     ]
    }
   ],
   "execution_count": 99
  },
  {
   "metadata": {
    "ExecuteTime": {
     "end_time": "2025-05-11T15:33:30.430536Z",
     "start_time": "2025-05-11T15:33:30.426058Z"
    }
   },
   "cell_type": "code",
   "source": [
    "s = \"asdWQEdfdas adWeasdAS0\"\n",
    "s.capitalize(), s.upper(), s.lower(), s.swapcase()"
   ],
   "outputs": [
    {
     "data": {
      "text/plain": [
       "('Asdwqedfdas adweasdas0',\n",
       " 'ASDWQEDFDAS ADWEASDAS0',\n",
       " 'asdwqedfdas adweasdas0',\n",
       " 'ASDwqeDFDAS ADwEASDas0')"
      ]
     },
     "execution_count": 132,
     "metadata": {},
     "output_type": "execute_result"
    }
   ],
   "execution_count": 132
  },
  {
   "metadata": {
    "ExecuteTime": {
     "end_time": "2025-05-11T14:23:13.933506Z",
     "start_time": "2025-05-11T14:23:13.927430Z"
    }
   },
   "cell_type": "code",
   "source": "s.isupper(), s.islower()",
   "outputs": [
    {
     "data": {
      "text/plain": [
       "(False, False)"
      ]
     },
     "execution_count": 102,
     "metadata": {},
     "output_type": "execute_result"
    }
   ],
   "execution_count": 102
  },
  {
   "metadata": {
    "ExecuteTime": {
     "end_time": "2025-05-11T14:26:07.128340Z",
     "start_time": "2025-05-11T14:26:07.120918Z"
    }
   },
   "cell_type": "code",
   "source": [
    "s2 = \"regular string!\"\n",
    "s3 = 'Q str!'\n",
    "s2.endswith('!'), s3.startswith('Q')"
   ],
   "outputs": [
    {
     "data": {
      "text/plain": [
       "(True, True)"
      ]
     },
     "execution_count": 104,
     "metadata": {},
     "output_type": "execute_result"
    }
   ],
   "execution_count": 104
  },
  {
   "metadata": {
    "ExecuteTime": {
     "end_time": "2025-05-11T15:56:19.609107Z",
     "start_time": "2025-05-11T15:56:19.523213Z"
    }
   },
   "cell_type": "code",
   "source": [
    "st = \"long str start with text inner\"\n",
    "st.find('text'), 'start' in st"
   ],
   "outputs": [
    {
     "ename": "AttributeError",
     "evalue": "'str' object has no attribute '__reversed__'",
     "output_type": "error",
     "traceback": [
      "\u001B[31m---------------------------------------------------------------------------\u001B[39m",
      "\u001B[31mAttributeError\u001B[39m                            Traceback (most recent call last)",
      "\u001B[36mCell\u001B[39m\u001B[36m \u001B[39m\u001B[32mIn[134]\u001B[39m\u001B[32m, line 2\u001B[39m\n\u001B[32m      1\u001B[39m st = \u001B[33m\"\u001B[39m\u001B[33mlong str start with text inner\u001B[39m\u001B[33m\"\u001B[39m\n\u001B[32m----> \u001B[39m\u001B[32m2\u001B[39m \u001B[43mst\u001B[49m\u001B[43m.\u001B[49m\u001B[34;43m__reversed__\u001B[39;49m()\n\u001B[32m      3\u001B[39m st.find(\u001B[33m'\u001B[39m\u001B[33mtext\u001B[39m\u001B[33m'\u001B[39m), \u001B[33m'\u001B[39m\u001B[33mstart\u001B[39m\u001B[33m'\u001B[39m \u001B[38;5;129;01min\u001B[39;00m st\n",
      "\u001B[31mAttributeError\u001B[39m: 'str' object has no attribute '__reversed__'"
     ]
    }
   ],
   "execution_count": 134
  },
  {
   "metadata": {
    "ExecuteTime": {
     "end_time": "2025-05-11T14:30:24.656841Z",
     "start_time": "2025-05-11T14:30:24.652697Z"
    }
   },
   "cell_type": "code",
   "source": [
    "stri = \"basfsadbkhf aldhfh  sadl  , asdfnu ,,,,, jsfnlsfds\"\n",
    "stri = s.replace(',', '')\n",
    "stri"
   ],
   "outputs": [
    {
     "data": {
      "text/plain": [
       "'asdWQEdfdas adWeasdAS0'"
      ]
     },
     "execution_count": 109,
     "metadata": {},
     "output_type": "execute_result"
    }
   ],
   "execution_count": 109
  },
  {
   "metadata": {
    "ExecuteTime": {
     "end_time": "2025-05-11T15:59:11.783094Z",
     "start_time": "2025-05-11T15:59:11.775207Z"
    }
   },
   "cell_type": "code",
   "source": [
    "strind = 'Very long string is it for index'\n",
    "strind[5:19]\n",
    "\n",
    "strind[::-1]"
   ],
   "outputs": [
    {
     "data": {
      "text/plain": [
       "'xedni rof ti si gnirts gnol yreV'"
      ]
     },
     "execution_count": 135,
     "metadata": {},
     "output_type": "execute_result"
    }
   ],
   "execution_count": 135
  },
  {
   "metadata": {
    "ExecuteTime": {
     "end_time": "2025-05-11T14:39:58.562245Z",
     "start_time": "2025-05-11T14:39:58.554435Z"
    }
   },
   "cell_type": "code",
   "source": [
    "pomo = '432rhfoqyfer8239378=HELLO_PY_25hsfdh hakuy44'\n",
    "pomo[20:31]"
   ],
   "outputs": [
    {
     "data": {
      "text/plain": [
       "'HELLO_PY_25'"
      ]
     },
     "execution_count": 117,
     "metadata": {},
     "output_type": "execute_result"
    }
   ],
   "execution_count": 117
  },
  {
   "metadata": {
    "ExecuteTime": {
     "end_time": "2025-05-11T15:35:00.394854Z",
     "start_time": "2025-05-11T15:35:00.390492Z"
    }
   },
   "cell_type": "code",
   "source": [
    "stre = '42'\n",
    "list(stre)"
   ],
   "outputs": [
    {
     "data": {
      "text/plain": [
       "['4', '2']"
      ]
     },
     "execution_count": 133,
     "metadata": {},
     "output_type": "execute_result"
    }
   ],
   "execution_count": 133
  },
  {
   "metadata": {
    "ExecuteTime": {
     "end_time": "2025-05-11T15:00:43.296999Z",
     "start_time": "2025-05-11T15:00:43.289753Z"
    }
   },
   "cell_type": "code",
   "source": [
    "word = \"Привет!\"\n",
    "repeted_word = word * 3\n",
    "repeted_word\n"
   ],
   "outputs": [
    {
     "data": {
      "text/plain": [
       "'Привет!Привет!Привет!'"
      ]
     },
     "execution_count": 120,
     "metadata": {},
     "output_type": "execute_result"
    }
   ],
   "execution_count": 120
  },
  {
   "metadata": {
    "ExecuteTime": {
     "end_time": "2025-05-11T15:13:18.941273Z",
     "start_time": "2025-05-11T15:13:18.932162Z"
    }
   },
   "cell_type": "code",
   "source": [
    "special_string = 'Привет, мир!\\nPython\\tЯ изучаю \\\"язык программирования\\\"!'\n",
    "print(special_string)"
   ],
   "outputs": [
    {
     "name": "stdout",
     "output_type": "stream",
     "text": [
      "Привет, мир!\n",
      "Python\tЯ изучаю \"язык программирования\"!\n"
     ]
    }
   ],
   "execution_count": 129
  },
  {
   "metadata": {
    "ExecuteTime": {
     "end_time": "2025-05-11T15:16:03.135574Z",
     "start_time": "2025-05-11T15:16:03.128016Z"
    }
   },
   "cell_type": "code",
   "source": [
    "multi_line_string = '''\"()Это многострочная строка.\n",
    "Она состоит из нескольких строк текста.\n",
    "Вот здесь новая строка.\"'''\n",
    "print(multi_line_string)"
   ],
   "outputs": [
    {
     "name": "stdout",
     "output_type": "stream",
     "text": [
      "\"Это многострочная строка.\n",
      "Она состоит из нескольких строк текста.\n",
      "Вот здесь новая строка.\"\n"
     ]
    }
   ],
   "execution_count": 131
  }
 ]
}

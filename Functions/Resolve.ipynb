{
 "cells": [
  {
   "metadata": {},
   "cell_type": "markdown",
   "source": [
    "Напишите программу: запросите у пользователя его имя,\n",
    "в ответ на экране должно появиться приветствие с обра-\n",
    "щением по имени, которое ввели ранее."
   ],
   "id": "2fd228f71b200fa5"
  },
  {
   "cell_type": "code",
   "id": "initial_id",
   "metadata": {
    "collapsed": true,
    "ExecuteTime": {
     "end_time": "2025-05-15T19:17:53.971672Z",
     "start_time": "2025-05-15T19:17:53.965191Z"
    }
   },
   "source": [
    "def read_user_info():\n",
    "    return input(\"Hello! Please, write your name:\")\n"
   ],
   "outputs": [],
   "execution_count": 7
  },
  {
   "metadata": {
    "ExecuteTime": {
     "end_time": "2025-05-15T19:17:55.620202Z",
     "start_time": "2025-05-15T19:17:55.614183Z"
    }
   },
   "cell_type": "code",
   "source": [
    "def output_user_greeting(name):\n",
    "    print(f\"Hello! {name}.\")"
   ],
   "id": "86af497562d894e6",
   "outputs": [],
   "execution_count": 8
  },
  {
   "metadata": {
    "ExecuteTime": {
     "end_time": "2025-05-15T19:18:07.279019Z",
     "start_time": "2025-05-15T19:17:58.635853Z"
    }
   },
   "cell_type": "code",
   "source": "output_user_greeting(read_user_info())",
   "id": "59449c425377b677",
   "outputs": [
    {
     "name": "stdout",
     "output_type": "stream",
     "text": [
      "Hello! Panda.\n"
     ]
    }
   ],
   "execution_count": 9
  },
  {
   "metadata": {},
   "cell_type": "markdown",
   "source": [
    "Напишите программу: запросите у пользователя длину  \n",
    "и ширину комнаты. После ввода значений произведите\n",
    "расчет площади комнаты и выведите ответ на экран.\n",
    "\n",
    "Длина и ширина комнаты должны вводиться в формате\n",
    "числа с плавающей запятой. Дополните ввод и вывод\n",
    "единицами измерения — метрами."
   ],
   "id": "99b5265afedbcb1d"
  },
  {
   "metadata": {
    "ExecuteTime": {
     "end_time": "2025-05-15T19:21:00.656518Z",
     "start_time": "2025-05-15T19:21:00.649262Z"
    }
   },
   "cell_type": "code",
   "source": [
    "def read_user_width_room():\n",
    "    return input(\"Hello! Please, write your width room:\")"
   ],
   "id": "9cb7bb96e855a96a",
   "outputs": [],
   "execution_count": 10
  },
  {
   "metadata": {
    "ExecuteTime": {
     "end_time": "2025-05-15T19:21:02.287379Z",
     "start_time": "2025-05-15T19:21:02.280670Z"
    }
   },
   "cell_type": "code",
   "source": [
    "def read_user_height_room():\n",
    "    return input(\"Please, write your height room:\")"
   ],
   "id": "6b4e98980154b932",
   "outputs": [],
   "execution_count": 11
  },
  {
   "metadata": {
    "ExecuteTime": {
     "end_time": "2025-05-15T19:23:17.666710Z",
     "start_time": "2025-05-15T19:23:17.659730Z"
    }
   },
   "cell_type": "code",
   "source": [
    "def square(width, height):\n",
    "    sq = float(int(width)*int(height))\n",
    "    print(f\"Your room square = {sq}m2.\")"
   ],
   "id": "47bde374b67bd86b",
   "outputs": [],
   "execution_count": 13
  },
  {
   "metadata": {
    "ExecuteTime": {
     "end_time": "2025-05-15T19:23:27.519214Z",
     "start_time": "2025-05-15T19:23:19.938965Z"
    }
   },
   "cell_type": "code",
   "source": "square(read_user_width_room(),read_user_height_room())",
   "id": "afec90fe5b65bddf",
   "outputs": [
    {
     "name": "stdout",
     "output_type": "stream",
     "text": [
      "Your room square = 363.0m2.\n"
     ]
    }
   ],
   "execution_count": 14
  },
  {
   "metadata": {
    "ExecuteTime": {
     "end_time": "2025-05-15T19:12:04.970187Z",
     "start_time": "2025-05-15T19:12:04.963879Z"
    }
   },
   "cell_type": "code",
   "source": "square(11,3)",
   "id": "5aed50636b6ab0fe",
   "outputs": [
    {
     "name": "stdout",
     "output_type": "stream",
     "text": [
      "Result = 33.0m.\n"
     ]
    }
   ],
   "execution_count": 5
  },
  {
   "metadata": {},
   "cell_type": "markdown",
   "source": [
    "Создайте программу: запросите у пользователя длину\n",
    "и ширину садового участка в метрах. Выведите на экран\n",
    "площадь участка в сотках."
   ],
   "id": "9cde1a87a4fe0080"
  },
  {
   "metadata": {
    "ExecuteTime": {
     "end_time": "2025-05-15T19:26:46.638982Z",
     "start_time": "2025-05-15T19:26:46.632220Z"
    }
   },
   "cell_type": "code",
   "source": [
    "def read_user_width_room():\n",
    "    return input(\"Hello! Please, write your width area:\")"
   ],
   "id": "4954fa3cd32dae1f",
   "outputs": [],
   "execution_count": 15
  },
  {
   "metadata": {
    "ExecuteTime": {
     "end_time": "2025-05-15T19:26:48.554816Z",
     "start_time": "2025-05-15T19:26:48.548697Z"
    }
   },
   "cell_type": "code",
   "source": [
    "def read_user_height_room():\n",
    "    return input(\"Please, write your height area:\")"
   ],
   "id": "17fd5fdd192e256f",
   "outputs": [],
   "execution_count": 16
  },
  {
   "metadata": {
    "ExecuteTime": {
     "end_time": "2025-05-15T19:26:50.375573Z",
     "start_time": "2025-05-15T19:26:50.368517Z"
    }
   },
   "cell_type": "code",
   "source": [
    "def square(width, height):\n",
    "    sq = (int(width)*int(height))/100\n",
    "    print(f\"Your area square = {sq} sotok.\")"
   ],
   "id": "316e19d25e000d9f",
   "outputs": [],
   "execution_count": 17
  },
  {
   "metadata": {
    "ExecuteTime": {
     "end_time": "2025-05-15T19:27:29.593556Z",
     "start_time": "2025-05-15T19:27:16.354027Z"
    }
   },
   "cell_type": "code",
   "source": "square(read_user_width_room(),read_user_height_room())",
   "id": "5c9789ad0f422e02",
   "outputs": [
    {
     "name": "stdout",
     "output_type": "stream",
     "text": [
      "Your area square = 13.76 sotok.\n"
     ]
    }
   ],
   "execution_count": 18
  },
  {
   "metadata": {},
   "cell_type": "markdown",
   "source": "Разработайте программу: запросите у пользователя целое четырехзначное число и посчитайте сумму цифр этого числа.",
   "id": "cab0e335dda05ea2"
  },
  {
   "metadata": {
    "ExecuteTime": {
     "end_time": "2025-05-15T19:30:03.703278Z",
     "start_time": "2025-05-15T19:30:03.696902Z"
    }
   },
   "cell_type": "code",
   "source": [
    "def read_user_num():\n",
    "    return int(input(\"Hello! Please, write your 4 digital integer number:\"))"
   ],
   "id": "c44a99ee5e5a4159",
   "outputs": [],
   "execution_count": 19
  },
  {
   "metadata": {
    "ExecuteTime": {
     "end_time": "2025-05-15T19:45:39.795333Z",
     "start_time": "2025-05-15T19:45:39.787369Z"
    }
   },
   "cell_type": "code",
   "source": [
    "def culc(num_str):\n",
    "    d1 = num_str//1000\n",
    "    d2 = num_str//100 - d1*10\n",
    "    d3 = num_str//10 - (d1*100+d2*10)\n",
    "    d4 = num_str - (d1*1000+d2*100+d3*10)\n",
    "    print(d1+d2+d3+d4)"
   ],
   "id": "72aa1362ad6d1bcc",
   "outputs": [],
   "execution_count": 25
  },
  {
   "metadata": {
    "ExecuteTime": {
     "end_time": "2025-05-15T19:45:48.619713Z",
     "start_time": "2025-05-15T19:45:41.956524Z"
    }
   },
   "cell_type": "code",
   "source": "culc(read_user_num())",
   "id": "61dd0f04f5937191",
   "outputs": [
    {
     "name": "stdout",
     "output_type": "stream",
     "text": [
      "10\n"
     ]
    }
   ],
   "execution_count": 26
  },
  {
   "metadata": {},
   "cell_type": "markdown",
   "source": [
    "Интернет-магазин предоставляет услугу доставки: 100\n",
    "рублей за первый товар в заказе и 30 рублей — за все\n",
    "последующие. Напишите программу, которая принимает\n",
    "количество товаров и возвращает cтоимость доставки."
   ],
   "id": "db1c563f5ee537b7"
  },
  {
   "metadata": {
    "ExecuteTime": {
     "end_time": "2025-05-15T19:53:17.048695Z",
     "start_time": "2025-05-15T19:53:17.041748Z"
    }
   },
   "cell_type": "code",
   "source": [
    "def read_user_num():\n",
    "    return int(input(\"Hello! Please, write your count products:\"))"
   ],
   "id": "25504e33ee5e87c2",
   "outputs": [],
   "execution_count": 27
  },
  {
   "metadata": {
    "ExecuteTime": {
     "end_time": "2025-05-15T19:53:18.699613Z",
     "start_time": "2025-05-15T19:53:18.693406Z"
    }
   },
   "cell_type": "code",
   "source": [
    "def result_sum(count):\n",
    "    return ((count-1)*30 + 100)"
   ],
   "id": "b7f9fd4a7c9d2d3d",
   "outputs": [],
   "execution_count": 28
  },
  {
   "metadata": {
    "ExecuteTime": {
     "end_time": "2025-05-15T19:54:35.757892Z",
     "start_time": "2025-05-15T19:54:32.045413Z"
    }
   },
   "cell_type": "code",
   "source": "result_sum(read_user_num())",
   "id": "cf4b439e91f48d67",
   "outputs": [
    {
     "data": {
      "text/plain": [
       "100"
      ]
     },
     "execution_count": 30,
     "metadata": {},
     "output_type": "execute_result"
    }
   ],
   "execution_count": 30
  },
  {
   "metadata": {},
   "cell_type": "markdown",
   "source": [
    "Напишите функцию, которая будет принимать три числа и возвращать их медиану.\n",
    "Важно: в коде используйте функцию median().\n",
    "Ответ выведите на экран."
   ],
   "id": "de22b86b6b654a56"
  },
  {
   "metadata": {
    "ExecuteTime": {
     "end_time": "2025-05-15T20:01:17.760575Z",
     "start_time": "2025-05-15T20:01:17.754946Z"
    }
   },
   "cell_type": "code",
   "source": [
    "def read_user_first_number():\n",
    "    return int(input(\"Hello! Please, write your first number:\"))"
   ],
   "id": "8e1ac4180b202573",
   "outputs": [],
   "execution_count": 31
  },
  {
   "metadata": {
    "ExecuteTime": {
     "end_time": "2025-05-15T20:01:18.583492Z",
     "start_time": "2025-05-15T20:01:18.577018Z"
    }
   },
   "cell_type": "code",
   "source": [
    "def read_user_second_number():\n",
    "    return int(input(\"Hello! Please, write your second number:\"))"
   ],
   "id": "366f7750aba5ab5e",
   "outputs": [],
   "execution_count": 32
  },
  {
   "metadata": {
    "ExecuteTime": {
     "end_time": "2025-05-15T20:01:19.644190Z",
     "start_time": "2025-05-15T20:01:19.637081Z"
    }
   },
   "cell_type": "code",
   "source": [
    "def read_user_third_number():\n",
    "    return int(input(\"Hello! Please, write your third number:\"))"
   ],
   "id": "bbc5a01eff600ae0",
   "outputs": [],
   "execution_count": 33
  },
  {
   "metadata": {
    "ExecuteTime": {
     "end_time": "2025-05-15T20:17:10.030042Z",
     "start_time": "2025-05-15T20:17:10.022371Z"
    }
   },
   "cell_type": "code",
   "source": [
    "def count(*args):\n",
    "    count = len(args)\n",
    "    print(f\"Count args: {count}\")\n",
    "    list_args = list(args)\n",
    "    sorted_list = list_args.sort()\n",
    "    print(list_args[1])"
   ],
   "id": "60e4d94904651f0f",
   "outputs": [],
   "execution_count": 59
  },
  {
   "metadata": {
    "ExecuteTime": {
     "end_time": "2025-05-15T20:17:23.743901Z",
     "start_time": "2025-05-15T20:17:12.196795Z"
    }
   },
   "cell_type": "code",
   "source": "count(read_user_first_number(),read_user_second_number(),read_user_third_number())",
   "id": "5df0511161246cb",
   "outputs": [
    {
     "name": "stdout",
     "output_type": "stream",
     "text": [
      "Count args: 3\n",
      "[2, 3, 4]\n"
     ]
    }
   ],
   "execution_count": 60
  },
  {
   "metadata": {},
   "cell_type": "markdown",
   "source": [
    "---\n",
    "second resolve"
   ],
   "id": "faded77f4ed01319"
  },
  {
   "metadata": {
    "ExecuteTime": {
     "end_time": "2025-05-15T20:22:02.606905Z",
     "start_time": "2025-05-15T20:22:02.600260Z"
    }
   },
   "cell_type": "code",
   "source": [
    "def read_user_first_number():\n",
    "    return int(input(\"Hello! Please, write your first number:\"))\n",
    "\n",
    "\n",
    "def read_user_second_number():\n",
    "    return int(input(\"Hello! Please, write your second number:\"))\n",
    "\n",
    "\n",
    "def read_user_third_number():\n",
    "    return int(input(\"Hello! Please, write your third number:\"))"
   ],
   "id": "7e8b21297280b5d8",
   "outputs": [],
   "execution_count": 63
  },
  {
   "metadata": {
    "ExecuteTime": {
     "end_time": "2025-05-15T20:23:41.206884Z",
     "start_time": "2025-05-15T20:23:41.167289Z"
    }
   },
   "cell_type": "code",
   "source": [
    "from statistics import median\n",
    "def count(*args):\n",
    "    count = len(args)\n",
    "    print(f\"Count args: {count}\")\n",
    "    list_args = list(args)\n",
    "    mediana = median(list_args)\n",
    "    print(mediana)\n",
    "\n"
   ],
   "id": "187a20e7a1d0a924",
   "outputs": [],
   "execution_count": 65
  },
  {
   "metadata": {
    "ExecuteTime": {
     "end_time": "2025-05-15T20:23:53.296920Z",
     "start_time": "2025-05-15T20:23:46.364460Z"
    }
   },
   "cell_type": "code",
   "source": "count(read_user_first_number(), read_user_second_number(), read_user_third_number())",
   "id": "1d4ea633b061a118",
   "outputs": [
    {
     "name": "stdout",
     "output_type": "stream",
     "text": [
      "Count args: 3\n",
      "3\n"
     ]
    }
   ],
   "execution_count": 66
  },
  {
   "metadata": {},
   "cell_type": "markdown",
   "source": [
    "Создайте программу, в которой пользователь сможет\n",
    "ввести временной промежуток в виде количества дней,\n",
    "часов, минут и секунд и узнать общее количество секунд,\n",
    "которое составляет введенный отрезок."
   ],
   "id": "93c696d2c74e12ad"
  },
  {
   "metadata": {
    "ExecuteTime": {
     "end_time": "2025-05-15T20:33:39.404768Z",
     "start_time": "2025-05-15T20:33:39.396325Z"
    }
   },
   "cell_type": "code",
   "source": [
    "def read_days():\n",
    "    return int(input(\"Hello! Please, write count days:\"))\n",
    "\n",
    "\n",
    "def read_hours():\n",
    "    return int(input(\"Hello! Please, write count hours:\"))\n",
    "\n",
    "\n",
    "def read_minutes():\n",
    "    return int(input(\"Hello! Please, write count minutes:\"))\n",
    "\n",
    "def read_seconds():\n",
    "    return int(input(\"Hello! Please, write count seconds:\"))"
   ],
   "id": "99fddfe0d2f4e953",
   "outputs": [],
   "execution_count": 67
  },
  {
   "metadata": {},
   "cell_type": "markdown",
   "source": "",
   "id": "e163c9ff55d429dc"
  },
  {
   "metadata": {
    "ExecuteTime": {
     "end_time": "2025-05-15T20:33:42.051333Z",
     "start_time": "2025-05-15T20:33:42.045232Z"
    }
   },
   "cell_type": "code",
   "source": [
    "def exchange(*args):\n",
    "    return (int(args[0]*86400)+int(args[1]*3600)+int(args[2]*60)+int(args[3]))"
   ],
   "id": "5cc65da46c3d43e1",
   "outputs": [],
   "execution_count": 68
  },
  {
   "metadata": {
    "ExecuteTime": {
     "end_time": "2025-05-15T20:34:55.893665Z",
     "start_time": "2025-05-15T20:34:37.777168Z"
    }
   },
   "cell_type": "code",
   "source": "exchange(read_days(),read_hours(),read_minutes(),read_seconds())",
   "id": "e2aa1e0d158e6851",
   "outputs": [
    {
     "data": {
      "text/plain": [
       "304363"
      ]
     },
     "execution_count": 69,
     "metadata": {},
     "output_type": "execute_result"
    }
   ],
   "execution_count": 69
  }
 ],
 "metadata": {
  "kernelspec": {
   "display_name": "Python 3",
   "language": "python",
   "name": "python3"
  },
  "language_info": {
   "codemirror_mode": {
    "name": "ipython",
    "version": 2
   },
   "file_extension": ".py",
   "mimetype": "text/x-python",
   "name": "python",
   "nbconvert_exporter": "python",
   "pygments_lexer": "ipython2",
   "version": "2.7.6"
  }
 },
 "nbformat": 4,
 "nbformat_minor": 5
}

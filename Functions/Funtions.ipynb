{
 "cells": [
  {
   "cell_type": "code",
   "execution_count": null,
   "id": "initial_id",
   "metadata": {
    "collapsed": true
   },
   "outputs": [],
   "source": [
    "def func_name(<arguments>):\n",
    "    <body>"
   ]
  },
  {
   "metadata": {
    "ExecuteTime": {
     "end_time": "2025-05-15T15:15:00.796022Z",
     "start_time": "2025-05-15T15:15:00.789873Z"
    }
   },
   "cell_type": "code",
   "source": [
    "def foo():\n",
    "    print('Hello!')"
   ],
   "id": "f490371a4a1a9ba4",
   "outputs": [],
   "execution_count": 9
  },
  {
   "metadata": {
    "ExecuteTime": {
     "end_time": "2025-05-15T15:15:04.490983Z",
     "start_time": "2025-05-15T15:15:04.483749Z"
    }
   },
   "cell_type": "code",
   "source": [
    "def foo2():\n",
    "    print('Hello!')\n",
    "    print('Hello2!')"
   ],
   "id": "433c0efbc49729d9",
   "outputs": [],
   "execution_count": 11
  },
  {
   "metadata": {
    "ExecuteTime": {
     "end_time": "2025-05-15T15:15:13.506030Z",
     "start_time": "2025-05-15T15:15:13.500839Z"
    }
   },
   "cell_type": "code",
   "outputs": [
    {
     "name": "stdout",
     "output_type": "stream",
     "text": [
      "Hello!\n",
      "Hello!\n",
      "Hello2!\n"
     ]
    }
   ],
   "execution_count": 12,
   "source": [
    "foo()\n",
    "foo2()"
   ],
   "id": "d6fe198e0cac5e3e"
  },
  {
   "metadata": {
    "ExecuteTime": {
     "end_time": "2025-05-15T15:17:10.358157Z",
     "start_time": "2025-05-15T15:17:10.352722Z"
    }
   },
   "cell_type": "code",
   "source": [
    "def pow():\n",
    "    return 5**2"
   ],
   "id": "5e6ecc33e757ca9",
   "outputs": [],
   "execution_count": 13
  },
  {
   "metadata": {
    "ExecuteTime": {
     "end_time": "2025-05-15T15:17:14.943948Z",
     "start_time": "2025-05-15T15:17:14.930362Z"
    }
   },
   "cell_type": "code",
   "source": "pow()",
   "id": "c6d249f53dfbda94",
   "outputs": [
    {
     "data": {
      "text/plain": [
       "25"
      ]
     },
     "execution_count": 14,
     "metadata": {},
     "output_type": "execute_result"
    }
   ],
   "execution_count": 14
  },
  {
   "metadata": {
    "ExecuteTime": {
     "end_time": "2025-05-15T15:24:51.865967Z",
     "start_time": "2025-05-15T15:24:51.851568Z"
    }
   },
   "cell_type": "code",
   "source": [
    "a = pow()\n",
    "a"
   ],
   "id": "139b1eb2065bd3c4",
   "outputs": [
    {
     "data": {
      "text/plain": [
       "25"
      ]
     },
     "execution_count": 16,
     "metadata": {},
     "output_type": "execute_result"
    }
   ],
   "execution_count": 16
  },
  {
   "metadata": {},
   "cell_type": "code",
   "outputs": [],
   "execution_count": null,
   "source": "",
   "id": "859fc5534427fa60"
  },
  {
   "metadata": {},
   "cell_type": "markdown",
   "source": "---",
   "id": "38730de60e1fd71b"
  },
  {
   "metadata": {
    "ExecuteTime": {
     "end_time": "2025-05-15T15:47:17.888950Z",
     "start_time": "2025-05-15T15:47:17.875714Z"
    }
   },
   "cell_type": "code",
   "source": [
    "def foo3():\n",
    "    pass\n",
    "\n",
    "def foo4():\n",
    "    return 1"
   ],
   "id": "8c645d8bbc90b04",
   "outputs": [],
   "execution_count": 17
  },
  {
   "metadata": {},
   "cell_type": "code",
   "outputs": [],
   "execution_count": null,
   "source": "d",
   "id": "7810fe9e02fefae1"
  },
  {
   "metadata": {},
   "cell_type": "markdown",
   "source": "## Arguments",
   "id": "88c04fc373c54fdc"
  },
  {
   "metadata": {
    "ExecuteTime": {
     "end_time": "2025-05-15T16:05:11.899280Z",
     "start_time": "2025-05-15T16:05:11.884440Z"
    }
   },
   "cell_type": "code",
   "source": [
    "def pow(x, a):\n",
    "    return x**a\n",
    "pow(x = 4,a = 5)"
   ],
   "id": "1c82e598a4733bff",
   "outputs": [
    {
     "data": {
      "text/plain": [
       "1024"
      ]
     },
     "execution_count": 23,
     "metadata": {},
     "output_type": "execute_result"
    }
   ],
   "execution_count": 23
  },
  {
   "metadata": {
    "ExecuteTime": {
     "end_time": "2025-05-15T16:05:37.187434Z",
     "start_time": "2025-05-15T16:05:37.168761Z"
    }
   },
   "cell_type": "code",
   "source": "pow(2, 4)",
   "id": "2ea9093f5a7ae201",
   "outputs": [
    {
     "data": {
      "text/plain": [
       "16"
      ]
     },
     "execution_count": 26,
     "metadata": {},
     "output_type": "execute_result"
    }
   ],
   "execution_count": 26
  },
  {
   "metadata": {
    "ExecuteTime": {
     "end_time": "2025-05-15T16:07:40.938761Z",
     "start_time": "2025-05-15T16:07:40.928214Z"
    }
   },
   "cell_type": "code",
   "source": [
    "def pow2 (a, v = 32):\n",
    "    return a * v"
   ],
   "id": "54092462d596257",
   "outputs": [],
   "execution_count": 28
  },
  {
   "metadata": {
    "ExecuteTime": {
     "end_time": "2025-05-15T16:07:42.191452Z",
     "start_time": "2025-05-15T16:07:42.177132Z"
    }
   },
   "cell_type": "code",
   "source": "pow2(2)",
   "id": "153df119d8fe6437",
   "outputs": [
    {
     "data": {
      "text/plain": [
       "64"
      ]
     },
     "execution_count": 29,
     "metadata": {},
     "output_type": "execute_result"
    }
   ],
   "execution_count": 29
  },
  {
   "metadata": {
    "ExecuteTime": {
     "end_time": "2025-05-15T16:08:01.545262Z",
     "start_time": "2025-05-15T16:08:01.473266Z"
    }
   },
   "cell_type": "code",
   "source": "pow2()",
   "id": "8fb3a6b0c19f9bc3",
   "outputs": [
    {
     "ename": "TypeError",
     "evalue": "pow2() missing 1 required positional argument: 'a'",
     "output_type": "error",
     "traceback": [
      "\u001B[31m---------------------------------------------------------------------------\u001B[39m",
      "\u001B[31mTypeError\u001B[39m                                 Traceback (most recent call last)",
      "\u001B[36mCell\u001B[39m\u001B[36m \u001B[39m\u001B[32mIn[30]\u001B[39m\u001B[32m, line 1\u001B[39m\n\u001B[32m----> \u001B[39m\u001B[32m1\u001B[39m \u001B[43mpow2\u001B[49m\u001B[43m(\u001B[49m\u001B[43m)\u001B[49m\n",
      "\u001B[31mTypeError\u001B[39m: pow2() missing 1 required positional argument: 'a'"
     ]
    }
   ],
   "execution_count": 30
  },
  {
   "metadata": {
    "ExecuteTime": {
     "end_time": "2025-05-15T16:09:36.273490Z",
     "start_time": "2025-05-15T16:09:36.261799Z"
    }
   },
   "cell_type": "code",
   "source": [
    "def pow3 (x, add, n=3):\n",
    "    return x**n + add"
   ],
   "id": "68437ad759d95b40",
   "outputs": [],
   "execution_count": 31
  },
  {
   "metadata": {
    "ExecuteTime": {
     "end_time": "2025-05-15T16:09:56.271040Z",
     "start_time": "2025-05-15T16:09:56.256238Z"
    }
   },
   "cell_type": "code",
   "source": "pow3(3, 2)",
   "id": "8d26c28e89be3934",
   "outputs": [
    {
     "data": {
      "text/plain": [
       "29"
      ]
     },
     "execution_count": 33,
     "metadata": {},
     "output_type": "execute_result"
    }
   ],
   "execution_count": 33
  },
  {
   "metadata": {
    "ExecuteTime": {
     "end_time": "2025-05-15T16:12:34.538233Z",
     "start_time": "2025-05-15T16:12:34.526049Z"
    }
   },
   "cell_type": "code",
   "source": [
    "def add (a, b, c, d = 1002):\n",
    "    print(f'1 - {a}/n2 - {b}/n3 - {c}/n4 - {d}')"
   ],
   "id": "af9e476a0d5f3716",
   "outputs": [],
   "execution_count": 34
  },
  {
   "metadata": {
    "ExecuteTime": {
     "end_time": "2025-05-15T16:13:04.967733Z",
     "start_time": "2025-05-15T16:13:04.960132Z"
    }
   },
   "cell_type": "code",
   "source": "add(10,4, 12)",
   "id": "5583ecfa0af2494a",
   "outputs": [
    {
     "name": "stdout",
     "output_type": "stream",
     "text": [
      "1 - 10/n2 - 4/n3 - 12/n4 - 1002\n"
     ]
    }
   ],
   "execution_count": 35
  },
  {
   "metadata": {
    "ExecuteTime": {
     "end_time": "2025-05-15T16:14:02.097013Z",
     "start_time": "2025-05-15T16:14:02.088505Z"
    }
   },
   "cell_type": "code",
   "source": "add(a = 21, b = 21, d = 432, c = 2)",
   "id": "b707eded246cff3c",
   "outputs": [
    {
     "name": "stdout",
     "output_type": "stream",
     "text": [
      "1 - 21/n2 - 21/n3 - 2/n4 - 432\n"
     ]
    }
   ],
   "execution_count": 36
  },
  {
   "metadata": {
    "ExecuteTime": {
     "end_time": "2025-05-15T16:15:46.622237Z",
     "start_time": "2025-05-15T16:15:46.611970Z"
    }
   },
   "cell_type": "code",
   "source": [
    "def str_fun(a, b, *, c, d = 32):\n",
    "    return a*b + c*d"
   ],
   "id": "6f3ecf972eef1765",
   "outputs": [],
   "execution_count": 37
  },
  {
   "metadata": {
    "ExecuteTime": {
     "end_time": "2025-05-15T16:16:06.631322Z",
     "start_time": "2025-05-15T16:16:06.550583Z"
    }
   },
   "cell_type": "code",
   "source": "str_fun(34, 21, 5, 7)",
   "id": "6525325ece75bb8e",
   "outputs": [
    {
     "ename": "TypeError",
     "evalue": "str_fun() takes 2 positional arguments but 4 were given",
     "output_type": "error",
     "traceback": [
      "\u001B[31m---------------------------------------------------------------------------\u001B[39m",
      "\u001B[31mTypeError\u001B[39m                                 Traceback (most recent call last)",
      "\u001B[36mCell\u001B[39m\u001B[36m \u001B[39m\u001B[32mIn[38]\u001B[39m\u001B[32m, line 1\u001B[39m\n\u001B[32m----> \u001B[39m\u001B[32m1\u001B[39m \u001B[43mstr_fun\u001B[49m\u001B[43m(\u001B[49m\u001B[32;43m34\u001B[39;49m\u001B[43m,\u001B[49m\u001B[43m \u001B[49m\u001B[32;43m21\u001B[39;49m\u001B[43m,\u001B[49m\u001B[43m \u001B[49m\u001B[32;43m5\u001B[39;49m\u001B[43m,\u001B[49m\u001B[43m \u001B[49m\u001B[32;43m7\u001B[39;49m\u001B[43m)\u001B[49m\n",
      "\u001B[31mTypeError\u001B[39m: str_fun() takes 2 positional arguments but 4 were given"
     ]
    }
   ],
   "execution_count": 38
  },
  {
   "metadata": {
    "ExecuteTime": {
     "end_time": "2025-05-15T16:16:41.282499Z",
     "start_time": "2025-05-15T16:16:41.268358Z"
    }
   },
   "cell_type": "code",
   "source": "str_fun(1, 2, c = 43, d = 542)",
   "id": "f527cd473a19f21e",
   "outputs": [
    {
     "data": {
      "text/plain": [
       "23308"
      ]
     },
     "execution_count": 39,
     "metadata": {},
     "output_type": "execute_result"
    }
   ],
   "execution_count": 39
  },
  {
   "metadata": {
    "ExecuteTime": {
     "end_time": "2025-05-15T16:32:42.735759Z",
     "start_time": "2025-05-15T16:32:42.726758Z"
    }
   },
   "cell_type": "code",
   "source": [
    "def process (user_code, language, problem_id, company_id, attempts):\n",
    "    ...\n",
    "process(\"select * from users\", 'SQl', 1223, 1 , 4)\n",
    "\n",
    "process(user_code=\"select * from Users\",\n",
    "        language=\"sql\",\n",
    "        problem_id=321,\n",
    "        company_id=312,\n",
    "        attempts=2,)"
   ],
   "id": "394641d7f5aba966",
   "outputs": [],
   "execution_count": 42
  },
  {
   "metadata": {},
   "cell_type": "markdown",
   "source": "*args, **kwargs",
   "id": "9f50333102c19e08"
  },
  {
   "metadata": {
    "ExecuteTime": {
     "end_time": "2025-05-15T18:20:41.068291Z",
     "start_time": "2025-05-15T18:20:41.057713Z"
    }
   },
   "cell_type": "code",
   "source": [
    "def foo(*args, **kwargs):\n",
    "    pass"
   ],
   "id": "c3bb072266d52d4",
   "outputs": [],
   "execution_count": 43
  },
  {
   "metadata": {
    "ExecuteTime": {
     "end_time": "2025-05-15T18:21:27.746642Z",
     "start_time": "2025-05-15T18:21:27.738203Z"
    }
   },
   "cell_type": "code",
   "source": [
    "def foo2(*args, **kwargs):\n",
    "    print(args)\n",
    "    print(kwargs)"
   ],
   "id": "303ca04835424e39",
   "outputs": [],
   "execution_count": 45
  },
  {
   "metadata": {
    "ExecuteTime": {
     "end_time": "2025-05-15T18:23:46.496864Z",
     "start_time": "2025-05-15T18:23:46.483288Z"
    }
   },
   "cell_type": "code",
   "source": "foo2('s', 4, True, n=4, y=True)",
   "id": "6bb82dfc7044ecb0",
   "outputs": [
    {
     "name": "stdout",
     "output_type": "stream",
     "text": [
      "('s', 4, True)\n",
      "{'n': 4, 'y': True}\n"
     ]
    }
   ],
   "execution_count": 46
  },
  {
   "metadata": {},
   "cell_type": "code",
   "outputs": [],
   "execution_count": null,
   "source": [
    "def foo4(*some, **any):\n",
    "    pass"
   ],
   "id": "68d5e6e7e1d79894"
  },
  {
   "metadata": {
    "ExecuteTime": {
     "end_time": "2025-05-15T18:43:56.082110Z",
     "start_time": "2025-05-15T18:43:56.074959Z"
    }
   },
   "cell_type": "code",
   "source": [
    "def get_user_info(number, **kwargs):\n",
    "    name = kwargs.get('name', \"No name\")\n",
    "    email = kwargs.get(\"email\", \"No email\")\n",
    "    print(f'User #{number}, Named {name}, email is {email}. Additional info {kwargs}')"
   ],
   "id": "9fe1291e9ddca30b",
   "outputs": [],
   "execution_count": 50
  },
  {
   "metadata": {
    "ExecuteTime": {
     "end_time": "2025-05-15T18:43:58.085657Z",
     "start_time": "2025-05-15T18:43:58.076709Z"
    }
   },
   "cell_type": "code",
   "source": "get_user_info(32, name=\"Panda\", email=\"my@my.by\", test='TEST')",
   "id": "4be75e4034774bff",
   "outputs": [
    {
     "name": "stdout",
     "output_type": "stream",
     "text": [
      "User #32, Named Panda, email is my@my.by. Additional info {'name': 'Panda', 'email': 'my@my.by', 'test': 'TEST'}\n"
     ]
    }
   ],
   "execution_count": 51
  },
  {
   "metadata": {},
   "cell_type": "markdown",
   "source": "---",
   "id": "96f55602f5576d1e"
  },
  {
   "metadata": {
    "ExecuteTime": {
     "end_time": "2025-05-15T18:47:00.231675Z",
     "start_time": "2025-05-15T18:47:00.221991Z"
    }
   },
   "cell_type": "code",
   "source": [
    "def foo(x):\n",
    "    x+=10\n",
    "    return x"
   ],
   "id": "8286eda619a5376b",
   "outputs": [],
   "execution_count": 52
  },
  {
   "metadata": {
    "ExecuteTime": {
     "end_time": "2025-05-15T18:47:58.528048Z",
     "start_time": "2025-05-15T18:47:58.514482Z"
    }
   },
   "cell_type": "code",
   "source": [
    "x = 121\n",
    "a = foo(x)\n",
    "a,x"
   ],
   "id": "439bf62efa2a9ada",
   "outputs": [
    {
     "data": {
      "text/plain": [
       "(131, 121)"
      ]
     },
     "execution_count": 53,
     "metadata": {},
     "output_type": "execute_result"
    }
   ],
   "execution_count": 53
  },
  {
   "metadata": {
    "ExecuteTime": {
     "end_time": "2025-05-15T18:53:12.223042Z",
     "start_time": "2025-05-15T18:53:12.214588Z"
    }
   },
   "cell_type": "code",
   "source": [
    "def foo3(x):\n",
    "    global vfd\n",
    "    vfd=x+12\n",
    "    return vfd"
   ],
   "id": "ec1f6da02b6ea7bc",
   "outputs": [],
   "execution_count": 79
  },
  {
   "metadata": {
    "ExecuteTime": {
     "end_time": "2025-05-15T18:52:44.083827Z",
     "start_time": "2025-05-15T18:52:44.073228Z"
    }
   },
   "cell_type": "code",
   "source": [
    "x = 1\n",
    "b = foo3(x)\n",
    "b, vfd"
   ],
   "id": "2a19b0ce12f92645",
   "outputs": [
    {
     "data": {
      "text/plain": [
       "(13, 13)"
      ]
     },
     "execution_count": 77,
     "metadata": {},
     "output_type": "execute_result"
    }
   ],
   "execution_count": 77
  },
  {
   "metadata": {},
   "cell_type": "markdown",
   "source": "---",
   "id": "741df792205dbf5f"
  },
  {
   "metadata": {
    "ExecuteTime": {
     "end_time": "2025-05-15T18:56:10.243318Z",
     "start_time": "2025-05-15T18:56:10.236255Z"
    }
   },
   "cell_type": "code",
   "source": [
    "def pow (x, n=2):\n",
    "    \"\"\"Это документация. Функция возводтит входное число в степень n. По умолчанию n = 2\"\"\"\n",
    "    return x**n"
   ],
   "id": "594cabdecf9ee174",
   "outputs": [],
   "execution_count": 80
  },
  {
   "metadata": {
    "ExecuteTime": {
     "end_time": "2025-05-15T18:56:26.459937Z",
     "start_time": "2025-05-15T18:56:26.448752Z"
    }
   },
   "cell_type": "code",
   "source": "pow(3)",
   "id": "7e5bf9cb82b39d28",
   "outputs": [
    {
     "data": {
      "text/plain": [
       "9"
      ]
     },
     "execution_count": 82,
     "metadata": {},
     "output_type": "execute_result"
    }
   ],
   "execution_count": 82
  },
  {
   "metadata": {
    "ExecuteTime": {
     "end_time": "2025-05-15T18:56:43.982493Z",
     "start_time": "2025-05-15T18:56:43.966483Z"
    }
   },
   "cell_type": "code",
   "source": "pow.__doc__",
   "id": "e88771cbd0f5d280",
   "outputs": [
    {
     "data": {
      "text/plain": [
       "'Это документация. Функция возводтит входное число в степень n. По умолчанию n = 2'"
      ]
     },
     "execution_count": 83,
     "metadata": {},
     "output_type": "execute_result"
    }
   ],
   "execution_count": 83
  },
  {
   "metadata": {},
   "cell_type": "markdown",
   "source": "---",
   "id": "fe771ee14695e4aa"
  },
  {
   "metadata": {
    "ExecuteTime": {
     "end_time": "2025-05-15T18:59:12.715060Z",
     "start_time": "2025-05-15T18:59:12.708069Z"
    }
   },
   "cell_type": "code",
   "source": [
    "def proc(data):\n",
    "    flag = True\n",
    "    res = 'result'\n",
    "    return flag, res"
   ],
   "id": "84169c71eb48a4ca",
   "outputs": [],
   "execution_count": 86
  },
  {
   "metadata": {
    "ExecuteTime": {
     "end_time": "2025-05-15T18:59:13.937916Z",
     "start_time": "2025-05-15T18:59:13.929905Z"
    }
   },
   "cell_type": "code",
   "source": "fl, result = proc(2)",
   "id": "863c7f507019cfff",
   "outputs": [],
   "execution_count": 87
  },
  {
   "metadata": {
    "ExecuteTime": {
     "end_time": "2025-05-15T18:59:22.662883Z",
     "start_time": "2025-05-15T18:59:22.650587Z"
    }
   },
   "cell_type": "code",
   "source": "fl",
   "id": "a090735191dececf",
   "outputs": [
    {
     "data": {
      "text/plain": [
       "True"
      ]
     },
     "execution_count": 88,
     "metadata": {},
     "output_type": "execute_result"
    }
   ],
   "execution_count": 88
  },
  {
   "metadata": {
    "ExecuteTime": {
     "end_time": "2025-05-15T18:59:33.327498Z",
     "start_time": "2025-05-15T18:59:33.314834Z"
    }
   },
   "cell_type": "code",
   "source": "result",
   "id": "dca476088843015c",
   "outputs": [
    {
     "data": {
      "text/plain": [
       "'result'"
      ]
     },
     "execution_count": 89,
     "metadata": {},
     "output_type": "execute_result"
    }
   ],
   "execution_count": 89
  }
 ],
 "metadata": {
  "kernelspec": {
   "display_name": "Python 3",
   "language": "python",
   "name": "python3"
  },
  "language_info": {
   "codemirror_mode": {
    "name": "ipython",
    "version": 2
   },
   "file_extension": ".py",
   "mimetype": "text/x-python",
   "name": "python",
   "nbconvert_exporter": "python",
   "pygments_lexer": "ipython2",
   "version": "2.7.6"
  }
 },
 "nbformat": 4,
 "nbformat_minor": 5
}

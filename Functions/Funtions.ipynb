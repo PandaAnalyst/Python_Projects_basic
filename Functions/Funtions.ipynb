{
 "cells": [
  {
   "cell_type": "code",
   "execution_count": null,
   "id": "initial_id",
   "metadata": {
    "collapsed": true
   },
   "outputs": [],
   "source": [
    "def func_name(<arguments>):\n",
    "    <body>"
   ]
  },
  {
   "cell_type": "code",
   "execution_count": 9,
   "id": "f490371a4a1a9ba4",
   "metadata": {
    "ExecuteTime": {
     "end_time": "2025-05-15T15:15:00.796022Z",
     "start_time": "2025-05-15T15:15:00.789873Z"
    }
   },
   "outputs": [],
   "source": [
    "def foo():\n",
    "    print('Hello!')"
   ]
  },
  {
   "cell_type": "code",
   "execution_count": 11,
   "id": "433c0efbc49729d9",
   "metadata": {
    "ExecuteTime": {
     "end_time": "2025-05-15T15:15:04.490983Z",
     "start_time": "2025-05-15T15:15:04.483749Z"
    }
   },
   "outputs": [],
   "source": [
    "def foo2():\n",
    "    print('Hello!')\n",
    "    print('Hello2!')"
   ]
  },
  {
   "cell_type": "code",
   "execution_count": 12,
   "id": "d6fe198e0cac5e3e",
   "metadata": {
    "ExecuteTime": {
     "end_time": "2025-05-15T15:15:13.506030Z",
     "start_time": "2025-05-15T15:15:13.500839Z"
    }
   },
   "outputs": [
    {
     "name": "stdout",
     "output_type": "stream",
     "text": [
      "Hello!\n",
      "Hello!\n",
      "Hello2!\n"
     ]
    }
   ],
   "source": [
    "foo()\n",
    "foo2()"
   ]
  },
  {
   "cell_type": "code",
   "execution_count": 13,
   "id": "5e6ecc33e757ca9",
   "metadata": {
    "ExecuteTime": {
     "end_time": "2025-05-15T15:17:10.358157Z",
     "start_time": "2025-05-15T15:17:10.352722Z"
    }
   },
   "outputs": [],
   "source": [
    "def pow():\n",
    "    return 5**2"
   ]
  },
  {
   "cell_type": "code",
   "execution_count": 14,
   "id": "c6d249f53dfbda94",
   "metadata": {
    "ExecuteTime": {
     "end_time": "2025-05-15T15:17:14.943948Z",
     "start_time": "2025-05-15T15:17:14.930362Z"
    }
   },
   "outputs": [
    {
     "data": {
      "text/plain": [
       "25"
      ]
     },
     "execution_count": 14,
     "metadata": {},
     "output_type": "execute_result"
    }
   ],
   "source": [
    "pow()"
   ]
  },
  {
   "cell_type": "code",
   "execution_count": 16,
   "id": "139b1eb2065bd3c4",
   "metadata": {
    "ExecuteTime": {
     "end_time": "2025-05-15T15:24:51.865967Z",
     "start_time": "2025-05-15T15:24:51.851568Z"
    }
   },
   "outputs": [
    {
     "data": {
      "text/plain": [
       "25"
      ]
     },
     "execution_count": 16,
     "metadata": {},
     "output_type": "execute_result"
    }
   ],
   "source": [
    "a = pow()\n",
    "a"
   ]
  },
  {
   "cell_type": "markdown",
   "id": "38730de60e1fd71b",
   "metadata": {},
   "source": [
    "---"
   ]
  },
  {
   "cell_type": "code",
   "execution_count": 17,
   "id": "8c645d8bbc90b04",
   "metadata": {
    "ExecuteTime": {
     "end_time": "2025-05-15T15:47:17.888950Z",
     "start_time": "2025-05-15T15:47:17.875714Z"
    }
   },
   "outputs": [],
   "source": [
    "def foo3():\n",
    "    pass\n",
    "\n",
    "def foo4():\n",
    "    return 1"
   ]
  },
  {
   "cell_type": "code",
   "execution_count": null,
   "id": "7810fe9e02fefae1",
   "metadata": {},
   "outputs": [],
   "source": [
    "d"
   ]
  },
  {
   "cell_type": "markdown",
   "id": "88c04fc373c54fdc",
   "metadata": {},
   "source": [
    "## Arguments"
   ]
  },
  {
   "cell_type": "code",
   "execution_count": 23,
   "id": "1c82e598a4733bff",
   "metadata": {
    "ExecuteTime": {
     "end_time": "2025-05-15T16:05:11.899280Z",
     "start_time": "2025-05-15T16:05:11.884440Z"
    }
   },
   "outputs": [
    {
     "data": {
      "text/plain": [
       "1024"
      ]
     },
     "execution_count": 23,
     "metadata": {},
     "output_type": "execute_result"
    }
   ],
   "source": [
    "def pow(x, a):\n",
    "    return x**a\n",
    "pow(x = 4,a = 5)"
   ]
  },
  {
   "cell_type": "code",
   "execution_count": 26,
   "id": "2ea9093f5a7ae201",
   "metadata": {
    "ExecuteTime": {
     "end_time": "2025-05-15T16:05:37.187434Z",
     "start_time": "2025-05-15T16:05:37.168761Z"
    }
   },
   "outputs": [
    {
     "data": {
      "text/plain": [
       "16"
      ]
     },
     "execution_count": 26,
     "metadata": {},
     "output_type": "execute_result"
    }
   ],
   "source": [
    "pow(2, 4)"
   ]
  },
  {
   "cell_type": "code",
   "execution_count": 28,
   "id": "54092462d596257",
   "metadata": {
    "ExecuteTime": {
     "end_time": "2025-05-15T16:07:40.938761Z",
     "start_time": "2025-05-15T16:07:40.928214Z"
    }
   },
   "outputs": [],
   "source": [
    "def pow2 (a, v = 32):\n",
    "    return a * v"
   ]
  },
  {
   "cell_type": "code",
   "execution_count": 29,
   "id": "153df119d8fe6437",
   "metadata": {
    "ExecuteTime": {
     "end_time": "2025-05-15T16:07:42.191452Z",
     "start_time": "2025-05-15T16:07:42.177132Z"
    }
   },
   "outputs": [
    {
     "data": {
      "text/plain": [
       "64"
      ]
     },
     "execution_count": 29,
     "metadata": {},
     "output_type": "execute_result"
    }
   ],
   "source": [
    "pow2(2)"
   ]
  },
  {
   "cell_type": "code",
   "execution_count": 30,
   "id": "8fb3a6b0c19f9bc3",
   "metadata": {
    "ExecuteTime": {
     "end_time": "2025-05-15T16:08:01.545262Z",
     "start_time": "2025-05-15T16:08:01.473266Z"
    }
   },
   "outputs": [
    {
     "ename": "TypeError",
     "evalue": "pow2() missing 1 required positional argument: 'a'",
     "output_type": "error",
     "traceback": [
      "\u001b[31m---------------------------------------------------------------------------\u001b[39m",
      "\u001b[31mTypeError\u001b[39m                                 Traceback (most recent call last)",
      "\u001b[36mCell\u001b[39m\u001b[36m \u001b[39m\u001b[32mIn[30]\u001b[39m\u001b[32m, line 1\u001b[39m\n\u001b[32m----> \u001b[39m\u001b[32m1\u001b[39m \u001b[43mpow2\u001b[49m\u001b[43m(\u001b[49m\u001b[43m)\u001b[49m\n",
      "\u001b[31mTypeError\u001b[39m: pow2() missing 1 required positional argument: 'a'"
     ]
    }
   ],
   "source": [
    "pow2()"
   ]
  },
  {
   "cell_type": "code",
   "execution_count": 31,
   "id": "68437ad759d95b40",
   "metadata": {
    "ExecuteTime": {
     "end_time": "2025-05-15T16:09:36.273490Z",
     "start_time": "2025-05-15T16:09:36.261799Z"
    }
   },
   "outputs": [],
   "source": [
    "def pow3 (x, add, n=3):\n",
    "    return x**n + add"
   ]
  },
  {
   "cell_type": "code",
   "execution_count": 33,
   "id": "8d26c28e89be3934",
   "metadata": {
    "ExecuteTime": {
     "end_time": "2025-05-15T16:09:56.271040Z",
     "start_time": "2025-05-15T16:09:56.256238Z"
    }
   },
   "outputs": [
    {
     "data": {
      "text/plain": [
       "29"
      ]
     },
     "execution_count": 33,
     "metadata": {},
     "output_type": "execute_result"
    }
   ],
   "source": [
    "pow3(3, 2)"
   ]
  },
  {
   "cell_type": "code",
   "execution_count": 34,
   "id": "af9e476a0d5f3716",
   "metadata": {
    "ExecuteTime": {
     "end_time": "2025-05-15T16:12:34.538233Z",
     "start_time": "2025-05-15T16:12:34.526049Z"
    }
   },
   "outputs": [],
   "source": [
    "def add (a, b, c, d = 1002):\n",
    "    print(f'1 - {a}/n2 - {b}/n3 - {c}/n4 - {d}')"
   ]
  },
  {
   "cell_type": "code",
   "execution_count": 35,
   "id": "5583ecfa0af2494a",
   "metadata": {
    "ExecuteTime": {
     "end_time": "2025-05-15T16:13:04.967733Z",
     "start_time": "2025-05-15T16:13:04.960132Z"
    }
   },
   "outputs": [
    {
     "name": "stdout",
     "output_type": "stream",
     "text": [
      "1 - 10/n2 - 4/n3 - 12/n4 - 1002\n"
     ]
    }
   ],
   "source": [
    "add(10,4, 12)"
   ]
  },
  {
   "cell_type": "code",
   "execution_count": 36,
   "id": "b707eded246cff3c",
   "metadata": {
    "ExecuteTime": {
     "end_time": "2025-05-15T16:14:02.097013Z",
     "start_time": "2025-05-15T16:14:02.088505Z"
    }
   },
   "outputs": [
    {
     "name": "stdout",
     "output_type": "stream",
     "text": [
      "1 - 21/n2 - 21/n3 - 2/n4 - 432\n"
     ]
    }
   ],
   "source": [
    "add(a = 21, b = 21, d = 432, c = 2)"
   ]
  },
  {
   "cell_type": "code",
   "execution_count": 37,
   "id": "6f3ecf972eef1765",
   "metadata": {
    "ExecuteTime": {
     "end_time": "2025-05-15T16:15:46.622237Z",
     "start_time": "2025-05-15T16:15:46.611970Z"
    }
   },
   "outputs": [],
   "source": [
    "def str_fun(a, b, *, c, d = 32):\n",
    "    return a*b + c*d"
   ]
  },
  {
   "cell_type": "code",
   "execution_count": 38,
   "id": "6525325ece75bb8e",
   "metadata": {
    "ExecuteTime": {
     "end_time": "2025-05-15T16:16:06.631322Z",
     "start_time": "2025-05-15T16:16:06.550583Z"
    }
   },
   "outputs": [
    {
     "ename": "TypeError",
     "evalue": "str_fun() takes 2 positional arguments but 4 were given",
     "output_type": "error",
     "traceback": [
      "\u001b[31m---------------------------------------------------------------------------\u001b[39m",
      "\u001b[31mTypeError\u001b[39m                                 Traceback (most recent call last)",
      "\u001b[36mCell\u001b[39m\u001b[36m \u001b[39m\u001b[32mIn[38]\u001b[39m\u001b[32m, line 1\u001b[39m\n\u001b[32m----> \u001b[39m\u001b[32m1\u001b[39m \u001b[43mstr_fun\u001b[49m\u001b[43m(\u001b[49m\u001b[32;43m34\u001b[39;49m\u001b[43m,\u001b[49m\u001b[43m \u001b[49m\u001b[32;43m21\u001b[39;49m\u001b[43m,\u001b[49m\u001b[43m \u001b[49m\u001b[32;43m5\u001b[39;49m\u001b[43m,\u001b[49m\u001b[43m \u001b[49m\u001b[32;43m7\u001b[39;49m\u001b[43m)\u001b[49m\n",
      "\u001b[31mTypeError\u001b[39m: str_fun() takes 2 positional arguments but 4 were given"
     ]
    }
   ],
   "source": [
    "str_fun(34, 21, 5, 7)"
   ]
  },
  {
   "cell_type": "code",
   "execution_count": 39,
   "id": "f527cd473a19f21e",
   "metadata": {
    "ExecuteTime": {
     "end_time": "2025-05-15T16:16:41.282499Z",
     "start_time": "2025-05-15T16:16:41.268358Z"
    }
   },
   "outputs": [
    {
     "data": {
      "text/plain": [
       "23308"
      ]
     },
     "execution_count": 39,
     "metadata": {},
     "output_type": "execute_result"
    }
   ],
   "source": [
    "str_fun(1, 2, c = 43, d = 542)"
   ]
  },
  {
   "cell_type": "code",
   "execution_count": 42,
   "id": "394641d7f5aba966",
   "metadata": {
    "ExecuteTime": {
     "end_time": "2025-05-15T16:32:42.735759Z",
     "start_time": "2025-05-15T16:32:42.726758Z"
    }
   },
   "outputs": [],
   "source": [
    "def process (user_code, language, problem_id, company_id, attempts):\n",
    "    ...\n",
    "process(\"select * from users\", 'SQl', 1223, 1 , 4)\n",
    "\n",
    "process(user_code=\"select * from Users\",\n",
    "        language=\"sql\",\n",
    "        problem_id=321,\n",
    "        company_id=312,\n",
    "        attempts=2,)"
   ]
  },
  {
   "cell_type": "markdown",
   "id": "9f50333102c19e08",
   "metadata": {},
   "source": [
    "*args, **kwargs"
   ]
  },
  {
   "cell_type": "code",
   "execution_count": 43,
   "id": "c3bb072266d52d4",
   "metadata": {
    "ExecuteTime": {
     "end_time": "2025-05-15T18:20:41.068291Z",
     "start_time": "2025-05-15T18:20:41.057713Z"
    }
   },
   "outputs": [],
   "source": [
    "def foo(*args, **kwargs):\n",
    "    pass"
   ]
  },
  {
   "cell_type": "code",
   "execution_count": 45,
   "id": "303ca04835424e39",
   "metadata": {
    "ExecuteTime": {
     "end_time": "2025-05-15T18:21:27.746642Z",
     "start_time": "2025-05-15T18:21:27.738203Z"
    }
   },
   "outputs": [],
   "source": [
    "def foo2(*args, **kwargs):\n",
    "    print(args)\n",
    "    print(kwargs)"
   ]
  },
  {
   "cell_type": "code",
   "execution_count": 46,
   "id": "6bb82dfc7044ecb0",
   "metadata": {
    "ExecuteTime": {
     "end_time": "2025-05-15T18:23:46.496864Z",
     "start_time": "2025-05-15T18:23:46.483288Z"
    }
   },
   "outputs": [
    {
     "name": "stdout",
     "output_type": "stream",
     "text": [
      "('s', 4, True)\n",
      "{'n': 4, 'y': True}\n"
     ]
    }
   ],
   "source": [
    "foo2('s', 4, True, n=4, y=True)"
   ]
  },
  {
   "cell_type": "code",
   "execution_count": null,
   "id": "68d5e6e7e1d79894",
   "metadata": {},
   "outputs": [],
   "source": [
    "def foo4(*some, **any):\n",
    "    pass"
   ]
  },
  {
   "cell_type": "code",
   "execution_count": 50,
   "id": "9fe1291e9ddca30b",
   "metadata": {
    "ExecuteTime": {
     "end_time": "2025-05-15T18:43:56.082110Z",
     "start_time": "2025-05-15T18:43:56.074959Z"
    }
   },
   "outputs": [],
   "source": [
    "def get_user_info(number, **kwargs):\n",
    "    name = kwargs.get('name', \"No name\")\n",
    "    email = kwargs.get(\"email\", \"No email\")\n",
    "    print(f'User #{number}, Named {name}, email is {email}. Additional info {kwargs}')"
   ]
  },
  {
   "cell_type": "code",
   "execution_count": 51,
   "id": "4be75e4034774bff",
   "metadata": {
    "ExecuteTime": {
     "end_time": "2025-05-15T18:43:58.085657Z",
     "start_time": "2025-05-15T18:43:58.076709Z"
    }
   },
   "outputs": [
    {
     "name": "stdout",
     "output_type": "stream",
     "text": [
      "User #32, Named Panda, email is my@my.by. Additional info {'name': 'Panda', 'email': 'my@my.by', 'test': 'TEST'}\n"
     ]
    }
   ],
   "source": [
    "get_user_info(32, name=\"Panda\", email=\"my@my.by\", test='TEST')"
   ]
  },
  {
   "cell_type": "markdown",
   "id": "96f55602f5576d1e",
   "metadata": {},
   "source": [
    "---"
   ]
  },
  {
   "cell_type": "code",
   "execution_count": 52,
   "id": "8286eda619a5376b",
   "metadata": {
    "ExecuteTime": {
     "end_time": "2025-05-15T18:47:00.231675Z",
     "start_time": "2025-05-15T18:47:00.221991Z"
    }
   },
   "outputs": [],
   "source": [
    "def foo(x):\n",
    "    x+=10\n",
    "    return x"
   ]
  },
  {
   "cell_type": "code",
   "execution_count": 53,
   "id": "439bf62efa2a9ada",
   "metadata": {
    "ExecuteTime": {
     "end_time": "2025-05-15T18:47:58.528048Z",
     "start_time": "2025-05-15T18:47:58.514482Z"
    }
   },
   "outputs": [
    {
     "data": {
      "text/plain": [
       "(131, 121)"
      ]
     },
     "execution_count": 53,
     "metadata": {},
     "output_type": "execute_result"
    }
   ],
   "source": [
    "x = 121\n",
    "a = foo(x)\n",
    "a,x"
   ]
  },
  {
   "cell_type": "code",
   "execution_count": 79,
   "id": "ec1f6da02b6ea7bc",
   "metadata": {
    "ExecuteTime": {
     "end_time": "2025-05-15T18:53:12.223042Z",
     "start_time": "2025-05-15T18:53:12.214588Z"
    }
   },
   "outputs": [],
   "source": [
    "def foo3(x):\n",
    "    global vfd\n",
    "    vfd=x+12\n",
    "    return vfd"
   ]
  },
  {
   "cell_type": "code",
   "execution_count": 77,
   "id": "2a19b0ce12f92645",
   "metadata": {
    "ExecuteTime": {
     "end_time": "2025-05-15T18:52:44.083827Z",
     "start_time": "2025-05-15T18:52:44.073228Z"
    }
   },
   "outputs": [
    {
     "data": {
      "text/plain": [
       "(13, 13)"
      ]
     },
     "execution_count": 77,
     "metadata": {},
     "output_type": "execute_result"
    }
   ],
   "source": [
    "x = 1\n",
    "b = foo3(x)\n",
    "b, vfd"
   ]
  },
  {
   "cell_type": "markdown",
   "id": "741df792205dbf5f",
   "metadata": {},
   "source": [
    "---"
   ]
  },
  {
   "cell_type": "code",
   "execution_count": 80,
   "id": "594cabdecf9ee174",
   "metadata": {
    "ExecuteTime": {
     "end_time": "2025-05-15T18:56:10.243318Z",
     "start_time": "2025-05-15T18:56:10.236255Z"
    }
   },
   "outputs": [],
   "source": [
    "def pow (x, n=2):\n",
    "    \"\"\"Это документация. Функция возводтит входное число в степень n. По умолчанию n = 2\"\"\"\n",
    "    return x**n"
   ]
  },
  {
   "cell_type": "code",
   "execution_count": 82,
   "id": "7e5bf9cb82b39d28",
   "metadata": {
    "ExecuteTime": {
     "end_time": "2025-05-15T18:56:26.459937Z",
     "start_time": "2025-05-15T18:56:26.448752Z"
    }
   },
   "outputs": [
    {
     "data": {
      "text/plain": [
       "9"
      ]
     },
     "execution_count": 82,
     "metadata": {},
     "output_type": "execute_result"
    }
   ],
   "source": [
    "pow(3)"
   ]
  },
  {
   "cell_type": "code",
   "execution_count": 83,
   "id": "e88771cbd0f5d280",
   "metadata": {
    "ExecuteTime": {
     "end_time": "2025-05-15T18:56:43.982493Z",
     "start_time": "2025-05-15T18:56:43.966483Z"
    }
   },
   "outputs": [
    {
     "data": {
      "text/plain": [
       "'Это документация. Функция возводтит входное число в степень n. По умолчанию n = 2'"
      ]
     },
     "execution_count": 83,
     "metadata": {},
     "output_type": "execute_result"
    }
   ],
   "source": [
    "pow.__doc__"
   ]
  },
  {
   "cell_type": "markdown",
   "id": "fe771ee14695e4aa",
   "metadata": {},
   "source": [
    "---"
   ]
  },
  {
   "cell_type": "code",
   "execution_count": 86,
   "id": "84169c71eb48a4ca",
   "metadata": {
    "ExecuteTime": {
     "end_time": "2025-05-15T18:59:12.715060Z",
     "start_time": "2025-05-15T18:59:12.708069Z"
    }
   },
   "outputs": [],
   "source": [
    "def proc(data):\n",
    "    flag = True\n",
    "    res = 'result'\n",
    "    return flag, res"
   ]
  },
  {
   "cell_type": "code",
   "execution_count": 87,
   "id": "863c7f507019cfff",
   "metadata": {
    "ExecuteTime": {
     "end_time": "2025-05-15T18:59:13.937916Z",
     "start_time": "2025-05-15T18:59:13.929905Z"
    }
   },
   "outputs": [],
   "source": [
    "fl, result = proc(2)"
   ]
  },
  {
   "cell_type": "code",
   "execution_count": 88,
   "id": "a090735191dececf",
   "metadata": {
    "ExecuteTime": {
     "end_time": "2025-05-15T18:59:22.662883Z",
     "start_time": "2025-05-15T18:59:22.650587Z"
    }
   },
   "outputs": [
    {
     "data": {
      "text/plain": [
       "True"
      ]
     },
     "execution_count": 88,
     "metadata": {},
     "output_type": "execute_result"
    }
   ],
   "source": [
    "fl"
   ]
  },
  {
   "cell_type": "code",
   "execution_count": 89,
   "id": "dca476088843015c",
   "metadata": {
    "ExecuteTime": {
     "end_time": "2025-05-15T18:59:33.327498Z",
     "start_time": "2025-05-15T18:59:33.314834Z"
    }
   },
   "outputs": [
    {
     "data": {
      "text/plain": [
       "'result'"
      ]
     },
     "execution_count": 89,
     "metadata": {},
     "output_type": "execute_result"
    }
   ],
   "source": [
    "result"
   ]
  }
 ],
 "metadata": {
  "kernelspec": {
   "display_name": "Python 3",
   "language": "python",
   "name": "python3"
  },
  "language_info": {
   "codemirror_mode": {
    "name": "ipython",
    "version": 3
   },
   "file_extension": ".py",
   "mimetype": "text/x-python",
   "name": "python",
   "nbconvert_exporter": "python",
   "pygments_lexer": "ipython3",
   "version": "3.13.3"
  }
 },
 "nbformat": 4,
 "nbformat_minor": 5
}

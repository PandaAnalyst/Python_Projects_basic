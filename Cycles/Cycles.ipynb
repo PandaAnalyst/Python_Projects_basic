{
 "cells": [
  {
   "cell_type": "code",
   "id": "initial_id",
   "metadata": {
    "collapsed": true,
    "ExecuteTime": {
     "end_time": "2025-05-17T13:44:48.978296Z",
     "start_time": "2025-05-17T13:44:48.972232Z"
    }
   },
   "source": [
    "from traceback import print_tb\n",
    "\n",
    "i = 0\n",
    "while i < 5:\n",
    "    i+=1\n",
    "    print(i)"
   ],
   "outputs": [
    {
     "name": "stdout",
     "output_type": "stream",
     "text": [
      "1\n",
      "2\n",
      "3\n",
      "4\n",
      "5\n"
     ]
    }
   ],
   "execution_count": 1
  },
  {
   "metadata": {
    "ExecuteTime": {
     "end_time": "2025-05-17T13:47:00.825406Z",
     "start_time": "2025-05-17T13:47:00.818657Z"
    }
   },
   "cell_type": "code",
   "source": [
    "is_num_big = True\n",
    "a = 10000\n",
    "\n",
    "while is_num_big:\n",
    "    a /= 2\n",
    "    print(a)\n",
    "    if a < 10:\n",
    "        is_num_big = False"
   ],
   "id": "8094503f2ddb742",
   "outputs": [
    {
     "name": "stdout",
     "output_type": "stream",
     "text": [
      "5000.0\n",
      "2500.0\n",
      "1250.0\n",
      "625.0\n",
      "312.5\n",
      "156.25\n",
      "78.125\n",
      "39.0625\n",
      "19.53125\n",
      "9.765625\n"
     ]
    }
   ],
   "execution_count": 2
  },
  {
   "metadata": {
    "ExecuteTime": {
     "end_time": "2025-05-17T13:50:02.218964Z",
     "start_time": "2025-05-17T13:50:02.210967Z"
    }
   },
   "cell_type": "code",
   "source": [
    "def check_is_num_big(a):\n",
    "    if a >= 100:\n",
    "        return True\n",
    "    return False\n",
    "\n",
    "a = 10000\n",
    "while check_is_num_big(a):\n",
    "    a /= 2\n",
    "print(a)"
   ],
   "id": "b7e7e173cf77668d",
   "outputs": [
    {
     "name": "stdout",
     "output_type": "stream",
     "text": [
      "78.125\n"
     ]
    }
   ],
   "execution_count": 4
  },
  {
   "metadata": {
    "ExecuteTime": {
     "end_time": "2025-05-17T13:52:22.578049Z",
     "start_time": "2025-05-17T13:52:22.570376Z"
    }
   },
   "cell_type": "code",
   "source": [
    "arr = [1, 2, 3]\n",
    "\n",
    "while arr:\n",
    "    print(arr.pop())"
   ],
   "id": "7082ced310d3620c",
   "outputs": [
    {
     "name": "stdout",
     "output_type": "stream",
     "text": [
      "3\n",
      "2\n",
      "1\n"
     ]
    }
   ],
   "execution_count": 6
  },
  {
   "metadata": {
    "ExecuteTime": {
     "end_time": "2025-05-17T13:53:01.090885Z",
     "start_time": "2025-05-17T13:53:01.078748Z"
    }
   },
   "cell_type": "code",
   "source": "arr",
   "id": "4c889f80450a66d5",
   "outputs": [
    {
     "data": {
      "text/plain": [
       "[]"
      ]
     },
     "execution_count": 7,
     "metadata": {},
     "output_type": "execute_result"
    }
   ],
   "execution_count": 7
  },
  {
   "metadata": {},
   "cell_type": "markdown",
   "source": [
    "---\n",
    "FOR"
   ],
   "id": "1173a7d51bdc49c4"
  },
  {
   "metadata": {
    "ExecuteTime": {
     "end_time": "2025-05-17T13:55:15.928375Z",
     "start_time": "2025-05-17T13:55:15.921220Z"
    }
   },
   "cell_type": "code",
   "source": [
    "arr = [1, 3, 4, 5]\n",
    "for el in arr:\n",
    "    print(el)"
   ],
   "id": "27ee3ca93a1ccfca",
   "outputs": [
    {
     "name": "stdout",
     "output_type": "stream",
     "text": [
      "1\n",
      "3\n",
      "4\n",
      "5\n"
     ]
    }
   ],
   "execution_count": 10
  },
  {
   "metadata": {
    "ExecuteTime": {
     "end_time": "2025-05-17T13:58:48.416719Z",
     "start_time": "2025-05-17T13:58:48.409867Z"
    }
   },
   "cell_type": "code",
   "source": [
    "for el in range(7):\n",
    "    print(el)"
   ],
   "id": "5cdabe3f0d5e24d2",
   "outputs": [
    {
     "name": "stdout",
     "output_type": "stream",
     "text": [
      "0\n",
      "1\n",
      "2\n",
      "3\n",
      "4\n",
      "5\n",
      "6\n"
     ]
    }
   ],
   "execution_count": 16
  },
  {
   "metadata": {
    "ExecuteTime": {
     "end_time": "2025-05-17T14:01:50.657067Z",
     "start_time": "2025-05-17T14:01:50.649634Z"
    }
   },
   "cell_type": "code",
   "source": [
    "i = 0\n",
    "for el in arr:\n",
    "    print(F\"Element array arr with index {i} equal {el}\")\n",
    "    i+=1"
   ],
   "id": "1ab9c54da26941b7",
   "outputs": [
    {
     "name": "stdout",
     "output_type": "stream",
     "text": [
      "Element array arr with index 0 equal 1\n",
      "Element array arr with index 1 equal 3\n",
      "Element array arr with index 2 equal 4\n",
      "Element array arr with index 3 equal 5\n"
     ]
    }
   ],
   "execution_count": 18
  },
  {
   "metadata": {
    "ExecuteTime": {
     "end_time": "2025-05-17T14:03:24.418825Z",
     "start_time": "2025-05-17T14:03:24.404001Z"
    }
   },
   "cell_type": "code",
   "source": [
    "arr = ['a', 'b' ,'c', 'd']\n",
    "list(enumerate(arr))"
   ],
   "id": "19bc65dcdfe662b5",
   "outputs": [
    {
     "data": {
      "text/plain": [
       "[(0, 'a'), (1, 'b'), (2, 'c'), (3, 'd')]"
      ]
     },
     "execution_count": 19,
     "metadata": {},
     "output_type": "execute_result"
    }
   ],
   "execution_count": 19
  },
  {
   "metadata": {
    "ExecuteTime": {
     "end_time": "2025-05-17T14:04:51.065255Z",
     "start_time": "2025-05-17T14:04:51.058014Z"
    }
   },
   "cell_type": "code",
   "source": [
    "for i, el in enumerate(arr):\n",
    "    print(F\"Element array arr with index {i} equal {el}\")"
   ],
   "id": "d465adbd442787af",
   "outputs": [
    {
     "name": "stdout",
     "output_type": "stream",
     "text": [
      "Element array arr with index 0 equal a\n",
      "Element array arr with index 1 equal b\n",
      "Element array arr with index 2 equal c\n",
      "Element array arr with index 3 equal d\n"
     ]
    }
   ],
   "execution_count": 21
  },
  {
   "metadata": {
    "ExecuteTime": {
     "end_time": "2025-05-17T14:07:10.822247Z",
     "start_time": "2025-05-17T14:07:10.815554Z"
    }
   },
   "cell_type": "code",
   "source": [
    "for i, el in enumerate(arr):\n",
    "    print(F\"Current Element equal {el}, previous element equal {arr[i-1]}\")"
   ],
   "id": "2e8b68f8e9dca7ab",
   "outputs": [
    {
     "name": "stdout",
     "output_type": "stream",
     "text": [
      "Current Element equal a, previous element equal d\n",
      "Current Element equal b, previous element equal a\n",
      "Current Element equal c, previous element equal b\n",
      "Current Element equal d, previous element equal c\n"
     ]
    }
   ],
   "execution_count": 22
  },
  {
   "metadata": {
    "ExecuteTime": {
     "end_time": "2025-05-17T14:09:56.916128Z",
     "start_time": "2025-05-17T14:09:56.908803Z"
    }
   },
   "cell_type": "code",
   "source": [
    "for i, el in enumerate(arr):\n",
    "    prev = arr[i-1] if i!=0 else None\n",
    "    print(F\"Current Element equal {el}, previous element equal {prev}\")"
   ],
   "id": "ce6b38cff4298196",
   "outputs": [
    {
     "name": "stdout",
     "output_type": "stream",
     "text": [
      "Current Element equal a, previous element equal None\n",
      "Current Element equal b, previous element equal a\n",
      "Current Element equal c, previous element equal b\n",
      "Current Element equal d, previous element equal c\n"
     ]
    }
   ],
   "execution_count": 23
  },
  {
   "metadata": {
    "ExecuteTime": {
     "end_time": "2025-05-17T14:13:31.543118Z",
     "start_time": "2025-05-17T14:13:31.538780Z"
    }
   },
   "cell_type": "code",
   "source": [
    "names = [\"Andron\", 'Mikita', 'Pyotr']\n",
    "cars = ['Ford', 'Opel', \"Mazda\"]\n",
    "colors = ['blue', 'red', 'white']\n"
   ],
   "id": "214f9136548440ac",
   "outputs": [],
   "execution_count": 24
  },
  {
   "metadata": {
    "ExecuteTime": {
     "end_time": "2025-05-17T14:15:40.245578Z",
     "start_time": "2025-05-17T14:15:40.238665Z"
    }
   },
   "cell_type": "code",
   "source": [
    "for name, car, color in zip(names, cars, colors):\n",
    "    print(F\"{name} have {color} {car}\")"
   ],
   "id": "e0d194dc86271a4f",
   "outputs": [
    {
     "name": "stdout",
     "output_type": "stream",
     "text": [
      "Andron have blue Ford\n",
      "Mikita have red Opel\n",
      "Pyotr have white Mazda\n"
     ]
    }
   ],
   "execution_count": 25
  },
  {
   "metadata": {},
   "cell_type": "markdown",
   "source": [
    "---\n",
    "Continue"
   ],
   "id": "4f3c8b8d209baef6"
  },
  {
   "metadata": {
    "ExecuteTime": {
     "end_time": "2025-05-17T14:20:03.309526Z",
     "start_time": "2025-05-17T14:20:03.303261Z"
    }
   },
   "cell_type": "code",
   "source": [
    "arr = [1, 2, 3, 4, 'str', 5, 6,7]\n",
    "for el in arr:\n",
    "    if not isinstance(el, int):\n",
    "        continue\n",
    "    print(el**2)"
   ],
   "id": "e7d5e4f87aaf4dc5",
   "outputs": [
    {
     "name": "stdout",
     "output_type": "stream",
     "text": [
      "1\n",
      "4\n",
      "9\n",
      "16\n",
      "25\n",
      "36\n",
      "49\n"
     ]
    }
   ],
   "execution_count": 27
  },
  {
   "metadata": {
    "ExecuteTime": {
     "end_time": "2025-05-17T14:22:02.506327Z",
     "start_time": "2025-05-17T14:22:02.498239Z"
    }
   },
   "cell_type": "code",
   "source": [
    "arr = [1, 2, 3, 4, 'str', 5, 6,7]\n",
    "for el in arr:\n",
    "    if not isinstance(el, int):\n",
    "        print(\"Find trash element\")\n",
    "        break\n",
    "    print(el**2)"
   ],
   "id": "a6dcf560175bf2ba",
   "outputs": [
    {
     "name": "stdout",
     "output_type": "stream",
     "text": [
      "1\n",
      "4\n",
      "9\n",
      "16\n",
      "Find trash element\n"
     ]
    }
   ],
   "execution_count": 28
  },
  {
   "metadata": {
    "ExecuteTime": {
     "end_time": "2025-05-17T14:26:28.175153Z",
     "start_time": "2025-05-17T14:26:28.168870Z"
    }
   },
   "cell_type": "code",
   "source": [
    "i = 0\n",
    "while i<4:\n",
    "    i+=1\n",
    "    print(i)\n",
    "else:\n",
    "    print('Block with \"else\"')"
   ],
   "id": "7a84ef8072accb50",
   "outputs": [
    {
     "name": "stdout",
     "output_type": "stream",
     "text": [
      "1\n",
      "2\n",
      "3\n",
      "4\n",
      "Block with \"else\"\n"
     ]
    }
   ],
   "execution_count": 31
  },
  {
   "metadata": {
    "ExecuteTime": {
     "end_time": "2025-05-17T14:29:11.507605Z",
     "start_time": "2025-05-17T14:29:11.499952Z"
    }
   },
   "cell_type": "code",
   "source": [
    "for i, el in enumerate(arr):\n",
    "        print(i, el)\n",
    "else:\n",
    "    print('Block with \"else\"')"
   ],
   "id": "bb519c2ad3d2e0a4",
   "outputs": [
    {
     "name": "stdout",
     "output_type": "stream",
     "text": [
      "0 1\n",
      "1 2\n",
      "2 3\n",
      "3 4\n",
      "4 str\n",
      "5 5\n",
      "6 6\n",
      "7 7\n",
      "Block with \"else\"\n"
     ]
    }
   ],
   "execution_count": 33
  }
 ],
 "metadata": {
  "kernelspec": {
   "display_name": "Python 3",
   "language": "python",
   "name": "python3"
  },
  "language_info": {
   "codemirror_mode": {
    "name": "ipython",
    "version": 2
   },
   "file_extension": ".py",
   "mimetype": "text/x-python",
   "name": "python",
   "nbconvert_exporter": "python",
   "pygments_lexer": "ipython2",
   "version": "2.7.6"
  }
 },
 "nbformat": 4,
 "nbformat_minor": 5
}

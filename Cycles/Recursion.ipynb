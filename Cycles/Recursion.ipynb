{
 "cells": [
  {
   "cell_type": "code",
   "id": "initial_id",
   "metadata": {
    "collapsed": true,
    "ExecuteTime": {
     "end_time": "2025-05-17T15:12:36.225010Z",
     "start_time": "2025-05-17T15:12:36.217743Z"
    }
   },
   "source": [
    "def factorial(n):\n",
    "    res = 1\n",
    "    for el in range(1, n+1):\n",
    "       res *= el\n",
    "    return res"
   ],
   "outputs": [],
   "execution_count": 27
  },
  {
   "metadata": {
    "ExecuteTime": {
     "end_time": "2025-05-17T15:16:46.618889Z",
     "start_time": "2025-05-17T15:16:46.610260Z"
    }
   },
   "cell_type": "code",
   "source": "factorial(30)",
   "id": "2eabed49f3a0e855",
   "outputs": [
    {
     "data": {
      "text/plain": [
       "265252859812191058636308480000000"
      ]
     },
     "execution_count": 42,
     "metadata": {},
     "output_type": "execute_result"
    }
   ],
   "execution_count": 42
  },
  {
   "metadata": {
    "ExecuteTime": {
     "end_time": "2025-05-17T15:11:13.695948Z",
     "start_time": "2025-05-17T15:11:13.688644Z"
    }
   },
   "cell_type": "code",
   "source": "list(range( 6))",
   "id": "e5935c8d467f96c",
   "outputs": [
    {
     "data": {
      "text/plain": [
       "[0, 1, 2, 3, 4, 5]"
      ]
     },
     "execution_count": 25,
     "metadata": {},
     "output_type": "execute_result"
    }
   ],
   "execution_count": 25
  },
  {
   "metadata": {
    "ExecuteTime": {
     "end_time": "2025-05-17T15:14:50.203825Z",
     "start_time": "2025-05-17T15:14:50.197316Z"
    }
   },
   "cell_type": "code",
   "source": [
    "def factorial2(n):\n",
    "    return factorial(n-1)*n"
   ],
   "id": "afd6421173f97167",
   "outputs": [],
   "execution_count": 31
  },
  {
   "metadata": {
    "ExecuteTime": {
     "end_time": "2025-05-17T15:17:12.612391Z",
     "start_time": "2025-05-17T15:17:12.603941Z"
    }
   },
   "cell_type": "code",
   "source": "factorial2(30)",
   "id": "80f175c99825802f",
   "outputs": [
    {
     "data": {
      "text/plain": [
       "265252859812191058636308480000000"
      ]
     },
     "execution_count": 43,
     "metadata": {},
     "output_type": "execute_result"
    }
   ],
   "execution_count": 43
  },
  {
   "metadata": {},
   "cell_type": "markdown",
   "source": [
    "---\n",
    "Fibonachi"
   ],
   "id": "a6787228799e8fc6"
  },
  {
   "metadata": {
    "ExecuteTime": {
     "end_time": "2025-05-17T15:40:25.165596Z",
     "start_time": "2025-05-17T15:40:25.157874Z"
    }
   },
   "cell_type": "code",
   "source": [
    "n = 10\n",
    "prev1 = 0\n",
    "prev2 = 1\n",
    "res = 0\n",
    "i = 0\n",
    "while prev2 < n:\n",
    "    res = prev1 + prev2\n",
    "    print(res)\n",
    "    prev1 = prev2\n",
    "    prev2 = res\n",
    "    i+=1"
   ],
   "id": "d3d3635fc5acc56a",
   "outputs": [
    {
     "name": "stdout",
     "output_type": "stream",
     "text": [
      "1\n",
      "2\n",
      "3\n",
      "5\n",
      "8\n",
      "13\n"
     ]
    }
   ],
   "execution_count": 52
  },
  {
   "metadata": {
    "ExecuteTime": {
     "end_time": "2025-05-17T15:59:28.130698Z",
     "start_time": "2025-05-17T15:59:28.122664Z"
    }
   },
   "cell_type": "code",
   "source": [
    "def fib (n):\n",
    "    if n ==1:\n",
    "        return 0\n",
    "    if n==2:\n",
    "        return 1\n",
    "    a, b = 0, 1\n",
    "    cnt = 2\n",
    "\n",
    "    while cnt <= n:\n",
    "        a, b = b, a+b\n",
    "        cnt += 1\n",
    "\n",
    "    return a"
   ],
   "id": "9d6db4075c4c297",
   "outputs": [],
   "execution_count": 56
  },
  {
   "metadata": {
    "ExecuteTime": {
     "end_time": "2025-05-17T16:02:20.381654Z",
     "start_time": "2025-05-17T16:02:20.375880Z"
    }
   },
   "cell_type": "code",
   "source": [
    "def fib2(n):\n",
    "    if n ==1:\n",
    "        return 0\n",
    "    if n ==2:\n",
    "        return 1\n",
    "    return fib2(n-1) + fib2(n-2)"
   ],
   "id": "a7380b160cab3d11",
   "outputs": [],
   "execution_count": 60
  },
  {
   "metadata": {
    "ExecuteTime": {
     "end_time": "2025-05-17T16:04:07.589038Z",
     "start_time": "2025-05-17T16:04:07.581507Z"
    }
   },
   "cell_type": "code",
   "source": [
    "def fib3(n):\n",
    "    if n in (1, 2):\n",
    "        return 1\n",
    "    return fib3(n - 1) + fib3(n - 2)"
   ],
   "id": "d556fd6823382a67",
   "outputs": [],
   "execution_count": 65
  },
  {
   "metadata": {
    "ExecuteTime": {
     "end_time": "2025-05-17T16:04:28.318193Z",
     "start_time": "2025-05-17T16:04:28.311005Z"
    }
   },
   "cell_type": "code",
   "source": [
    "for i in range(1, 7):\n",
    "    print(fib3(i))"
   ],
   "id": "72d5e4592a345dfe",
   "outputs": [
    {
     "name": "stdout",
     "output_type": "stream",
     "text": [
      "1\n",
      "1\n",
      "2\n",
      "3\n",
      "5\n",
      "8\n"
     ]
    }
   ],
   "execution_count": 66
  }
 ],
 "metadata": {
  "kernelspec": {
   "display_name": "Python 3",
   "language": "python",
   "name": "python3"
  },
  "language_info": {
   "codemirror_mode": {
    "name": "ipython",
    "version": 2
   },
   "file_extension": ".py",
   "mimetype": "text/x-python",
   "name": "python",
   "nbconvert_exporter": "python",
   "pygments_lexer": "ipython2",
   "version": "2.7.6"
  }
 },
 "nbformat": 4,
 "nbformat_minor": 5
}

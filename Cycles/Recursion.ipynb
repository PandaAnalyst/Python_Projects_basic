{
 "cells": [
  {
   "cell_type": "code",
   "execution_count": 27,
   "id": "initial_id",
   "metadata": {
    "ExecuteTime": {
     "end_time": "2025-05-17T15:12:36.225010Z",
     "start_time": "2025-05-17T15:12:36.217743Z"
    },
    "collapsed": true
   },
   "outputs": [],
   "source": [
    "def factorial(n):\n",
    "    res = 1\n",
    "    for el in range(1, n+1):\n",
    "       res *= el\n",
    "    return res"
   ]
  },
  {
   "cell_type": "code",
   "execution_count": 42,
   "id": "2eabed49f3a0e855",
   "metadata": {
    "ExecuteTime": {
     "end_time": "2025-05-17T15:16:46.618889Z",
     "start_time": "2025-05-17T15:16:46.610260Z"
    }
   },
   "outputs": [
    {
     "data": {
      "text/plain": [
       "265252859812191058636308480000000"
      ]
     },
     "execution_count": 42,
     "metadata": {},
     "output_type": "execute_result"
    }
   ],
   "source": [
    "factorial(30)"
   ]
  },
  {
   "cell_type": "code",
   "execution_count": 25,
   "id": "e5935c8d467f96c",
   "metadata": {
    "ExecuteTime": {
     "end_time": "2025-05-17T15:11:13.695948Z",
     "start_time": "2025-05-17T15:11:13.688644Z"
    }
   },
   "outputs": [
    {
     "data": {
      "text/plain": [
       "[0, 1, 2, 3, 4, 5]"
      ]
     },
     "execution_count": 25,
     "metadata": {},
     "output_type": "execute_result"
    }
   ],
   "source": [
    "list(range( 6))"
   ]
  },
  {
   "cell_type": "code",
   "execution_count": 7,
   "id": "afd6421173f97167",
   "metadata": {
    "ExecuteTime": {
     "end_time": "2025-05-17T15:14:50.203825Z",
     "start_time": "2025-05-17T15:14:50.197316Z"
    }
   },
   "outputs": [],
   "source": [
    "def factorial2(n):\n",
    "    if n==1:\n",
    "        return 1\n",
    "    return factorial2(n-1)*n"
   ]
  },
  {
   "cell_type": "code",
   "execution_count": 11,
   "id": "80f175c99825802f",
   "metadata": {
    "ExecuteTime": {
     "end_time": "2025-05-17T15:17:12.612391Z",
     "start_time": "2025-05-17T15:17:12.603941Z"
    }
   },
   "outputs": [
    {
     "data": {
      "text/plain": [
       "265252859812191058636308480000000"
      ]
     },
     "execution_count": 11,
     "metadata": {},
     "output_type": "execute_result"
    }
   ],
   "source": [
    "factorial2(30)"
   ]
  },
  {
   "cell_type": "markdown",
   "id": "a6787228799e8fc6",
   "metadata": {},
   "source": [
    "---\n",
    "Fibonachi"
   ]
  },
  {
   "cell_type": "code",
   "execution_count": 56,
   "id": "9d6db4075c4c297",
   "metadata": {
    "ExecuteTime": {
     "end_time": "2025-05-17T15:59:28.130698Z",
     "start_time": "2025-05-17T15:59:28.122664Z"
    }
   },
   "outputs": [],
   "source": [
    "def fib (n):\n",
    "    if n ==1:\n",
    "        return 0\n",
    "    if n==2:\n",
    "        return 1\n",
    "    a, b = 0, 1\n",
    "    cnt = 2\n",
    "\n",
    "    while cnt <= n:\n",
    "        a, b = b, a+b\n",
    "        cnt += 1\n",
    "\n",
    "    return a"
   ]
  },
  {
   "cell_type": "code",
   "execution_count": 60,
   "id": "a7380b160cab3d11",
   "metadata": {
    "ExecuteTime": {
     "end_time": "2025-05-17T16:02:20.381654Z",
     "start_time": "2025-05-17T16:02:20.375880Z"
    }
   },
   "outputs": [],
   "source": [
    "def fib2(n):\n",
    "    if n ==1:\n",
    "        return 0\n",
    "    if n ==2:\n",
    "        return 1\n",
    "    return fib2(n-1) + fib2(n-2)"
   ]
  },
  {
   "cell_type": "code",
   "execution_count": 65,
   "id": "d556fd6823382a67",
   "metadata": {
    "ExecuteTime": {
     "end_time": "2025-05-17T16:04:07.589038Z",
     "start_time": "2025-05-17T16:04:07.581507Z"
    }
   },
   "outputs": [],
   "source": [
    "def fib3(n):\n",
    "    if n in (1, 2):\n",
    "        return 1\n",
    "    return fib3(n - 1) + fib3(n - 2)"
   ]
  },
  {
   "cell_type": "code",
   "execution_count": 66,
   "id": "72d5e4592a345dfe",
   "metadata": {
    "ExecuteTime": {
     "end_time": "2025-05-17T16:04:28.318193Z",
     "start_time": "2025-05-17T16:04:28.311005Z"
    }
   },
   "outputs": [
    {
     "name": "stdout",
     "output_type": "stream",
     "text": [
      "1\n",
      "1\n",
      "2\n",
      "3\n",
      "5\n",
      "8\n"
     ]
    }
   ],
   "source": [
    "for i in range(1, 7):\n",
    "    print(fib3(i))"
   ]
  }
 ],
 "metadata": {
  "kernelspec": {
   "display_name": "Python 3",
   "language": "python",
   "name": "python3"
  },
  "language_info": {
   "codemirror_mode": {
    "name": "ipython",
    "version": 3
   },
   "file_extension": ".py",
   "mimetype": "text/x-python",
   "name": "python",
   "nbconvert_exporter": "python",
   "pygments_lexer": "ipython3",
   "version": "3.13.3"
  }
 },
 "nbformat": 4,
 "nbformat_minor": 5
}

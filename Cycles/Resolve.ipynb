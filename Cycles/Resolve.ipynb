{
 "cells": [
  {
   "metadata": {},
   "cell_type": "markdown",
   "source": [
    "Анаграмма — это слово, которое можно составить с по-\n",
    "мощью перестановки букв другого слова. Например,  \n",
    "в английском языке анаграммами являются слова «live»  \n",
    "и «evil», а в русском — «выбор» и «обрыв». Напишите\n",
    "программу, которая будет запрашивать у пользователя\n",
    "два слова, определять, являются ли они анаграммами,  \n",
    "и выводить на экран ответ."
   ],
   "id": "c684f405b5ceec17"
  },
  {
   "cell_type": "code",
   "id": "initial_id",
   "metadata": {
    "collapsed": true,
    "ExecuteTime": {
     "end_time": "2025-05-17T19:45:01.204279Z",
     "start_time": "2025-05-17T19:44:49.675687Z"
    }
   },
   "source": [
    "import random\n",
    "from curses.ascii import isalpha, isupper\n",
    "\n",
    "from pandas.core.array_algos.transforms import shift\n",
    "\n",
    "str1 = str(input(\"First word\"))\n",
    "str2 = str(input(\"Second word\"))\n",
    "\n",
    "set1 = set(str1)\n",
    "set2 = set(str2)\n",
    "\n",
    "if len(set1.symmetric_difference(set2)) > 0:\n",
    "    print(len(set1.symmetric_difference(set2)))\n",
    "else:\n",
    "    print(len(set1.symmetric_difference(set2)))"
   ],
   "outputs": [
    {
     "name": "stdout",
     "output_type": "stream",
     "text": [
      "True\n"
     ]
    }
   ],
   "execution_count": 19
  },
  {
   "metadata": {},
   "cell_type": "markdown",
   "source": [
    "Количество дней в месяце — от 28 до 31. Ваша программа\n",
    "должна запрашивать у пользователя название месяца \n",
    " и отображать количество дней в нем.\n",
    "\n",
    "Поскольку годы мы не учитываем, для февраля можно\n",
    "вывести сообщение о том, что этот месяц может состоять\n",
    "из 28 или 29 дней, чтобы учесть фактор високосного года."
   ],
   "id": "81411ccdce987d2"
  },
  {
   "metadata": {
    "ExecuteTime": {
     "end_time": "2025-05-17T20:12:13.366217Z",
     "start_time": "2025-05-17T20:12:08.654727Z"
    }
   },
   "cell_type": "code",
   "source": [
    "mounthes = {1:31, 2:29, 3:31, 4:30, 5:31, 6:30, 7:31, 8:31, 9:30, 10:31, 11:30, 12:31}\n",
    "\n",
    "mounth = int(input(\"Print month:\"))\n",
    "\n",
    "print(mounthes[mounth])"
   ],
   "id": "bebd309d6d5925fb",
   "outputs": [
    {
     "name": "stdout",
     "output_type": "stream",
     "text": [
      "31\n"
     ]
    }
   ],
   "execution_count": 20
  },
  {
   "metadata": {},
   "cell_type": "markdown",
   "source": [
    "В зоопарке цена входного билета зависит от возраста\n",
    "посетителя. Дети до двух лет и пенсионеры старше 65 лет\n",
    "допускаются бесплатно. Дети в возрасте от трех до 12 лет\n",
    "могут посещать зоопарк за 200 рублей. Обычный взрос-\n",
    "лый билет стоит 500 рублей.\n",
    "\n",
    "Напишите программу, которая будет запрашивать\n",
    "возраст всех посетителей в группе по одному за раз  \n",
    "и выводить общую цену билетов для посещения зоопарка\n",
    "этой группой. Общую цену билетов стоит выводить в\n",
    "формате с двумя знаками после запятой"
   ],
   "id": "23387a15e0222889"
  },
  {
   "metadata": {
    "ExecuteTime": {
     "end_time": "2025-05-17T20:43:21.566350Z",
     "start_time": "2025-05-17T20:42:47.742206Z"
    }
   },
   "cell_type": "code",
   "source": [
    "result_sum = 0\n",
    "#f\"{123.456:10.2f}\n",
    "while result_sum < 1500:\n",
    "    age = int(input(\"Age is:\"))\n",
    "    if age < 3 or age > 65:\n",
    "        pass\n",
    "    elif age < 12:\n",
    "        result_sum+=200\n",
    "    else:\n",
    "        result_sum +=500\n",
    "    print(f\"Age is: {age}\")\n",
    "    print(f\"Total amount = {result_sum:4.2f}\")"
   ],
   "id": "aad2c3d3aae67a7c",
   "outputs": [
    {
     "name": "stdout",
     "output_type": "stream",
     "text": [
      "Age is: 2\n",
      "Total amount = 0.00\n",
      "Age is: 3\n",
      "Total amount = 200.00\n",
      "Age is: 3\n",
      "Total amount = 400.00\n",
      "Age is: 4\n",
      "Total amount = 600.00\n",
      "Age is: 66\n",
      "Total amount = 600.00\n",
      "Age is: 76\n",
      "Total amount = 600.00\n",
      "Age is: 14\n",
      "Total amount = 1100.00\n",
      "Age is: 25\n",
      "Total amount = 1600.00\n"
     ]
    }
   ],
   "execution_count": 26
  },
  {
   "metadata": {},
   "cell_type": "markdown",
   "source": [
    "Напишите функцию для определения количества дней  \n",
    "в конкретном месяце. Ваша функция должна принимать\n",
    "два параметра: номер месяца в виде целого числа  \n",
    "в диапазоне от 1 до 12 и год, состоящий из четырех цифр.\n",
    "\n",
    "Убедитесь, что функция корректно обрабатывает фев-\n",
    "раль високосного года.\n",
    "\n",
    "Запросите у пользователя номер месяца и год и выведите\n",
    "на экран количество дней в указанном месяце."
   ],
   "id": "5a860670e64688d4"
  },
  {
   "metadata": {
    "ExecuteTime": {
     "end_time": "2025-05-17T20:58:14.666911Z",
     "start_time": "2025-05-17T20:58:00.838779Z"
    }
   },
   "cell_type": "code",
   "source": [
    "mounthes = {1: 31, 2: 29, 3: 31, 4: 30, 5: 31, 6: 30, 7: 31, 8: 31, 9: 30, 10: 31, 11: 30, 12: 31}\n",
    "\n",
    "mounth = int(input(\"Print month:\"))\n",
    "\n",
    "if mounth == 2:\n",
    "    year = int(input(\"Print year:\"))\n",
    "    if year%4 == 0:\n",
    "        mounthes[mounth]-=1\n",
    "print(mounthes[mounth])"
   ],
   "id": "44fbdbc8d09df0ad",
   "outputs": [
    {
     "name": "stdout",
     "output_type": "stream",
     "text": [
      "29\n"
     ]
    }
   ],
   "execution_count": 39
  },
  {
   "metadata": {
    "ExecuteTime": {
     "end_time": "2025-05-17T21:20:24.380971Z",
     "start_time": "2025-05-17T21:20:24.368708Z"
    }
   },
   "cell_type": "code",
   "source": [
    "x, y = 10, 0\n",
    "while x!=5:\n",
    "    y=y+y*2-3\n",
    "    print(F\"while y = {y}\")\n",
    "    x-=1\n",
    "    print(F\"while x = {x}\")\n",
    "if x==y:\n",
    "    x=x-y\n",
    "    print(F\"IF x = {x}\")\n",
    "    y=y+x\n",
    "    print(F\"IF y = {y}\")\n",
    "else:\n",
    "    x=x+y\n",
    "    print(F\"else x = {x}\")\n",
    "    y=y-x\n",
    "    print(F\"else y = {y}\")\n",
    "print(y)"
   ],
   "id": "54f8ab8df2365914",
   "outputs": [
    {
     "name": "stdout",
     "output_type": "stream",
     "text": [
      "while y = -3\n",
      "while x = 9\n",
      "while y = -12\n",
      "while x = 8\n",
      "while y = -39\n",
      "while x = 7\n",
      "while y = -120\n",
      "while x = 6\n",
      "while y = -363\n",
      "while x = 5\n",
      "else x = -358\n",
      "else y = -5\n",
      "-5\n"
     ]
    }
   ],
   "execution_count": 46
  },
  {
   "metadata": {
    "ExecuteTime": {
     "end_time": "2025-05-18T10:44:06.605938Z",
     "start_time": "2025-05-18T10:43:47.043674Z"
    }
   },
   "cell_type": "code",
   "source": [
    "word = str(input(\"Type the word:\"))\n",
    "res_word = \"\"\n",
    "for char in word:\n",
    "    if char.isalpha():\n",
    "        if char.isupper():\n",
    "            shift_char = ord(char) + 3\n",
    "            res_word += chr(shift_char) if shift_char <= ord(\"Z\") else chr(shift_char-26)\n",
    "        else:\n",
    "            shift_char = ord(char) + 3\n",
    "            res_word += chr(shift_char) if shift_char <= ord(\"z\") else chr(shift_char-26)\n",
    "\n",
    "print(F\"Result word: {res_word}\")"
   ],
   "id": "5f42bb1b99cb5eff",
   "outputs": [
    {
     "name": "stdout",
     "output_type": "stream",
     "text": [
      "Result word: LXiqdvrhzrCBA\n"
     ]
    }
   ],
   "execution_count": 4
  },
  {
   "metadata": {},
   "cell_type": "markdown",
   "source": [
    "Изучите список:\n",
    "\n",
    "my_list = [2, 4, 8].\n",
    "\n",
    "Представьте его в обратном порядке двумя способами и\n",
    "объясните, в чем между ними разница."
   ],
   "id": "1224b1fd8f2d5310"
  },
  {
   "metadata": {
    "ExecuteTime": {
     "end_time": "2025-05-18T10:51:07.931170Z",
     "start_time": "2025-05-18T10:51:07.921683Z"
    }
   },
   "cell_type": "code",
   "source": [
    "my_list = [2, 4, 8]\n",
    "i = len(my_list)-1\n",
    "new_list = []\n",
    "while i >= 0:\n",
    "    new_list.append(my_list[i])\n",
    "    i-=1\n",
    "new_list"
   ],
   "id": "46ca73f7f0bb3100",
   "outputs": [
    {
     "data": {
      "text/plain": [
       "[8, 4, 2]"
      ]
     },
     "execution_count": 7,
     "metadata": {},
     "output_type": "execute_result"
    }
   ],
   "execution_count": 7
  },
  {
   "metadata": {
    "ExecuteTime": {
     "end_time": "2025-05-18T11:23:20.670747Z",
     "start_time": "2025-05-18T11:23:20.662465Z"
    }
   },
   "cell_type": "code",
   "source": [
    "my_list = [2, 4, 8, 1,5,3]\n",
    "i, j = 0, len(my_list)-1\n",
    "if len(my_list) > 1:\n",
    "    while i < j:\n",
    "        my_list[i] , my_list[j] = my_list[j], my_list[i]\n",
    "        i+=1\n",
    "        j-=1\n",
    "print(my_list)"
   ],
   "id": "dcfe8039b1ad17ba",
   "outputs": [
    {
     "name": "stdout",
     "output_type": "stream",
     "text": [
      "[3, 5, 1, 8, 4, 2]\n"
     ]
    }
   ],
   "execution_count": 42
  },
  {
   "metadata": {},
   "cell_type": "markdown",
   "source": [
    "Изучите список:\n",
    "a = [1, 1, 2, 3, 5, 8, 34, 55, 89].\n",
    "Напишите код: выведите все элементы списка, которые\n",
    "меньше 5."
   ],
   "id": "127689504347a4cb"
  },
  {
   "metadata": {
    "ExecuteTime": {
     "end_time": "2025-05-18T11:30:10.601156Z",
     "start_time": "2025-05-18T11:30:10.593762Z"
    }
   },
   "cell_type": "code",
   "source": [
    "a = [1, 1, 2, 3, 5, 8, 34, 55, 89]\n",
    "lis = []\n",
    "for el in a:\n",
    "    if el< 5:\n",
    "        lis.append(el)\n",
    "print(lis)"
   ],
   "id": "e440bc175bc45b34",
   "outputs": [
    {
     "name": "stdout",
     "output_type": "stream",
     "text": [
      "[1, 1, 2, 3]\n"
     ]
    }
   ],
   "execution_count": 47
  },
  {
   "metadata": {},
   "cell_type": "markdown",
   "source": [
    "Напишите программу: запросите у пользователя целое\n",
    "число и выведите на экран информацию о том, четное\n",
    "оно или нечетное"
   ],
   "id": "84c3bee0e7c0c582"
  },
  {
   "metadata": {
    "ExecuteTime": {
     "end_time": "2025-05-18T11:33:41.939059Z",
     "start_time": "2025-05-18T11:33:34.743190Z"
    }
   },
   "cell_type": "code",
   "source": [
    "a = int(input(\"Type number:\"))\n",
    "if a%2 == 0:\n",
    "    print(\"Even\")\n",
    "else:\n",
    "    print(\"Odd\")"
   ],
   "id": "abc59e388657ec10",
   "outputs": [
    {
     "name": "stdout",
     "output_type": "stream",
     "text": [
      "Even\n"
     ]
    }
   ],
   "execution_count": 49
  },
  {
   "metadata": {
    "ExecuteTime": {
     "end_time": "2025-05-18T11:39:33.366169Z",
     "start_time": "2025-05-18T11:39:24.063488Z"
    }
   },
   "cell_type": "code",
   "source": [
    "A = int(input(\"Type number A:\"))\n",
    "B = int(input(\"Type number B:\"))\n",
    "C = int(input(\"Type number B:\"))\n",
    "\n",
    "if A==B:\n",
    "    C=A+B\n",
    "    E=B+C\n",
    "else:\n",
    "    if B<C:\n",
    "        A=A+B\n",
    "        E=A+C\n",
    "    else:\n",
    "        B=C+B\n",
    "        E=A+B\n",
    "print(E)"
   ],
   "id": "b45b89125beae797",
   "outputs": [
    {
     "name": "stdout",
     "output_type": "stream",
     "text": [
      "67\n"
     ]
    }
   ],
   "execution_count": 51
  },
  {
   "metadata": {},
   "cell_type": "markdown",
   "source": [
    "Напишите программу для отображения стандартной\n",
    "таблицы умножения от единицы до десяти. Убедитесь,  \n",
    "что ваша таблица умножения имеет заголовки над пер-\n",
    "вой строкой и слева от первого столбца.\n",
    "\n",
    "Предполагаемый вид таблицы умножения показан ниже."
   ],
   "id": "b21d05d4e087ebf1"
  },
  {
   "metadata": {
    "ExecuteTime": {
     "end_time": "2025-05-18T13:11:12.385434Z",
     "start_time": "2025-05-18T13:11:12.369531Z"
    }
   },
   "cell_type": "code",
   "source": [
    "i, j = 1, 1\n",
    "print( end=\"  \")\n",
    "while i<=10:\n",
    "    print(f\"{i:3.0f}\", end=\"  \")\n",
    "    i+=1\n",
    "else:\n",
    "    i = 1\n",
    "    print()\n",
    "    while i<=10:\n",
    "        print(f\"{i:3.0f}\", end=\"  \")\n",
    "        i+=1\n",
    "    else:\n",
    "        i = 1\n",
    "    while i<10:\n",
    "        i+=1\n",
    "        print()\n",
    "        while j<=10:\n",
    "            print (f\"{i*j:3.0f}\", end=\"  \")\n",
    "            j+=1\n",
    "        else:\n",
    "            j = 1"
   ],
   "id": "e37e605b9f2140a8",
   "outputs": [
    {
     "name": "stdout",
     "output_type": "stream",
     "text": [
      "    1    2    3    4    5    6    7    8    9   10  \n",
      "  1    2    3    4    5    6    7    8    9   10  \n",
      "  2    4    6    8   10   12   14   16   18   20  \n",
      "  3    6    9   12   15   18   21   24   27   30  \n",
      "  4    8   12   16   20   24   28   32   36   40  \n",
      "  5   10   15   20   25   30   35   40   45   50  \n",
      "  6   12   18   24   30   36   42   48   54   60  \n",
      "  7   14   21   28   35   42   49   56   63   70  \n",
      "  8   16   24   32   40   48   56   64   72   80  \n",
      "  9   18   27   36   45   54   63   72   81   90  \n",
      " 10   20   30   40   50   60   70   80   90  100  "
     ]
    }
   ],
   "execution_count": 123
  },
  {
   "metadata": {
    "ExecuteTime": {
     "end_time": "2025-05-18T14:24:59.047892Z",
     "start_time": "2025-05-18T14:24:59.041467Z"
    }
   },
   "cell_type": "code",
   "source": "import random",
   "id": "c39c326a7d24e08e",
   "outputs": [],
   "execution_count": 130
  },
  {
   "metadata": {},
   "cell_type": "markdown",
   "source": [
    "Для выигрыша главного приза нужно, чтобы 6 номеров\n",
    "на лотерейном билете совпали с шестью числами, кото-\n",
    "рые выпали случайным образом в диапазоне от 1 до 49.\n",
    "\n",
    "Напишите программу, которая будет случайным образом\n",
    "подбирать шесть номеров для вашего билета. Убедитесь,\n",
    "что среди этих чисел не будет дубликатов. Выведите\n",
    "номера билетов на экран по возрастанию.\n",
    "\n",
    "Важно: в коде используйте функцию random.sample()."
   ],
   "id": "88938dddfeb04423"
  },
  {
   "metadata": {
    "ExecuteTime": {
     "end_time": "2025-05-18T14:28:08.157879Z",
     "start_time": "2025-05-18T14:28:08.150529Z"
    }
   },
   "cell_type": "code",
   "source": [
    "range_numbers =random.sample(range(1, 50),6)\n",
    "range_numbers.sort()\n",
    "print(range_numbers)\n"
   ],
   "id": "36ee62cedc41047b",
   "outputs": [
    {
     "name": "stdout",
     "output_type": "stream",
     "text": [
      "[15, 23, 32, 36, 40, 45]\n"
     ]
    }
   ],
   "execution_count": 147
  },
  {
   "metadata": {},
   "cell_type": "markdown",
   "source": [
    "Напишите программу, которая будет запрашивать  \n",
    "у пользователя целочисленные значения и сохранять  \n",
    "их в виде списка.\n",
    "\n",
    "Чтобы закончить ввод значений, пользователь должен\n",
    "ввести 0.\n",
    "\n",
    "Затем программа выведет на экран все числа, кроме 0,  \n",
    "в порядке возрастания — по одному значению в строке."
   ],
   "id": "4586b6e56dd68424"
  },
  {
   "metadata": {
    "ExecuteTime": {
     "end_time": "2025-05-18T15:13:22.364556Z",
     "start_time": "2025-05-18T15:13:12.379781Z"
    }
   },
   "cell_type": "code",
   "source": [
    "result_list =[]\n",
    "fl = True\n",
    "while fl:\n",
    "    element = input(\"type number:\")\n",
    "    if isinstance(int(element), int):\n",
    "        element = int(element)\n",
    "        if element == 0:\n",
    "            result_list.sort()\n",
    "            fl = False\n",
    "            print(result_list)\n",
    "        result_list.append(element)\n"
   ],
   "id": "a6f8ab35609e5387",
   "outputs": [
    {
     "name": "stdout",
     "output_type": "stream",
     "text": [
      "[1, 2, 3]\n"
     ]
    }
   ],
   "execution_count": 160
  },
  {
   "metadata": {
    "ExecuteTime": {
     "end_time": "2025-05-18T15:08:25.904959Z",
     "start_time": "2025-05-18T15:08:21.853261Z"
    }
   },
   "cell_type": "code",
   "source": [
    "element = input(\"type number:\")\n",
    "type(element)\n",
    "#isinstance(element, int)"
   ],
   "id": "58c5c15967e5a4f1",
   "outputs": [
    {
     "data": {
      "text/plain": [
       "str"
      ]
     },
     "execution_count": 155,
     "metadata": {},
     "output_type": "execute_result"
    }
   ],
   "execution_count": 155
  },
  {
   "metadata": {},
   "cell_type": "markdown",
   "source": [
    "Напишите программу, которая будет складывать числа,\n",
    "введенные пользователем.\n",
    "\n",
    "Сигнал к окончанию ввода — пустая строка.\n",
    "\n",
    "Отобразите на экране сумму значений. Если пользова-\n",
    "тель сразу же пропустил ввод, выведите 0.0. Решите эту\n",
    "задачу с использованием рекурсии. В вашей программе\n",
    "не должны присутствовать циклы.\n",
    "\n",
    "Важно: запросите одно число у пользователя в теле\n",
    "вашей рекурсивной функции. После этого должно быть\n",
    "принято решение, производить ли еще один рекур-\n",
    "сивный вызов.\n",
    "\n",
    "Ваша функция не должна принимать аргументов, а воз-\n",
    "вращать будет числовое значение."
   ],
   "id": "9d37db7c54f50b57"
  },
  {
   "metadata": {
    "ExecuteTime": {
     "end_time": "2025-05-19T15:37:15.269124Z",
     "start_time": "2025-05-19T15:37:15.262556Z"
    }
   },
   "cell_type": "code",
   "source": [
    "def calculate():\n",
    "    number = input(\"Enter number:\")\n",
    "    if number.isnumeric():\n",
    "        return int(number) + calculate()\n",
    "    if number == \"\":\n",
    "        return 0.0\n",
    "    else:\n",
    "        return 0.0 + calculate()"
   ],
   "id": "2d6e5e1a5da624a9",
   "outputs": [],
   "execution_count": 187
  },
  {
   "metadata": {
    "ExecuteTime": {
     "end_time": "2025-05-19T15:37:24.096667Z",
     "start_time": "2025-05-19T15:37:17.029863Z"
    }
   },
   "cell_type": "code",
   "source": [
    "result_sum = calculate()\n",
    "result_sum"
   ],
   "id": "1cbb719cfda57e99",
   "outputs": [
    {
     "data": {
      "text/plain": [
       "3.0"
      ]
     },
     "execution_count": 188,
     "metadata": {},
     "output_type": "execute_result"
    }
   ],
   "execution_count": 188
  }
 ],
 "metadata": {
  "kernelspec": {
   "display_name": "Python 3",
   "language": "python",
   "name": "python3"
  },
  "language_info": {
   "codemirror_mode": {
    "name": "ipython",
    "version": 2
   },
   "file_extension": ".py",
   "mimetype": "text/x-python",
   "name": "python",
   "nbconvert_exporter": "python",
   "pygments_lexer": "ipython2",
   "version": "2.7.6"
  }
 },
 "nbformat": 4,
 "nbformat_minor": 5
}

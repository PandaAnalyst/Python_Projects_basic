{
 "cells": [
  {
   "cell_type": "code",
   "execution_count": 2,
   "id": "initial_id",
   "metadata": {
    "ExecuteTime": {
     "end_time": "2025-05-13T14:22:46.161351Z",
     "start_time": "2025-05-13T14:22:46.152331Z"
    },
    "collapsed": true
   },
   "outputs": [
    {
     "data": {
      "text/plain": [
       "dict"
      ]
     },
     "execution_count": 2,
     "metadata": {},
     "output_type": "execute_result"
    }
   ],
   "source": [
    "d = {}\n",
    "type(d)"
   ]
  },
  {
   "cell_type": "code",
   "execution_count": 3,
   "id": "1578dff1",
   "metadata": {},
   "outputs": [
    {
     "data": {
      "text/plain": [
       "dict"
      ]
     },
     "execution_count": 3,
     "metadata": {},
     "output_type": "execute_result"
    }
   ],
   "source": [
    "d = dict()\n",
    "type(d)"
   ]
  },
  {
   "cell_type": "code",
   "execution_count": 4,
   "id": "e26cac32443465a",
   "metadata": {
    "ExecuteTime": {
     "end_time": "2025-05-13T14:24:47.024966Z",
     "start_time": "2025-05-13T14:24:47.018325Z"
    }
   },
   "outputs": [],
   "source": [
    "d = {\n",
    "    'a': 1,\n",
    "    \"b\": [1, 2, 3],\n",
    "    'c': 'asd'\n",
    "}"
   ]
  },
  {
   "cell_type": "code",
   "execution_count": null,
   "id": "fc76aee497df2779",
   "metadata": {},
   "outputs": [],
   "source": []
  },
  {
   "cell_type": "code",
   "execution_count": 5,
   "id": "94a351baa4e49632",
   "metadata": {
    "ExecuteTime": {
     "end_time": "2025-05-13T14:24:49.076442Z",
     "start_time": "2025-05-13T14:24:49.069379Z"
    }
   },
   "outputs": [
    {
     "data": {
      "text/plain": [
       "{'a': 1, 'b': [1, 2, 3], 'c': 'asd'}"
      ]
     },
     "execution_count": 5,
     "metadata": {},
     "output_type": "execute_result"
    }
   ],
   "source": [
    "d"
   ]
  },
  {
   "cell_type": "code",
   "execution_count": 6,
   "id": "2fc28b20b8a9bf8e",
   "metadata": {
    "ExecuteTime": {
     "end_time": "2025-05-13T14:25:06.603992Z",
     "start_time": "2025-05-13T14:25:06.596048Z"
    }
   },
   "outputs": [
    {
     "data": {
      "text/plain": [
       "[1, 2, 3]"
      ]
     },
     "execution_count": 6,
     "metadata": {},
     "output_type": "execute_result"
    }
   ],
   "source": [
    "d['b']"
   ]
  },
  {
   "cell_type": "code",
   "execution_count": 7,
   "id": "dcc088e40d6b4da2",
   "metadata": {
    "ExecuteTime": {
     "end_time": "2025-05-13T14:40:58.952402Z",
     "start_time": "2025-05-13T14:40:58.943882Z"
    }
   },
   "outputs": [
    {
     "data": {
      "text/plain": [
       "{1: 'a', 3: 3, 'd': 2}"
      ]
     },
     "execution_count": 7,
     "metadata": {},
     "output_type": "execute_result"
    }
   ],
   "source": [
    "d = dict([(1,\"a\"),(3,3), (\"d\",2)])\n",
    "d"
   ]
  },
  {
   "cell_type": "code",
   "execution_count": 8,
   "id": "53002b7fa4cb097d",
   "metadata": {
    "ExecuteTime": {
     "end_time": "2025-05-13T14:41:51.374601Z",
     "start_time": "2025-05-13T14:41:51.365309Z"
    }
   },
   "outputs": [
    {
     "data": {
      "text/plain": [
       "{1: 'a', 3: 3, 'd': 2, '32': 32}"
      ]
     },
     "execution_count": 8,
     "metadata": {},
     "output_type": "execute_result"
    }
   ],
   "source": [
    "d['32'] = 32\n",
    "d"
   ]
  },
  {
   "cell_type": "code",
   "execution_count": 9,
   "id": "d39bbc05e5eb68cc",
   "metadata": {
    "ExecuteTime": {
     "end_time": "2025-05-13T14:42:30.229810Z",
     "start_time": "2025-05-13T14:42:30.220557Z"
    }
   },
   "outputs": [
    {
     "data": {
      "text/plain": [
       "{1: '-a', 3: 3, 'd': 2, '32': 32}"
      ]
     },
     "execution_count": 9,
     "metadata": {},
     "output_type": "execute_result"
    }
   ],
   "source": [
    "d[1] = '-a'\n",
    "d"
   ]
  },
  {
   "cell_type": "markdown",
   "id": "c6d761480975e67f",
   "metadata": {},
   "source": [
    "---"
   ]
  },
  {
   "cell_type": "code",
   "execution_count": 10,
   "id": "df8908ed1e3d7e7f",
   "metadata": {
    "ExecuteTime": {
     "end_time": "2025-05-13T19:22:28.900178Z",
     "start_time": "2025-05-13T19:22:28.882590Z"
    }
   },
   "outputs": [
    {
     "data": {
      "text/plain": [
       "{1: '-a', 3: 3, 'd': 2, '32': 32, (1, 2, 3): 'my tuple'}"
      ]
     },
     "execution_count": 10,
     "metadata": {},
     "output_type": "execute_result"
    }
   ],
   "source": [
    "a = (1, 2 ,3)\n",
    "d[a] = \"my tuple\"\n",
    "d"
   ]
  },
  {
   "cell_type": "code",
   "execution_count": 11,
   "id": "7db1a4e8aa33feb8",
   "metadata": {
    "ExecuteTime": {
     "end_time": "2025-05-13T19:23:41.866334Z",
     "start_time": "2025-05-13T19:23:41.822314Z"
    }
   },
   "outputs": [
    {
     "ename": "TypeError",
     "evalue": "unhashable type: 'list'",
     "output_type": "error",
     "traceback": [
      "\u001b[31m---------------------------------------------------------------------------\u001b[39m",
      "\u001b[31mTypeError\u001b[39m                                 Traceback (most recent call last)",
      "\u001b[36mCell\u001b[39m\u001b[36m \u001b[39m\u001b[32mIn[11]\u001b[39m\u001b[32m, line 2\u001b[39m\n\u001b[32m      1\u001b[39m b = (\u001b[32m1\u001b[39m, \u001b[32m2\u001b[39m, \u001b[32m3\u001b[39m,[\u001b[32m1\u001b[39m,\u001b[32m2\u001b[39m])\n\u001b[32m----> \u001b[39m\u001b[32m2\u001b[39m \u001b[43md\u001b[49m\u001b[43m[\u001b[49m\u001b[43mb\u001b[49m\u001b[43m]\u001b[49m = (\u001b[32m2\u001b[39m,\u001b[32m3\u001b[39m,\u001b[32m4\u001b[39m)\n\u001b[32m      3\u001b[39m d\n",
      "\u001b[31mTypeError\u001b[39m: unhashable type: 'list'"
     ]
    }
   ],
   "source": [
    "b = (1, 2, 3,[1,2])\n",
    "d[b] = (2,3,4)\n",
    "d"
   ]
  },
  {
   "cell_type": "code",
   "execution_count": null,
   "id": "8fe023f762f6e49e",
   "metadata": {
    "ExecuteTime": {
     "end_time": "2025-05-15T10:08:02.785034Z",
     "start_time": "2025-05-15T10:08:02.763365Z"
    }
   },
   "outputs": [
    {
     "data": {
      "text/plain": [
       "{1: '-a', 3: 3, 'd': 2, '32': 32, (1, 2, 3): 'my tuple'}"
      ]
     },
     "execution_count": 17,
     "metadata": {},
     "output_type": "execute_result"
    }
   ],
   "source": [
    "d"
   ]
  },
  {
   "cell_type": "code",
   "execution_count": null,
   "id": "b91d34c9ee4b0b04",
   "metadata": {
    "ExecuteTime": {
     "end_time": "2025-05-15T10:08:20.580655Z",
     "start_time": "2025-05-15T10:08:20.565413Z"
    }
   },
   "outputs": [
    {
     "data": {
      "text/plain": [
       "{}"
      ]
     },
     "execution_count": 19,
     "metadata": {},
     "output_type": "execute_result"
    }
   ],
   "source": [
    "d.clear()\n",
    "d"
   ]
  },
  {
   "cell_type": "code",
   "execution_count": null,
   "id": "72886fb1a0cca580",
   "metadata": {
    "ExecuteTime": {
     "end_time": "2025-05-15T10:09:22.525134Z",
     "start_time": "2025-05-15T10:09:22.505398Z"
    }
   },
   "outputs": [
    {
     "data": {
      "text/plain": [
       "{1: 'a', 3: 3, 'd': 2}"
      ]
     },
     "execution_count": 20,
     "metadata": {},
     "output_type": "execute_result"
    }
   ],
   "source": [
    "d = dict([(1,\"a\"),(3,3), (\"d\",2)])\n",
    "d"
   ]
  },
  {
   "cell_type": "code",
   "execution_count": null,
   "id": "e02345750dfe88e1",
   "metadata": {
    "ExecuteTime": {
     "end_time": "2025-05-15T10:18:13.686127Z",
     "start_time": "2025-05-15T10:18:13.677306Z"
    }
   },
   "outputs": [
    {
     "data": {
      "text/plain": [
       "'a'"
      ]
     },
     "execution_count": 21,
     "metadata": {},
     "output_type": "execute_result"
    }
   ],
   "source": [
    "d[1]"
   ]
  },
  {
   "cell_type": "code",
   "execution_count": null,
   "id": "593795800bafc966",
   "metadata": {
    "ExecuteTime": {
     "end_time": "2025-05-15T10:20:16.091311Z",
     "start_time": "2025-05-15T10:20:16.083894Z"
    }
   },
   "outputs": [],
   "source": [
    "d['ds'] = 3"
   ]
  },
  {
   "cell_type": "code",
   "execution_count": null,
   "id": "848999c94a122aca",
   "metadata": {
    "ExecuteTime": {
     "end_time": "2025-05-15T10:20:35.812460Z",
     "start_time": "2025-05-15T10:20:35.803211Z"
    }
   },
   "outputs": [
    {
     "data": {
      "text/plain": [
       "3"
      ]
     },
     "execution_count": 23,
     "metadata": {},
     "output_type": "execute_result"
    }
   ],
   "source": [
    "d['ds']"
   ]
  },
  {
   "cell_type": "code",
   "execution_count": null,
   "id": "b0165a30f471b668",
   "metadata": {
    "ExecuteTime": {
     "end_time": "2025-05-15T10:20:54.187477Z",
     "start_time": "2025-05-15T10:20:54.178384Z"
    }
   },
   "outputs": [
    {
     "data": {
      "text/plain": [
       "3"
      ]
     },
     "execution_count": 24,
     "metadata": {},
     "output_type": "execute_result"
    }
   ],
   "source": [
    "s = 'ds'\n",
    "d[s]"
   ]
  },
  {
   "cell_type": "code",
   "execution_count": null,
   "id": "7b8f4531776a9683",
   "metadata": {
    "ExecuteTime": {
     "end_time": "2025-05-15T10:30:30.455546Z",
     "start_time": "2025-05-15T10:30:30.395601Z"
    }
   },
   "outputs": [
    {
     "ename": "KeyError",
     "evalue": "100",
     "output_type": "error",
     "traceback": [
      "\u001b[31m---------------------------------------------------------------------------\u001b[39m",
      "\u001b[31mKeyError\u001b[39m                                  Traceback (most recent call last)",
      "\u001b[36mCell\u001b[39m\u001b[36m \u001b[39m\u001b[32mIn[25]\u001b[39m\u001b[32m, line 1\u001b[39m\n\u001b[32m----> \u001b[39m\u001b[32m1\u001b[39m \u001b[43md\u001b[49m\u001b[43m[\u001b[49m\u001b[32;43m100\u001b[39;49m\u001b[43m]\u001b[49m\n",
      "\u001b[31mKeyError\u001b[39m: 100"
     ]
    }
   ],
   "source": [
    "d[100]"
   ]
  },
  {
   "cell_type": "code",
   "execution_count": null,
   "id": "cea438639f16612d",
   "metadata": {
    "ExecuteTime": {
     "end_time": "2025-05-15T10:31:08.492079Z",
     "start_time": "2025-05-15T10:31:08.486939Z"
    }
   },
   "outputs": [],
   "source": [
    "d.get(100)"
   ]
  },
  {
   "cell_type": "code",
   "execution_count": null,
   "id": "30f64f4185197f5",
   "metadata": {
    "ExecuteTime": {
     "end_time": "2025-05-15T10:31:29.233020Z",
     "start_time": "2025-05-15T10:31:29.225679Z"
    }
   },
   "outputs": [
    {
     "data": {
      "text/plain": [
       "3"
      ]
     },
     "execution_count": 28,
     "metadata": {},
     "output_type": "execute_result"
    }
   ],
   "source": [
    "d.get('ds')"
   ]
  },
  {
   "cell_type": "code",
   "execution_count": null,
   "id": "ba7c5f00e78e1430",
   "metadata": {
    "ExecuteTime": {
     "end_time": "2025-05-15T10:31:55.069135Z",
     "start_time": "2025-05-15T10:31:55.055074Z"
    }
   },
   "outputs": [
    {
     "data": {
      "text/plain": [
       "0"
      ]
     },
     "execution_count": 29,
     "metadata": {},
     "output_type": "execute_result"
    }
   ],
   "source": [
    "d.get(10000, 0)"
   ]
  },
  {
   "cell_type": "code",
   "execution_count": null,
   "id": "68abe2a30379088",
   "metadata": {
    "ExecuteTime": {
     "end_time": "2025-05-15T10:33:04.384526Z",
     "start_time": "2025-05-15T10:33:04.376664Z"
    }
   },
   "outputs": [
    {
     "data": {
      "text/plain": [
       "2"
      ]
     },
     "execution_count": 30,
     "metadata": {},
     "output_type": "execute_result"
    }
   ],
   "source": [
    "d.get('d')"
   ]
  },
  {
   "cell_type": "code",
   "execution_count": null,
   "id": "ba5e0f64f926767f",
   "metadata": {
    "ExecuteTime": {
     "end_time": "2025-05-15T10:33:19.535624Z",
     "start_time": "2025-05-15T10:33:19.529228Z"
    }
   },
   "outputs": [
    {
     "data": {
      "text/plain": [
       "dict_items([(1, 'a'), (3, 3), ('d', 2), ('ds', 3)])"
      ]
     },
     "execution_count": 31,
     "metadata": {},
     "output_type": "execute_result"
    }
   ],
   "source": [
    "d.items()"
   ]
  },
  {
   "cell_type": "code",
   "execution_count": null,
   "id": "4930bc07dd794f86",
   "metadata": {
    "ExecuteTime": {
     "end_time": "2025-05-15T10:33:39.639267Z",
     "start_time": "2025-05-15T10:33:39.635126Z"
    }
   },
   "outputs": [
    {
     "data": {
      "text/plain": [
       "[(1, 'a'), (3, 3), ('d', 2), ('ds', 3)]"
      ]
     },
     "execution_count": 33,
     "metadata": {},
     "output_type": "execute_result"
    }
   ],
   "source": [
    "list(d.items())"
   ]
  },
  {
   "cell_type": "code",
   "execution_count": null,
   "id": "c7723375f0c90074",
   "metadata": {
    "ExecuteTime": {
     "end_time": "2025-05-15T10:33:45.578691Z",
     "start_time": "2025-05-15T10:33:45.574818Z"
    }
   },
   "outputs": [
    {
     "data": {
      "text/plain": [
       "dict_keys([1, 3, 'd', 'ds'])"
      ]
     },
     "execution_count": 34,
     "metadata": {},
     "output_type": "execute_result"
    }
   ],
   "source": [
    "d.keys()"
   ]
  },
  {
   "cell_type": "code",
   "execution_count": null,
   "id": "9b0bcd90d6316806",
   "metadata": {
    "ExecuteTime": {
     "end_time": "2025-05-15T10:34:12.650577Z",
     "start_time": "2025-05-15T10:34:12.643080Z"
    }
   },
   "outputs": [
    {
     "data": {
      "text/plain": [
       "['a', 3, 2, 3]"
      ]
     },
     "execution_count": 36,
     "metadata": {},
     "output_type": "execute_result"
    }
   ],
   "source": [
    "list(d.values())"
   ]
  },
  {
   "cell_type": "code",
   "execution_count": null,
   "id": "5dac49ed40a10583",
   "metadata": {},
   "outputs": [],
   "source": [
    "a = {100: 'abcde', 1: 'bbb'}"
   ]
  },
  {
   "cell_type": "code",
   "execution_count": null,
   "id": "8d6b5ae6762f8d99",
   "metadata": {
    "ExecuteTime": {
     "end_time": "2025-05-15T10:41:57.339918Z",
     "start_time": "2025-05-15T10:41:57.334961Z"
    }
   },
   "outputs": [],
   "source": [
    "d1 = {2: 'b', 1: 'a', (1, 2, 3): 'c'}"
   ]
  },
  {
   "cell_type": "code",
   "execution_count": null,
   "id": "965c248c59f488d3",
   "metadata": {
    "ExecuteTime": {
     "end_time": "2025-05-15T10:41:59.215409Z",
     "start_time": "2025-05-15T10:41:59.208327Z"
    }
   },
   "outputs": [],
   "source": [
    "d.update(d1)"
   ]
  },
  {
   "cell_type": "code",
   "execution_count": null,
   "id": "ff455083bb912096",
   "metadata": {
    "ExecuteTime": {
     "end_time": "2025-05-15T10:36:55.487731Z",
     "start_time": "2025-05-15T10:36:55.483236Z"
    }
   },
   "outputs": [
    {
     "data": {
      "text/plain": [
       "{1: 'a', 3: 3, 'd': 2, 'ds': 3, 2: 'b', (1, 2, 3): 'c'}"
      ]
     },
     "execution_count": 40,
     "metadata": {},
     "output_type": "execute_result"
    }
   ],
   "source": [
    "d"
   ]
  },
  {
   "cell_type": "code",
   "execution_count": null,
   "id": "1661cefc9ff2d166",
   "metadata": {
    "ExecuteTime": {
     "end_time": "2025-05-15T10:38:04.034869Z",
     "start_time": "2025-05-15T10:38:04.028344Z"
    }
   },
   "outputs": [
    {
     "data": {
      "text/plain": [
       "{1: 'a', 3: 3, 'd': 2, 'ds': 3, 2: 'b', (1, 2, 3): 'c'}"
      ]
     },
     "execution_count": 41,
     "metadata": {},
     "output_type": "execute_result"
    }
   ],
   "source": [
    "{**d, **d1}"
   ]
  },
  {
   "cell_type": "code",
   "execution_count": null,
   "id": "4f0d0fab73fe51d9",
   "metadata": {
    "ExecuteTime": {
     "end_time": "2025-05-15T10:38:48.721613Z",
     "start_time": "2025-05-15T10:38:48.714200Z"
    }
   },
   "outputs": [
    {
     "data": {
      "text/plain": [
       "13"
      ]
     },
     "execution_count": 43,
     "metadata": {},
     "output_type": "execute_result"
    }
   ],
   "source": [
    "import sys\n",
    "sys.version_info.minor"
   ]
  },
  {
   "cell_type": "code",
   "execution_count": null,
   "id": "24f02f6c6e6af440",
   "metadata": {
    "ExecuteTime": {
     "end_time": "2025-05-15T10:39:42.317523Z",
     "start_time": "2025-05-15T10:39:42.309454Z"
    }
   },
   "outputs": [
    {
     "data": {
      "text/plain": [
       "{1: 'a', 3: 3, 'd': 2, 'ds': 3, 2: 'b', (1, 2, 3): 'c'}"
      ]
     },
     "execution_count": 45,
     "metadata": {},
     "output_type": "execute_result"
    }
   ],
   "source": [
    "d | d1"
   ]
  },
  {
   "cell_type": "code",
   "execution_count": null,
   "id": "64d6dcfab596f2fc",
   "metadata": {
    "ExecuteTime": {
     "end_time": "2025-05-15T10:40:12.773388Z",
     "start_time": "2025-05-15T10:40:12.765788Z"
    }
   },
   "outputs": [
    {
     "data": {
      "text/plain": [
       "'b'"
      ]
     },
     "execution_count": 46,
     "metadata": {},
     "output_type": "execute_result"
    }
   ],
   "source": [
    "d.pop(2)"
   ]
  },
  {
   "cell_type": "code",
   "execution_count": null,
   "id": "d210e2c379f5b7a5",
   "metadata": {
    "ExecuteTime": {
     "end_time": "2025-05-15T10:40:21.624006Z",
     "start_time": "2025-05-15T10:40:21.617146Z"
    }
   },
   "outputs": [
    {
     "data": {
      "text/plain": [
       "{1: 'a', 3: 3, 'd': 2, 'ds': 3, (1, 2, 3): 'c'}"
      ]
     },
     "execution_count": 47,
     "metadata": {},
     "output_type": "execute_result"
    }
   ],
   "source": [
    "d"
   ]
  },
  {
   "cell_type": "code",
   "execution_count": null,
   "id": "566f11d45903d50",
   "metadata": {
    "ExecuteTime": {
     "end_time": "2025-05-15T10:42:05.001521Z",
     "start_time": "2025-05-15T10:42:04.996045Z"
    }
   },
   "outputs": [
    {
     "data": {
      "text/plain": [
       "{1: 'a', 3: 3, 'd': 2, 'ds': 3, 2: 'b', (1, 2, 3): 'c', 'ce': 999}"
      ]
     },
     "execution_count": 56,
     "metadata": {},
     "output_type": "execute_result"
    }
   ],
   "source": [
    "d['ce'] = 999\n",
    "d"
   ]
  },
  {
   "cell_type": "code",
   "execution_count": null,
   "id": "9b77939f286b2f34",
   "metadata": {
    "ExecuteTime": {
     "end_time": "2025-05-15T10:41:42.781158Z",
     "start_time": "2025-05-15T10:41:42.773387Z"
    }
   },
   "outputs": [
    {
     "data": {
      "text/plain": [
       "{1: 'a', 3: 3, 'd': 2, 'ds': 3}"
      ]
     },
     "execution_count": 52,
     "metadata": {},
     "output_type": "execute_result"
    }
   ],
   "source": [
    "d.popitem()\n",
    "d"
   ]
  },
  {
   "cell_type": "code",
   "execution_count": 16,
   "id": "d7894afb",
   "metadata": {},
   "outputs": [
    {
     "data": {
      "text/plain": [
       "{'d': 2, '32': 32, (1, 2, 3): 'my tuple'}"
      ]
     },
     "execution_count": 16,
     "metadata": {},
     "output_type": "execute_result"
    }
   ],
   "source": [
    "d"
   ]
  },
  {
   "cell_type": "code",
   "execution_count": 15,
   "id": "4e9fde884367919b",
   "metadata": {
    "ExecuteTime": {
     "end_time": "2025-05-15T10:43:04.781850Z",
     "start_time": "2025-05-15T10:43:04.775111Z"
    }
   },
   "outputs": [],
   "source": [
    "del d[3]\n"
   ]
  },
  {
   "cell_type": "code",
   "execution_count": null,
   "id": "b75f19fe2a2d8fcd",
   "metadata": {
    "ExecuteTime": {
     "end_time": "2025-05-15T10:53:44.633046Z",
     "start_time": "2025-05-15T10:53:44.621522Z"
    }
   },
   "outputs": [
    {
     "data": {
      "text/plain": [
       "1"
      ]
     },
     "execution_count": 1,
     "metadata": {},
     "output_type": "execute_result"
    }
   ],
   "source": [
    "f = True\n",
    "int(f)"
   ]
  }
 ],
 "metadata": {
  "kernelspec": {
   "display_name": "Python 3",
   "language": "python",
   "name": "python3"
  },
  "language_info": {
   "codemirror_mode": {
    "name": "ipython",
    "version": 3
   },
   "file_extension": ".py",
   "mimetype": "text/x-python",
   "name": "python",
   "nbconvert_exporter": "python",
   "pygments_lexer": "ipython3",
   "version": "3.13.3"
  }
 },
 "nbformat": 4,
 "nbformat_minor": 5
}

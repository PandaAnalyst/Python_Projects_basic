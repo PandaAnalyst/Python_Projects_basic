{
 "cells": [
  {
   "cell_type": "markdown",
   "id": "74bd28df6d51b854",
   "metadata": {},
   "source": [
    "# Tupels"
   ]
  },
  {
   "cell_type": "markdown",
   "id": "22952432adb41d1a",
   "metadata": {},
   "source": [
    "## Create tupels (mutable)"
   ]
  },
  {
   "cell_type": "code",
   "execution_count": 3,
   "id": "343267f5c752bd6b",
   "metadata": {
    "ExecuteTime": {
     "end_time": "2025-05-12T20:38:55.350844Z",
     "start_time": "2025-05-12T20:38:55.343689Z"
    }
   },
   "outputs": [
    {
     "data": {
      "text/plain": [
       "(3, 4)"
      ]
     },
     "execution_count": 3,
     "metadata": {},
     "output_type": "execute_result"
    }
   ],
   "source": [
    "a = (3,4)\n",
    "a"
   ]
  },
  {
   "cell_type": "code",
   "execution_count": 4,
   "id": "2a5d5a92",
   "metadata": {},
   "outputs": [
    {
     "data": {
      "text/plain": [
       "tuple"
      ]
     },
     "execution_count": 4,
     "metadata": {},
     "output_type": "execute_result"
    }
   ],
   "source": [
    "tup = ()\n",
    "type(tup)"
   ]
  },
  {
   "cell_type": "code",
   "execution_count": 5,
   "id": "5c44fecfe9f9af1c",
   "metadata": {
    "ExecuteTime": {
     "end_time": "2025-05-12T20:38:55.386228Z",
     "start_time": "2025-05-12T20:38:55.379048Z"
    }
   },
   "outputs": [
    {
     "data": {
      "text/plain": [
       "()"
      ]
     },
     "execution_count": 5,
     "metadata": {},
     "output_type": "execute_result"
    }
   ],
   "source": [
    "a = tuple()\n",
    "a"
   ]
  },
  {
   "cell_type": "code",
   "execution_count": 6,
   "id": "9439233ba8cab5de",
   "metadata": {
    "ExecuteTime": {
     "end_time": "2025-05-12T20:38:55.437974Z",
     "start_time": "2025-05-12T20:38:55.427950Z"
    }
   },
   "outputs": [
    {
     "data": {
      "text/plain": [
       "('q', 'w', 'e', 'a', 's', 'd', 'z', 'x', 'c')"
      ]
     },
     "execution_count": 6,
     "metadata": {},
     "output_type": "execute_result"
    }
   ],
   "source": [
    "a = tuple(\"qweasdzxc\")\n",
    "a"
   ]
  },
  {
   "cell_type": "code",
   "execution_count": 7,
   "id": "8e8fc7d1a3a0a1ab",
   "metadata": {
    "ExecuteTime": {
     "end_time": "2025-05-12T20:38:55.474814Z",
     "start_time": "2025-05-12T20:38:55.468760Z"
    }
   },
   "outputs": [
    {
     "data": {
      "text/plain": [
       "['d', 'c', 'e', 'x', 's', 'w', 'z', 'q', 'a']"
      ]
     },
     "execution_count": 7,
     "metadata": {},
     "output_type": "execute_result"
    }
   ],
   "source": [
    "a = []\n",
    "a.extend(\"dcexswzqa\")\n",
    "a"
   ]
  },
  {
   "cell_type": "code",
   "execution_count": 8,
   "id": "b07f23ebd908b83b",
   "metadata": {
    "ExecuteTime": {
     "end_time": "2025-05-12T20:39:30.268779Z",
     "start_time": "2025-05-12T20:39:30.259183Z"
    }
   },
   "outputs": [
    {
     "data": {
      "text/plain": [
       "(['d', 'c', 'e', 'x', 's', 'w', 'z', 'q', 'a'],\n",
       " ('d', 'c', 'e', 'x', 's', 'w', 'z', 'q', 'a'))"
      ]
     },
     "execution_count": 8,
     "metadata": {},
     "output_type": "execute_result"
    }
   ],
   "source": [
    "b = tuple(a)\n",
    "a, b"
   ]
  },
  {
   "cell_type": "code",
   "execution_count": 9,
   "id": "c867a65aa35ea477",
   "metadata": {
    "ExecuteTime": {
     "end_time": "2025-05-12T20:39:37.629691Z",
     "start_time": "2025-05-12T20:39:37.621396Z"
    }
   },
   "outputs": [
    {
     "data": {
      "text/plain": [
       "(120, 96)"
      ]
     },
     "execution_count": 9,
     "metadata": {},
     "output_type": "execute_result"
    }
   ],
   "source": [
    "a.__sizeof__(),b.__sizeof__()"
   ]
  },
  {
   "cell_type": "code",
   "execution_count": 25,
   "id": "38cfc23744ee1c16",
   "metadata": {
    "ExecuteTime": {
     "end_time": "2025-05-12T20:38:55.640424Z",
     "start_time": "2025-05-12T20:38:55.631586Z"
    }
   },
   "outputs": [
    {
     "ename": "AttributeError",
     "evalue": "'tuple' object has no attribute 'extend'",
     "output_type": "error",
     "traceback": [
      "\u001b[31m---------------------------------------------------------------------------\u001b[39m",
      "\u001b[31mAttributeError\u001b[39m                            Traceback (most recent call last)",
      "\u001b[36mCell\u001b[39m\u001b[36m \u001b[39m\u001b[32mIn[25]\u001b[39m\u001b[32m, line 2\u001b[39m\n\u001b[32m      1\u001b[39m b = (\u001b[32m2\u001b[39m,)\n\u001b[32m----> \u001b[39m\u001b[32m2\u001b[39m \u001b[43mb\u001b[49m\u001b[43m.\u001b[49m\u001b[43mextend\u001b[49m(a)\n\u001b[32m      3\u001b[39m b\n",
      "\u001b[31mAttributeError\u001b[39m: 'tuple' object has no attribute 'extend'"
     ]
    }
   ],
   "source": [
    "b = (2,)\n",
    "b.extend(a)\n",
    "b"
   ]
  },
  {
   "cell_type": "code",
   "execution_count": 11,
   "id": "f20d666eca14ea97",
   "metadata": {
    "ExecuteTime": {
     "end_time": "2025-05-12T20:38:55.744433Z",
     "start_time": "2025-05-12T20:38:55.734838Z"
    }
   },
   "outputs": [
    {
     "data": {
      "text/plain": [
       "(120, 136)"
      ]
     },
     "execution_count": 11,
     "metadata": {},
     "output_type": "execute_result"
    }
   ],
   "source": [
    "a.__sizeof__(),b.__sizeof__()"
   ]
  },
  {
   "cell_type": "code",
   "execution_count": 12,
   "id": "63526edbdba0bc7f",
   "metadata": {
    "ExecuteTime": {
     "end_time": "2025-05-12T20:40:14.030016Z",
     "start_time": "2025-05-12T20:40:14.001254Z"
    }
   },
   "outputs": [],
   "source": [
    "b[2] = 3"
   ]
  },
  {
   "cell_type": "code",
   "execution_count": 13,
   "id": "c84a9540c693ac5d",
   "metadata": {
    "ExecuteTime": {
     "end_time": "2025-05-12T20:41:50.825147Z",
     "start_time": "2025-05-12T20:41:50.817730Z"
    }
   },
   "outputs": [
    {
     "data": {
      "text/plain": [
       "3"
      ]
     },
     "execution_count": 13,
     "metadata": {},
     "output_type": "execute_result"
    }
   ],
   "source": [
    "b[2]"
   ]
  },
  {
   "cell_type": "code",
   "execution_count": null,
   "id": "564d8f97",
   "metadata": {},
   "outputs": [
    {
     "data": {
      "text/plain": [
       "tuple"
      ]
     },
     "execution_count": 26,
     "metadata": {},
     "output_type": "execute_result"
    }
   ],
   "source": [
    "type(a)\n",
    "c = a, a\n",
    "type(c)"
   ]
  },
  {
   "cell_type": "code",
   "execution_count": 27,
   "id": "897e48fa",
   "metadata": {},
   "outputs": [
    {
     "data": {
      "text/plain": [
       "tuple"
      ]
     },
     "execution_count": 27,
     "metadata": {},
     "output_type": "execute_result"
    }
   ],
   "source": [
    "d = 3, 4\n",
    "type(d)"
   ]
  },
  {
   "cell_type": "code",
   "execution_count": 15,
   "id": "be8685e0055bc023",
   "metadata": {
    "ExecuteTime": {
     "end_time": "2025-05-12T20:42:27.256488Z",
     "start_time": "2025-05-12T20:42:27.248578Z"
    }
   },
   "outputs": [
    {
     "data": {
      "text/plain": [
       "(['d', 'c', 'e', 'x', 's', 'w', 'z', 'q', 'a'],\n",
       " [2, 'd', 3, 'e', 'x', 's', 'w', 'z', 'q', 'a'])"
      ]
     },
     "execution_count": 15,
     "metadata": {},
     "output_type": "execute_result"
    }
   ],
   "source": [
    "c = a, b\n",
    "c"
   ]
  },
  {
   "cell_type": "code",
   "execution_count": 16,
   "id": "b899418e0e3d7b86",
   "metadata": {
    "ExecuteTime": {
     "end_time": "2025-05-12T20:44:29.442392Z",
     "start_time": "2025-05-12T20:44:29.433917Z"
    }
   },
   "outputs": [
    {
     "data": {
      "text/plain": [
       "(1, 'sad', [2])"
      ]
     },
     "execution_count": 16,
     "metadata": {},
     "output_type": "execute_result"
    }
   ],
   "source": [
    "a = (1, 'sad', [2])\n",
    "a"
   ]
  },
  {
   "cell_type": "code",
   "execution_count": 17,
   "id": "598d29705a1d3c94",
   "metadata": {
    "ExecuteTime": {
     "end_time": "2025-05-12T20:45:32.076348Z",
     "start_time": "2025-05-12T20:45:32.068270Z"
    }
   },
   "outputs": [
    {
     "data": {
      "text/plain": [
       "(1, 'sad', [2, 2])"
      ]
     },
     "execution_count": 17,
     "metadata": {},
     "output_type": "execute_result"
    }
   ],
   "source": [
    "a[2].append(2)\n",
    "a"
   ]
  },
  {
   "cell_type": "code",
   "execution_count": 18,
   "id": "273e4c3f78e3fb99",
   "metadata": {
    "ExecuteTime": {
     "end_time": "2025-05-12T20:47:51.456102Z",
     "start_time": "2025-05-12T20:47:51.449525Z"
    }
   },
   "outputs": [
    {
     "data": {
      "text/plain": [
       "1"
      ]
     },
     "execution_count": 18,
     "metadata": {},
     "output_type": "execute_result"
    }
   ],
   "source": [
    "a.count(1)"
   ]
  },
  {
   "cell_type": "code",
   "execution_count": 19,
   "id": "7dccb67384dcbe59",
   "metadata": {
    "ExecuteTime": {
     "end_time": "2025-05-12T20:48:07.668609Z",
     "start_time": "2025-05-12T20:48:07.659974Z"
    }
   },
   "outputs": [
    {
     "data": {
      "text/plain": [
       "1"
      ]
     },
     "execution_count": 19,
     "metadata": {},
     "output_type": "execute_result"
    }
   ],
   "source": [
    "a.index('sad')"
   ]
  },
  {
   "cell_type": "code",
   "execution_count": 20,
   "id": "6418828d41b5ec30",
   "metadata": {
    "ExecuteTime": {
     "end_time": "2025-05-12T20:49:34.434728Z",
     "start_time": "2025-05-12T20:49:34.428328Z"
    }
   },
   "outputs": [],
   "source": [
    "tup = (1, 'qwe', True)\n",
    "bum, st, flag = tup\n"
   ]
  },
  {
   "cell_type": "code",
   "execution_count": 21,
   "id": "4fb7f98151eb5ca7",
   "metadata": {
    "ExecuteTime": {
     "end_time": "2025-05-12T20:49:36.251602Z",
     "start_time": "2025-05-12T20:49:36.245154Z"
    }
   },
   "outputs": [
    {
     "data": {
      "text/plain": [
       "(1, 'qwe', True)"
      ]
     },
     "execution_count": 21,
     "metadata": {},
     "output_type": "execute_result"
    }
   ],
   "source": [
    "bum, st, flag"
   ]
  },
  {
   "cell_type": "code",
   "execution_count": null,
   "id": "9b4956d3d9e39330",
   "metadata": {},
   "outputs": [],
   "source": []
  }
 ],
 "metadata": {
  "kernelspec": {
   "display_name": "Python 3",
   "language": "python",
   "name": "python3"
  },
  "language_info": {
   "codemirror_mode": {
    "name": "ipython",
    "version": 3
   },
   "file_extension": ".py",
   "mimetype": "text/x-python",
   "name": "python",
   "nbconvert_exporter": "python",
   "pygments_lexer": "ipython3",
   "version": "3.13.3"
  }
 },
 "nbformat": 4,
 "nbformat_minor": 5
}

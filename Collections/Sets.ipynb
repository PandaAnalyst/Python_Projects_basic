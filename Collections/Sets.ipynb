{
 "cells": [
  {
   "cell_type": "markdown",
   "id": "d20969d75eba174d",
   "metadata": {},
   "source": [
    "# Sets"
   ]
  },
  {
   "cell_type": "code",
   "execution_count": 2,
   "id": "initial_id",
   "metadata": {
    "ExecuteTime": {
     "end_time": "2025-05-12T21:21:05.106950Z",
     "start_time": "2025-05-12T21:21:05.099187Z"
    },
    "collapsed": true
   },
   "outputs": [
    {
     "data": {
      "text/plain": [
       "{-100, -3, 0, 1000, '3erw', 5, True, 'a'}"
      ]
     },
     "execution_count": 2,
     "metadata": {},
     "output_type": "execute_result"
    }
   ],
   "source": [
    "s = {-100, 1000, 'a', 1000, 5, 1000,0, -3, True, '3erw'}\n",
    "s"
   ]
  },
  {
   "cell_type": "code",
   "execution_count": null,
   "id": "677409b319fb5689",
   "metadata": {
    "ExecuteTime": {
     "end_time": "2025-05-12T21:21:43.852818Z",
     "start_time": "2025-05-12T21:21:43.843977Z"
    }
   },
   "outputs": [
    {
     "data": {
      "text/plain": [
       "set"
      ]
     },
     "execution_count": 4,
     "metadata": {},
     "output_type": "execute_result"
    }
   ],
   "source": [
    "s = set()\n",
    "type(s)"
   ]
  },
  {
   "cell_type": "code",
   "execution_count": 5,
   "id": "1d698d28",
   "metadata": {},
   "outputs": [
    {
     "data": {
      "text/plain": [
       "set"
      ]
     },
     "execution_count": 5,
     "metadata": {},
     "output_type": "execute_result"
    }
   ],
   "source": [
    "s = {1,}\n",
    "type(s)"
   ]
  },
  {
   "cell_type": "markdown",
   "id": "ff37cb7c83ef56f1",
   "metadata": {},
   "source": [
    "---"
   ]
  },
  {
   "cell_type": "code",
   "execution_count": 6,
   "id": "ea9ecc574a315cda",
   "metadata": {
    "ExecuteTime": {
     "end_time": "2025-05-12T21:30:22.061545Z",
     "start_time": "2025-05-12T21:30:22.053407Z"
    }
   },
   "outputs": [
    {
     "data": {
      "text/plain": [
       "True"
      ]
     },
     "execution_count": 6,
     "metadata": {},
     "output_type": "execute_result"
    }
   ],
   "source": [
    "a = [1, 2,3,1,1, 5, 3, 5, 6, 7, 8, 1 , 'ab']\n",
    "s = set(a)\n",
    "1 in a"
   ]
  },
  {
   "cell_type": "code",
   "execution_count": 8,
   "id": "c987ab2c0d81443b",
   "metadata": {
    "ExecuteTime": {
     "end_time": "2025-05-12T21:31:24.470316Z",
     "start_time": "2025-05-12T21:31:24.459564Z"
    }
   },
   "outputs": [
    {
     "data": {
      "text/plain": [
       "([1, 2, 3, 1, 1, 5, 3, 5, 6, 7, 8, 1, 'ab'], [1, 2, 3, 5, 6, 7, 8, 'ab'])"
      ]
     },
     "execution_count": 8,
     "metadata": {},
     "output_type": "execute_result"
    }
   ],
   "source": [
    "new_a = list(set(a))\n",
    "a, new_a"
   ]
  },
  {
   "cell_type": "markdown",
   "id": "78761df2ccbfc9ef",
   "metadata": {},
   "source": [
    "---"
   ]
  },
  {
   "cell_type": "code",
   "execution_count": 9,
   "id": "af3c7a0c6485ba08",
   "metadata": {
    "ExecuteTime": {
     "end_time": "2025-05-12T21:32:58.142113Z",
     "start_time": "2025-05-12T21:32:58.132347Z"
    }
   },
   "outputs": [
    {
     "data": {
      "text/plain": [
       "{1, 2, 3, 5, 6, 7, 8, 'ab'}"
      ]
     },
     "execution_count": 9,
     "metadata": {},
     "output_type": "execute_result"
    }
   ],
   "source": [
    "s"
   ]
  },
  {
   "cell_type": "code",
   "execution_count": 10,
   "id": "da4cd871ee844426",
   "metadata": {
    "ExecuteTime": {
     "end_time": "2025-05-12T21:33:19.100409Z",
     "start_time": "2025-05-12T21:33:19.092578Z"
    }
   },
   "outputs": [
    {
     "data": {
      "text/plain": [
       "{1, 11, 2, 3, 5, 6, 7, 8, 'ab'}"
      ]
     },
     "execution_count": 10,
     "metadata": {},
     "output_type": "execute_result"
    }
   ],
   "source": [
    "s.add(11)\n",
    "s"
   ]
  },
  {
   "cell_type": "code",
   "execution_count": 13,
   "id": "c1bcfab244c39b2f",
   "metadata": {
    "ExecuteTime": {
     "end_time": "2025-05-12T21:33:57.950965Z",
     "start_time": "2025-05-12T21:33:57.942004Z"
    }
   },
   "outputs": [
    {
     "data": {
      "text/plain": [
       "{1, 2, 3, 5, 6, 7, 8, 11}"
      ]
     },
     "execution_count": 13,
     "metadata": {},
     "output_type": "execute_result"
    }
   ],
   "source": [
    "s.discard(\"ab\")\n",
    "s"
   ]
  },
  {
   "cell_type": "code",
   "execution_count": 14,
   "id": "b2513920952aa277",
   "metadata": {
    "ExecuteTime": {
     "end_time": "2025-05-12T21:35:59.632313Z",
     "start_time": "2025-05-12T21:35:59.625262Z"
    }
   },
   "outputs": [],
   "source": [
    "s1 = {1, 2, 3, 4, 5}\n",
    "s2 = {1, 2, 3, 0, 9}\n",
    "s3 = {1, 2, 3}\n",
    "s4 = {100, 200}"
   ]
  },
  {
   "cell_type": "code",
   "execution_count": 15,
   "id": "a6793915b2d3b109",
   "metadata": {
    "ExecuteTime": {
     "end_time": "2025-05-12T21:36:18.060920Z",
     "start_time": "2025-05-12T21:36:18.053179Z"
    }
   },
   "outputs": [
    {
     "data": {
      "text/plain": [
       "{1, 2, 3}"
      ]
     },
     "execution_count": 15,
     "metadata": {},
     "output_type": "execute_result"
    }
   ],
   "source": [
    "s1.intersection(s2)"
   ]
  },
  {
   "cell_type": "code",
   "execution_count": 17,
   "id": "f7879ab8d2a8af79",
   "metadata": {
    "ExecuteTime": {
     "end_time": "2025-05-12T21:36:46.729336Z",
     "start_time": "2025-05-12T21:36:46.719883Z"
    }
   },
   "outputs": [
    {
     "data": {
      "text/plain": [
       "set()"
      ]
     },
     "execution_count": 17,
     "metadata": {},
     "output_type": "execute_result"
    }
   ],
   "source": [
    "s1.intersection(s4)"
   ]
  },
  {
   "cell_type": "code",
   "execution_count": 20,
   "id": "27fa5702c854835a",
   "metadata": {
    "ExecuteTime": {
     "end_time": "2025-05-12T21:37:28.920094Z",
     "start_time": "2025-05-12T21:37:28.911272Z"
    }
   },
   "outputs": [
    {
     "data": {
      "text/plain": [
       "False"
      ]
     },
     "execution_count": 20,
     "metadata": {},
     "output_type": "execute_result"
    }
   ],
   "source": [
    "s1.isdisjoint(s2)"
   ]
  },
  {
   "cell_type": "code",
   "execution_count": 21,
   "id": "c5ce8d403654d0d2",
   "metadata": {
    "ExecuteTime": {
     "end_time": "2025-05-12T21:37:55.301577Z",
     "start_time": "2025-05-12T21:37:55.293379Z"
    }
   },
   "outputs": [
    {
     "data": {
      "text/plain": [
       "True"
      ]
     },
     "execution_count": 21,
     "metadata": {},
     "output_type": "execute_result"
    }
   ],
   "source": [
    "s1.isdisjoint(s4)"
   ]
  },
  {
   "cell_type": "code",
   "execution_count": 22,
   "id": "47b248aa4688d8da",
   "metadata": {
    "ExecuteTime": {
     "end_time": "2025-05-12T21:38:45.053165Z",
     "start_time": "2025-05-12T21:38:45.046051Z"
    }
   },
   "outputs": [
    {
     "data": {
      "text/plain": [
       "True"
      ]
     },
     "execution_count": 22,
     "metadata": {},
     "output_type": "execute_result"
    }
   ],
   "source": [
    "s1.issuperset(s3)"
   ]
  },
  {
   "cell_type": "code",
   "execution_count": 23,
   "id": "15c013aab6dc94a9",
   "metadata": {
    "ExecuteTime": {
     "end_time": "2025-05-12T21:38:58.905828Z",
     "start_time": "2025-05-12T21:38:58.896110Z"
    }
   },
   "outputs": [
    {
     "data": {
      "text/plain": [
       "False"
      ]
     },
     "execution_count": 23,
     "metadata": {},
     "output_type": "execute_result"
    }
   ],
   "source": [
    "s3.issuperset(s1)"
   ]
  },
  {
   "cell_type": "code",
   "execution_count": 27,
   "id": "f9c007bafb75e7c",
   "metadata": {
    "ExecuteTime": {
     "end_time": "2025-05-12T21:39:26.901523Z",
     "start_time": "2025-05-12T21:39:26.895718Z"
    }
   },
   "outputs": [
    {
     "data": {
      "text/plain": [
       "False"
      ]
     },
     "execution_count": 27,
     "metadata": {},
     "output_type": "execute_result"
    }
   ],
   "source": [
    "s3.issuperset(s1)"
   ]
  },
  {
   "cell_type": "code",
   "execution_count": 28,
   "id": "19ad811c9886cd6c",
   "metadata": {
    "ExecuteTime": {
     "end_time": "2025-05-12T21:39:47.187133Z",
     "start_time": "2025-05-12T21:39:47.180355Z"
    }
   },
   "outputs": [
    {
     "data": {
      "text/plain": [
       "{0, 1, 2, 3, 4, 5, 9}"
      ]
     },
     "execution_count": 28,
     "metadata": {},
     "output_type": "execute_result"
    }
   ],
   "source": [
    "s1.union(s2)"
   ]
  }
 ],
 "metadata": {
  "kernelspec": {
   "display_name": "Python 3",
   "language": "python",
   "name": "python3"
  },
  "language_info": {
   "codemirror_mode": {
    "name": "ipython",
    "version": 3
   },
   "file_extension": ".py",
   "mimetype": "text/x-python",
   "name": "python",
   "nbconvert_exporter": "python",
   "pygments_lexer": "ipython3",
   "version": "3.13.3"
  }
 },
 "nbformat": 4,
 "nbformat_minor": 5
}

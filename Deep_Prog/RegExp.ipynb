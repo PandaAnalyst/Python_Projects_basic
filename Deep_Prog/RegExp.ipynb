{
 "cells": [
  {
   "cell_type": "code",
   "execution_count": 1,
   "id": "183a5eef",
   "metadata": {},
   "outputs": [],
   "source": [
    "import re "
   ]
  },
  {
   "cell_type": "code",
   "execution_count": 17,
   "id": "7894621e",
   "metadata": {},
   "outputs": [],
   "source": [
    "s = \"\"\"\n",
    "<p>Какой-то текст</p>\n",
    "<p>Какой-то текст</p>\n",
    "<p>Какой-то текст</p>\n",
    "<p>Какой-то текст</p>\n",
    "<p>Какой-то текст</p>\n",
    "<p>Какой-то текст</p>\"\"\""
   ]
  },
  {
   "cell_type": "code",
   "execution_count": 5,
   "id": "54acf373",
   "metadata": {},
   "outputs": [
    {
     "data": {
      "text/plain": [
       "['Какой-то текст',\n",
       " 'Какой-то текст',\n",
       " 'Какой-то текст',\n",
       " 'Какой-то текст',\n",
       " 'Какой-то текст',\n",
       " 'Какой-то текст']"
      ]
     },
     "execution_count": 5,
     "metadata": {},
     "output_type": "execute_result"
    }
   ],
   "source": [
    "re.findall(\"<p>(.*?)</p>\", s)"
   ]
  },
  {
   "cell_type": "code",
   "execution_count": 6,
   "id": "9a8a4578",
   "metadata": {},
   "outputs": [
    {
     "data": {
      "text/plain": [
       "<re.Match object; span=(1, 22), match='<p>Какой-то текст</p>'>"
      ]
     },
     "execution_count": 6,
     "metadata": {},
     "output_type": "execute_result"
    }
   ],
   "source": [
    "re.search(\"<p>(.*?)</p>\", s)"
   ]
  },
  {
   "cell_type": "code",
   "execution_count": 7,
   "id": "2ea8b71e",
   "metadata": {},
   "outputs": [
    {
     "data": {
      "text/plain": [
       "'<p>Какой-то текст</p>'"
      ]
     },
     "execution_count": 7,
     "metadata": {},
     "output_type": "execute_result"
    }
   ],
   "source": [
    "s[1:22]"
   ]
  },
  {
   "cell_type": "code",
   "execution_count": 11,
   "id": "a82fa909",
   "metadata": {},
   "outputs": [
    {
     "data": {
      "text/plain": [
       "'Какой-то текст'"
      ]
     },
     "execution_count": 11,
     "metadata": {},
     "output_type": "execute_result"
    }
   ],
   "source": [
    "re.search(\"<p>(.*?)</p>\", s).group(1)"
   ]
  },
  {
   "cell_type": "code",
   "execution_count": 12,
   "id": "2cd0ae7b",
   "metadata": {},
   "outputs": [
    {
     "name": "stdout",
     "output_type": "stream",
     "text": [
      "\n",
      "<p>Какой-то текст</p>\n",
      "<p>Какой-то текст</p>\n",
      "<p>Какой-то текст</p>\n",
      "<p>Какой-то текст</p>\n",
      "<p>Какой-то текст</p>\n",
      "<p>Какой-то текст</p>\n"
     ]
    }
   ],
   "source": [
    "s_new = s\n",
    "print(s_new)"
   ]
  },
  {
   "cell_type": "code",
   "execution_count": 14,
   "id": "9cfbdbc2",
   "metadata": {},
   "outputs": [
    {
     "name": "stdout",
     "output_type": "stream",
     "text": [
      "\n",
      "<p>Какой-то текст</p>\n",
      "<p>Какой-то текст</p>\n",
      "<p>Какой-то текст</p>\n",
      "<p>Какой-то текст</p>\n"
     ]
    }
   ],
   "source": [
    "ind = re.search(\"<p>(.*?)</p>\", s_new).span(0)[1]\n",
    "s_new = s_new[ind:]\n",
    "print(s_new)"
   ]
  },
  {
   "cell_type": "code",
   "execution_count": 19,
   "id": "ee408f5a",
   "metadata": {},
   "outputs": [
    {
     "data": {
      "text/plain": [
       "<re.Match object; span=(0, 21), match='<p>Какой-то текст</p>'>"
      ]
     },
     "execution_count": 19,
     "metadata": {},
     "output_type": "execute_result"
    }
   ],
   "source": [
    "re.match(\"<p>(.*?)</p>\", s[1:])"
   ]
  },
  {
   "cell_type": "code",
   "execution_count": 29,
   "id": "d5df280d",
   "metadata": {},
   "outputs": [
    {
     "name": "stdout",
     "output_type": "stream",
     "text": [
      "Hello! number 44 other text!\n"
     ]
    }
   ],
   "source": [
    "s2 = 'Hello! number 44 other text!'\n",
    "print(s2)"
   ]
  },
  {
   "cell_type": "code",
   "execution_count": 31,
   "id": "7d3d62fc",
   "metadata": {},
   "outputs": [
    {
     "data": {
      "text/plain": [
       "['Hello! number 44 other text!']"
      ]
     },
     "execution_count": 31,
     "metadata": {},
     "output_type": "execute_result"
    }
   ],
   "source": [
    "s2.split('\\n')"
   ]
  },
  {
   "cell_type": "code",
   "execution_count": 33,
   "id": "0f6eaf2f",
   "metadata": {},
   "outputs": [
    {
     "name": "stderr",
     "output_type": "stream",
     "text": [
      "<>:1: SyntaxWarning: invalid escape sequence '\\d'\n",
      "<>:1: SyntaxWarning: invalid escape sequence '\\d'\n",
      "C:\\Users\\Panda\\AppData\\Local\\Temp\\ipykernel_17456\\319697585.py:1: SyntaxWarning: invalid escape sequence '\\d'\n",
      "  re.split('\\d+',s2)\n"
     ]
    },
    {
     "data": {
      "text/plain": [
       "['Hello! number ', ' other text!']"
      ]
     },
     "execution_count": 33,
     "metadata": {},
     "output_type": "execute_result"
    }
   ],
   "source": [
    "re.split('\\d+',s2)"
   ]
  },
  {
   "cell_type": "code",
   "execution_count": 35,
   "id": "7143f707",
   "metadata": {},
   "outputs": [
    {
     "name": "stderr",
     "output_type": "stream",
     "text": [
      "<>:1: SyntaxWarning: invalid escape sequence '\\g'\n",
      "<>:1: SyntaxWarning: invalid escape sequence '\\g'\n",
      "C:\\Users\\Panda\\AppData\\Local\\Temp\\ipykernel_17456\\3421235821.py:1: SyntaxWarning: invalid escape sequence '\\g'\n",
      "  re.sub(\"<p>(.*?)</p>\",'abc--\\g<1> --abc', s)\n"
     ]
    },
    {
     "data": {
      "text/plain": [
       "'\\nabc--Какой-то текст --abc\\nabc--Какой-то текст --abc\\nabc--Какой-то текст --abc\\nabc--Какой-то текст --abc\\nabc--Какой-то текст --abc\\nabc--Какой-то текст --abc'"
      ]
     },
     "execution_count": 35,
     "metadata": {},
     "output_type": "execute_result"
    }
   ],
   "source": [
    "re.sub(\"<p>(.*?)</p>\",'abc--\\g<1> --abc', s)"
   ]
  },
  {
   "cell_type": "code",
   "execution_count": 42,
   "id": "4673246e",
   "metadata": {},
   "outputs": [
    {
     "data": {
      "text/plain": [
       "re.compile(r'<p>(.*?)</p>', re.MULTILINE|re.DOTALL|re.UNICODE)"
      ]
     },
     "execution_count": 42,
     "metadata": {},
     "output_type": "execute_result"
    }
   ],
   "source": [
    "re.compile(\"<p>(.*?)</p>\", re.DOTALL| re.MULTILINE)"
   ]
  },
  {
   "cell_type": "code",
   "execution_count": 38,
   "id": "ddba5698",
   "metadata": {},
   "outputs": [],
   "source": [
    "s3 = \"\"\"\n",
    "first line\n",
    "\n",
    "second line\n",
    "\n",
    "third line\n",
    "\"\"\""
   ]
  },
  {
   "cell_type": "code",
   "execution_count": 41,
   "id": "21e9a848",
   "metadata": {},
   "outputs": [
    {
     "data": {
      "text/plain": [
       "['first line', 'second line', 'third line']"
      ]
     },
     "execution_count": 41,
     "metadata": {},
     "output_type": "execute_result"
    }
   ],
   "source": [
    "reg = re.compile(\"^[A-z ]+$\", re.MULTILINE | re.DOTALL)\n",
    "reg.findall(s3)"
   ]
  }
 ],
 "metadata": {
  "kernelspec": {
   "display_name": "Python 3",
   "language": "python",
   "name": "python3"
  },
  "language_info": {
   "codemirror_mode": {
    "name": "ipython",
    "version": 3
   },
   "file_extension": ".py",
   "mimetype": "text/x-python",
   "name": "python",
   "nbconvert_exporter": "python",
   "pygments_lexer": "ipython3",
   "version": "3.13.3"
  }
 },
 "nbformat": 4,
 "nbformat_minor": 5
}

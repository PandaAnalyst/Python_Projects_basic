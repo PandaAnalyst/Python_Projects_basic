{
 "cells": [
  {
   "cell_type": "code",
   "execution_count": 1,
   "id": "cfdc1b41",
   "metadata": {},
   "outputs": [
    {
     "ename": "ZeroDivisionError",
     "evalue": "division by zero",
     "output_type": "error",
     "traceback": [
      "\u001b[31m---------------------------------------------------------------------------\u001b[39m",
      "\u001b[31mZeroDivisionError\u001b[39m                         Traceback (most recent call last)",
      "\u001b[36mCell\u001b[39m\u001b[36m \u001b[39m\u001b[32mIn[1]\u001b[39m\u001b[32m, line 1\u001b[39m\n\u001b[32m----> \u001b[39m\u001b[32m1\u001b[39m \u001b[32;43m1\u001b[39;49m\u001b[43m/\u001b[49m\u001b[32;43m0\u001b[39;49m\n",
      "\u001b[31mZeroDivisionError\u001b[39m: division by zero"
     ]
    }
   ],
   "source": [
    "1/0"
   ]
  },
  {
   "cell_type": "code",
   "execution_count": 3,
   "id": "99cf0452",
   "metadata": {},
   "outputs": [],
   "source": [
    "def foo():\n",
    "    reqewsxsb"
   ]
  },
  {
   "cell_type": "code",
   "execution_count": 2,
   "id": "3f2553f9",
   "metadata": {},
   "outputs": [
    {
     "ename": "NameError",
     "evalue": "name 'sad' is not defined",
     "output_type": "error",
     "traceback": [
      "\u001b[31m---------------------------------------------------------------------------\u001b[39m",
      "\u001b[31mNameError\u001b[39m                                 Traceback (most recent call last)",
      "\u001b[36mCell\u001b[39m\u001b[36m \u001b[39m\u001b[32mIn[2]\u001b[39m\u001b[32m, line 1\u001b[39m\n\u001b[32m----> \u001b[39m\u001b[32m1\u001b[39m \u001b[38;5;28mprint\u001b[39m(\u001b[43msad\u001b[49m)\n",
      "\u001b[31mNameError\u001b[39m: name 'sad' is not defined"
     ]
    }
   ],
   "source": [
    "print(sad)"
   ]
  },
  {
   "cell_type": "code",
   "execution_count": 4,
   "id": "979987ce",
   "metadata": {},
   "outputs": [
    {
     "ename": "TypeError",
     "evalue": "object of type 'int' has no len()",
     "output_type": "error",
     "traceback": [
      "\u001b[31m---------------------------------------------------------------------------\u001b[39m",
      "\u001b[31mTypeError\u001b[39m                                 Traceback (most recent call last)",
      "\u001b[36mCell\u001b[39m\u001b[36m \u001b[39m\u001b[32mIn[4]\u001b[39m\u001b[32m, line 1\u001b[39m\n\u001b[32m----> \u001b[39m\u001b[32m1\u001b[39m \u001b[38;5;28;43mlen\u001b[39;49m\u001b[43m(\u001b[49m\u001b[32;43m2\u001b[39;49m\u001b[43m)\u001b[49m\n",
      "\u001b[31mTypeError\u001b[39m: object of type 'int' has no len()"
     ]
    }
   ],
   "source": [
    "len(2)"
   ]
  },
  {
   "cell_type": "code",
   "execution_count": null,
   "id": "3c6a8214",
   "metadata": {},
   "outputs": [],
   "source": [
    "try:\n",
    "    # error code\n",
    "except:\n",
    "    # code execute when error "
   ]
  },
  {
   "cell_type": "code",
   "execution_count": 5,
   "id": "2c3390cb",
   "metadata": {},
   "outputs": [],
   "source": [
    "def foo(a, b):\n",
    "    try:\n",
    "        return a/b\n",
    "    except:\n",
    "        print (f\"Exception error! a = {a}, b = {b}\")"
   ]
  },
  {
   "cell_type": "code",
   "execution_count": 6,
   "id": "341a80f4",
   "metadata": {},
   "outputs": [
    {
     "name": "stdout",
     "output_type": "stream",
     "text": [
      "Exception error! a = 5, b = 0\n"
     ]
    }
   ],
   "source": [
    "foo(5,0)"
   ]
  },
  {
   "cell_type": "code",
   "execution_count": 7,
   "id": "4e001502",
   "metadata": {},
   "outputs": [
    {
     "name": "stdout",
     "output_type": "stream",
     "text": [
      "division by zero\n"
     ]
    }
   ],
   "source": [
    "try:\n",
    "    1/0\n",
    "except Exception as e:\n",
    "    print(e)"
   ]
  },
  {
   "cell_type": "code",
   "execution_count": 15,
   "id": "2b72154b",
   "metadata": {},
   "outputs": [
    {
     "name": "stdout",
     "output_type": "stream",
     "text": [
      "3\n",
      "invalid syntax (<string>, line 1)\n"
     ]
    }
   ],
   "source": [
    "try:\n",
    "    #1/0\n",
    "\n",
    "    #len(1)\n",
    "    \n",
    "    eval('''def foo():\n",
    "        print(we)''')\n",
    "except ZeroDivisionError as e:\n",
    "    print(1)\n",
    "    print(e)\n",
    "except TypeError as e:\n",
    "    print(2)\n",
    "    print(e)\n",
    "except Exception as e:\n",
    "    print(3)\n",
    "    print(e)"
   ]
  },
  {
   "cell_type": "code",
   "execution_count": 9,
   "id": "56a3aff3",
   "metadata": {},
   "outputs": [
    {
     "name": "stdout",
     "output_type": "stream",
     "text": [
      "division by zero\n",
      "division by zero\n",
      "ZeroDivisionError('division by zero')\n",
      "EXECUTE!\n"
     ]
    }
   ],
   "source": [
    "try:\n",
    "    1/0\n",
    "except Exception as e:\n",
    "    print(e)\n",
    "    print(str(e))\n",
    "    print(repr(e))\n",
    "else:\n",
    "    print(\"all right\")\n",
    "finally:\n",
    "    print(\"EXECUTE!\")"
   ]
  },
  {
   "cell_type": "code",
   "execution_count": 19,
   "id": "4f8df4ac",
   "metadata": {},
   "outputs": [],
   "source": [
    "def foo(x):\n",
    "    if isinstance(x,int):\n",
    "        return x**2\n",
    "    raise TypeError(F\"Value type = {type(x)}\")"
   ]
  },
  {
   "cell_type": "code",
   "execution_count": 20,
   "id": "448b71ce",
   "metadata": {},
   "outputs": [
    {
     "ename": "TypeError",
     "evalue": "Value type = <class 'str'>",
     "output_type": "error",
     "traceback": [
      "\u001b[31m---------------------------------------------------------------------------\u001b[39m",
      "\u001b[31mTypeError\u001b[39m                                 Traceback (most recent call last)",
      "\u001b[36mCell\u001b[39m\u001b[36m \u001b[39m\u001b[32mIn[20]\u001b[39m\u001b[32m, line 1\u001b[39m\n\u001b[32m----> \u001b[39m\u001b[32m1\u001b[39m \u001b[43mfoo\u001b[49m\u001b[43m(\u001b[49m\u001b[33;43m'\u001b[39;49m\u001b[33;43ms\u001b[39;49m\u001b[33;43m'\u001b[39;49m\u001b[43m)\u001b[49m\n",
      "\u001b[36mCell\u001b[39m\u001b[36m \u001b[39m\u001b[32mIn[19]\u001b[39m\u001b[32m, line 4\u001b[39m, in \u001b[36mfoo\u001b[39m\u001b[34m(x)\u001b[39m\n\u001b[32m      2\u001b[39m \u001b[38;5;28;01mif\u001b[39;00m \u001b[38;5;28misinstance\u001b[39m(x,\u001b[38;5;28mint\u001b[39m):\n\u001b[32m      3\u001b[39m     \u001b[38;5;28;01mreturn\u001b[39;00m x**\u001b[32m2\u001b[39m\n\u001b[32m----> \u001b[39m\u001b[32m4\u001b[39m \u001b[38;5;28;01mraise\u001b[39;00m \u001b[38;5;167;01mTypeError\u001b[39;00m(\u001b[33mF\u001b[39m\u001b[33m\"\u001b[39m\u001b[33mValue type = \u001b[39m\u001b[38;5;132;01m{\u001b[39;00m\u001b[38;5;28mtype\u001b[39m(x)\u001b[38;5;132;01m}\u001b[39;00m\u001b[33m\"\u001b[39m)\n",
      "\u001b[31mTypeError\u001b[39m: Value type = <class 'str'>"
     ]
    }
   ],
   "source": [
    "foo('s')"
   ]
  }
 ],
 "metadata": {
  "kernelspec": {
   "display_name": "Python 3",
   "language": "python",
   "name": "python3"
  },
  "language_info": {
   "codemirror_mode": {
    "name": "ipython",
    "version": 3
   },
   "file_extension": ".py",
   "mimetype": "text/x-python",
   "name": "python",
   "nbconvert_exporter": "python",
   "pygments_lexer": "ipython3",
   "version": "3.13.3"
  }
 },
 "nbformat": 4,
 "nbformat_minor": 5
}

{
 "cells": [
  {
   "cell_type": "code",
   "execution_count": null,
   "id": "initial_id",
   "metadata": {
    "collapsed": true
   },
   "outputs": [],
   "source": [
    "lambda аргументы: тело функции"
   ]
  },
  {
   "cell_type": "code",
   "execution_count": 1,
   "id": "57bce34ec9e9ecb7",
   "metadata": {
    "ExecuteTime": {
     "end_time": "2025-05-20T18:43:43.871750Z",
     "start_time": "2025-05-20T18:43:43.863575Z"
    }
   },
   "outputs": [
    {
     "name": "stdout",
     "output_type": "stream",
     "text": [
      "The list of keywords is : \n",
      "['False', 'None', 'True', 'and', 'as', 'assert', 'async', 'await', 'break', 'class', 'continue', 'def', 'del', 'elif', 'else', 'except', 'finally', 'for', 'from', 'global', 'if', 'import', 'in', 'is', 'lambda', 'nonlocal', 'not', 'or', 'pass', 'raise', 'return', 'try', 'while', 'with', 'yield']\n"
     ]
    }
   ],
   "source": [
    "import keyword\n",
    "\n",
    "# printing all keywords at once using \"kwlist()\"\n",
    "print(\"The list of keywords is : \")\n",
    "print(keyword.kwlist)"
   ]
  },
  {
   "cell_type": "code",
   "execution_count": 2,
   "id": "4649654dc0b1f541",
   "metadata": {
    "ExecuteTime": {
     "end_time": "2025-05-20T19:00:07.379008Z",
     "start_time": "2025-05-20T19:00:07.369923Z"
    }
   },
   "outputs": [],
   "source": [
    "make_square = lambda x: x**2"
   ]
  },
  {
   "cell_type": "code",
   "execution_count": 3,
   "id": "4faab57984aac776",
   "metadata": {
    "ExecuteTime": {
     "end_time": "2025-05-20T19:00:09.069054Z",
     "start_time": "2025-05-20T19:00:09.057126Z"
    }
   },
   "outputs": [
    {
     "data": {
      "text/plain": [
       "25"
      ]
     },
     "execution_count": 3,
     "metadata": {},
     "output_type": "execute_result"
    }
   ],
   "source": [
    "make_square(5)"
   ]
  },
  {
   "cell_type": "code",
   "execution_count": 4,
   "id": "5196fd32fea4c974",
   "metadata": {
    "ExecuteTime": {
     "end_time": "2025-05-20T19:02:05.874249Z",
     "start_time": "2025-05-20T19:02:05.867613Z"
    }
   },
   "outputs": [
    {
     "name": "stdout",
     "output_type": "stream",
     "text": [
      "6\n"
     ]
    }
   ],
   "source": [
    "adder = lambda x, y, z: x+y+z\n",
    "print(adder(1,2,3))"
   ]
  },
  {
   "cell_type": "code",
   "execution_count": 5,
   "id": "ba06a6036db07b76",
   "metadata": {
    "ExecuteTime": {
     "end_time": "2025-05-20T19:06:56.593314Z",
     "start_time": "2025-05-20T19:06:56.588086Z"
    }
   },
   "outputs": [
    {
     "name": "stdout",
     "output_type": "stream",
     "text": [
      "3.14\n"
     ]
    }
   ],
   "source": [
    "PI = 3.14\n",
    "return_pi = lambda : PI\n",
    "print(return_pi())"
   ]
  },
  {
   "cell_type": "code",
   "execution_count": 1,
   "id": "db9a95cfe4ce8d2d",
   "metadata": {
    "ExecuteTime": {
     "end_time": "2025-05-20T19:13:53.516266Z",
     "start_time": "2025-05-20T19:13:53.509463Z"
    }
   },
   "outputs": [
    {
     "name": "stdout",
     "output_type": "stream",
     "text": [
      "[2, 4, 6]\n"
     ]
    }
   ],
   "source": [
    "lst = [1, 2, 3, 4, 5, 6]\n",
    "result = []\n",
    "for el in lst:\n",
    "    if el%2 == 0:\n",
    "        result.append(el)\n",
    "print(result)"
   ]
  },
  {
   "cell_type": "markdown",
   "id": "c443f0d42748a8a6",
   "metadata": {},
   "source": [
    "## filter + lambda"
   ]
  },
  {
   "cell_type": "code",
   "execution_count": 8,
   "id": "b17f92fa1181f354",
   "metadata": {
    "ExecuteTime": {
     "end_time": "2025-05-20T19:14:50.470541Z",
     "start_time": "2025-05-20T19:14:50.463454Z"
    }
   },
   "outputs": [
    {
     "data": {
      "text/plain": [
       "[2, 4, 6]"
      ]
     },
     "execution_count": 8,
     "metadata": {},
     "output_type": "execute_result"
    }
   ],
   "source": [
    "list(filter(lambda x: x%2 == 0, lst))"
   ]
  },
  {
   "cell_type": "markdown",
   "id": "751750f5d1f86d54",
   "metadata": {},
   "source": [
    "## map+ lambda"
   ]
  },
  {
   "cell_type": "code",
   "execution_count": 10,
   "id": "72c82dd5b82c73e0",
   "metadata": {
    "ExecuteTime": {
     "end_time": "2025-05-20T19:19:14.508129Z",
     "start_time": "2025-05-20T19:19:14.499444Z"
    }
   },
   "outputs": [
    {
     "name": "stdout",
     "output_type": "stream",
     "text": [
      "[1, 4, 9, 16, 25, 36]\n"
     ]
    }
   ],
   "source": [
    "lst = [1, 2, 3, 4, 5, 6]\n",
    "result = []\n",
    "for el in lst:\n",
    "    result.append(el**2)\n",
    "print(result)"
   ]
  },
  {
   "cell_type": "code",
   "execution_count": 9,
   "id": "891052fad1af83ee",
   "metadata": {
    "ExecuteTime": {
     "end_time": "2025-05-20T19:17:20.276515Z",
     "start_time": "2025-05-20T19:17:20.267209Z"
    }
   },
   "outputs": [
    {
     "data": {
      "text/plain": [
       "[1, 4, 9, 16, 25, 36]"
      ]
     },
     "execution_count": 9,
     "metadata": {},
     "output_type": "execute_result"
    }
   ],
   "source": [
    "list(map(lambda x: x**2,lst))"
   ]
  },
  {
   "cell_type": "code",
   "execution_count": 12,
   "id": "1a3da44909b52c50",
   "metadata": {
    "ExecuteTime": {
     "end_time": "2025-05-20T19:23:10.482586Z",
     "start_time": "2025-05-20T19:23:10.478365Z"
    }
   },
   "outputs": [
    {
     "name": "stdout",
     "output_type": "stream",
     "text": [
      "[1, 0, 12, 5, 1]\n"
     ]
    }
   ],
   "source": [
    "lst2 = [1.5, 1e-5, 1.23e+1, 5, 1.108]\n",
    "print(list(map(lambda x: int(x), lst2)))"
   ]
  },
  {
   "cell_type": "code",
   "execution_count": null,
   "id": "33ba77868f85699a",
   "metadata": {},
   "outputs": [],
   "source": [
    "lst2 = [1.5, '1e-5', 1.23e+1, 5, '1.108']"
   ]
  },
  {
   "cell_type": "code",
   "execution_count": 14,
   "id": "47bbed5142604190",
   "metadata": {
    "ExecuteTime": {
     "end_time": "2025-05-20T19:32:02.482601Z",
     "start_time": "2025-05-20T19:32:02.475089Z"
    }
   },
   "outputs": [
    {
     "name": "stdout",
     "output_type": "stream",
     "text": [
      "[1, 2, 3, 4, 5, 6]\n"
     ]
    }
   ],
   "source": [
    "print(list(map(lambda x: x if isinstance(x,int) else int(x),lst)))"
   ]
  },
  {
   "cell_type": "code",
   "execution_count": 15,
   "id": "9a9675b37c77537f",
   "metadata": {},
   "outputs": [
    {
     "name": "stdout",
     "output_type": "stream",
     "text": [
      "[False, False, True]\n"
     ]
    }
   ],
   "source": [
    "lst1 = [1, 2, 3]\n",
    "lst2 = [3, 2, 1]\n",
    "\n",
    "print(list(map(lambda x, y: x>y, lst1, lst2)))"
   ]
  },
  {
   "cell_type": "code",
   "execution_count": 1,
   "id": "5cd7f5f7f48362c8",
   "metadata": {
    "ExecuteTime": {
     "end_time": "2025-05-20T19:58:26.525358Z",
     "start_time": "2025-05-20T19:58:26.517693Z"
    }
   },
   "outputs": [
    {
     "data": {
      "text/plain": [
       "[1, 2, 3, 4, 5, 6]"
      ]
     },
     "execution_count": 1,
     "metadata": {},
     "output_type": "execute_result"
    }
   ],
   "source": [
    "from functools import reduce\n",
    "[1, 2, 3, 4, 5 ,6]"
   ]
  },
  {
   "cell_type": "code",
   "execution_count": 2,
   "id": "d182a9742d8a025e",
   "metadata": {
    "ExecuteTime": {
     "end_time": "2025-05-20T20:00:36.170244Z",
     "start_time": "2025-05-20T20:00:36.159018Z"
    }
   },
   "outputs": [
    {
     "data": {
      "text/plain": [
       "16"
      ]
     },
     "execution_count": 2,
     "metadata": {},
     "output_type": "execute_result"
    }
   ],
   "source": [
    "lsst = [1, 10 , -3 ,12, -4]\n",
    "reduce(lambda x, y: x+y, lsst)"
   ]
  },
  {
   "cell_type": "code",
   "execution_count": 19,
   "id": "e7ec9b824a2c7f4",
   "metadata": {
    "ExecuteTime": {
     "end_time": "2025-05-20T20:01:44.187204Z",
     "start_time": "2025-05-20T20:01:44.168078Z"
    }
   },
   "outputs": [
    {
     "data": {
      "text/plain": [
       "12"
      ]
     },
     "execution_count": 19,
     "metadata": {},
     "output_type": "execute_result"
    }
   ],
   "source": [
    "reduce(lambda x, y: x if x>y else y, lsst)"
   ]
  },
  {
   "cell_type": "code",
   "execution_count": 27,
   "id": "227c5e99ed8ea777",
   "metadata": {
    "ExecuteTime": {
     "end_time": "2025-05-20T20:08:25.760073Z",
     "start_time": "2025-05-20T20:08:25.753105Z"
    }
   },
   "outputs": [],
   "source": [
    "class pers:\n",
    "    age = 0\n",
    "    name= \"\"\n",
    "Mike = pers()\n",
    "Mike.age = 21\n",
    "Mike.name = \"Mike\"\n",
    "\n",
    "Joe = pers()\n",
    "Joe.age = 20\n",
    "Joe.name = 'Joe'\n",
    "\n",
    "Mary = pers()\n",
    "Mary.age= 15\n",
    "Mary.name = 'Mary'\n",
    "\n",
    "\n",
    "people = [Mike, Joe, Mary]"
   ]
  },
  {
   "cell_type": "code",
   "execution_count": 21,
   "id": "6154111fc40eb6d3",
   "metadata": {
    "ExecuteTime": {
     "end_time": "2025-05-20T20:06:18.688289Z",
     "start_time": "2025-05-20T20:06:18.660424Z"
    }
   },
   "outputs": [
    {
     "data": {
      "text/plain": [
       "[<__main__.pers at 0x1e56071aba0>,\n",
       " <__main__.pers at 0x1e560642e90>,\n",
       " <__main__.pers at 0x1e560642c10>]"
      ]
     },
     "execution_count": 21,
     "metadata": {},
     "output_type": "execute_result"
    }
   ],
   "source": [
    "people"
   ]
  },
  {
   "cell_type": "code",
   "execution_count": 29,
   "id": "54c1cd2f65046d0a",
   "metadata": {
    "ExecuteTime": {
     "end_time": "2025-05-20T20:08:36.126636Z",
     "start_time": "2025-05-20T20:08:36.121396Z"
    }
   },
   "outputs": [],
   "source": [
    "people.sort(key=lambda p: p.age)"
   ]
  },
  {
   "cell_type": "code",
   "execution_count": 23,
   "id": "a426c668e5dd06ae",
   "metadata": {
    "ExecuteTime": {
     "end_time": "2025-05-20T20:07:20.611495Z",
     "start_time": "2025-05-20T20:07:20.604673Z"
    }
   },
   "outputs": [
    {
     "data": {
      "text/plain": [
       "[<__main__.pers at 0x1e56071aba0>,\n",
       " <__main__.pers at 0x1e560642e90>,\n",
       " <__main__.pers at 0x1e560642c10>]"
      ]
     },
     "execution_count": 23,
     "metadata": {},
     "output_type": "execute_result"
    }
   ],
   "source": [
    "people"
   ]
  },
  {
   "cell_type": "code",
   "execution_count": 30,
   "id": "271af96182ffe483",
   "metadata": {
    "ExecuteTime": {
     "end_time": "2025-05-20T20:08:42.005542Z",
     "start_time": "2025-05-20T20:08:41.998710Z"
    }
   },
   "outputs": [
    {
     "name": "stdout",
     "output_type": "stream",
     "text": [
      "Mary\n",
      "Joe\n",
      "Mike\n"
     ]
    }
   ],
   "source": [
    "for pers in people:\n",
    "    print(pers.name)"
   ]
  },
  {
   "cell_type": "code",
   "execution_count": 34,
   "id": "341af3b7468fbc7c",
   "metadata": {
    "ExecuteTime": {
     "end_time": "2025-05-20T20:12:11.483086Z",
     "start_time": "2025-05-20T20:12:11.478168Z"
    }
   },
   "outputs": [],
   "source": [
    "lst = [['Name1',1], ['Name2', 2], ['Name5', 5],['Name3', 3]]"
   ]
  },
  {
   "cell_type": "code",
   "execution_count": 35,
   "id": "8a9e0760db5539fd",
   "metadata": {
    "ExecuteTime": {
     "end_time": "2025-05-20T20:12:13.756108Z",
     "start_time": "2025-05-20T20:12:13.746810Z"
    }
   },
   "outputs": [
    {
     "data": {
      "text/plain": [
       "[['Name1', 1], ['Name2', 2], ['Name3', 3], ['Name5', 5]]"
      ]
     },
     "execution_count": 35,
     "metadata": {},
     "output_type": "execute_result"
    }
   ],
   "source": [
    "sorted(lst, key=lambda x: x[1])"
   ]
  },
  {
   "cell_type": "code",
   "execution_count": 49,
   "id": "411eb0932935efc2",
   "metadata": {
    "ExecuteTime": {
     "end_time": "2025-05-20T20:41:01.593161Z",
     "start_time": "2025-05-20T20:41:01.577829Z"
    }
   },
   "outputs": [],
   "source": [
    "d = {\n",
    "    1:{\n",
    "        'Фон': 10,\n",
    "        'Пик': 20,\n",
    "        'Подъём': -3,\n",
    "        'Спад': 5\n",
    "    },\n",
    "    2:{\n",
    "        'Фон': 10,\n",
    "        'Пик': 20,\n",
    "        'Подъём': 300,\n",
    "        'Спад': 5\n",
    "    },\n",
    "    3:{\n",
    "        'Фон': 10000,\n",
    "        'Пик': 20,\n",
    "        'Подъём': -3,\n",
    "        'Спад': 5\n",
    "    }\n",
    "}"
   ]
  },
  {
   "cell_type": "code",
   "execution_count": 47,
   "id": "1f89a8caea955eda",
   "metadata": {
    "ExecuteTime": {
     "end_time": "2025-05-20T20:39:16.996377Z",
     "start_time": "2025-05-20T20:39:16.990777Z"
    }
   },
   "outputs": [],
   "source": [
    "d1 = {\n",
    "    'Фон': 10,\n",
    "        'Пик': 20,\n",
    "        'Подъём': -3,\n",
    "        'Спад': 5\n",
    "\n",
    "}"
   ]
  },
  {
   "cell_type": "code",
   "execution_count": 48,
   "id": "638330957800b4e6",
   "metadata": {
    "ExecuteTime": {
     "end_time": "2025-05-20T20:39:18.788110Z",
     "start_time": "2025-05-20T20:39:18.779635Z"
    }
   },
   "outputs": [
    {
     "data": {
      "text/plain": [
       "'Пик'"
      ]
     },
     "execution_count": 48,
     "metadata": {},
     "output_type": "execute_result"
    }
   ],
   "source": [
    "max(d1, key=d1.get)"
   ]
  },
  {
   "cell_type": "code",
   "execution_count": 52,
   "id": "68b56d3113652e58",
   "metadata": {
    "ExecuteTime": {
     "end_time": "2025-05-20T20:41:40.132391Z",
     "start_time": "2025-05-20T20:41:40.124051Z"
    }
   },
   "outputs": [
    {
     "data": {
      "text/plain": [
       "['Пик', 'Подъём', 'Фон']"
      ]
     },
     "execution_count": 52,
     "metadata": {},
     "output_type": "execute_result"
    }
   ],
   "source": [
    "list(map(lambda  x: max(x, key=x.get), d.values()))"
   ]
  },
  {
   "cell_type": "code",
   "execution_count": 55,
   "id": "4e611d611acbba7c",
   "metadata": {
    "ExecuteTime": {
     "end_time": "2025-05-20T20:44:06.782702Z",
     "start_time": "2025-05-20T20:44:06.774214Z"
    }
   },
   "outputs": [
    {
     "data": {
      "text/plain": [
       "True"
      ]
     },
     "execution_count": 55,
     "metadata": {},
     "output_type": "execute_result"
    }
   ],
   "source": [
    "x = 1.12\n",
    "isinstance(x,(int, float))"
   ]
  },
  {
   "cell_type": "code",
   "execution_count": 56,
   "id": "a22141fb80ff622d",
   "metadata": {
    "ExecuteTime": {
     "end_time": "2025-05-20T20:45:00.186898Z",
     "start_time": "2025-05-20T20:45:00.181410Z"
    }
   },
   "outputs": [],
   "source": [
    "from types import LambdaType"
   ]
  },
  {
   "cell_type": "code",
   "execution_count": 57,
   "id": "7a841d98eede9872",
   "metadata": {
    "ExecuteTime": {
     "end_time": "2025-05-20T20:45:43.228953Z",
     "start_time": "2025-05-20T20:45:43.219743Z"
    }
   },
   "outputs": [
    {
     "data": {
      "text/plain": [
       "True"
      ]
     },
     "execution_count": 57,
     "metadata": {},
     "output_type": "execute_result"
    }
   ],
   "source": [
    "x = lambda x: x**2\n",
    "isinstance(x, LambdaType)"
   ]
  },
  {
   "cell_type": "code",
   "execution_count": 59,
   "id": "5836900839162450",
   "metadata": {
    "ExecuteTime": {
     "end_time": "2025-05-20T20:46:27.786065Z",
     "start_time": "2025-05-20T20:46:27.778084Z"
    }
   },
   "outputs": [
    {
     "data": {
      "text/plain": [
       "True"
      ]
     },
     "execution_count": 59,
     "metadata": {},
     "output_type": "execute_result"
    }
   ],
   "source": [
    "def foo(x):\n",
    "    return x**2\n",
    "\n",
    "isinstance(foo, LambdaType)"
   ]
  }
 ],
 "metadata": {
  "kernelspec": {
   "display_name": "Python 3",
   "language": "python",
   "name": "python3"
  },
  "language_info": {
   "codemirror_mode": {
    "name": "ipython",
    "version": 3
   },
   "file_extension": ".py",
   "mimetype": "text/x-python",
   "name": "python",
   "nbconvert_exporter": "python",
   "pygments_lexer": "ipython3",
   "version": "3.13.3"
  }
 },
 "nbformat": 4,
 "nbformat_minor": 5
}

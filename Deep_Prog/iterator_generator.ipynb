{
 "cells": [
  {
   "cell_type": "markdown",
   "id": "8b5f3bdf",
   "metadata": {},
   "source": [
    "## Итератор\n",
    "#### 1. Цель - пройтись по элементам, вернуть следующий или вызвать исключение\n",
    "#### 2. Если есть элемент этого объекта, то возвращаем его\n",
    "#### 3. Если нет - бросаем исключение StopIteration\n",
    "#### 4. Реализует метод __next__"
   ]
  },
  {
   "cell_type": "code",
   "execution_count": null,
   "id": "0badaa7e",
   "metadata": {},
   "outputs": [],
   "source": [
    "class Person:\n",
    "    def __next__(self):\n",
    "        ..."
   ]
  },
  {
   "cell_type": "code",
   "execution_count": null,
   "id": "40773023",
   "metadata": {},
   "outputs": [],
   "source": [
    "list = list([1, 2, 3])"
   ]
  },
  {
   "cell_type": "markdown",
   "id": "2c8d8f5f",
   "metadata": {},
   "source": [
    "## Итерируемый объект \n",
    "#### 1. Реализовывает методы __iter__ или __getitem__\n",
    "#### 2. Цель - создать итерратор"
   ]
  },
  {
   "cell_type": "code",
   "execution_count": null,
   "id": "e916a093",
   "metadata": {},
   "outputs": [],
   "source": [
    "lst = [1, 2, 3]\n",
    "for el in lst:\n",
    "    print(el)"
   ]
  },
  {
   "cell_type": "code",
   "execution_count": null,
   "id": "390792f0",
   "metadata": {},
   "outputs": [],
   "source": [
    "type(lst)"
   ]
  },
  {
   "cell_type": "code",
   "execution_count": null,
   "id": "a9f2b6fd",
   "metadata": {},
   "outputs": [],
   "source": [
    "lst = [1, 2, 3]\n",
    "#lst - итерируемый объект\n",
    "\n",
    "it = iter(lst)\n",
    "#it - итератор\n",
    "\n",
    "while True:\n",
    "    print(next(it))"
   ]
  },
  {
   "cell_type": "markdown",
   "id": "4c9dfc44",
   "metadata": {},
   "source": [
    "# Generator"
   ]
  },
  {
   "cell_type": "code",
   "execution_count": null,
   "id": "84f3b871",
   "metadata": {},
   "outputs": [],
   "source": [
    "yield"
   ]
  },
  {
   "cell_type": "code",
   "execution_count": 4,
   "id": "312fb342",
   "metadata": {},
   "outputs": [],
   "source": [
    "def pow (x):\n",
    "    while True:\n",
    "        yield x**2\n",
    "        x+=1"
   ]
  },
  {
   "cell_type": "code",
   "execution_count": 27,
   "id": "b71272bc",
   "metadata": {},
   "outputs": [],
   "source": [
    "p = pow(2)"
   ]
  },
  {
   "cell_type": "code",
   "execution_count": null,
   "id": "71707471",
   "metadata": {},
   "outputs": [],
   "source": [
    "p"
   ]
  },
  {
   "cell_type": "code",
   "execution_count": null,
   "id": "191c10c7",
   "metadata": {},
   "outputs": [],
   "source": [
    "next(p)"
   ]
  },
  {
   "cell_type": "code",
   "execution_count": null,
   "id": "f1ba63f3",
   "metadata": {},
   "outputs": [],
   "source": [
    "for el in p:\n",
    "    print(el)"
   ]
  },
  {
   "cell_type": "code",
   "execution_count": null,
   "id": "f6765a0a",
   "metadata": {},
   "outputs": [],
   "source": [
    "def pow(x):\n",
    "    result = []\n",
    "    while True:\n",
    "        result.append(x**2)\n",
    "        x+=1\n",
    "    return result"
   ]
  },
  {
   "cell_type": "markdown",
   "id": "bf596816",
   "metadata": {},
   "source": [
    "##### Fib"
   ]
  },
  {
   "cell_type": "code",
   "execution_count": 72,
   "id": "22e631fc",
   "metadata": {},
   "outputs": [],
   "source": [
    "def fib():\n",
    "    a, b = 0, 1\n",
    "    while True:\n",
    "        yield a\n",
    "        a, b = b, a+b"
   ]
  },
  {
   "cell_type": "code",
   "execution_count": 71,
   "id": "3fa0eef1",
   "metadata": {},
   "outputs": [],
   "source": [
    "f = fib()"
   ]
  },
  {
   "cell_type": "code",
   "execution_count": null,
   "id": "32361277",
   "metadata": {},
   "outputs": [],
   "source": [
    "next(f)"
   ]
  },
  {
   "cell_type": "code",
   "execution_count": null,
   "id": "b4829927",
   "metadata": {},
   "outputs": [],
   "source": [
    "for el in f:\n",
    "    print(el)\n",
    "    if el > 100:\n",
    "        break\n"
   ]
  },
  {
   "cell_type": "markdown",
   "id": "d0d8c5dd",
   "metadata": {},
   "source": [
    "#### Генераторные выражения\n",
    "##### их отличия от complehention list"
   ]
  },
  {
   "cell_type": "code",
   "execution_count": 75,
   "id": "615a0c07",
   "metadata": {},
   "outputs": [],
   "source": [
    "a = (i for i in range(10))"
   ]
  },
  {
   "cell_type": "code",
   "execution_count": null,
   "id": "cfdb81fb",
   "metadata": {},
   "outputs": [],
   "source": [
    "next(a)"
   ]
  },
  {
   "cell_type": "code",
   "execution_count": null,
   "id": "7e0facf0",
   "metadata": {},
   "outputs": [],
   "source": [
    "%timeit any([x > 100 for x in range(1000000)])\n"
   ]
  },
  {
   "cell_type": "code",
   "execution_count": null,
   "id": "653bf39e",
   "metadata": {},
   "outputs": [],
   "source": [
    "%timeit any((x > 100 for x in range(1000000)))"
   ]
  }
 ],
 "metadata": {
  "kernelspec": {
   "display_name": "venv",
   "language": "python",
   "name": "python3"
  },
  "language_info": {
   "codemirror_mode": {
    "name": "ipython",
    "version": 3
   },
   "file_extension": ".py",
   "mimetype": "text/x-python",
   "name": "python",
   "nbconvert_exporter": "python",
   "pygments_lexer": "ipython3",
   "version": "3.13.3"
  }
 },
 "nbformat": 4,
 "nbformat_minor": 5
}

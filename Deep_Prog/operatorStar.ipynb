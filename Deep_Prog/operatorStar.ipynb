{
 "cells": [
  {
   "cell_type": "code",
   "execution_count": 1,
   "id": "bf4f1b51",
   "metadata": {},
   "outputs": [
    {
     "name": "stdout",
     "output_type": "stream",
     "text": [
      "125\n"
     ]
    }
   ],
   "source": [
    "a = 25\n",
    "print(a*5)"
   ]
  },
  {
   "cell_type": "code",
   "execution_count": 2,
   "id": "f42c6a64",
   "metadata": {},
   "outputs": [
    {
     "name": "stdout",
     "output_type": "stream",
     "text": [
      "625\n"
     ]
    }
   ],
   "source": [
    "print(a**2)"
   ]
  },
  {
   "cell_type": "code",
   "execution_count": 6,
   "id": "ce1236bf",
   "metadata": {},
   "outputs": [],
   "source": [
    "l = [1, 2, 3, 4, 5, 6, 7]"
   ]
  },
  {
   "cell_type": "code",
   "execution_count": null,
   "id": "3542bd4f",
   "metadata": {},
   "outputs": [],
   "source": [
    "*l"
   ]
  },
  {
   "cell_type": "code",
   "execution_count": 7,
   "id": "301c44bd",
   "metadata": {},
   "outputs": [],
   "source": [
    "a = l[0]\n",
    "b = l[1:]"
   ]
  },
  {
   "cell_type": "code",
   "execution_count": 8,
   "id": "f62c2efc",
   "metadata": {},
   "outputs": [
    {
     "data": {
      "text/plain": [
       "1"
      ]
     },
     "execution_count": 8,
     "metadata": {},
     "output_type": "execute_result"
    }
   ],
   "source": [
    "a"
   ]
  },
  {
   "cell_type": "code",
   "execution_count": 9,
   "id": "f8839e3b",
   "metadata": {},
   "outputs": [
    {
     "data": {
      "text/plain": [
       "[2, 3, 4, 5, 6, 7]"
      ]
     },
     "execution_count": 9,
     "metadata": {},
     "output_type": "execute_result"
    }
   ],
   "source": [
    "b"
   ]
  },
  {
   "cell_type": "code",
   "execution_count": 10,
   "id": "499fe9f0",
   "metadata": {},
   "outputs": [],
   "source": [
    "a , *b = l"
   ]
  },
  {
   "cell_type": "code",
   "execution_count": 11,
   "id": "286d97d8",
   "metadata": {},
   "outputs": [
    {
     "data": {
      "text/plain": [
       "1"
      ]
     },
     "execution_count": 11,
     "metadata": {},
     "output_type": "execute_result"
    }
   ],
   "source": [
    "a"
   ]
  },
  {
   "cell_type": "code",
   "execution_count": 12,
   "id": "81755f7f",
   "metadata": {},
   "outputs": [
    {
     "data": {
      "text/plain": [
       "[2, 3, 4, 5, 6, 7]"
      ]
     },
     "execution_count": 12,
     "metadata": {},
     "output_type": "execute_result"
    }
   ],
   "source": [
    "b"
   ]
  },
  {
   "cell_type": "code",
   "execution_count": 14,
   "id": "ae9254e0",
   "metadata": {},
   "outputs": [],
   "source": [
    "a = [1, 2, 3]\n",
    "b = (4, 5, 6)\n",
    "c = {7, 8, 9}"
   ]
  },
  {
   "cell_type": "code",
   "execution_count": 15,
   "id": "10024b8e",
   "metadata": {},
   "outputs": [
    {
     "data": {
      "text/plain": [
       "[1, 2, 3, 4, 5, 6, 8, 9, 7]"
      ]
     },
     "execution_count": 15,
     "metadata": {},
     "output_type": "execute_result"
    }
   ],
   "source": [
    "a + list(b) + list(c)"
   ]
  },
  {
   "cell_type": "code",
   "execution_count": 30,
   "id": "b10eb2a4",
   "metadata": {},
   "outputs": [],
   "source": [
    "d ={\n",
    "    \"a\":'1',\n",
    "    \"b\":'2',\n",
    "    \"c\":'3'\n",
    "}"
   ]
  },
  {
   "cell_type": "code",
   "execution_count": 22,
   "id": "f2348617",
   "metadata": {},
   "outputs": [
    {
     "name": "stdout",
     "output_type": "stream",
     "text": [
      "1 2 3 4 5 6 8 9 7 a b c\n"
     ]
    }
   ],
   "source": [
    "print(*a, *b, *c, *d)"
   ]
  },
  {
   "cell_type": "code",
   "execution_count": 23,
   "id": "6a330656",
   "metadata": {},
   "outputs": [
    {
     "name": "stdout",
     "output_type": "stream",
     "text": [
      "1 2 3\n"
     ]
    }
   ],
   "source": [
    "a = [[1, 2, 3], [4, 5], [6, 7, 8]]\n",
    "print(*a[0])"
   ]
  },
  {
   "cell_type": "code",
   "execution_count": 34,
   "id": "f8bff795",
   "metadata": {},
   "outputs": [
    {
     "name": "stdout",
     "output_type": "stream",
     "text": [
      "a b c\n"
     ]
    }
   ],
   "source": [
    "print(*d)"
   ]
  },
  {
   "cell_type": "code",
   "execution_count": 29,
   "id": "3eab7776",
   "metadata": {},
   "outputs": [],
   "source": [
    "d1 = {\n",
    "    'd':4,\n",
    "    'e':5\n",
    "}"
   ]
  },
  {
   "cell_type": "code",
   "execution_count": 35,
   "id": "0ad2019d",
   "metadata": {},
   "outputs": [],
   "source": [
    "d3 = {\n",
    "    'f':6,\n",
    "    'g':7\n",
    "}"
   ]
  },
  {
   "cell_type": "code",
   "execution_count": 36,
   "id": "4c7dff6f",
   "metadata": {},
   "outputs": [
    {
     "name": "stdout",
     "output_type": "stream",
     "text": [
      "{'a': '1', 'b': '2', 'c': '3', 'd': 4, 'e': 5, 'f': 6, 'g': 7}\n"
     ]
    }
   ],
   "source": [
    "d2 = {**d, **d1, **d3}\n",
    "print(d2)"
   ]
  },
  {
   "cell_type": "code",
   "execution_count": 43,
   "id": "669cacca",
   "metadata": {},
   "outputs": [],
   "source": [
    "def foo(*args, **kwargs):\n",
    "    for i, arg in enumerate(args):\n",
    "        print(f\"Arg  {i} : {arg}\")\n",
    "    for k, v in kwargs.items():\n",
    "        print(f'kwarg {k}:{v}')"
   ]
  },
  {
   "cell_type": "code",
   "execution_count": 44,
   "id": "0c369318",
   "metadata": {},
   "outputs": [
    {
     "name": "stdout",
     "output_type": "stream",
     "text": [
      "Arg  0 : 1\n",
      "Arg  1 : 123\n",
      "Arg  2 : 12\n",
      "kwarg name:qwe\n",
      "kwarg first:3\n",
      "kwarg name3:sdfs\n"
     ]
    }
   ],
   "source": [
    "foo(1, '123', 12, name='qwe', first = 3, name3=\"sdfs\")"
   ]
  },
  {
   "cell_type": "markdown",
   "id": "1363f5be",
   "metadata": {},
   "source": [
    "Строго именованные аргументы"
   ]
  },
  {
   "cell_type": "code",
   "execution_count": 48,
   "id": "d18542d4",
   "metadata": {},
   "outputs": [],
   "source": [
    "def foo5(a, b, c, *, d, e):\n",
    "    print (a, b, c, d, e)"
   ]
  },
  {
   "cell_type": "code",
   "execution_count": 50,
   "id": "52761b74",
   "metadata": {},
   "outputs": [
    {
     "ename": "TypeError",
     "evalue": "foo5() takes 3 positional arguments but 5 were given",
     "output_type": "error",
     "traceback": [
      "\u001b[31m---------------------------------------------------------------------------\u001b[39m",
      "\u001b[31mTypeError\u001b[39m                                 Traceback (most recent call last)",
      "\u001b[36mCell\u001b[39m\u001b[36m \u001b[39m\u001b[32mIn[50]\u001b[39m\u001b[32m, line 1\u001b[39m\n\u001b[32m----> \u001b[39m\u001b[32m1\u001b[39m \u001b[43mfoo5\u001b[49m\u001b[43m(\u001b[49m\u001b[32;43m1\u001b[39;49m\u001b[43m,\u001b[49m\u001b[43m \u001b[49m\u001b[32;43m2\u001b[39;49m\u001b[43m,\u001b[49m\u001b[43m \u001b[49m\u001b[32;43m3\u001b[39;49m\u001b[43m,\u001b[49m\u001b[43m \u001b[49m\u001b[32;43m4\u001b[39;49m\u001b[43m,\u001b[49m\u001b[43m \u001b[49m\u001b[32;43m5\u001b[39;49m\u001b[43m)\u001b[49m\n",
      "\u001b[31mTypeError\u001b[39m: foo5() takes 3 positional arguments but 5 were given"
     ]
    }
   ],
   "source": [
    "foo5(1, 2, 3, 4, 5)"
   ]
  },
  {
   "cell_type": "code",
   "execution_count": 51,
   "id": "c87a87f3",
   "metadata": {},
   "outputs": [
    {
     "name": "stdout",
     "output_type": "stream",
     "text": [
      "1 2 3 4 5\n"
     ]
    }
   ],
   "source": [
    "foo5(1, 2, c=3, d=4, e=5)"
   ]
  },
  {
   "cell_type": "code",
   "execution_count": null,
   "id": "c2917a09",
   "metadata": {},
   "outputs": [],
   "source": [
    "from math import *\n",
    "# не нужно так делать"
   ]
  }
 ],
 "metadata": {
  "kernelspec": {
   "display_name": "venv",
   "language": "python",
   "name": "python3"
  },
  "language_info": {
   "codemirror_mode": {
    "name": "ipython",
    "version": 3
   },
   "file_extension": ".py",
   "mimetype": "text/x-python",
   "name": "python",
   "nbconvert_exporter": "python",
   "pygments_lexer": "ipython3",
   "version": "3.13.3"
  }
 },
 "nbformat": 4,
 "nbformat_minor": 5
}

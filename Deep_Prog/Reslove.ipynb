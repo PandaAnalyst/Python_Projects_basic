{
 "cells": [
  {
   "cell_type": "code",
   "execution_count": null,
   "id": "initial_id",
   "metadata": {
    "collapsed": true
   },
   "outputs": [],
   "source": [
    "from Comprehension import results\n",
    "\n",
    "\n",
    "def flatten_tuple(tup: tuple):\n",
    "    return [el for sub_tupl in tup for el in sub_tupl]"
   ]
  },
  {
   "cell_type": "markdown",
   "id": "ec84f48e81328b6b",
   "metadata": {},
   "source": [
    "Задание\n",
    "Напишите функцию sum_positive_numbers, которая принимает список целых чисел numbers и возвращает сумму только положительных чисел из данного списка."
   ]
  },
  {
   "cell_type": "code",
   "execution_count": null,
   "id": "e13eb4abbbe0ee0d",
   "metadata": {},
   "outputs": [],
   "source": [
    "def sum_positive_numbers(numbers: list):\n",
    "    return sum([el for el in numbers if el>0])"
   ]
  },
  {
   "cell_type": "markdown",
   "id": "914a825033cc8472",
   "metadata": {},
   "source": [
    "Задание\n",
    "Напишите функцию process_array, которая принимает список целых чисел numbers и возвращает новый список, содержащий только положительные числа, умноженные на 2."
   ]
  },
  {
   "cell_type": "code",
   "execution_count": null,
   "id": "660ef2a0f2554ee2",
   "metadata": {},
   "outputs": [],
   "source": [
    "def process_array(numbers: list):\n",
    "    return [el*2 for el in numbers if el>0]"
   ]
  },
  {
   "cell_type": "markdown",
   "id": "5bd8811f507fafba",
   "metadata": {},
   "source": [
    "Задание\n",
    "Напишите функцию list_to_dict, которая принимает список ключей и список значений. А затем возвращает словарь, сформированный из этих списков. Используйте генератор списка и специальную функцию."
   ]
  },
  {
   "cell_type": "code",
   "execution_count": null,
   "id": "9935b869f659b072",
   "metadata": {},
   "outputs": [],
   "source": [
    "def list_to_dict(keys: list, values: list):\n",
    "    return {k:v for k, v in zip(keys, values)}"
   ]
  },
  {
   "cell_type": "code",
   "execution_count": null,
   "id": "7c864879e1dff815",
   "metadata": {},
   "outputs": [],
   "source": [
    "keys = [1,3,5]\n",
    "values = ['One', 'Three', 'Five']\n",
    "\n",
    "list_to_dict(keys, values)"
   ]
  },
  {
   "cell_type": "markdown",
   "id": "2fe5f2d4d45f18b9",
   "metadata": {},
   "source": [
    "Задание\n",
    "Напишите функцию sum_n_dimensional_vectors, которая принимает список векторов в n-мерном пространстве и возвращает их сумму. Векторы представлены списками чисел одинаковой длины. Сумма векторов вычисляется покомпонентно."
   ]
  },
  {
   "cell_type": "code",
   "execution_count": null,
   "id": "bacc59d866e8b30a",
   "metadata": {
    "ExecuteTime": {
     "end_time": "2025-05-21T14:55:57.814408Z",
     "start_time": "2025-05-21T14:55:57.807882Z"
    }
   },
   "outputs": [],
   "source": [
    "def sum_n_dimensional_vectors(vect_list):\n",
    "    return sum([el for vector in vect_list for el in vector])"
   ]
  },
  {
   "cell_type": "code",
   "execution_count": null,
   "id": "444853b472d34d8d",
   "metadata": {
    "ExecuteTime": {
     "end_time": "2025-05-21T15:15:43.761576Z",
     "start_time": "2025-05-21T15:15:43.751968Z"
    }
   },
   "outputs": [],
   "source": [
    "vectors = [\n",
    "    [1, 2, 3, 4],\n",
    "    [5, 5, 6, 70],\n",
    "    [43, 1, 3, 4]\n",
    "]\n",
    "sum_n_dimensional_vectors(vectors)"
   ]
  },
  {
   "cell_type": "code",
   "execution_count": null,
   "id": "3028347e8c147af6",
   "metadata": {
    "ExecuteTime": {
     "end_time": "2025-05-21T15:50:57.974565Z",
     "start_time": "2025-05-21T15:50:57.965309Z"
    }
   },
   "outputs": [],
   "source": [
    "#def sum_n_dimensional_vectors(vect_list):\n",
    "\n",
    "result = [0]* len(vectors[0])\n",
    "for i, vector in enumerate(vectors):\n",
    "   result = map(sum, zip(result,vector))\n",
    "tuple(result)"
   ]
  },
  {
   "cell_type": "markdown",
   "id": "1b826c5427089c9d",
   "metadata": {},
   "source": [
    "Домашнее задание №37: Как найти максимальное значение меньше заданного\n",
    "\n",
    "Цель задания — научиться найти максимальное значение меньше заданного.\n",
    "\n",
    "Задание\n",
    "Создайте функцию lim_max(nums, limit), которая принимает на вход кортеж чисел nums и ограничение limit.\n",
    "Инициализируйте переменную max_value со значением -1, которая будет хранить максимальное значение, строго меньшее limit.\n",
    "Пройдитесь циклом по элементам кортежа nums.\n",
    "Внутри цикла проверьте каждый элемент кортежа на условие: элемент должен быть строго меньше limit и больше текущего значения max_value.\n",
    "Если условие выполняется, обновите значение max_value на текущий элемент.\n",
    "По окончанию цикла, верните значение max_value."
   ]
  },
  {
   "cell_type": "code",
   "execution_count": null,
   "id": "611c6d569855a9f5",
   "metadata": {
    "ExecuteTime": {
     "end_time": "2025-05-21T16:12:56.473924Z",
     "start_time": "2025-05-21T16:12:56.468018Z"
    }
   },
   "outputs": [],
   "source": [
    "def lim_max(nums, limit):\n",
    "    max_value = -1\n",
    "    for el in nums:\n",
    "        if limit > el > max_value:\n",
    "            max_value = el\n",
    "    return max_value"
   ]
  },
  {
   "cell_type": "markdown",
   "id": "8b3bcce3d477557d",
   "metadata": {},
   "source": [
    "## Домашнее задание №38: Как найти максимальное значение меньше заданного [2]\n",
    "Цель задания — научиться найти максимальное значение меньше заданного с помощью list comprehensions.\n",
    "\n",
    "Задание\n",
    "Решите предыдущую задачу с помощью списковых включений (list comprehensions), чтобы сделать код более кратким.\n",
    "\n",
    "Предыдущее задание\n",
    "Создайте функцию lim_max(nums, limit), которая принимает на вход кортеж чисел nums и ограничение limit.\n",
    "Инициализируйте переменную max_value со значением -1, которая будет хранить максимальное значение, строго меньшее limit.\n",
    "Пройдитесь циклом по элементам кортежа nums.\n",
    "Внутри цикла проверьте каждый элемент кортежа на условие: элемент должен быть строго меньше limit и больше текущего значения max_value.\n",
    "Если условие выполняется, обновите значение max_value на текущий элемент.\n",
    "По окончанию цикла, верните значение max_value."
   ]
  },
  {
   "cell_type": "code",
   "execution_count": null,
   "id": "47d31b0a1f06251c",
   "metadata": {
    "ExecuteTime": {
     "end_time": "2025-05-21T16:45:09.331706Z",
     "start_time": "2025-05-21T16:45:09.324177Z"
    }
   },
   "outputs": [],
   "source": [
    "def lim_max(nums, limit):\n",
    "    max_value = -1\n",
    "    if len(nums)>1:\n",
    "        max_value = max([el if limit > el > max_value else max_value for el in nums])\n",
    "    return max_value"
   ]
  },
  {
   "cell_type": "code",
   "execution_count": null,
   "id": "3a284237de18381d",
   "metadata": {
    "ExecuteTime": {
     "end_time": "2025-05-21T16:45:13.659699Z",
     "start_time": "2025-05-21T16:45:13.650760Z"
    }
   },
   "outputs": [],
   "source": [
    "tupl=(1, 2, 3, 4, 5, 6, 7)\n",
    "lim_max((), 1)"
   ]
  },
  {
   "cell_type": "markdown",
   "id": "cd3456afcb424257",
   "metadata": {},
   "source": [
    "Домашнее задание №41: Как изменить структуру списка списков\n",
    "Цель задания — научиться изменять структуру списка списков.\n",
    "\n",
    "Задание\n",
    "Напишите функцию list_reorder, которая принимает на вход список списков list_of_lists. Функция должна изменить структуру списка, так чтобы элементы из вложенных списков стали элементами одного общего списка."
   ]
  },
  {
   "cell_type": "code",
   "execution_count": null,
   "id": "fe276678f419a003",
   "metadata": {
    "ExecuteTime": {
     "end_time": "2025-05-21T17:39:55.119677Z",
     "start_time": "2025-05-21T17:39:55.113755Z"
    }
   },
   "outputs": [],
   "source": [
    "def list_reorder(list_of_lists):\n",
    "    result = [el for sub_list in list_of_lists for el in sub_list]\n",
    "    return result"
   ]
  },
  {
   "cell_type": "code",
   "execution_count": null,
   "id": "1c191e7154139279",
   "metadata": {
    "ExecuteTime": {
     "end_time": "2025-05-21T17:39:56.963694Z",
     "start_time": "2025-05-21T17:39:56.955416Z"
    }
   },
   "outputs": [],
   "source": [
    "lists = [\n",
    "    [1, 2, 3, 4],\n",
    "    [5, 5, 6, 70],\n",
    "    [43, 1, 3, 4]~~~~\n",
    "]\n",
    "list_reorder(lists)"
   ]
  },
  {
   "cell_type": "markdown",
   "id": "e3e04c0b76db2e1d",
   "metadata": {},
   "source": [
    "Домашнее задание №42: Как расширить список с заданной позиции\n",
    "\n",
    "Задание\n",
    "Напишите функцию list_insert, которая принимает на вход список ref_list, индекс start, число num, и количество повторений rep. Функция должна вставить число num в список ref_list начиная с позиции start, повторяя его rep раз."
   ]
  },
  {
   "cell_type": "code",
   "execution_count": null,
   "id": "d3113d2b5790d40e",
   "metadata": {},
   "outputs": [],
   "source": [
    "def list_insert(ref_list, start, num, rep):\n",
    "     lst = [num]*rep\n",
    "     ref_list += ref_list[]\n",
    "     for el in lst:\n",
    "        ref_list += (start if start>0 else 0, el) \n",
    "     return ref_list"
   ]
  },
  {
   "cell_type": "code",
   "execution_count": null,
   "id": "235112bc",
   "metadata": {},
   "outputs": [],
   "source": [
    "def list_insert(ref_list, start, num, rep):\n",
    "    if len(ref_list) < start:\n",
    "        return -1\n",
    "\n",
    "    ref_list[start:start] = [num] * rep\n",
    "\n",
    "    return ref_list"
   ]
  },
  {
   "cell_type": "code",
   "execution_count": null,
   "id": "009941ff",
   "metadata": {},
   "outputs": [],
   "source": [
    "[1, 2, 3, 4, 9, 9,...]"
   ]
  },
  {
   "cell_type": "code",
   "execution_count": null,
   "id": "e5c228a5",
   "metadata": {},
   "outputs": [],
   "source": [
    "list = [1,2,3, 4, 5, 6, 7]\n",
    "#list =[]\n",
    "list_insert(list, 3, 1, 9)\n",
    "#list_insert([1, 2, 3, 4, 9, 9,], 5, 9, 3)"
   ]
  },
  {
   "cell_type": "markdown",
   "id": "af3940fc",
   "metadata": {},
   "source": [
    "Домашнее задание №43: Как cгенерировать список значений в заданном интервале\n",
    "\n",
    "Задание\n",
    "Напишите функцию generate_values, которая принимает на вход начальное значение start и конечное значение end. Функция должна вернуть список значений в заданном числовом интервале от start до end (включительно)."
   ]
  },
  {
   "cell_type": "code",
   "execution_count": null,
   "id": "f338597d",
   "metadata": {},
   "outputs": [],
   "source": [
    "numbers = range(1, 6, 2)\n",
    "tuple(numbers) # (1, 3, 5)\n",
    "set(numbers) \n",
    "my_list = list(range(1, 1001))"
   ]
  },
  {
   "cell_type": "code",
   "execution_count": 1,
   "id": "3b860d61",
   "metadata": {},
   "outputs": [
    {
     "data": {
      "text/plain": [
       "[4, 5, 6, 7]"
      ]
     },
     "execution_count": 1,
     "metadata": {},
     "output_type": "execute_result"
    }
   ],
   "source": [
    "list(range(4,8))"
   ]
  },
  {
   "cell_type": "code",
   "execution_count": null,
   "id": "87c73004",
   "metadata": {},
   "outputs": [],
   "source": [
    "def generate_values(start, end):\n",
    "    if 0 < start< end :\n",
    "        return list(range(start, end))\n",
    "    return 0"
   ]
  },
  {
   "cell_type": "code",
   "execution_count": null,
   "id": "c96f3612",
   "metadata": {},
   "outputs": [
    {
     "data": {
      "text/plain": [
       "[4, 5, 6, 7]"
      ]
     },
     "execution_count": 7,
     "metadata": {},
     "output_type": "execute_result"
    }
   ],
   "source": [
    "def generate_values(start, end):\n",
    "    fwd = 1 if start <= end else -1\n",
    "    return list(range(start, end + 1 * fwd, 1 * fwd))"
   ]
  },
  {
   "cell_type": "markdown",
   "id": "e38a55ab",
   "metadata": {},
   "source": [
    "Задание\n",
    "Даны два словаря dict1 и dict2. Напишите функцию merge_dicts, которая объединит эти два словаря в один с помощью оператора объединения и вернет результат."
   ]
  },
  {
   "cell_type": "code",
   "execution_count": 10,
   "id": "295aebc4",
   "metadata": {},
   "outputs": [],
   "source": [
    "def merge_dicts(dict1: dict, dict2: dict):\n",
    "    return dict(dict1|dict2)"
   ]
  },
  {
   "cell_type": "markdown",
   "id": "9ed9d052",
   "metadata": {},
   "source": [
    "Задание\n",
    "Даны два словаря dict1 и dict2. Напишите функцию merge_dicts, которая объединит эти два словаря. В начале результирующего словаря должны идти ключи dict1. Значения с общими ключами должны стать элементами общего списка в результирующем словаре. Функция merge_dicts должна вернуть результирующий словарь."
   ]
  },
  {
   "cell_type": "code",
   "execution_count": 39,
   "id": "d6341304",
   "metadata": {},
   "outputs": [],
   "source": [
    "def merge_dicts(dict1: dict, dict2: dict):\n",
    "    new_dict = dict(dict1)\n",
    "    for key in dict2:\n",
    "       if key in new_dict: \n",
    "        lst = [new_dict.get(key), (dict2.get(key))]\n",
    "        new_dict.update({key:lst})\n",
    "       else:\n",
    "        new_dict.update({key:dict2.get(key)})\n",
    "    return new_dict\n"
   ]
  },
  {
   "cell_type": "code",
   "execution_count": 24,
   "id": "a921234b",
   "metadata": {},
   "outputs": [
    {
     "data": {
      "text/plain": [
       "'A4'"
      ]
     },
     "execution_count": 24,
     "metadata": {},
     "output_type": "execute_result"
    }
   ],
   "source": [
    "dict1.get(4)"
   ]
  },
  {
   "cell_type": "code",
   "execution_count": 40,
   "id": "6ef60652",
   "metadata": {},
   "outputs": [
    {
     "data": {
      "text/plain": [
       "{1: 'A1', 2: 'A2', 3: 'A3', 4: ['A4', 'B4'], 5: 'A5', 6: 'A6', 7: 'A7'}"
      ]
     },
     "execution_count": 40,
     "metadata": {},
     "output_type": "execute_result"
    }
   ],
   "source": [
    "dict1 = {\n",
    "    1:\"A1\",\n",
    "    2:\"A2\",\n",
    "    3:\"A3\",\n",
    "    4:\"A4\",\n",
    "}\n",
    "dict2 = {\n",
    "    4:\"B4\",\n",
    "    5:\"A5\",\n",
    "    6:\"A6\",\n",
    "    7:\"A7\",\n",
    "}\n",
    "\n",
    "merge_dicts(dict1, dict2)\n",
    "\n"
   ]
  },
  {
   "cell_type": "markdown",
   "id": "c10bae4c",
   "metadata": {},
   "source": [
    "Домашнее задание №46: Как посчитать элементы в коллекции\n",
    "\n",
    "Задание\n",
    "Напишите функцию count_elements, которая принимает на вход коллекцию (список, кортеж, множество или строку) и возвращает словарь. В нем ключами должны быть уникальные элементы коллекции, а значениями - количество их вхождений в данную коллекцию. В результате верните получивышийся словарь."
   ]
  },
  {
   "cell_type": "code",
   "execution_count": 44,
   "id": "97babbae",
   "metadata": {},
   "outputs": [],
   "source": [
    "def count_elements(list):\n",
    "    result_dict = dict()\n",
    "    if isinstance(list, set):\n",
    "        for el in list:\n",
    "            result_dict.update({el: 1})\n",
    "        return result_dict\n",
    "    for el in list:\n",
    "        if el not in result_dict:\n",
    "            result_dict.update({el: list.count(el)})\n",
    "    return result_dict"
   ]
  },
  {
   "cell_type": "code",
   "execution_count": 45,
   "id": "f52d812a",
   "metadata": {},
   "outputs": [
    {
     "data": {
      "text/plain": [
       "{1: 1, 2: 1, 4: 3, 5: 2, 6: 4}"
      ]
     },
     "execution_count": 45,
     "metadata": {},
     "output_type": "execute_result"
    }
   ],
   "source": [
    "lst = [1, 2, 4, 4,4 , 5, 6, 6, 6, 6, 5]\n",
    "count_elements(lst)"
   ]
  },
  {
   "cell_type": "markdown",
   "id": "e2b6d142",
   "metadata": {},
   "source": [
    "Домашнее задание №47: Как правильно получать элементы\n",
    "\n",
    "Задание\n",
    "Напишите функцию get_value, которая принимает на вход словарь data и ключ key. Функция должна возвращать значение из словаря data, соответствующее переданному ключу key. Если ключ отсутствует в словаре, функция должна возвращать строку \"Key not found\"."
   ]
  },
  {
   "cell_type": "code",
   "execution_count": 46,
   "id": "5771255b",
   "metadata": {},
   "outputs": [],
   "source": [
    "def get_value(dicti: dict, key):\n",
    "    if key not in dicti:\n",
    "        return \"Key not found\"\n",
    "    return dicti.get(key)"
   ]
  },
  {
   "cell_type": "code",
   "execution_count": 48,
   "id": "aece8ab5",
   "metadata": {},
   "outputs": [
    {
     "data": {
      "text/plain": [
       "'A2'"
      ]
     },
     "execution_count": 48,
     "metadata": {},
     "output_type": "execute_result"
    }
   ],
   "source": [
    "get_value(dict1,2)"
   ]
  },
  {
   "cell_type": "markdown",
   "id": "7f8a78a1",
   "metadata": {},
   "source": [
    "Домашнее задание №48: Как отсортировать словарь\n",
    "\n",
    "Задание\n",
    "Напишите функцию sort_dict, которая принимает на вход словарь d, тип сортировки type (keywise или valuewise) и порядок сортировки order (asc или desc). Функция должна возвращать отсортированный словарь по ключам или значениям, в зависимости от переданных параметров."
   ]
  },
  {
   "cell_type": "code",
   "execution_count": 66,
   "id": "707a98ea",
   "metadata": {},
   "outputs": [],
   "source": [
    "def sort_dict(d: dict, type, order):\n",
    "    sorted_dict = dict()\n",
    "    keys, values = [], []\n",
    "    for el in d:\n",
    "        keys.append(el)\n",
    "        values.append(d.get(el))\n",
    "    if order == \"asc\":\n",
    "        keys.sort()\n",
    "        values.sort()\n",
    "    elif order == \"desc\":    \n",
    "        keys.sort(reverse=True)\n",
    "        values.sort(reverse=True)\n",
    "    \n",
    "    if  type == 'keywise':\n",
    "        for el in keys:\n",
    "            sorted_dict.update({el: d.get(el)})\n",
    "    elif type == 'valuewise':\n",
    "        for el in values:\n",
    "            sorted_dict.update({max([key for key, value in d.items() if value == el]) :el})\n",
    "    return sorted_dict"
   ]
  },
  {
   "cell_type": "code",
   "execution_count": 67,
   "id": "5397a087",
   "metadata": {},
   "outputs": [
    {
     "data": {
      "text/plain": [
       "{4: 'B4', 7: 'A7', 6: 'A6', 5: 'A5'}"
      ]
     },
     "execution_count": 67,
     "metadata": {},
     "output_type": "execute_result"
    }
   ],
   "source": [
    "dict2 = {\n",
    "    6:\"A6\",\n",
    "    5:\"A5\",\n",
    "    7:\"A7\",\n",
    "    4:\"B4\",\n",
    "}\n",
    "\n",
    "sort_dict(dict2, 'valuewise','desc')"
   ]
  },
  {
   "cell_type": "code",
   "execution_count": null,
   "id": "28bb795c",
   "metadata": {},
   "outputs": [],
   "source": [
    "def sort_dict(d, type, order):\n",
    "    if type == \"keywise\":\n",
    "        idx = 0\n",
    "    else:\n",
    "        idx = 1\n",
    "\n",
    "    if order == \"desc\":\n",
    "        reverse_check = True\n",
    "    else:\n",
    "        reverse_check = False\n",
    "\n",
    "    return dict(sorted(d.items(), key=lambda x: x[idx], reverse=reverse_check))"
   ]
  },
  {
   "cell_type": "markdown",
   "id": "9aa3a1a9",
   "metadata": {},
   "source": [
    "Домашнее задание №49: Как найти уникальные элементы списка\n",
    "\n",
    "Задание\n",
    "Напишите функцию find_unique_elements, которая принимает на вход список lst и возвращает список уникальных элементов этого списка. Используйте встроенные функции. Отсортируйте результат по возрастанию."
   ]
  },
  {
   "cell_type": "code",
   "execution_count": 12,
   "id": "2d6a69a0",
   "metadata": {},
   "outputs": [],
   "source": [
    "def find_unique_elements(lst):\n",
    "    return sorted(list(set(lst)))"
   ]
  },
  {
   "cell_type": "code",
   "execution_count": 13,
   "id": "011fe304",
   "metadata": {},
   "outputs": [
    {
     "data": {
      "text/plain": [
       "[1, 2, 3, 4, 5, 6]"
      ]
     },
     "execution_count": 13,
     "metadata": {},
     "output_type": "execute_result"
    }
   ],
   "source": [
    "lst = [1, 2, 4, 6, 5, 3, 5]\n",
    "find_unique_elements(lst)"
   ]
  },
  {
   "cell_type": "markdown",
   "id": "f0e800fa",
   "metadata": {},
   "source": [
    "Домашнее задание №54: Как суммировать по кварталам\n",
    "\n",
    "Задание\n",
    "Напишите функцию sums_by_quarter, которая принимает список чисел (показаний термометра с января по декабрь) и возвращает список сумм значений по кварталам. Каждый квартал состоит из трех месяцев, и список должен быть разбит на соответствующие кварталам элементы. При этом, каждый квартал должен быть представлен одним числом - суммой элементов в этом квартале."
   ]
  },
  {
   "cell_type": "code",
   "execution_count": 16,
   "id": "81cb436f",
   "metadata": {},
   "outputs": [],
   "source": [
    "def sums_by_quarter(lst):\n",
    "    result_sum = []\n",
    "    if len(lst) == 12:\n",
    "        sum = 0\n",
    "        for i,el in enumerate(lst):\n",
    "            sum+=el\n",
    "            if (i+1)%3 == 0:\n",
    "                result_sum.append(sum)\n",
    "                sum = 0\n",
    "    return result_sum    "
   ]
  },
  {
   "cell_type": "code",
   "execution_count": 20,
   "id": "3451e0fb",
   "metadata": {},
   "outputs": [],
   "source": [
    "def sums_by_quarter(monthly):\n",
    "    res = []\n",
    "    for i in range(1, 5):\n",
    "        quarter_sum = round(monthly.pop(0) + monthly.pop(0) + monthly.pop(0), 2)\n",
    "        res.append(quarter_sum)\n",
    "    return res"
   ]
  },
  {
   "cell_type": "code",
   "execution_count": 21,
   "id": "b81b5c7e",
   "metadata": {},
   "outputs": [
    {
     "data": {
      "text/plain": [
       "[6, 15, 24, 33]"
      ]
     },
     "execution_count": 21,
     "metadata": {},
     "output_type": "execute_result"
    }
   ],
   "source": [
    "lst = [1, 2, 3, 4, 5, 6, 7, 8, 9, 10, 11, 12]\n",
    "sums_by_quarter(lst)"
   ]
  },
  {
   "cell_type": "markdown",
   "id": "92aee931",
   "metadata": {},
   "source": [
    "Домашнее задание №55: Как отсортировать список без дубликатов\n",
    "\n",
    "Задание\n",
    "Напишите функцию sorted_unique_list, которая принимает список чисел и возвращает список, отсортированный по возрастанию и без повторяющихся элементов. Используйте специальную функцию."
   ]
  },
  {
   "cell_type": "code",
   "execution_count": 23,
   "id": "82bd6eed",
   "metadata": {},
   "outputs": [],
   "source": [
    "def sorted_unique_list(lst):\n",
    "        return sorted((set(lst)))"
   ]
  },
  {
   "cell_type": "markdown",
   "id": "b69aaa5a",
   "metadata": {},
   "source": [
    "Домашнее задание №56: Как посчитать частоту упоминаний\n",
    "\n",
    "Задание\n",
    "Напишите функцию count_frequency, которая принимает список имен (строк) и возвращает словарь, содержащий количество упоминаний каждого имени в списке. Словарь должен быть отсортирован по ключам в алфавитном порядке."
   ]
  },
  {
   "cell_type": "code",
   "execution_count": null,
   "id": "7990d9d0",
   "metadata": {},
   "outputs": [],
   "source": [
    "def count_frequency(lst):\n",
    "    result_dict = {}\n",
    "    for el in lst:\n",
    "       \n",
    "        if el not in result_dict:\n",
    "            result_dict.update({el: lst.count(el)})\n",
    "\n",
    "        #result_dict[el] = result_dict.get(el, 0) + 1\n",
    "\n",
    "    return dict(sorted(result_dict.items()))"
   ]
  },
  {
   "cell_type": "markdown",
   "id": "19193ad2",
   "metadata": {},
   "source": [
    "Домашнее задание №58: Как сделать вложенный список плоским\n",
    "\n",
    "Задание\n",
    "Напишите функцию flatten_nested_list, которая принимает в качестве аргумента вложенный список (список списков) и возвращает плоский список, состоящий из всех элементов вложенных списков."
   ]
  },
  {
   "cell_type": "code",
   "execution_count": 49,
   "id": "e7285d8d",
   "metadata": {},
   "outputs": [],
   "source": [
    "def flatten_nested_list(lst):\n",
    "    result_list = []\n",
    "    for sub_arr in lst:\n",
    "        if isinstance(sub_arr, list):\n",
    "            result_list.extend(flatten_nested_list(sub_arr))\n",
    "        else:\n",
    "            result_list.append(sub_arr)\n",
    "    return result_list"
   ]
  },
  {
   "cell_type": "code",
   "execution_count": 50,
   "id": "a0c0128d",
   "metadata": {},
   "outputs": [
    {
     "name": "stdout",
     "output_type": "stream",
     "text": [
      "[1, 2, 3, 4, 5, 5, 6, 70, 43, 1, 3, 4, 'asd', 43, 0, 3, 4]\n"
     ]
    }
   ],
   "source": [
    "vectors = [\n",
    "    [1, 2, 3, 4],\n",
    "    [5, 5, 6, 70],\n",
    "    [43, 1, 3, 4],\n",
    "    'asd',\n",
    "    \n",
    "    [43, 0, 3, 4],\n",
    "]\n",
    "print(flatten_nested_list(vectors))"
   ]
  },
  {
   "cell_type": "code",
   "execution_count": 24,
   "id": "3942b9e5",
   "metadata": {},
   "outputs": [
    {
     "name": "stdout",
     "output_type": "stream",
     "text": [
      "['zxc']\n"
     ]
    }
   ],
   "source": [
    "t = iter(['qwe', 'asd', 'zxc'])\n",
    "next(t)\n",
    "next(t)\n",
    "print(list(t))"
   ]
  },
  {
   "cell_type": "markdown",
   "id": "86d1f434",
   "metadata": {},
   "source": [
    "Домашнее задание №59: Как вывести список обработанных команд\n",
    "\n",
    "Задание\n",
    "Напишите функцию process_commands, которая принимает на вход список команд и выполняет их. Каждая команда представляет собой строку, которая может быть одной из следующих: * execute: добавляет текущий индекс выполнения команды в список результатов; * skip: игнорирует команду и переходит к следующей; * stop: прекращает выполнение команд.\n",
    "\n",
    "Функция process_commands должна возвращать список всех индексов выполнения команд."
   ]
  },
  {
   "cell_type": "code",
   "execution_count": 54,
   "id": "0311c39a",
   "metadata": {},
   "outputs": [],
   "source": [
    "def process_commands(lst):\n",
    "    result_list =[]\n",
    "    for i, oper in enumerate(lst):\n",
    "        if oper == \"* execute\":\n",
    "            result_list.append(i)\n",
    "        elif oper == \"* skip\":\n",
    "            continue\n",
    "        elif oper == \"* stop\":\n",
    "           return result_list\n",
    "    return result_list"
   ]
  },
  {
   "cell_type": "code",
   "execution_count": 56,
   "id": "472a72a6",
   "metadata": {},
   "outputs": [
    {
     "data": {
      "text/plain": [
       "[0, 2]"
      ]
     },
     "execution_count": 56,
     "metadata": {},
     "output_type": "execute_result"
    }
   ],
   "source": [
    "comm_list = [\n",
    "    \"* execute\",\n",
    "    \"* skip\",\n",
    "    \"* execute\",\n",
    "    \"* skip\",\n",
    "    \"* stop\",\n",
    "    \"* execute\",\n",
    "    \"* execute\",\n",
    "    \"* stop\",\n",
    "    \"* execute\",\n",
    "    \"* stop\",\n",
    "]\n",
    "process_commands(comm_list)"
   ]
  },
  {
   "cell_type": "markdown",
   "id": "4bb2f666",
   "metadata": {},
   "source": [
    "Домашнее задание №34: Как создавать функцию для реализации аналога конструкции switch-case\n",
    "\n",
    "Задание\n",
    "Вы отправились в захватывающее приключение в лес, где перед вами открылась древняя дорога, разделяющаяся на три разных направления. Каждый путь предлагает уникальные испытания и возможности.\n",
    "\n",
    "Вам необходимо реализовать функцию forest_adventure(path), которая принимает на вход строку path, представляющую выбранный путь - left, center или right. В зависимости от выбранного пути, функция должна возвращать текстовое описание того, что вас ожидает впереди.\n",
    "\n",
    "Создайте функцию forest_adventure(path), которая принимает на вход строку path - left, center или right.\n",
    "Используя условные выражения, реализуйте аналог конструкции switch-case, чтобы вернуть описание выбранного пути.\n",
    "Верните текстовое описание в зависимости от выбранного пути.\n",
    "Пути:\n",
    "\n",
    "left: Вы выбрали левый путь. По этому пути вы найдете старую пещеру с сокровищами. Остерегайтесь, внутри могут скрываться опасности, но, возможно, вы сможете обнаружить древние сокровища. center: Вы выбрали центральный путь. Здесь вас ожидает таинственный храм. Вам предстоит пройти испытание мудрости и смекалки, чтобы получить древние знания. right: Вы выбрали правый путь. По этому пути вы наткнетесь на племя дикой природы. Они согласны поделиться с вами своими тайнами, но сначала вам придется доказать свою отвагу в опасной схватке.\n",
    "\n"
   ]
  },
  {
   "cell_type": "code",
   "execution_count": null,
   "id": "5051e1b9",
   "metadata": {},
   "outputs": [
    {
     "ename": "_IncompleteInputError",
     "evalue": "incomplete input (1134158273.py, line 2)",
     "output_type": "error",
     "traceback": [
      "  \u001b[36mCell\u001b[39m\u001b[36m \u001b[39m\u001b[32mIn[59]\u001b[39m\u001b[32m, line 2\u001b[39m\n\u001b[31m    \u001b[39m\n    ^\n\u001b[31m_IncompleteInputError\u001b[39m\u001b[31m:\u001b[39m incomplete input\n"
     ]
    }
   ],
   "source": [
    "def forest_adventure(path):\n",
    "    if path==\"left\":\n",
    "        return \"Вы выбрали левый путь. По этому пути вы найдете старую пещеру с сокровищами. Остерегайтесь, внутри могут скрываться опасности, но, возможно, вы сможете обнаружить древние сокровища.\"\n",
    "    elif path == \"center\":\n",
    "        return \"Вы выбрали центральный путь. Здесь вас ожидает таинственный храм. Вам предстоит пройти испытание мудрости и смекалки, чтобы получить древние знания.\"\n",
    "    elif path == \"right\":\n",
    "      return \"Вы выбрали правый путь. По этому пути вы наткнетесь на племя дикой природы. Они согласны поделиться с вами своими тайнами, но сначала вам придется доказать свою отвагу в опасной схватке.\"\n",
    "    else:\n",
    "        return \"Вы выбрали неизвестный путь. Пожалуйста, выберите 'left', 'center' или 'right'.\""
   ]
  },
  {
   "cell_type": "markdown",
   "id": "39643e47",
   "metadata": {},
   "source": [
    "Домашнее задание №35: Как обрабатывать значение None\n",
    "Цель задания — научиться обрабатывать значение None.\n",
    "\n",
    "Задание\n",
    "Создайте функцию de_none(lst), которая принимает на вход список lst.\n",
    "Проходите по элементам списка и проверьте, равен ли какой-либо его элемент значению None.\n",
    "Если элемент списка не равен None, добавьте его в новый список res.\n",
    "Верните новый список res, который не содержит значений None."
   ]
  },
  {
   "cell_type": "code",
   "execution_count": null,
   "id": "1a791f58",
   "metadata": {},
   "outputs": [],
   "source": [
    "def de_none(lst):\n",
    "    new_list=[]\n",
    "    for el in lst:\n",
    "        if el is not None:\n",
    "            new_list.append(el)\n",
    "    return new_list"
   ]
  },
  {
   "cell_type": "markdown",
   "id": "38a87d3a",
   "metadata": {},
   "source": [
    "Домашнее задание №36: Как вычислить границы диапазона\n",
    "Задание\n",
    "Создайте функцию segment(num, scale), которая принимает на вход число num и список чисел scale, отсортированный по возрастанию. Число num выбрано случайным образом в промежутке между минимальным и максимальным значением в списке scale.\n",
    "Найдите минимальное и максимальное значение в списке scale.\n",
    "Проверьте, является ли num соседним числом справа или слева от другого числа в списке scale, или совпадает с числом в списке.\n",
    "Если num соседнее слева или справа, верните кортеж из двух соседних чисел.\n",
    "Если num совпадает с числом в списке, верните кортеж из двух одинаковых чисел.\n",
    "Если num не является соседним числом и не совпадает с числом в списке, верните None."
   ]
  },
  {
   "cell_type": "code",
   "execution_count": null,
   "id": "c043551e",
   "metadata": {},
   "outputs": [],
   "source": [
    "def segment(num, scale):\n",
    "    scale.sort()\n",
    "    min = min(scale)\n",
    "    max = max(scale)\n",
    "    if num in scale:\n",
    "        return (num, num)\n",
    "    \n",
    "    for i in range(len(scale) - 1):\n",
    "        if scale[i] < num < scale[i+1]:\n",
    "            return (scale[i], scale[i+1])\n",
    "    return None"
   ]
  },
  {
   "cell_type": "markdown",
   "id": "0659cae6",
   "metadata": {},
   "source": [
    "Домашнее задание №60: Как вывести именованные и позиционные аргументы\n",
    "\n",
    "Задание\n",
    "Напишите функцию process_args, которая принимает на вход произвольное количество позиционных и именованных аргументов и возвращает их в виде словаря."
   ]
  },
  {
   "cell_type": "code",
   "execution_count": 79,
   "id": "48d46584",
   "metadata": {},
   "outputs": [],
   "source": [
    "def process_args(*args, **kwargs):\n",
    "    result_dist ={}\n",
    "    for i, el in enumerate(args):\n",
    "        result_dist.update({f\"positional_{i}\": el})\n",
    "    for k, v in kwargs.items():\n",
    "        result_dist.update({k:v})\n",
    "    return result_dist"
   ]
  },
  {
   "cell_type": "code",
   "execution_count": 77,
   "id": "925a4387",
   "metadata": {},
   "outputs": [],
   "source": [
    "def process_args(*args, **kwargs):\n",
    "    result = {}\n",
    "    for i, arg in enumerate(args, 1):\n",
    "        result[f'positional_{i}'] = arg\n",
    "\n",
    "    for key, value in kwargs.items():\n",
    "        result[key] = value\n",
    "\n",
    "    return result"
   ]
  },
  {
   "cell_type": "code",
   "execution_count": 80,
   "id": "3c986ec9",
   "metadata": {},
   "outputs": [
    {
     "data": {
      "text/plain": [
       "{'positional_0': '21dqw',\n",
       " 'positional_1': 3,\n",
       " 'positional_2': 'qwe',\n",
       " 'sad': 'sadd',\n",
       " 'ew': 'ewewew'}"
      ]
     },
     "execution_count": 80,
     "metadata": {},
     "output_type": "execute_result"
    }
   ],
   "source": [
    "process_args(\"21dqw\", 3, 'qwe', sad= \"sadd\",ew='ewewew')"
   ]
  },
  {
   "cell_type": "markdown",
   "id": "f9379473",
   "metadata": {},
   "source": [
    "Домашнее задание №61: Как установить аргументы по умолчанию и выполнить умножение строк\n",
    "\n",
    "Задание\n",
    "Напишите функцию multiply_string, которая принимает на вход строку text и целое число multiplier. Функция должна возвращать новую строку, состоящую из повторений строки text multiplier раз.\n",
    "\n",
    "Если значение multiplier не передано, установите его по умолчанию равным 1."
   ]
  },
  {
   "cell_type": "code",
   "execution_count": 94,
   "id": "b4b598c4",
   "metadata": {},
   "outputs": [],
   "source": [
    "def multiply_string(text, multiplier = 1):\n",
    "    \n",
    "    return text * multiplier if not None else 1"
   ]
  },
  {
   "cell_type": "code",
   "execution_count": 96,
   "id": "b368ba4f",
   "metadata": {},
   "outputs": [
    {
     "data": {
      "text/plain": [
       "'wewewe'"
      ]
     },
     "execution_count": 96,
     "metadata": {},
     "output_type": "execute_result"
    }
   ],
   "source": [
    "multiply_string(\"we\", 3)"
   ]
  },
  {
   "cell_type": "markdown",
   "id": "6a9104a0",
   "metadata": {},
   "source": [
    "Домашнее задание №62: Как работать с лямбда-функциями и reduce\n",
    "Задание\n",
    "Напишите функцию sum_of_squares, которая принимает на вход список чисел nums и использует функцию reduce и лямбда-функцию для вычисления суммы квадратов всех чисел из списка."
   ]
  },
  {
   "cell_type": "code",
   "execution_count": 97,
   "id": "0cc0ed84",
   "metadata": {},
   "outputs": [],
   "source": [
    "from functools import reduce"
   ]
  },
  {
   "cell_type": "code",
   "execution_count": 102,
   "id": "9f9f6c36",
   "metadata": {},
   "outputs": [],
   "source": [
    "def sum_of_squares(nums):\n",
    "    return reduce(lambda x, y: x+ y**2 , nums)"
   ]
  },
  {
   "cell_type": "code",
   "execution_count": 103,
   "id": "b7a40739",
   "metadata": {},
   "outputs": [
    {
     "data": {
      "text/plain": [
       "46"
      ]
     },
     "execution_count": 103,
     "metadata": {},
     "output_type": "execute_result"
    }
   ],
   "source": [
    "sum_of_squares([1,2,4,5])"
   ]
  },
  {
   "cell_type": "markdown",
   "id": "f6a49394",
   "metadata": {},
   "source": [
    "Домашнее задание №69: Как обрабатывать исключения\n",
    "\n",
    "Задание\n",
    "Создайте функцию divide_numbers, которая будет делить одно число на другое. Используйте блок try-except для обработки различных исключений, которые могут возникнуть при делении чисел. Определите, какие исключения существуют при делении чисел и учтите их при выполнении задания. В результате верните текст ошибки как строку."
   ]
  },
  {
   "cell_type": "code",
   "execution_count": null,
   "id": "4c6a9aa3",
   "metadata": {},
   "outputs": [],
   "source": [
    "def divide_numbers(a, b):\n",
    "    try:\n",
    "        res = a/b\n",
    "        return res\n",
    "    except ZeroDivisionError as er:\n",
    "        print(\"Деление на ноль недопустимо!\")\n",
    "        return repr(er)\n",
    "    except TypeError as er:\n",
    "        return repr(er)\n",
    "    except Exception as er:\n",
    "         return repr(er)"
   ]
  },
  {
   "cell_type": "markdown",
   "id": "759765e9",
   "metadata": {},
   "source": [
    "Домашнее задание №70: Как обрабатывать исключения [2]\n",
    "\n",
    "Задание\n",
    "Добавьте к предыдущему решению блоки else и finally."
   ]
  },
  {
   "cell_type": "code",
   "execution_count": null,
   "id": "b4070ea6",
   "metadata": {},
   "outputs": [],
   "source": [
    "def divide_numbers(a, b):\n",
    "    try:\n",
    "        res = a/b\n",
    "        return res\n",
    "    except ZeroDivisionError as er:\n",
    "        print(\"Деление на ноль недопустимо!\")\n",
    "        return repr(er)\n",
    "    except TypeError as er:\n",
    "        return repr(er)\n",
    "    except Exception as er:\n",
    "         return repr(er)\n",
    "    else:\n",
    "        print(\"All right!\")\n",
    "    finally:\n",
    "        print(\"Print\")"
   ]
  },
  {
   "cell_type": "markdown",
   "id": "216eeae5",
   "metadata": {},
   "source": [
    "Домашнее задание №30: Как создавать функцию для проверки корректности и форматирования номеров телефонов\n",
    "Задание\n",
    "Создайте функцию validate_and_format_phones(phones), которая принимает на вход список phones с номерами телефонов.\n",
    "Внутри функции пройдитесь по каждому номеру в списке phones. Проверьте, что номер соответствует следующим требованиям:\n",
    "Длина номера - 11 цифр.\n",
    "Допускается указывать \"+\" в начале номера.\n",
    "Допустимы разделители: ' ', '-', '(' и ')' в любом месте и количестве, кроме начала. Другие разделители не допускаются.\n",
    "Первая цифра в номере должна быть '7' или '8', другие не допускаются.\n",
    "\n",
    "Если номер соответствует требованиям, добавьте его в результирующий список в формате +7(123)456-7890.\n",
    "\n",
    "Если номер не соответствует требованиям, добавьте в результирующий список строку Invalid.\n",
    "\n",
    "Верните результирующий список."
   ]
  },
  {
   "cell_type": "code",
   "execution_count": null,
   "id": "c50125b9",
   "metadata": {},
   "outputs": [],
   "source": [
    "def  validate_and_format_phones(phones):\n",
    "    validate_numbers = []\n",
    "    for number in phones:\n",
    "        str_num = list(number)\n",
    "        if str_num[0] == '+':\n",
    "            str_num.pop(0)\n",
    "        if str_num[0] in [\"7\", \"8\"]:\n",
    "            #print(str_num)\n",
    "            if [] != list(filter(lambda x: not x.isdigit() and x not in [' ', '-', '(', ')'] , str_num)):\n",
    "                clear_num = []\n",
    "                for lit in str_num:\n",
    "                    if lit.isdigit():\n",
    "                        clear_num.append(lit)\n",
    "                \n",
    "        else:\n",
    "            validate_numbers.append('Invalid')                \n",
    "    #    if len(str_num)==11:"
   ]
  },
  {
   "cell_type": "code",
   "execution_count": 1,
   "id": "8286d7d2",
   "metadata": {},
   "outputs": [],
   "source": [
    "import re"
   ]
  },
  {
   "cell_type": "code",
   "execution_count": 86,
   "id": "e7f81ab7",
   "metadata": {},
   "outputs": [
    {
     "data": {
      "text/plain": [
       "['+7(111)234-2324',\n",
       " 'Invalid',\n",
       " '+7(332)323-2499',\n",
       " 'Invalid',\n",
       " 'Invalid',\n",
       " 'Invalid',\n",
       " 'Invalid',\n",
       " 'Invalid']"
      ]
     },
     "execution_count": 86,
     "metadata": {},
     "output_type": "execute_result"
    }
   ],
   "source": [
    "import re\n",
    "def  validate_and_format_phones(phones):\n",
    "    validate_numbers = []\n",
    "    for number in phones:\n",
    "        valid_num = re.findall(r\"\\+?[7-8][0-9|\\-| |(|)]+\\Z\", number)\n",
    "        \n",
    "        if valid_num != []:\n",
    "            valid_num = ''.join(filter(lambda x: x.isdigit(),valid_num[0]))\n",
    "            if 11 == len(valid_num):\n",
    "                validate_numbers.append(f'+7({valid_num[1:4]}){valid_num[4:7]}-{valid_num[7:]}')\n",
    "            else:\n",
    "                validate_numbers.append('Invalid')\n",
    "        else:\n",
    "            validate_numbers.append('Invalid')\n",
    "            \n",
    "\n",
    "\n",
    "    return validate_numbers\n",
    "\n",
    "validate_and_format_phones(numbers)"
   ]
  },
  {
   "cell_type": "code",
   "execution_count": 84,
   "id": "5285cf2f",
   "metadata": {},
   "outputs": [],
   "source": [
    "import re\n",
    "\n",
    "def validate_and_format_phones(phones):\n",
    "\n",
    "    if phones is None:\n",
    "        raise AttributeError('An attribute should not be None')\n",
    "\n",
    "    result = []\n",
    "\n",
    "    trim = re.compile(r'(?:^\\+?|[()\\s-]*)')\n",
    "\n",
    "    check = re.compile(r'(?:7|8)([0-9]{3})([0-9]{3})([0-9]{4})')\n",
    "\n",
    "    for phone in phones:\n",
    "        trimmed_phone = trim.sub('', phone)\n",
    "        matched = check.match(trimmed_phone)\n",
    "        if (len(trimmed_phone) == 11 and matched):\n",
    "            formatted_phone = f'+7({matched[1]}){matched[2]}-{matched[3]}'\n",
    "            result.append(formatted_phone)\n",
    "        else:\n",
    "            result.append('Invalid')\n",
    "\n",
    "    return result"
   ]
  },
  {
   "cell_type": "code",
   "execution_count": 85,
   "id": "62201652",
   "metadata": {},
   "outputs": [
    {
     "data": {
      "text/plain": [
       "['+7(111)234-2324',\n",
       " 'Invalid',\n",
       " '+7(332)323-2499',\n",
       " 'Invalid',\n",
       " 'Invalid',\n",
       " 'Invalid',\n",
       " 'Invalid',\n",
       " 'Invalid']"
      ]
     },
     "execution_count": 85,
     "metadata": {},
     "output_type": "execute_result"
    }
   ],
   "source": [
    "numbers=[\n",
    "    \"+81112342324\",    \n",
    "    \"+722223е324\",\n",
    "    \"833 23232499\",    \n",
    "    \"7444432324\",\n",
    "    \"+45595532324\",    \n",
    "    \"+8666*632324\",\n",
    "    \"+8555532324\",    \n",
    "    \"+8666632324\",\n",
    "]\n",
    "validate_and_format_phones(numbers)"
   ]
  },
  {
   "cell_type": "code",
   "execution_count": null,
   "id": "b13aec6d",
   "metadata": {},
   "outputs": [],
   "source": [
    "str = \"ewer4as\"\n",
    "lst = list(str)\n",
    "lst.count()\n",
    "print(lst)\n",
    "lst.pop(0)\n",
    "print(lst)"
   ]
  },
  {
   "cell_type": "markdown",
   "id": "636b60e7",
   "metadata": {},
   "source": [
    "Домашнее задание №31: Как создавать функцию для поиска дат в тексте\n",
    "\n",
    "Задание\n",
    "Создайте функцию find_dates_in_text(text), которая принимает на вход текст text.\n",
    "Используя регулярное выражение r, выполните поиск дат в тексте text.\n",
    "Регулярное выражение r должно соответствовать датам в формате YYYY-MM-DD, где YYYY - год, MM - месяц и DD - день.\n",
    "Верните список всех найденных дат в тексте."
   ]
  },
  {
   "cell_type": "code",
   "execution_count": 104,
   "id": "cfa31ae9",
   "metadata": {},
   "outputs": [],
   "source": [
    "import re\n",
    "from datetime import date, datetime\n",
    "def find_dates_in_text(text):\n",
    "    match = re.findall(r'([0-9]{4})-([0-1][0-9])-([0-3][0-9])', text)\n",
    "    dates = []\n",
    "    for sp_date in match:\n",
    "        date_str = f\"{sp_date[0]}-{sp_date[1]}-{sp_date[2]}\"\n",
    "        if datetime.strptime(date_str or \"\", \"%Y-%m-%d\"):\n",
    "             dates.append(date_str)\n",
    "    return dates\n"
   ]
  },
  {
   "cell_type": "code",
   "execution_count": 105,
   "id": "b0c05a36",
   "metadata": {},
   "outputs": [
    {
     "data": {
      "text/plain": [
       "['2025-05-26', '2025-05-27', '1733-01-01', '1921-03-25']"
      ]
     },
     "execution_count": 105,
     "metadata": {},
     "output_type": "execute_result"
    }
   ],
   "source": [
    "str = \"\"\"\n",
    "Допустим сегодня 2025-05-26 а завтра 2025-05-27 \n",
    "\n",
    "Но когда-то были 1733-01-01 и 1921-03-25\n",
    "но никода не было 9999-13-42\"\"\"\n",
    "\n",
    "find_dates_in_text(str)"
   ]
  },
  {
   "cell_type": "code",
   "execution_count": 94,
   "id": "6ccd9348",
   "metadata": {},
   "outputs": [
    {
     "name": "stdout",
     "output_type": "stream",
     "text": [
      "it's a date\n"
     ]
    }
   ],
   "source": [
    "from datetime import date, datetime\n",
    "date = \"01.01.2018\"\n",
    "if datetime.strptime(date or \"\", \"%d.%m.%Y\"):\n",
    "   print(\"it's a date\")\n",
    "else:\n",
    "   print(date)"
   ]
  },
  {
   "cell_type": "markdown",
   "id": "f40152d5",
   "metadata": {},
   "source": [
    "Домашнее задание №32: Как создавать функцию для извлечения URL из строки без указания схемы доступа.\n",
    "\n",
    "Задание\n",
    "Создайте функцию extract_url_without_scheme(web_url), которая принимает на вход строку web_url с URL-адресом.\n",
    "Используя регулярное выражение r, выполните поиск схемы доступа в URL-адресе.\n",
    "Удалите схему доступа из URL-адреса с помощью регулярного выражения trim.\n",
    "Верните URL-адрес без указания схемы доступа."
   ]
  },
  {
   "cell_type": "code",
   "execution_count": 122,
   "id": "6cb9c036",
   "metadata": {},
   "outputs": [],
   "source": [
    "import re \n",
    "def extract_url_without_scheme(web_url):\n",
    "  \n",
    "    print(re.sub(r'(.+://)', \"\", web_url))\n",
    "    "
   ]
  },
  {
   "cell_type": "code",
   "execution_count": 124,
   "id": "a7253afe",
   "metadata": {},
   "outputs": [
    {
     "name": "stdout",
     "output_type": "stream",
     "text": [
      "www.example.com\n"
     ]
    }
   ],
   "source": [
    "str = 'https://regex101.com/'\n",
    "str = 'www.example.com'\n",
    "extract_url_without_scheme(str)"
   ]
  }
 ],
 "metadata": {
  "kernelspec": {
   "display_name": "Python 3",
   "language": "python",
   "name": "python3"
  },
  "language_info": {
   "codemirror_mode": {
    "name": "ipython",
    "version": 3
   },
   "file_extension": ".py",
   "mimetype": "text/x-python",
   "name": "python",
   "nbconvert_exporter": "python",
   "pygments_lexer": "ipython3",
   "version": "3.13.3"
  }
 },
 "nbformat": 4,
 "nbformat_minor": 5
}

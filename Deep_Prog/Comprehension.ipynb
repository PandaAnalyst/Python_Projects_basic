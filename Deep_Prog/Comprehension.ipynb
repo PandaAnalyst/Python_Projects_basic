{
 "cells": [
  {
   "cell_type": "code",
   "execution_count": null,
   "id": "initial_id",
   "metadata": {
    "collapsed": true
   },
   "outputs": [],
   "source": [
    "[элемент for элемент in коллекция]"
   ]
  },
  {
   "cell_type": "code",
   "execution_count": 68,
   "id": "a59386c3c7272437",
   "metadata": {
    "ExecuteTime": {
     "end_time": "2025-05-21T14:34:30.721522Z",
     "start_time": "2025-05-21T14:34:30.714641Z"
    }
   },
   "outputs": [
    {
     "name": "stdout",
     "output_type": "stream",
     "text": [
      "[1, 4, 9, 16, 25]\n"
     ]
    }
   ],
   "source": [
    "lst = [1, 2, 3, 4, 5]\n",
    "\n",
    "result = []\n",
    "for el in lst:\n",
    "    result.append(el**2)\n",
    "\n",
    "print(result)"
   ]
  },
  {
   "cell_type": "code",
   "execution_count": 69,
   "id": "956301fc3902eaf6",
   "metadata": {
    "ExecuteTime": {
     "end_time": "2025-05-21T14:34:33.111051Z",
     "start_time": "2025-05-21T14:34:33.103918Z"
    }
   },
   "outputs": [
    {
     "data": {
      "text/plain": [
       "[1, 4, 9, 16, 25]"
      ]
     },
     "execution_count": 69,
     "metadata": {},
     "output_type": "execute_result"
    }
   ],
   "source": [
    "[el**2 for el in lst]"
   ]
  },
  {
   "cell_type": "code",
   "execution_count": null,
   "id": "86548cdc2920ba12",
   "metadata": {},
   "outputs": [],
   "source": [
    "t = list(range(51))\n",
    "print(t)"
   ]
  },
  {
   "cell_type": "code",
   "execution_count": null,
   "id": "84128ccea7821ca1",
   "metadata": {},
   "outputs": [],
   "source": [
    "from math import sin\n",
    "list(map(sin, t))"
   ]
  },
  {
   "cell_type": "code",
   "execution_count": null,
   "id": "b48389c08bac984f",
   "metadata": {},
   "outputs": [],
   "source": [
    "[sin(ti) for ti in t]"
   ]
  },
  {
   "cell_type": "code",
   "execution_count": null,
   "id": "ee732788a687a0ad",
   "metadata": {},
   "outputs": [],
   "source": [
    "list(map(sin, t)) == [sin(ti) for ti in t]"
   ]
  },
  {
   "cell_type": "code",
   "execution_count": null,
   "id": "35d95b5540861829",
   "metadata": {},
   "outputs": [],
   "source": [
    "[5 for _ in t]"
   ]
  },
  {
   "cell_type": "markdown",
   "id": "9a18de0b12d79ac8",
   "metadata": {},
   "source": [
    "---"
   ]
  },
  {
   "cell_type": "code",
   "execution_count": null,
   "id": "a4d8de9026cf0f62",
   "metadata": {},
   "outputs": [],
   "source": [
    "lst =[[1,2], [4], 1, [3, 4, 5],4]"
   ]
  },
  {
   "cell_type": "code",
   "execution_count": null,
   "id": "b4724f9474d5350c",
   "metadata": {},
   "outputs": [],
   "source": [
    "[len(el) for el in lst]"
   ]
  },
  {
   "cell_type": "code",
   "execution_count": null,
   "id": "191d3c5bcea68488",
   "metadata": {},
   "outputs": [],
   "source": [
    "[len(el) for el in lst if isinstance(el, list)]"
   ]
  },
  {
   "cell_type": "code",
   "execution_count": null,
   "id": "1465252fe657362b",
   "metadata": {},
   "outputs": [],
   "source": [
    "[len(el) if isinstance(el, list) else 1 for el in lst]"
   ]
  },
  {
   "cell_type": "code",
   "execution_count": null,
   "id": "d51302ca83262354",
   "metadata": {},
   "outputs": [],
   "source": [
    "def chek(x):\n",
    "    if isinstance(x, list):\n",
    "        return len(x)\n",
    "    return 1\n",
    "\n",
    "[chek(x) for x in lst]"
   ]
  },
  {
   "cell_type": "code",
   "execution_count": null,
   "id": "1c1178af303d8f03",
   "metadata": {},
   "outputs": [],
   "source": [
    "lst = [[1, 2, 3], [3, 4], [], [5, 6, 7, 8]]\n",
    "result = []\n",
    "for sub_arr in lst:\n",
    "    for el in sub_arr:\n",
    "        result.append(el)\n",
    "print(result)"
   ]
  },
  {
   "cell_type": "code",
   "execution_count": null,
   "id": "d98b56b51053432c",
   "metadata": {},
   "outputs": [],
   "source": [
    "[el for sub_arr in lst for el in sub_arr]"
   ]
  },
  {
   "cell_type": "code",
   "execution_count": null,
   "id": "bda2e6c7dc92e88b",
   "metadata": {},
   "outputs": [],
   "source": [
    "lst = [\n",
    "    [\n",
    "        [1, 2, 3],\n",
    "        [3, 4],\n",
    "        [],\n",
    "        [5, 6, 7, 8]\n",
    "    ]\n",
    "]\n",
    "[el for arr in lst for sub_arr in arr for el in sub_arr]"
   ]
  },
  {
   "cell_type": "code",
   "execution_count": 1,
   "id": "2c033cedfbfbad16",
   "metadata": {},
   "outputs": [
    {
     "name": "stdout",
     "output_type": "stream",
     "text": [
      "Test complete!\n",
      "\n",
      "[100, 200]\n",
      "Test not complete\n",
      "\n",
      "All right\n",
      "Test not complete\n",
      "\n",
      "Not all right\n",
      "Error runtime\n",
      "\n",
      "Syntax ERROR\n",
      "Test complete!\n",
      "\n",
      "1000\n"
     ]
    }
   ],
   "source": [
    "codes = [0, 1, 1, 2, 0]\n",
    "outputs = [[100,200], 'All right', 'Not all right', 'Syntax ERROR', 1000]\n",
    "codes_d = {\n",
    "    0:\"Test complete!\",\n",
    "    1:'Test not complete',\n",
    "    2:'Error runtime'\n",
    "}\n",
    "\n",
    "results = [f\"{codes_d[code_i]}\\n\\n{output_i}\" for code_i, output_i in zip(codes, outputs)]\n",
    "\n",
    "for res in results:\n",
    "    print(res)"
   ]
  },
  {
   "cell_type": "code",
   "execution_count": null,
   "id": "ad86b8fe14ded98a",
   "metadata": {},
   "outputs": [],
   "source": [
    "[]"
   ]
  },
  {
   "cell_type": "code",
   "execution_count": 58,
   "id": "5cec1cbf7757e63d",
   "metadata": {
    "ExecuteTime": {
     "end_time": "2025-05-21T14:08:25.517171Z",
     "start_time": "2025-05-21T14:08:25.509029Z"
    }
   },
   "outputs": [
    {
     "data": {
      "text/plain": [
       "['Test # 0: status = Test complete!, id status = 0',\n",
       " 'Test # 1: status = Test not complete, id status = 1',\n",
       " 'Test # 2: status = Test not complete, id status = 1',\n",
       " 'Test # 3: status = Error runtime, id status = 2',\n",
       " 'Test # 4: status = Test complete!, id status = 0']"
      ]
     },
     "execution_count": 58,
     "metadata": {},
     "output_type": "execute_result"
    }
   ],
   "source": [
    "[f\"Test # {i}: status = {codes_d[codes_i]}, id status = {codes_i}\" for i, codes_i in enumerate(codes)]"
   ]
  },
  {
   "cell_type": "markdown",
   "id": "4e721de5f712b914",
   "metadata": {},
   "source": [
    "---\n",
    "# sets"
   ]
  },
  {
   "cell_type": "code",
   "execution_count": null,
   "id": "a602d7883bc20dfe",
   "metadata": {},
   "outputs": [],
   "source": [
    "lst = [10, 20, 30]\n",
    "\n",
    "{el for el in lst}"
   ]
  },
  {
   "cell_type": "code",
   "execution_count": null,
   "id": "fb94b04ff73c1542",
   "metadata": {},
   "outputs": [],
   "source": [
    "lst = [[1, 2, 3], [], [1, 5, 18],[], [2, 4, 7, 8, 9, 10]]\n",
    "\n",
    "result = []\n",
    "for subarr in lst:\n",
    "    for el in subarr:\n",
    "        if el%2 == 0 and el not in result:\n",
    "            result.append(el)\n",
    "print(result)"
   ]
  },
  {
   "cell_type": "code",
   "execution_count": null,
   "id": "4d93df2d2877b75b",
   "metadata": {},
   "outputs": [],
   "source": [
    "{el for subarr in lst  for el in subarr if el%2 == 0}"
   ]
  },
  {
   "cell_type": "markdown",
   "id": "6600261a414bfcc9",
   "metadata": {},
   "source": [
    "---\n",
    "dict\n"
   ]
  },
  {
   "cell_type": "code",
   "execution_count": null,
   "id": "752047e629b824db",
   "metadata": {},
   "outputs": [],
   "source": [
    "{k:v for... in ...}"
   ]
  },
  {
   "cell_type": "code",
   "execution_count": 2,
   "id": "6204d2dad2a1a44d",
   "metadata": {},
   "outputs": [
    {
     "data": {
      "text/plain": [
       "{0: 'Test complete!',\n",
       " 1: 'Test not complete',\n",
       " 2: 'Test not complete',\n",
       " 3: 'Error runtime',\n",
       " 4: 'Test complete!'}"
      ]
     },
     "execution_count": 2,
     "metadata": {},
     "output_type": "execute_result"
    }
   ],
   "source": [
    "{k:codes_d[v]  for k, v in enumerate(codes)}"
   ]
  },
  {
   "cell_type": "code",
   "execution_count": null,
   "id": "6aba5f12e9cefd3d",
   "metadata": {},
   "outputs": [],
   "source": [
    "nums = list(range(5))\n",
    "nums\n",
    "result = [codes_d[el] for el in codes]\n",
    "result"
   ]
  },
  {
   "cell_type": "code",
   "execution_count": null,
   "id": "614f7437a485ab9d",
   "metadata": {},
   "outputs": [],
   "source": [
    "d = {k: v for k,v in zip(nums, result)}\n"
   ]
  },
  {
   "cell_type": "markdown",
   "id": "6502f79715d3cc25",
   "metadata": {},
   "source": [
    "---\n",
    "### zip() по бОльшому количеству элементов"
   ]
  },
  {
   "cell_type": "code",
   "execution_count": 60,
   "id": "fff524b216004231",
   "metadata": {
    "ExecuteTime": {
     "end_time": "2025-05-21T14:09:57.127302Z",
     "start_time": "2025-05-21T14:09:57.118476Z"
    }
   },
   "outputs": [
    {
     "name": "stdout",
     "output_type": "stream",
     "text": [
      "1 1 1\n",
      "2 2 2\n",
      "3 3 3\n"
     ]
    }
   ],
   "source": [
    "nums = [1, 2, 3]\n",
    "nums2 = [1, 2, 3, 4]\n",
    "nums3  = [1, 2, 3, 4, 5, 6]\n",
    "for x, y, z in zip(nums, nums2, nums3):\n",
    "    print(x, y, z)"
   ]
  },
  {
   "cell_type": "code",
   "execution_count": null,
   "id": "1d732c453ad852c3",
   "metadata": {},
   "outputs": [],
   "source": [
    "from itertools import  zip_longest\n",
    "for x, y, z in zip_longest(nums, nums2, nums3):\n",
    "    print(x, y, z)\n",
    "\n",
    "for x, y, z in zip_longest(nums, nums2, nums3, fillvalue=0):\n",
    "    print(x, y, z)"
   ]
  },
  {
   "cell_type": "code",
   "execution_count": 59,
   "id": "c83ad3c9292b3afa",
   "metadata": {
    "ExecuteTime": {
     "end_time": "2025-05-21T14:08:43.579373Z",
     "start_time": "2025-05-21T14:08:43.570493Z"
    }
   },
   "outputs": [
    {
     "data": {
      "text/plain": [
       "[3, 6, 9, 8, 10, 6]"
      ]
     },
     "execution_count": 59,
     "metadata": {},
     "output_type": "execute_result"
    }
   ],
   "source": [
    "[x+ y+ z for x, y, z in zip_longest(nums, nums2, nums3, fillvalue=0)]"
   ]
  },
  {
   "cell_type": "code",
   "execution_count": 66,
   "id": "80aaf67725cba3ac",
   "metadata": {
    "ExecuteTime": {
     "end_time": "2025-05-21T14:18:25.524991Z",
     "start_time": "2025-05-21T14:18:25.515464Z"
    }
   },
   "outputs": [
    {
     "data": {
      "text/plain": [
       "[2, 4, 6, 4]"
      ]
     },
     "execution_count": 66,
     "metadata": {},
     "output_type": "execute_result"
    }
   ],
   "source": [
    "[x+ y if x is not None else y for x, y in zip_longest(nums, nums2) ]"
   ]
  },
  {
   "cell_type": "code",
   "execution_count": null,
   "id": "28d5372a8274654a",
   "metadata": {},
   "outputs": [],
   "source": []
  }
 ],
 "metadata": {
  "kernelspec": {
   "display_name": "Python 3",
   "language": "python",
   "name": "python3"
  },
  "language_info": {
   "codemirror_mode": {
    "name": "ipython",
    "version": 3
   },
   "file_extension": ".py",
   "mimetype": "text/x-python",
   "name": "python",
   "nbconvert_exporter": "python",
   "pygments_lexer": "ipython3",
   "version": "3.13.3"
  }
 },
 "nbformat": 4,
 "nbformat_minor": 5
}
